{
 "cells": [
  {
   "cell_type": "code",
   "execution_count": 144,
   "metadata": {},
   "outputs": [],
   "source": [
    "import pandas as pd\n",
    "import numpy as np\n",
    "import matplotlib.pyplot as plt\n",
    "import seaborn as sns"
   ]
  },
  {
   "cell_type": "code",
   "execution_count": 145,
   "metadata": {},
   "outputs": [],
   "source": [
    "df = pd.read_csv('car_data.csv')"
   ]
  },
  {
   "cell_type": "code",
   "execution_count": 146,
   "metadata": {},
   "outputs": [
    {
     "data": {
      "text/html": [
       "<div>\n",
       "<style scoped>\n",
       "    .dataframe tbody tr th:only-of-type {\n",
       "        vertical-align: middle;\n",
       "    }\n",
       "\n",
       "    .dataframe tbody tr th {\n",
       "        vertical-align: top;\n",
       "    }\n",
       "\n",
       "    .dataframe thead th {\n",
       "        text-align: right;\n",
       "    }\n",
       "</style>\n",
       "<table border=\"1\" class=\"dataframe\">\n",
       "  <thead>\n",
       "    <tr style=\"text-align: right;\">\n",
       "      <th></th>\n",
       "      <th>name</th>\n",
       "      <th>price</th>\n",
       "      <th>year</th>\n",
       "      <th>mileage</th>\n",
       "      <th>engine</th>\n",
       "      <th>transmission</th>\n",
       "    </tr>\n",
       "  </thead>\n",
       "  <tbody>\n",
       "    <tr>\n",
       "      <th>0</th>\n",
       "      <td>Volkswagen Polo</td>\n",
       "      <td>£3,495</td>\n",
       "      <td>2010</td>\n",
       "      <td>83,000 miles</td>\n",
       "      <td>Diesel</td>\n",
       "      <td>Manual</td>\n",
       "    </tr>\n",
       "    <tr>\n",
       "      <th>1</th>\n",
       "      <td>Volkswagen Caddy</td>\n",
       "      <td>£6,495</td>\n",
       "      <td>2011</td>\n",
       "      <td>160,000 miles</td>\n",
       "      <td>Diesel</td>\n",
       "      <td>Manual</td>\n",
       "    </tr>\n",
       "    <tr>\n",
       "      <th>2</th>\n",
       "      <td>Skoda Fabia</td>\n",
       "      <td>£4,190</td>\n",
       "      <td>2011</td>\n",
       "      <td>51,000 miles</td>\n",
       "      <td>Petrol</td>\n",
       "      <td>Manual</td>\n",
       "    </tr>\n",
       "    <tr>\n",
       "      <th>3</th>\n",
       "      <td>Nissan NV200</td>\n",
       "      <td>£4,690</td>\n",
       "      <td>2010</td>\n",
       "      <td>107,000 miles</td>\n",
       "      <td>Diesel</td>\n",
       "      <td>Manual</td>\n",
       "    </tr>\n",
       "    <tr>\n",
       "      <th>4</th>\n",
       "      <td>Ford Transit</td>\n",
       "      <td>£3,995</td>\n",
       "      <td>2005</td>\n",
       "      <td>93,949 miles</td>\n",
       "      <td>Diesel</td>\n",
       "      <td>Manual</td>\n",
       "    </tr>\n",
       "    <tr>\n",
       "      <th>...</th>\n",
       "      <td>...</td>\n",
       "      <td>...</td>\n",
       "      <td>...</td>\n",
       "      <td>...</td>\n",
       "      <td>...</td>\n",
       "      <td>...</td>\n",
       "    </tr>\n",
       "    <tr>\n",
       "      <th>2995</th>\n",
       "      <td>Citroen C4</td>\n",
       "      <td>£4,995</td>\n",
       "      <td>2013</td>\n",
       "      <td>71,000 miles</td>\n",
       "      <td>Diesel</td>\n",
       "      <td>Manual</td>\n",
       "    </tr>\n",
       "    <tr>\n",
       "      <th>2996</th>\n",
       "      <td>BMW 1 SERIES</td>\n",
       "      <td>£6,690</td>\n",
       "      <td>2012</td>\n",
       "      <td>108,899 miles</td>\n",
       "      <td>Diesel</td>\n",
       "      <td>Automatic</td>\n",
       "    </tr>\n",
       "    <tr>\n",
       "      <th>2997</th>\n",
       "      <td>Audi A1</td>\n",
       "      <td>£9,995</td>\n",
       "      <td>2013</td>\n",
       "      <td>71,700 miles</td>\n",
       "      <td>Petrol</td>\n",
       "      <td>Semi auto</td>\n",
       "    </tr>\n",
       "    <tr>\n",
       "      <th>2998</th>\n",
       "      <td>Audi Q5</td>\n",
       "      <td>£11,990</td>\n",
       "      <td>2009</td>\n",
       "      <td>64,787 miles</td>\n",
       "      <td>Diesel</td>\n",
       "      <td>Automatic</td>\n",
       "    </tr>\n",
       "    <tr>\n",
       "      <th>2999</th>\n",
       "      <td>Audi Q7</td>\n",
       "      <td>£13,490</td>\n",
       "      <td>2011</td>\n",
       "      <td>106,447 miles</td>\n",
       "      <td>Diesel</td>\n",
       "      <td>Automatic</td>\n",
       "    </tr>\n",
       "  </tbody>\n",
       "</table>\n",
       "<p>3000 rows × 6 columns</p>\n",
       "</div>"
      ],
      "text/plain": [
       "                  name    price  year        mileage  engine transmission\n",
       "0      Volkswagen Polo   £3,495  2010   83,000 miles  Diesel       Manual\n",
       "1     Volkswagen Caddy   £6,495  2011  160,000 miles  Diesel       Manual\n",
       "2          Skoda Fabia   £4,190  2011   51,000 miles  Petrol       Manual\n",
       "3         Nissan NV200   £4,690  2010  107,000 miles  Diesel       Manual\n",
       "4         Ford Transit   £3,995  2005   93,949 miles  Diesel       Manual\n",
       "...                ...      ...   ...            ...     ...          ...\n",
       "2995        Citroen C4   £4,995  2013   71,000 miles  Diesel       Manual\n",
       "2996      BMW 1 SERIES   £6,690  2012  108,899 miles  Diesel    Automatic\n",
       "2997           Audi A1   £9,995  2013   71,700 miles  Petrol    Semi auto\n",
       "2998           Audi Q5  £11,990  2009   64,787 miles  Diesel    Automatic\n",
       "2999           Audi Q7  £13,490  2011  106,447 miles  Diesel    Automatic\n",
       "\n",
       "[3000 rows x 6 columns]"
      ]
     },
     "execution_count": 146,
     "metadata": {},
     "output_type": "execute_result"
    }
   ],
   "source": [
    "df"
   ]
  },
  {
   "cell_type": "code",
   "execution_count": 147,
   "metadata": {},
   "outputs": [
    {
     "data": {
      "text/html": [
       "<div>\n",
       "<style scoped>\n",
       "    .dataframe tbody tr th:only-of-type {\n",
       "        vertical-align: middle;\n",
       "    }\n",
       "\n",
       "    .dataframe tbody tr th {\n",
       "        vertical-align: top;\n",
       "    }\n",
       "\n",
       "    .dataframe thead th {\n",
       "        text-align: right;\n",
       "    }\n",
       "</style>\n",
       "<table border=\"1\" class=\"dataframe\">\n",
       "  <thead>\n",
       "    <tr style=\"text-align: right;\">\n",
       "      <th></th>\n",
       "      <th>name</th>\n",
       "      <th>price</th>\n",
       "      <th>year</th>\n",
       "      <th>mileage</th>\n",
       "      <th>engine</th>\n",
       "      <th>transmission</th>\n",
       "    </tr>\n",
       "  </thead>\n",
       "  <tbody>\n",
       "    <tr>\n",
       "      <th>0</th>\n",
       "      <td>Volkswagen Polo</td>\n",
       "      <td>£3,495</td>\n",
       "      <td>2010</td>\n",
       "      <td>83,000 miles</td>\n",
       "      <td>Diesel</td>\n",
       "      <td>Manual</td>\n",
       "    </tr>\n",
       "    <tr>\n",
       "      <th>1</th>\n",
       "      <td>Volkswagen Caddy</td>\n",
       "      <td>£6,495</td>\n",
       "      <td>2011</td>\n",
       "      <td>160,000 miles</td>\n",
       "      <td>Diesel</td>\n",
       "      <td>Manual</td>\n",
       "    </tr>\n",
       "    <tr>\n",
       "      <th>2</th>\n",
       "      <td>Skoda Fabia</td>\n",
       "      <td>£4,190</td>\n",
       "      <td>2011</td>\n",
       "      <td>51,000 miles</td>\n",
       "      <td>Petrol</td>\n",
       "      <td>Manual</td>\n",
       "    </tr>\n",
       "    <tr>\n",
       "      <th>3</th>\n",
       "      <td>Nissan NV200</td>\n",
       "      <td>£4,690</td>\n",
       "      <td>2010</td>\n",
       "      <td>107,000 miles</td>\n",
       "      <td>Diesel</td>\n",
       "      <td>Manual</td>\n",
       "    </tr>\n",
       "    <tr>\n",
       "      <th>4</th>\n",
       "      <td>Ford Transit</td>\n",
       "      <td>£3,995</td>\n",
       "      <td>2005</td>\n",
       "      <td>93,949 miles</td>\n",
       "      <td>Diesel</td>\n",
       "      <td>Manual</td>\n",
       "    </tr>\n",
       "    <tr>\n",
       "      <th>5</th>\n",
       "      <td>Citroen Berlingo</td>\n",
       "      <td>£5,985</td>\n",
       "      <td>2010</td>\n",
       "      <td>46,000 miles</td>\n",
       "      <td>Diesel</td>\n",
       "      <td>Manual</td>\n",
       "    </tr>\n",
       "    <tr>\n",
       "      <th>6</th>\n",
       "      <td>Audi A4</td>\n",
       "      <td>£4,499</td>\n",
       "      <td>2012</td>\n",
       "      <td>138,000 miles</td>\n",
       "      <td>Diesel</td>\n",
       "      <td>Manual</td>\n",
       "    </tr>\n",
       "    <tr>\n",
       "      <th>7</th>\n",
       "      <td>Audi A4</td>\n",
       "      <td>£5,999</td>\n",
       "      <td>2010</td>\n",
       "      <td>103,000 miles</td>\n",
       "      <td>Diesel</td>\n",
       "      <td>Manual</td>\n",
       "    </tr>\n",
       "    <tr>\n",
       "      <th>8</th>\n",
       "      <td>MINI Hatch</td>\n",
       "      <td>£12,495</td>\n",
       "      <td>2015</td>\n",
       "      <td>47,074 miles</td>\n",
       "      <td>Petrol</td>\n",
       "      <td>Automatic</td>\n",
       "    </tr>\n",
       "    <tr>\n",
       "      <th>9</th>\n",
       "      <td>Ford Focus</td>\n",
       "      <td>£4,495</td>\n",
       "      <td>2011</td>\n",
       "      <td>97,289 miles</td>\n",
       "      <td>Petrol</td>\n",
       "      <td>Manual</td>\n",
       "    </tr>\n",
       "    <tr>\n",
       "      <th>10</th>\n",
       "      <td>Ford Focus</td>\n",
       "      <td>£5,295</td>\n",
       "      <td>2011</td>\n",
       "      <td>68,594 miles</td>\n",
       "      <td>Diesel</td>\n",
       "      <td>Manual</td>\n",
       "    </tr>\n",
       "    <tr>\n",
       "      <th>11</th>\n",
       "      <td>Peugeot 207 SW</td>\n",
       "      <td>£3,495</td>\n",
       "      <td>2012</td>\n",
       "      <td>76,182 miles</td>\n",
       "      <td>Petrol</td>\n",
       "      <td>Manual</td>\n",
       "    </tr>\n",
       "    <tr>\n",
       "      <th>12</th>\n",
       "      <td>Ford Focus</td>\n",
       "      <td>£6,995</td>\n",
       "      <td>2013</td>\n",
       "      <td>66,123 miles</td>\n",
       "      <td>Diesel</td>\n",
       "      <td>Manual</td>\n",
       "    </tr>\n",
       "    <tr>\n",
       "      <th>13</th>\n",
       "      <td>Nissan Navara</td>\n",
       "      <td>£14,500</td>\n",
       "      <td>2017</td>\n",
       "      <td>114,500 miles</td>\n",
       "      <td>Diesel</td>\n",
       "      <td>Automatic</td>\n",
       "    </tr>\n",
       "    <tr>\n",
       "      <th>14</th>\n",
       "      <td>Vauxhall Insignia</td>\n",
       "      <td>£4,995</td>\n",
       "      <td>2015</td>\n",
       "      <td>112,500 miles</td>\n",
       "      <td>Diesel</td>\n",
       "      <td>Manual</td>\n",
       "    </tr>\n",
       "    <tr>\n",
       "      <th>15</th>\n",
       "      <td>Ford Transit Connect</td>\n",
       "      <td>£5,000</td>\n",
       "      <td>2016</td>\n",
       "      <td>188,500 miles</td>\n",
       "      <td>Diesel</td>\n",
       "      <td>Manual</td>\n",
       "    </tr>\n",
       "    <tr>\n",
       "      <th>16</th>\n",
       "      <td>Nissan Navara</td>\n",
       "      <td>£14,500</td>\n",
       "      <td>2016</td>\n",
       "      <td>130,000 miles</td>\n",
       "      <td>Diesel</td>\n",
       "      <td>Automatic</td>\n",
       "    </tr>\n",
       "    <tr>\n",
       "      <th>17</th>\n",
       "      <td>BMW 5 Series</td>\n",
       "      <td>£7,995</td>\n",
       "      <td>2015</td>\n",
       "      <td>145,500 miles</td>\n",
       "      <td>Diesel</td>\n",
       "      <td>Manual</td>\n",
       "    </tr>\n",
       "    <tr>\n",
       "      <th>18</th>\n",
       "      <td>Toyota Auris</td>\n",
       "      <td>£12,995</td>\n",
       "      <td>2016</td>\n",
       "      <td>84,131 miles</td>\n",
       "      <td>Hybrid</td>\n",
       "      <td>Automatic</td>\n",
       "    </tr>\n",
       "    <tr>\n",
       "      <th>19</th>\n",
       "      <td>Land Rover Range Rover Sport</td>\n",
       "      <td>£17,000</td>\n",
       "      <td>2013</td>\n",
       "      <td>93,529 miles</td>\n",
       "      <td>Diesel</td>\n",
       "      <td>Automatic</td>\n",
       "    </tr>\n",
       "  </tbody>\n",
       "</table>\n",
       "</div>"
      ],
      "text/plain": [
       "                            name    price  year        mileage  engine  \\\n",
       "0                Volkswagen Polo   £3,495  2010   83,000 miles  Diesel   \n",
       "1               Volkswagen Caddy   £6,495  2011  160,000 miles  Diesel   \n",
       "2                    Skoda Fabia   £4,190  2011   51,000 miles  Petrol   \n",
       "3                   Nissan NV200   £4,690  2010  107,000 miles  Diesel   \n",
       "4                   Ford Transit   £3,995  2005   93,949 miles  Diesel   \n",
       "5               Citroen Berlingo   £5,985  2010   46,000 miles  Diesel   \n",
       "6                        Audi A4   £4,499  2012  138,000 miles  Diesel   \n",
       "7                        Audi A4   £5,999  2010  103,000 miles  Diesel   \n",
       "8                     MINI Hatch  £12,495  2015   47,074 miles  Petrol   \n",
       "9                     Ford Focus   £4,495  2011   97,289 miles  Petrol   \n",
       "10                    Ford Focus   £5,295  2011   68,594 miles  Diesel   \n",
       "11                Peugeot 207 SW   £3,495  2012   76,182 miles  Petrol   \n",
       "12                    Ford Focus   £6,995  2013   66,123 miles  Diesel   \n",
       "13                 Nissan Navara  £14,500  2017  114,500 miles  Diesel   \n",
       "14             Vauxhall Insignia   £4,995  2015  112,500 miles  Diesel   \n",
       "15          Ford Transit Connect   £5,000  2016  188,500 miles  Diesel   \n",
       "16                 Nissan Navara  £14,500  2016  130,000 miles  Diesel   \n",
       "17                  BMW 5 Series   £7,995  2015  145,500 miles  Diesel   \n",
       "18                  Toyota Auris  £12,995  2016   84,131 miles  Hybrid   \n",
       "19  Land Rover Range Rover Sport  £17,000  2013   93,529 miles  Diesel   \n",
       "\n",
       "   transmission  \n",
       "0        Manual  \n",
       "1        Manual  \n",
       "2        Manual  \n",
       "3        Manual  \n",
       "4        Manual  \n",
       "5        Manual  \n",
       "6        Manual  \n",
       "7        Manual  \n",
       "8     Automatic  \n",
       "9        Manual  \n",
       "10       Manual  \n",
       "11       Manual  \n",
       "12       Manual  \n",
       "13    Automatic  \n",
       "14       Manual  \n",
       "15       Manual  \n",
       "16    Automatic  \n",
       "17       Manual  \n",
       "18    Automatic  \n",
       "19    Automatic  "
      ]
     },
     "execution_count": 147,
     "metadata": {},
     "output_type": "execute_result"
    }
   ],
   "source": [
    "df.head(20)"
   ]
  },
  {
   "cell_type": "markdown",
   "metadata": {},
   "source": [
    "this will give the first 20 rows from the dataset."
   ]
  },
  {
   "cell_type": "code",
   "execution_count": 148,
   "metadata": {},
   "outputs": [
    {
     "data": {
      "text/plain": [
       "(3000, 6)"
      ]
     },
     "execution_count": 148,
     "metadata": {},
     "output_type": "execute_result"
    }
   ],
   "source": [
    "df.shape"
   ]
  },
  {
   "cell_type": "code",
   "execution_count": 149,
   "metadata": {},
   "outputs": [
    {
     "data": {
      "text/html": [
       "<div>\n",
       "<style scoped>\n",
       "    .dataframe tbody tr th:only-of-type {\n",
       "        vertical-align: middle;\n",
       "    }\n",
       "\n",
       "    .dataframe tbody tr th {\n",
       "        vertical-align: top;\n",
       "    }\n",
       "\n",
       "    .dataframe thead th {\n",
       "        text-align: right;\n",
       "    }\n",
       "</style>\n",
       "<table border=\"1\" class=\"dataframe\">\n",
       "  <thead>\n",
       "    <tr style=\"text-align: right;\">\n",
       "      <th></th>\n",
       "      <th>year</th>\n",
       "    </tr>\n",
       "  </thead>\n",
       "  <tbody>\n",
       "    <tr>\n",
       "      <th>count</th>\n",
       "      <td>3000.000000</td>\n",
       "    </tr>\n",
       "    <tr>\n",
       "      <th>mean</th>\n",
       "      <td>2016.722667</td>\n",
       "    </tr>\n",
       "    <tr>\n",
       "      <th>std</th>\n",
       "      <td>3.034055</td>\n",
       "    </tr>\n",
       "    <tr>\n",
       "      <th>min</th>\n",
       "      <td>2000.000000</td>\n",
       "    </tr>\n",
       "    <tr>\n",
       "      <th>25%</th>\n",
       "      <td>2015.000000</td>\n",
       "    </tr>\n",
       "    <tr>\n",
       "      <th>50%</th>\n",
       "      <td>2018.000000</td>\n",
       "    </tr>\n",
       "    <tr>\n",
       "      <th>75%</th>\n",
       "      <td>2019.000000</td>\n",
       "    </tr>\n",
       "    <tr>\n",
       "      <th>max</th>\n",
       "      <td>2021.000000</td>\n",
       "    </tr>\n",
       "  </tbody>\n",
       "</table>\n",
       "</div>"
      ],
      "text/plain": [
       "              year\n",
       "count  3000.000000\n",
       "mean   2016.722667\n",
       "std       3.034055\n",
       "min    2000.000000\n",
       "25%    2015.000000\n",
       "50%    2018.000000\n",
       "75%    2019.000000\n",
       "max    2021.000000"
      ]
     },
     "execution_count": 149,
     "metadata": {},
     "output_type": "execute_result"
    }
   ],
   "source": [
    "df.describe()"
   ]
  },
  {
   "cell_type": "code",
   "execution_count": 150,
   "metadata": {},
   "outputs": [
    {
     "name": "stdout",
     "output_type": "stream",
     "text": [
      "<class 'pandas.core.frame.DataFrame'>\n",
      "RangeIndex: 3000 entries, 0 to 2999\n",
      "Data columns (total 6 columns):\n",
      " #   Column        Non-Null Count  Dtype \n",
      "---  ------        --------------  ----- \n",
      " 0   name          3000 non-null   object\n",
      " 1   price         3000 non-null   object\n",
      " 2   year          3000 non-null   int64 \n",
      " 3   mileage       3000 non-null   object\n",
      " 4   engine        3000 non-null   object\n",
      " 5   transmission  2988 non-null   object\n",
      "dtypes: int64(1), object(5)\n",
      "memory usage: 140.8+ KB\n"
     ]
    }
   ],
   "source": [
    "df.info()"
   ]
  },
  {
   "cell_type": "code",
   "execution_count": 151,
   "metadata": {},
   "outputs": [
    {
     "data": {
      "text/plain": [
       "name             0\n",
       "price            0\n",
       "year             0\n",
       "mileage          0\n",
       "engine           0\n",
       "transmission    12\n",
       "dtype: int64"
      ]
     },
     "execution_count": 151,
     "metadata": {},
     "output_type": "execute_result"
    }
   ],
   "source": [
    "df.isnull().sum()"
   ]
  },
  {
   "cell_type": "markdown",
   "metadata": {},
   "source": [
    "There are 12 missing values in the transmission column. That is a very small number so we need to check the column to see how we can clean it"
   ]
  },
  {
   "cell_type": "code",
   "execution_count": 152,
   "metadata": {},
   "outputs": [
    {
     "data": {
      "text/html": [
       "<div>\n",
       "<style scoped>\n",
       "    .dataframe tbody tr th:only-of-type {\n",
       "        vertical-align: middle;\n",
       "    }\n",
       "\n",
       "    .dataframe tbody tr th {\n",
       "        vertical-align: top;\n",
       "    }\n",
       "\n",
       "    .dataframe thead th {\n",
       "        text-align: right;\n",
       "    }\n",
       "</style>\n",
       "<table border=\"1\" class=\"dataframe\">\n",
       "  <thead>\n",
       "    <tr style=\"text-align: right;\">\n",
       "      <th></th>\n",
       "      <th>name</th>\n",
       "      <th>price</th>\n",
       "      <th>year</th>\n",
       "      <th>mileage</th>\n",
       "      <th>engine</th>\n",
       "      <th>transmission</th>\n",
       "    </tr>\n",
       "  </thead>\n",
       "  <tbody>\n",
       "    <tr>\n",
       "      <th>239</th>\n",
       "      <td>Volkswagen T-cross</td>\n",
       "      <td>£22,290</td>\n",
       "      <td>2021</td>\n",
       "      <td>Petrol</td>\n",
       "      <td>Manual</td>\n",
       "      <td>NaN</td>\n",
       "    </tr>\n",
       "    <tr>\n",
       "      <th>242</th>\n",
       "      <td>Volkswagen UP</td>\n",
       "      <td>£14,490</td>\n",
       "      <td>2021</td>\n",
       "      <td>Petrol</td>\n",
       "      <td>Manual</td>\n",
       "      <td>NaN</td>\n",
       "    </tr>\n",
       "    <tr>\n",
       "      <th>248</th>\n",
       "      <td>Volkswagen Polo</td>\n",
       "      <td>£22,000</td>\n",
       "      <td>2021</td>\n",
       "      <td>Petrol</td>\n",
       "      <td>Automatic</td>\n",
       "      <td>NaN</td>\n",
       "    </tr>\n",
       "    <tr>\n",
       "      <th>251</th>\n",
       "      <td>Volkswagen Golf</td>\n",
       "      <td>£28,490</td>\n",
       "      <td>2021</td>\n",
       "      <td>Petrol</td>\n",
       "      <td>Automatic</td>\n",
       "      <td>NaN</td>\n",
       "    </tr>\n",
       "    <tr>\n",
       "      <th>252</th>\n",
       "      <td>Volkswagen Golf</td>\n",
       "      <td>£28,490</td>\n",
       "      <td>2021</td>\n",
       "      <td>Petrol</td>\n",
       "      <td>Automatic</td>\n",
       "      <td>NaN</td>\n",
       "    </tr>\n",
       "    <tr>\n",
       "      <th>421</th>\n",
       "      <td>MINI Hatch</td>\n",
       "      <td>£10,495</td>\n",
       "      <td>2012</td>\n",
       "      <td>Petrol</td>\n",
       "      <td>Manual</td>\n",
       "      <td>NaN</td>\n",
       "    </tr>\n",
       "    <tr>\n",
       "      <th>1189</th>\n",
       "      <td>TOYOTA AURIS</td>\n",
       "      <td>£11,790</td>\n",
       "      <td>2017</td>\n",
       "      <td>147,000 miles</td>\n",
       "      <td>Automatic</td>\n",
       "      <td>NaN</td>\n",
       "    </tr>\n",
       "    <tr>\n",
       "      <th>1219</th>\n",
       "      <td>NISSAN LEAF</td>\n",
       "      <td>£8,395</td>\n",
       "      <td>2014</td>\n",
       "      <td>33,000 miles</td>\n",
       "      <td>Automatic</td>\n",
       "      <td>NaN</td>\n",
       "    </tr>\n",
       "    <tr>\n",
       "      <th>1273</th>\n",
       "      <td>KIA NIRO</td>\n",
       "      <td>£16,490</td>\n",
       "      <td>2017</td>\n",
       "      <td>50,500 miles</td>\n",
       "      <td>Automatic</td>\n",
       "      <td>NaN</td>\n",
       "    </tr>\n",
       "    <tr>\n",
       "      <th>1338</th>\n",
       "      <td>BMW 3 SERIES</td>\n",
       "      <td>£16,989</td>\n",
       "      <td>2016</td>\n",
       "      <td>62,000 miles</td>\n",
       "      <td>Automatic</td>\n",
       "      <td>NaN</td>\n",
       "    </tr>\n",
       "    <tr>\n",
       "      <th>1360</th>\n",
       "      <td>ALFA ROMEO MITO</td>\n",
       "      <td>£3,995</td>\n",
       "      <td>2011</td>\n",
       "      <td>Petrol</td>\n",
       "      <td>Manual</td>\n",
       "      <td>NaN</td>\n",
       "    </tr>\n",
       "    <tr>\n",
       "      <th>1700</th>\n",
       "      <td>Mitsubishi Outlander</td>\n",
       "      <td>£17,789</td>\n",
       "      <td>2018</td>\n",
       "      <td>72,217 miles</td>\n",
       "      <td>Automatic</td>\n",
       "      <td>NaN</td>\n",
       "    </tr>\n",
       "  </tbody>\n",
       "</table>\n",
       "</div>"
      ],
      "text/plain": [
       "                      name    price  year        mileage     engine  \\\n",
       "239     Volkswagen T-cross  £22,290  2021         Petrol     Manual   \n",
       "242          Volkswagen UP  £14,490  2021         Petrol     Manual   \n",
       "248        Volkswagen Polo  £22,000  2021         Petrol  Automatic   \n",
       "251        Volkswagen Golf  £28,490  2021         Petrol  Automatic   \n",
       "252        Volkswagen Golf  £28,490  2021         Petrol  Automatic   \n",
       "421             MINI Hatch  £10,495  2012         Petrol     Manual   \n",
       "1189          TOYOTA AURIS  £11,790  2017  147,000 miles  Automatic   \n",
       "1219           NISSAN LEAF   £8,395  2014   33,000 miles  Automatic   \n",
       "1273              KIA NIRO  £16,490  2017   50,500 miles  Automatic   \n",
       "1338          BMW 3 SERIES  £16,989  2016   62,000 miles  Automatic   \n",
       "1360       ALFA ROMEO MITO   £3,995  2011         Petrol     Manual   \n",
       "1700  Mitsubishi Outlander  £17,789  2018   72,217 miles  Automatic   \n",
       "\n",
       "     transmission  \n",
       "239           NaN  \n",
       "242           NaN  \n",
       "248           NaN  \n",
       "251           NaN  \n",
       "252           NaN  \n",
       "421           NaN  \n",
       "1189          NaN  \n",
       "1219          NaN  \n",
       "1273          NaN  \n",
       "1338          NaN  \n",
       "1360          NaN  \n",
       "1700          NaN  "
      ]
     },
     "execution_count": 152,
     "metadata": {},
     "output_type": "execute_result"
    }
   ],
   "source": [
    "df[df['transmission'].isnull()]"
   ]
  },
  {
   "cell_type": "markdown",
   "metadata": {},
   "source": [
    "The rows with null values are small and look inconsistent, so it is best we delete it"
   ]
  },
  {
   "cell_type": "code",
   "execution_count": 153,
   "metadata": {},
   "outputs": [
    {
     "data": {
      "text/plain": [
       "(2988, 6)"
      ]
     },
     "execution_count": 153,
     "metadata": {},
     "output_type": "execute_result"
    }
   ],
   "source": [
    "df= df.dropna()\n",
    "df.shape"
   ]
  },
  {
   "cell_type": "markdown",
   "metadata": {},
   "source": [
    "12 rows have been deleted which is less than approx 1% of the total data."
   ]
  },
  {
   "cell_type": "code",
   "execution_count": 154,
   "metadata": {},
   "outputs": [],
   "source": [
    "df = df.drop_duplicates(keep= 'first', inplace=False)"
   ]
  },
  {
   "cell_type": "code",
   "execution_count": 155,
   "metadata": {},
   "outputs": [
    {
     "data": {
      "text/plain": [
       "(2979, 6)"
      ]
     },
     "execution_count": 155,
     "metadata": {},
     "output_type": "execute_result"
    }
   ],
   "source": [
    "df.shape"
   ]
  },
  {
   "cell_type": "code",
   "execution_count": 156,
   "metadata": {},
   "outputs": [
    {
     "data": {
      "text/plain": [
       "0    Volkswagen\n",
       "1    Volkswagen\n",
       "2         Skoda\n",
       "3        Nissan\n",
       "4          Ford\n",
       "Name: manufacturer, dtype: object"
      ]
     },
     "execution_count": 156,
     "metadata": {},
     "output_type": "execute_result"
    }
   ],
   "source": [
    "df['manufacturer'] = df['name'].apply(lambda x: x.split(' ')[0])\n",
    "df['manufacturer'].head()"
   ]
  },
  {
   "cell_type": "code",
   "execution_count": 157,
   "metadata": {},
   "outputs": [
    {
     "data": {
      "text/plain": [
       "70"
      ]
     },
     "execution_count": 157,
     "metadata": {},
     "output_type": "execute_result"
    }
   ],
   "source": [
    "df.manufacturer.nunique()"
   ]
  },
  {
   "cell_type": "code",
   "execution_count": 158,
   "metadata": {},
   "outputs": [
    {
     "data": {
      "text/plain": [
       "array(['Volkswagen', 'Skoda', 'Nissan', 'Ford', 'Citroen', 'Audi', 'MINI',\n",
       "       'Peugeot', 'Vauxhall', 'BMW', 'Toyota', 'Land', 'Mercedes-Benz',\n",
       "       'Honda', 'SKODA', 'Mazda', 'DS', 'Infiniti', 'Volvo', 'Ssangyong',\n",
       "       'Mitsubishi', 'Mini', 'MG', 'Kia', 'Jaguar', 'Hyundai', 'Fiat',\n",
       "       'Alfa', 'HYUNDAI', 'SEAT', 'VAUXHALL', 'NISSAN', 'DACIA', 'VOLVO',\n",
       "       'HONDA', 'RENAULT', 'AUDI', 'LEXUS', 'MERCEDES-BENZ', 'Mercedes',\n",
       "       'Isuzu', 'FORD', 'Suzuki', 'Dacia', 'Abarth', 'Renault', 'Jeep',\n",
       "       'Mercedes-benz', 'CHRYSLER', 'FIAT', 'Subaru', 'Saab', 'Porsche',\n",
       "       'Lexus', 'VOLKSWAGEN', 'TOYOTA', 'SUZUKI', 'SSANGYONG', 'SAAB',\n",
       "       'PEUGEOT', 'MITSUBISHI', 'MAZDA', 'LAND', 'KIA', 'JAGUAR',\n",
       "       'CITROEN', 'Smart', 'ABARTH', 'Seat', 'Bmw'], dtype=object)"
      ]
     },
     "execution_count": 158,
     "metadata": {},
     "output_type": "execute_result"
    }
   ],
   "source": [
    "df.manufacturer.unique()"
   ]
  },
  {
   "cell_type": "markdown",
   "metadata": {},
   "source": [
    "We will clean these data by making similar maufacturers uniform."
   ]
  },
  {
   "cell_type": "code",
   "execution_count": 159,
   "metadata": {},
   "outputs": [
    {
     "name": "stdout",
     "output_type": "stream",
     "text": [
      "['Volkswagen' 'Skoda' 'Nissan' 'Ford' 'Citroen' 'Audi' 'Mini' 'Peugeot'\n",
      " 'Vauxhall' 'BMW' 'Toyota' 'Land-Rover' 'Mercedes-Benz' 'Honda' 'Mazda'\n",
      " 'DS' 'Infiniti' 'Volvo' 'Ssangyong' 'Mitsubishi' 'MG' 'Kia' 'Jaguar'\n",
      " 'Hyundai' 'Fiat' 'Alfa-Romero' 'Seat' 'Dacia' 'Renault' 'LEXUS' 'Isuzu'\n",
      " 'Suzuki' 'Abarth' 'Jeep' 'CHRYSLER' 'Subaru' 'Saab' 'Porsche' 'Lexus'\n",
      " 'SSANGYONG' 'SAAB' 'Smart']\n",
      "\n",
      "\n",
      "There are 42 different car manufacturers in the dataset\n"
     ]
    }
   ],
   "source": [
    "df = df.replace({'manufacturer' : \n",
    "            {'MAZDA' : 'Mazda', 'JAGUAR':'Jaguar', 'AUDI' : 'Audi', 'NISSAN': 'Nissan', 'MINI': 'Mini', \n",
    "             'VOLKSWAGEN':'Volkswagen', 'VAUXHALL':'Vauxhall', 'TOYOTA':'Toyota', 'SKODA':'Skoda', 'FORD':'Ford',\n",
    "             'Bmw':'BMW','SUZUKI' : 'Suzuki', 'RENAULT':'Renault', 'PEUGEOT':'Peugeot', 'CITROEN':'Citroen',\n",
    "             'VOLVO':'Volvo', 'FIAT':'Fiat', 'Ds':'DS', 'DACIA':'Dacia', 'ABARTH':'Abarth', 'SMART':'Smart', \n",
    "             'smart':'Smart','SEAT':'Seat', 'MITSUBISHI':'Mitsubishi', 'KIA':'Kia', 'HYUNDAI':'Hyundai',\n",
    "             'HONDA':'Honda','MASERATI':'Maserati', 'PORSCHE':'Porsche', 'INFINITI':'Infiniti', 'Alfa':'Alfa-Romero',\n",
    "             'Mercedes': 'Mercedes-Benz', 'MERCEDES-BENZ': 'Mercedes-Benz', 'Mercedes-benz': 'Mercedes-Benz',\n",
    "             'Land':'Land-Rover', 'LAND': 'Land-Rover'}\n",
    "             })\n",
    "\n",
    "print(df.manufacturer.unique())\n",
    "print('\\n')\n",
    "print('There are ' + str(df.manufacturer.nunique()) + ' different car manufacturers in the dataset')"
   ]
  },
  {
   "cell_type": "code",
   "execution_count": 160,
   "metadata": {},
   "outputs": [
    {
     "data": {
      "text/plain": [
       "0    3495\n",
       "1    6495\n",
       "2    4190\n",
       "3    4690\n",
       "4    3995\n",
       "Name: price, dtype: int64"
      ]
     },
     "execution_count": 160,
     "metadata": {},
     "output_type": "execute_result"
    }
   ],
   "source": [
    "df['price'] = df['price'].str.replace(',', '').str.replace('£', '').astype(np.int64)\n",
    "df['price'].head()"
   ]
  },
  {
   "cell_type": "code",
   "execution_count": 161,
   "metadata": {},
   "outputs": [],
   "source": [
    "df['year']=df['year'].astype(str).astype(np.int64)"
   ]
  },
  {
   "cell_type": "code",
   "execution_count": 162,
   "metadata": {},
   "outputs": [],
   "source": [
    "Current_Year = 2021"
   ]
  },
  {
   "cell_type": "code",
   "execution_count": 163,
   "metadata": {},
   "outputs": [],
   "source": [
    "df['age'] = Current_Year - df['year']"
   ]
  },
  {
   "cell_type": "code",
   "execution_count": 164,
   "metadata": {},
   "outputs": [],
   "source": [
    "df['age'] = df['age'].astype(np.int64)"
   ]
  },
  {
   "cell_type": "code",
   "execution_count": 165,
   "metadata": {},
   "outputs": [
    {
     "data": {
      "text/plain": [
       "0    11\n",
       "1    10\n",
       "2    10\n",
       "3    11\n",
       "4    16\n",
       "Name: age, dtype: int64"
      ]
     },
     "execution_count": 165,
     "metadata": {},
     "output_type": "execute_result"
    }
   ],
   "source": [
    "df['age'].head()"
   ]
  },
  {
   "cell_type": "code",
   "execution_count": 166,
   "metadata": {},
   "outputs": [
    {
     "data": {
      "text/plain": [
       "0     83000\n",
       "1    160000\n",
       "2     51000\n",
       "3    107000\n",
       "4     93949\n",
       "Name: mileage, dtype: int64"
      ]
     },
     "execution_count": 166,
     "metadata": {},
     "output_type": "execute_result"
    }
   ],
   "source": [
    "df['mileage'] = df['mileage'].str.replace(',', '').str.replace(' ', '').str.replace('miles', '').astype(np.int64)\n",
    "df['mileage'].head()"
   ]
  },
  {
   "cell_type": "code",
   "execution_count": 167,
   "metadata": {},
   "outputs": [
    {
     "data": {
      "text/plain": [
       "array(['Diesel', 'Petrol', 'Hybrid', 'Electric', 'Plug_in_hybrid',\n",
       "       'Hybrid electric', 'Petrol hybrid', 'Petrol plugin hybrid',\n",
       "       'Petrol/electric hybr', 'Petrol/electric', 'Petrol/plugin elec h',\n",
       "       'Petrol plug-in hybri', 'Unlisted', 'Petrol / electric hy',\n",
       "       'Diesel hybrid'], dtype=object)"
      ]
     },
     "execution_count": 167,
     "metadata": {},
     "output_type": "execute_result"
    }
   ],
   "source": [
    "df['engine'].unique()\n"
   ]
  },
  {
   "cell_type": "code",
   "execution_count": 168,
   "metadata": {},
   "outputs": [
    {
     "data": {
      "text/plain": [
       "array(['Diesel', 'Petrol', 'Hybrid', 'Electric', 'Plug_in_hybrid',\n",
       "       'Hybrid electric', 'Petrol plugin hybrid', 'Petrol/electric hybr',\n",
       "       'Petrol/plugin elec h', 'Unlisted', 'Diesel hybrid'], dtype=object)"
      ]
     },
     "execution_count": 168,
     "metadata": {},
     "output_type": "execute_result"
    }
   ],
   "source": [
    "df = df.replace({'engine' : \n",
    "                     {'Petrol hybrid': 'Hybrid', 'Petrol hybrid': 'Hybrid', \n",
    "                      'Petrol / electric hy' : 'Hybrid', 'Petrol plug-in hybri': 'Plug_in_hybrid',\n",
    "                     'Petrol/electric' : 'Hybrid'}\n",
    "                     })\n",
    "df['engine'].unique()"
   ]
  },
  {
   "cell_type": "code",
   "execution_count": 169,
   "metadata": {},
   "outputs": [
    {
     "data": {
      "text/plain": [
       "array(['Manual', 'Automatic', 'Semi auto', 'Cvt', 'Unlisted',\n",
       "       'Semi automatic', 'Other', 'Semiauto'], dtype=object)"
      ]
     },
     "execution_count": 169,
     "metadata": {},
     "output_type": "execute_result"
    }
   ],
   "source": [
    "df['transmission'].unique()"
   ]
  },
  {
   "cell_type": "code",
   "execution_count": 170,
   "metadata": {},
   "outputs": [],
   "source": [
    "df = df.replace({'transmission' : \n",
    "                     {'Semi auto': 'Semiautomatic', 'Semiauto': 'Semiautomatic',\n",
    "                      'Semi automatic': 'Semiautomatic', 'Manual ': 'Manual',\n",
    "                      'Semi-automatic': 'Semiautomatic', 'G-tronic+': 'Automatic',\n",
    "                      'Cvt': 'Automatic'}\n",
    "                     \n",
    "                     })"
   ]
  },
  {
   "cell_type": "markdown",
   "metadata": {},
   "source": [
    "we have to Reorder the columns to make the dataframe easy to understand"
   ]
  },
  {
   "cell_type": "code",
   "execution_count": 171,
   "metadata": {},
   "outputs": [
    {
     "data": {
      "text/html": [
       "<div>\n",
       "<style scoped>\n",
       "    .dataframe tbody tr th:only-of-type {\n",
       "        vertical-align: middle;\n",
       "    }\n",
       "\n",
       "    .dataframe tbody tr th {\n",
       "        vertical-align: top;\n",
       "    }\n",
       "\n",
       "    .dataframe thead th {\n",
       "        text-align: right;\n",
       "    }\n",
       "</style>\n",
       "<table border=\"1\" class=\"dataframe\">\n",
       "  <thead>\n",
       "    <tr style=\"text-align: right;\">\n",
       "      <th></th>\n",
       "      <th>name</th>\n",
       "      <th>manufacturer</th>\n",
       "      <th>year</th>\n",
       "      <th>age</th>\n",
       "      <th>mileage</th>\n",
       "      <th>engine</th>\n",
       "      <th>transmission</th>\n",
       "      <th>price</th>\n",
       "    </tr>\n",
       "  </thead>\n",
       "  <tbody>\n",
       "    <tr>\n",
       "      <th>0</th>\n",
       "      <td>Volkswagen Polo</td>\n",
       "      <td>Volkswagen</td>\n",
       "      <td>2010</td>\n",
       "      <td>11</td>\n",
       "      <td>83000</td>\n",
       "      <td>Diesel</td>\n",
       "      <td>Manual</td>\n",
       "      <td>3495</td>\n",
       "    </tr>\n",
       "    <tr>\n",
       "      <th>1</th>\n",
       "      <td>Volkswagen Caddy</td>\n",
       "      <td>Volkswagen</td>\n",
       "      <td>2011</td>\n",
       "      <td>10</td>\n",
       "      <td>160000</td>\n",
       "      <td>Diesel</td>\n",
       "      <td>Manual</td>\n",
       "      <td>6495</td>\n",
       "    </tr>\n",
       "    <tr>\n",
       "      <th>2</th>\n",
       "      <td>Skoda Fabia</td>\n",
       "      <td>Skoda</td>\n",
       "      <td>2011</td>\n",
       "      <td>10</td>\n",
       "      <td>51000</td>\n",
       "      <td>Petrol</td>\n",
       "      <td>Manual</td>\n",
       "      <td>4190</td>\n",
       "    </tr>\n",
       "    <tr>\n",
       "      <th>3</th>\n",
       "      <td>Nissan NV200</td>\n",
       "      <td>Nissan</td>\n",
       "      <td>2010</td>\n",
       "      <td>11</td>\n",
       "      <td>107000</td>\n",
       "      <td>Diesel</td>\n",
       "      <td>Manual</td>\n",
       "      <td>4690</td>\n",
       "    </tr>\n",
       "    <tr>\n",
       "      <th>4</th>\n",
       "      <td>Ford Transit</td>\n",
       "      <td>Ford</td>\n",
       "      <td>2005</td>\n",
       "      <td>16</td>\n",
       "      <td>93949</td>\n",
       "      <td>Diesel</td>\n",
       "      <td>Manual</td>\n",
       "      <td>3995</td>\n",
       "    </tr>\n",
       "  </tbody>\n",
       "</table>\n",
       "</div>"
      ],
      "text/plain": [
       "               name manufacturer  year  age  mileage  engine transmission  \\\n",
       "0   Volkswagen Polo   Volkswagen  2010   11    83000  Diesel       Manual   \n",
       "1  Volkswagen Caddy   Volkswagen  2011   10   160000  Diesel       Manual   \n",
       "2       Skoda Fabia        Skoda  2011   10    51000  Petrol       Manual   \n",
       "3      Nissan NV200       Nissan  2010   11   107000  Diesel       Manual   \n",
       "4      Ford Transit         Ford  2005   16    93949  Diesel       Manual   \n",
       "\n",
       "   price  \n",
       "0   3495  \n",
       "1   6495  \n",
       "2   4190  \n",
       "3   4690  \n",
       "4   3995  "
      ]
     },
     "execution_count": 171,
     "metadata": {},
     "output_type": "execute_result"
    }
   ],
   "source": [
    "df = df[['name', 'manufacturer', 'year', 'age', 'mileage', 'engine', 'transmission', 'price']]\n",
    "df.head()"
   ]
  },
  {
   "cell_type": "code",
   "execution_count": 172,
   "metadata": {},
   "outputs": [
    {
     "data": {
      "text/plain": [
       "(2979, 8)"
      ]
     },
     "execution_count": 172,
     "metadata": {},
     "output_type": "execute_result"
    }
   ],
   "source": [
    "df.shape"
   ]
  },
  {
   "cell_type": "code",
   "execution_count": 173,
   "metadata": {},
   "outputs": [],
   "source": [
    "df.to_csv('cleaned_car_df.csv', index = False)"
   ]
  },
  {
   "cell_type": "code",
   "execution_count": 174,
   "metadata": {},
   "outputs": [],
   "source": [
    "import matplotlib.pyplot as plt\n",
    "import seaborn as sns\n",
    "import warnings\n",
    "warnings.filterwarnings('ignore')\n",
    "sns.set_theme()"
   ]
  },
  {
   "cell_type": "code",
   "execution_count": 175,
   "metadata": {},
   "outputs": [
    {
     "data": {
      "text/html": [
       "<div>\n",
       "<style scoped>\n",
       "    .dataframe tbody tr th:only-of-type {\n",
       "        vertical-align: middle;\n",
       "    }\n",
       "\n",
       "    .dataframe tbody tr th {\n",
       "        vertical-align: top;\n",
       "    }\n",
       "\n",
       "    .dataframe thead th {\n",
       "        text-align: right;\n",
       "    }\n",
       "</style>\n",
       "<table border=\"1\" class=\"dataframe\">\n",
       "  <thead>\n",
       "    <tr style=\"text-align: right;\">\n",
       "      <th></th>\n",
       "      <th>name</th>\n",
       "      <th>manufacturer</th>\n",
       "      <th>year</th>\n",
       "      <th>age</th>\n",
       "      <th>mileage</th>\n",
       "      <th>engine</th>\n",
       "      <th>transmission</th>\n",
       "      <th>price</th>\n",
       "    </tr>\n",
       "  </thead>\n",
       "  <tbody>\n",
       "    <tr>\n",
       "      <th>0</th>\n",
       "      <td>Volkswagen Polo</td>\n",
       "      <td>Volkswagen</td>\n",
       "      <td>2010</td>\n",
       "      <td>11</td>\n",
       "      <td>83000</td>\n",
       "      <td>Diesel</td>\n",
       "      <td>Manual</td>\n",
       "      <td>3495</td>\n",
       "    </tr>\n",
       "    <tr>\n",
       "      <th>1</th>\n",
       "      <td>Volkswagen Caddy</td>\n",
       "      <td>Volkswagen</td>\n",
       "      <td>2011</td>\n",
       "      <td>10</td>\n",
       "      <td>160000</td>\n",
       "      <td>Diesel</td>\n",
       "      <td>Manual</td>\n",
       "      <td>6495</td>\n",
       "    </tr>\n",
       "    <tr>\n",
       "      <th>2</th>\n",
       "      <td>Skoda Fabia</td>\n",
       "      <td>Skoda</td>\n",
       "      <td>2011</td>\n",
       "      <td>10</td>\n",
       "      <td>51000</td>\n",
       "      <td>Petrol</td>\n",
       "      <td>Manual</td>\n",
       "      <td>4190</td>\n",
       "    </tr>\n",
       "    <tr>\n",
       "      <th>3</th>\n",
       "      <td>Nissan NV200</td>\n",
       "      <td>Nissan</td>\n",
       "      <td>2010</td>\n",
       "      <td>11</td>\n",
       "      <td>107000</td>\n",
       "      <td>Diesel</td>\n",
       "      <td>Manual</td>\n",
       "      <td>4690</td>\n",
       "    </tr>\n",
       "    <tr>\n",
       "      <th>4</th>\n",
       "      <td>Ford Transit</td>\n",
       "      <td>Ford</td>\n",
       "      <td>2005</td>\n",
       "      <td>16</td>\n",
       "      <td>93949</td>\n",
       "      <td>Diesel</td>\n",
       "      <td>Manual</td>\n",
       "      <td>3995</td>\n",
       "    </tr>\n",
       "  </tbody>\n",
       "</table>\n",
       "</div>"
      ],
      "text/plain": [
       "               name manufacturer  year  age  mileage  engine transmission  \\\n",
       "0   Volkswagen Polo   Volkswagen  2010   11    83000  Diesel       Manual   \n",
       "1  Volkswagen Caddy   Volkswagen  2011   10   160000  Diesel       Manual   \n",
       "2       Skoda Fabia        Skoda  2011   10    51000  Petrol       Manual   \n",
       "3      Nissan NV200       Nissan  2010   11   107000  Diesel       Manual   \n",
       "4      Ford Transit         Ford  2005   16    93949  Diesel       Manual   \n",
       "\n",
       "   price  \n",
       "0   3495  \n",
       "1   6495  \n",
       "2   4190  \n",
       "3   4690  \n",
       "4   3995  "
      ]
     },
     "execution_count": 175,
     "metadata": {},
     "output_type": "execute_result"
    }
   ],
   "source": [
    "df = pd.read_csv('cleaned_car_df.csv')\n",
    "df.head()"
   ]
  },
  {
   "cell_type": "code",
   "execution_count": 176,
   "metadata": {},
   "outputs": [
    {
     "data": {
      "text/html": [
       "<div>\n",
       "<style scoped>\n",
       "    .dataframe tbody tr th:only-of-type {\n",
       "        vertical-align: middle;\n",
       "    }\n",
       "\n",
       "    .dataframe tbody tr th {\n",
       "        vertical-align: top;\n",
       "    }\n",
       "\n",
       "    .dataframe thead th {\n",
       "        text-align: right;\n",
       "    }\n",
       "</style>\n",
       "<table border=\"1\" class=\"dataframe\">\n",
       "  <thead>\n",
       "    <tr style=\"text-align: right;\">\n",
       "      <th></th>\n",
       "      <th>name</th>\n",
       "      <th>manufacturer</th>\n",
       "      <th>year</th>\n",
       "      <th>age</th>\n",
       "      <th>mileage</th>\n",
       "      <th>engine</th>\n",
       "      <th>transmission</th>\n",
       "      <th>price</th>\n",
       "    </tr>\n",
       "  </thead>\n",
       "  <tbody>\n",
       "    <tr>\n",
       "      <th>439</th>\n",
       "      <td>Mazda MX-5</td>\n",
       "      <td>Mazda</td>\n",
       "      <td>2019</td>\n",
       "      <td>2</td>\n",
       "      <td>7170</td>\n",
       "      <td>Petrol</td>\n",
       "      <td>Manual</td>\n",
       "      <td>30000</td>\n",
       "    </tr>\n",
       "    <tr>\n",
       "      <th>989</th>\n",
       "      <td>Land Rover Range Rover Sport</td>\n",
       "      <td>Land-Rover</td>\n",
       "      <td>2014</td>\n",
       "      <td>7</td>\n",
       "      <td>58000</td>\n",
       "      <td>Diesel</td>\n",
       "      <td>Automatic</td>\n",
       "      <td>30000</td>\n",
       "    </tr>\n",
       "    <tr>\n",
       "      <th>1538</th>\n",
       "      <td>Hyundai i30</td>\n",
       "      <td>Hyundai</td>\n",
       "      <td>2020</td>\n",
       "      <td>1</td>\n",
       "      <td>4250</td>\n",
       "      <td>Petrol</td>\n",
       "      <td>Manual</td>\n",
       "      <td>30000</td>\n",
       "    </tr>\n",
       "    <tr>\n",
       "      <th>2697</th>\n",
       "      <td>Ford Ranger</td>\n",
       "      <td>Ford</td>\n",
       "      <td>2018</td>\n",
       "      <td>3</td>\n",
       "      <td>51325</td>\n",
       "      <td>Diesel</td>\n",
       "      <td>Automatic</td>\n",
       "      <td>30000</td>\n",
       "    </tr>\n",
       "    <tr>\n",
       "      <th>2903</th>\n",
       "      <td>Audi Q3</td>\n",
       "      <td>Audi</td>\n",
       "      <td>2018</td>\n",
       "      <td>3</td>\n",
       "      <td>13780</td>\n",
       "      <td>Diesel</td>\n",
       "      <td>Semiautomatic</td>\n",
       "      <td>30000</td>\n",
       "    </tr>\n",
       "  </tbody>\n",
       "</table>\n",
       "</div>"
      ],
      "text/plain": [
       "                              name manufacturer  year  age  mileage  engine  \\\n",
       "439                     Mazda MX-5        Mazda  2019    2     7170  Petrol   \n",
       "989   Land Rover Range Rover Sport   Land-Rover  2014    7    58000  Diesel   \n",
       "1538                   Hyundai i30      Hyundai  2020    1     4250  Petrol   \n",
       "2697                   Ford Ranger         Ford  2018    3    51325  Diesel   \n",
       "2903                       Audi Q3         Audi  2018    3    13780  Diesel   \n",
       "\n",
       "       transmission  price  \n",
       "439          Manual  30000  \n",
       "989       Automatic  30000  \n",
       "1538         Manual  30000  \n",
       "2697      Automatic  30000  \n",
       "2903  Semiautomatic  30000  "
      ]
     },
     "execution_count": 176,
     "metadata": {},
     "output_type": "execute_result"
    }
   ],
   "source": [
    "df.nlargest(5, 'price')"
   ]
  },
  {
   "cell_type": "markdown",
   "metadata": {},
   "source": [
    "thses are 5 topmost expensive cars in the collection from the dataset."
   ]
  },
  {
   "cell_type": "code",
   "execution_count": 177,
   "metadata": {},
   "outputs": [
    {
     "data": {
      "text/html": [
       "<div>\n",
       "<style scoped>\n",
       "    .dataframe tbody tr th:only-of-type {\n",
       "        vertical-align: middle;\n",
       "    }\n",
       "\n",
       "    .dataframe tbody tr th {\n",
       "        vertical-align: top;\n",
       "    }\n",
       "\n",
       "    .dataframe thead th {\n",
       "        text-align: right;\n",
       "    }\n",
       "</style>\n",
       "<table border=\"1\" class=\"dataframe\">\n",
       "  <thead>\n",
       "    <tr style=\"text-align: right;\">\n",
       "      <th></th>\n",
       "      <th>name</th>\n",
       "      <th>manufacturer</th>\n",
       "      <th>year</th>\n",
       "      <th>age</th>\n",
       "      <th>mileage</th>\n",
       "      <th>engine</th>\n",
       "      <th>transmission</th>\n",
       "      <th>price</th>\n",
       "    </tr>\n",
       "  </thead>\n",
       "  <tbody>\n",
       "    <tr>\n",
       "      <th>1687</th>\n",
       "      <td>PEUGEOT PARTNER</td>\n",
       "      <td>Peugeot</td>\n",
       "      <td>2012</td>\n",
       "      <td>9</td>\n",
       "      <td>200200</td>\n",
       "      <td>Diesel</td>\n",
       "      <td>Manual</td>\n",
       "      <td>3495</td>\n",
       "    </tr>\n",
       "    <tr>\n",
       "      <th>15</th>\n",
       "      <td>Ford Transit Connect</td>\n",
       "      <td>Ford</td>\n",
       "      <td>2016</td>\n",
       "      <td>5</td>\n",
       "      <td>188500</td>\n",
       "      <td>Diesel</td>\n",
       "      <td>Manual</td>\n",
       "      <td>5000</td>\n",
       "    </tr>\n",
       "    <tr>\n",
       "      <th>34</th>\n",
       "      <td>Honda CR-V</td>\n",
       "      <td>Honda</td>\n",
       "      <td>2012</td>\n",
       "      <td>9</td>\n",
       "      <td>178375</td>\n",
       "      <td>Diesel</td>\n",
       "      <td>Manual</td>\n",
       "      <td>4000</td>\n",
       "    </tr>\n",
       "    <tr>\n",
       "      <th>1338</th>\n",
       "      <td>AUDI TT</td>\n",
       "      <td>Audi</td>\n",
       "      <td>2009</td>\n",
       "      <td>12</td>\n",
       "      <td>170701</td>\n",
       "      <td>Diesel</td>\n",
       "      <td>Manual</td>\n",
       "      <td>5999</td>\n",
       "    </tr>\n",
       "    <tr>\n",
       "      <th>1756</th>\n",
       "      <td>Renault Trafic</td>\n",
       "      <td>Renault</td>\n",
       "      <td>2014</td>\n",
       "      <td>7</td>\n",
       "      <td>166000</td>\n",
       "      <td>Diesel</td>\n",
       "      <td>Manual</td>\n",
       "      <td>5995</td>\n",
       "    </tr>\n",
       "  </tbody>\n",
       "</table>\n",
       "</div>"
      ],
      "text/plain": [
       "                      name manufacturer  year  age  mileage  engine  \\\n",
       "1687       PEUGEOT PARTNER      Peugeot  2012    9   200200  Diesel   \n",
       "15    Ford Transit Connect         Ford  2016    5   188500  Diesel   \n",
       "34              Honda CR-V        Honda  2012    9   178375  Diesel   \n",
       "1338               AUDI TT         Audi  2009   12   170701  Diesel   \n",
       "1756        Renault Trafic      Renault  2014    7   166000  Diesel   \n",
       "\n",
       "     transmission  price  \n",
       "1687       Manual   3495  \n",
       "15         Manual   5000  \n",
       "34         Manual   4000  \n",
       "1338       Manual   5999  \n",
       "1756       Manual   5995  "
      ]
     },
     "execution_count": 177,
     "metadata": {},
     "output_type": "execute_result"
    }
   ],
   "source": [
    "df.nlargest(5, 'mileage')"
   ]
  },
  {
   "cell_type": "markdown",
   "metadata": {},
   "source": [
    "these are 5 topmost cars as per mileage from the datacollection."
   ]
  },
  {
   "cell_type": "code",
   "execution_count": 178,
   "metadata": {},
   "outputs": [
    {
     "data": {
      "text/html": [
       "<div>\n",
       "<style scoped>\n",
       "    .dataframe tbody tr th:only-of-type {\n",
       "        vertical-align: middle;\n",
       "    }\n",
       "\n",
       "    .dataframe tbody tr th {\n",
       "        vertical-align: top;\n",
       "    }\n",
       "\n",
       "    .dataframe thead th {\n",
       "        text-align: right;\n",
       "    }\n",
       "</style>\n",
       "<table border=\"1\" class=\"dataframe\">\n",
       "  <thead>\n",
       "    <tr style=\"text-align: right;\">\n",
       "      <th></th>\n",
       "      <th>name</th>\n",
       "      <th>manufacturer</th>\n",
       "      <th>year</th>\n",
       "      <th>age</th>\n",
       "      <th>mileage</th>\n",
       "      <th>engine</th>\n",
       "      <th>transmission</th>\n",
       "      <th>price</th>\n",
       "    </tr>\n",
       "  </thead>\n",
       "  <tbody>\n",
       "    <tr>\n",
       "      <th>621</th>\n",
       "      <td>BMW Z3</td>\n",
       "      <td>BMW</td>\n",
       "      <td>2000</td>\n",
       "      <td>21</td>\n",
       "      <td>67000</td>\n",
       "      <td>Petrol</td>\n",
       "      <td>Manual</td>\n",
       "      <td>4490</td>\n",
       "    </tr>\n",
       "    <tr>\n",
       "      <th>956</th>\n",
       "      <td>Mercedes-Benz M Class</td>\n",
       "      <td>Mercedes-Benz</td>\n",
       "      <td>2003</td>\n",
       "      <td>18</td>\n",
       "      <td>96603</td>\n",
       "      <td>Diesel</td>\n",
       "      <td>Automatic</td>\n",
       "      <td>4150</td>\n",
       "    </tr>\n",
       "    <tr>\n",
       "      <th>1688</th>\n",
       "      <td>MITSUBISHI SHOGUN</td>\n",
       "      <td>Mitsubishi</td>\n",
       "      <td>2004</td>\n",
       "      <td>17</td>\n",
       "      <td>91500</td>\n",
       "      <td>Diesel</td>\n",
       "      <td>Manual</td>\n",
       "      <td>6950</td>\n",
       "    </tr>\n",
       "    <tr>\n",
       "      <th>4</th>\n",
       "      <td>Ford Transit</td>\n",
       "      <td>Ford</td>\n",
       "      <td>2005</td>\n",
       "      <td>16</td>\n",
       "      <td>93949</td>\n",
       "      <td>Diesel</td>\n",
       "      <td>Manual</td>\n",
       "      <td>3995</td>\n",
       "    </tr>\n",
       "    <tr>\n",
       "      <th>965</th>\n",
       "      <td>Mercedes-Benz C Class</td>\n",
       "      <td>Mercedes-Benz</td>\n",
       "      <td>2005</td>\n",
       "      <td>16</td>\n",
       "      <td>112000</td>\n",
       "      <td>Diesel</td>\n",
       "      <td>Automatic</td>\n",
       "      <td>3495</td>\n",
       "    </tr>\n",
       "  </tbody>\n",
       "</table>\n",
       "</div>"
      ],
      "text/plain": [
       "                       name   manufacturer  year  age  mileage  engine  \\\n",
       "621                  BMW Z3            BMW  2000   21    67000  Petrol   \n",
       "956   Mercedes-Benz M Class  Mercedes-Benz  2003   18    96603  Diesel   \n",
       "1688      MITSUBISHI SHOGUN     Mitsubishi  2004   17    91500  Diesel   \n",
       "4              Ford Transit           Ford  2005   16    93949  Diesel   \n",
       "965   Mercedes-Benz C Class  Mercedes-Benz  2005   16   112000  Diesel   \n",
       "\n",
       "     transmission  price  \n",
       "621        Manual   4490  \n",
       "956     Automatic   4150  \n",
       "1688       Manual   6950  \n",
       "4          Manual   3995  \n",
       "965     Automatic   3495  "
      ]
     },
     "execution_count": 178,
     "metadata": {},
     "output_type": "execute_result"
    }
   ],
   "source": [
    "df.nlargest(5, 'age')"
   ]
  },
  {
   "cell_type": "markdown",
   "metadata": {},
   "source": [
    "these are top 5 oldest cars as per age wise datacollection."
   ]
  },
  {
   "cell_type": "code",
   "execution_count": 179,
   "metadata": {},
   "outputs": [
    {
     "data": {
      "text/html": [
       "<div>\n",
       "<style scoped>\n",
       "    .dataframe tbody tr th:only-of-type {\n",
       "        vertical-align: middle;\n",
       "    }\n",
       "\n",
       "    .dataframe tbody tr th {\n",
       "        vertical-align: top;\n",
       "    }\n",
       "\n",
       "    .dataframe thead th {\n",
       "        text-align: right;\n",
       "    }\n",
       "</style>\n",
       "<table border=\"1\" class=\"dataframe\">\n",
       "  <thead>\n",
       "    <tr style=\"text-align: right;\">\n",
       "      <th></th>\n",
       "      <th>name</th>\n",
       "      <th>manufacturer</th>\n",
       "      <th>year</th>\n",
       "      <th>age</th>\n",
       "      <th>mileage</th>\n",
       "      <th>engine</th>\n",
       "      <th>transmission</th>\n",
       "      <th>price</th>\n",
       "    </tr>\n",
       "  </thead>\n",
       "  <tbody>\n",
       "    <tr>\n",
       "      <th>0</th>\n",
       "      <td>Volkswagen Polo</td>\n",
       "      <td>Volkswagen</td>\n",
       "      <td>2010</td>\n",
       "      <td>11</td>\n",
       "      <td>83000</td>\n",
       "      <td>Diesel</td>\n",
       "      <td>Manual</td>\n",
       "      <td>3495</td>\n",
       "    </tr>\n",
       "    <tr>\n",
       "      <th>1</th>\n",
       "      <td>Volkswagen Caddy</td>\n",
       "      <td>Volkswagen</td>\n",
       "      <td>2011</td>\n",
       "      <td>10</td>\n",
       "      <td>160000</td>\n",
       "      <td>Diesel</td>\n",
       "      <td>Manual</td>\n",
       "      <td>6495</td>\n",
       "    </tr>\n",
       "    <tr>\n",
       "      <th>2</th>\n",
       "      <td>Skoda Fabia</td>\n",
       "      <td>Skoda</td>\n",
       "      <td>2011</td>\n",
       "      <td>10</td>\n",
       "      <td>51000</td>\n",
       "      <td>Petrol</td>\n",
       "      <td>Manual</td>\n",
       "      <td>4190</td>\n",
       "    </tr>\n",
       "    <tr>\n",
       "      <th>3</th>\n",
       "      <td>Nissan NV200</td>\n",
       "      <td>Nissan</td>\n",
       "      <td>2010</td>\n",
       "      <td>11</td>\n",
       "      <td>107000</td>\n",
       "      <td>Diesel</td>\n",
       "      <td>Manual</td>\n",
       "      <td>4690</td>\n",
       "    </tr>\n",
       "    <tr>\n",
       "      <th>4</th>\n",
       "      <td>Ford Transit</td>\n",
       "      <td>Ford</td>\n",
       "      <td>2005</td>\n",
       "      <td>16</td>\n",
       "      <td>93949</td>\n",
       "      <td>Diesel</td>\n",
       "      <td>Manual</td>\n",
       "      <td>3995</td>\n",
       "    </tr>\n",
       "  </tbody>\n",
       "</table>\n",
       "</div>"
      ],
      "text/plain": [
       "               name manufacturer  year  age  mileage  engine transmission  \\\n",
       "0   Volkswagen Polo   Volkswagen  2010   11    83000  Diesel       Manual   \n",
       "1  Volkswagen Caddy   Volkswagen  2011   10   160000  Diesel       Manual   \n",
       "2       Skoda Fabia        Skoda  2011   10    51000  Petrol       Manual   \n",
       "3      Nissan NV200       Nissan  2010   11   107000  Diesel       Manual   \n",
       "4      Ford Transit         Ford  2005   16    93949  Diesel       Manual   \n",
       "\n",
       "   price  \n",
       "0   3495  \n",
       "1   6495  \n",
       "2   4190  \n",
       "3   4690  \n",
       "4   3995  "
      ]
     },
     "execution_count": 179,
     "metadata": {},
     "output_type": "execute_result"
    }
   ],
   "source": [
    "df.head()"
   ]
  },
  {
   "cell_type": "markdown",
   "metadata": {},
   "source": [
    "thses are first 5 rows of the dataset."
   ]
  },
  {
   "cell_type": "code",
   "execution_count": 180,
   "metadata": {},
   "outputs": [
    {
     "data": {
      "text/html": [
       "<div>\n",
       "<style scoped>\n",
       "    .dataframe tbody tr th:only-of-type {\n",
       "        vertical-align: middle;\n",
       "    }\n",
       "\n",
       "    .dataframe tbody tr th {\n",
       "        vertical-align: top;\n",
       "    }\n",
       "\n",
       "    .dataframe thead th {\n",
       "        text-align: right;\n",
       "    }\n",
       "</style>\n",
       "<table border=\"1\" class=\"dataframe\">\n",
       "  <thead>\n",
       "    <tr style=\"text-align: right;\">\n",
       "      <th></th>\n",
       "      <th>year</th>\n",
       "      <th>age</th>\n",
       "      <th>mileage</th>\n",
       "      <th>price</th>\n",
       "    </tr>\n",
       "  </thead>\n",
       "  <tbody>\n",
       "    <tr>\n",
       "      <th>year</th>\n",
       "      <td>1.000000</td>\n",
       "      <td>-1.000000</td>\n",
       "      <td>-0.746760</td>\n",
       "      <td>0.634482</td>\n",
       "    </tr>\n",
       "    <tr>\n",
       "      <th>age</th>\n",
       "      <td>-1.000000</td>\n",
       "      <td>1.000000</td>\n",
       "      <td>0.746760</td>\n",
       "      <td>-0.634482</td>\n",
       "    </tr>\n",
       "    <tr>\n",
       "      <th>mileage</th>\n",
       "      <td>-0.746760</td>\n",
       "      <td>0.746760</td>\n",
       "      <td>1.000000</td>\n",
       "      <td>-0.500562</td>\n",
       "    </tr>\n",
       "    <tr>\n",
       "      <th>price</th>\n",
       "      <td>0.634482</td>\n",
       "      <td>-0.634482</td>\n",
       "      <td>-0.500562</td>\n",
       "      <td>1.000000</td>\n",
       "    </tr>\n",
       "  </tbody>\n",
       "</table>\n",
       "</div>"
      ],
      "text/plain": [
       "             year       age   mileage     price\n",
       "year     1.000000 -1.000000 -0.746760  0.634482\n",
       "age     -1.000000  1.000000  0.746760 -0.634482\n",
       "mileage -0.746760  0.746760  1.000000 -0.500562\n",
       "price    0.634482 -0.634482 -0.500562  1.000000"
      ]
     },
     "execution_count": 180,
     "metadata": {},
     "output_type": "execute_result"
    }
   ],
   "source": [
    "corr = df.corr()\n",
    "corr"
   ]
  },
  {
   "cell_type": "code",
   "execution_count": 181,
   "metadata": {},
   "outputs": [
    {
     "data": {
      "image/png": "[encoded data removed]",
      "text/plain": [
       "<Figure size 432x288 with 2 Axes>"
      ]
     },
     "metadata": {},
     "output_type": "display_data"
    }
   ],
   "source": [
    "sns.heatmap(corr, \n",
    "        xticklabels=corr.columns,\n",
    "        yticklabels=corr.columns, annot=True);"
   ]
  },
  {
   "cell_type": "code",
   "execution_count": 182,
   "metadata": {},
   "outputs": [
    {
     "data": {
      "image/png": "[encoded data removed]",
      "text/plain": [
       "<Figure size 1440x720 with 1 Axes>"
      ]
     },
     "metadata": {},
     "output_type": "display_data"
    }
   ],
   "source": [
    "fig = plt.figure(figsize=(20, 10))\n",
    "sns.countplot(df.manufacturer);\n",
    "plt.title(\"Distribution of car manufacturers\")\n",
    "plt.xticks(rotation=90)\n",
    "plt.savefig('distribution-of-car-manufacturers.png')"
   ]
  },
  {
   "cell_type": "markdown",
   "metadata": {},
   "source": [
    "This graph shows the total no. of cars manufactured by the car company."
   ]
  },
  {
   "cell_type": "code",
   "execution_count": 183,
   "metadata": {},
   "outputs": [
    {
     "data": {
      "text/plain": [
       "Ford             413\n",
       "Vauxhall         304\n",
       "Volkswagen       248\n",
       "Nissan           220\n",
       "Peugeot          169\n",
       "Audi             156\n",
       "Mercedes-Benz    144\n",
       "BMW              140\n",
       "Citroen          117\n",
       "Hyundai          116\n",
       "Honda            100\n",
       "Renault           95\n",
       "Toyota            94\n",
       "Skoda             89\n",
       "Kia               87\n",
       "Seat              72\n",
       "Fiat              68\n",
       "Mini              53\n",
       "Mazda             49\n",
       "Land-Rover        41\n",
       "Volvo             40\n",
       "Suzuki            33\n",
       "Dacia             28\n",
       "Mitsubishi        20\n",
       "Jaguar            19\n",
       "MG                11\n",
       "DS                 9\n",
       "Abarth             8\n",
       "Jeep               7\n",
       "Smart              5\n",
       "Isuzu              5\n",
       "Lexus              5\n",
       "SAAB               2\n",
       "Alfa-Romero        2\n",
       "Subaru             2\n",
       "Ssangyong          2\n",
       "CHRYSLER           1\n",
       "Porsche            1\n",
       "Infiniti           1\n",
       "Saab               1\n",
       "LEXUS              1\n",
       "SSANGYONG          1\n",
       "Name: manufacturer, dtype: int64"
      ]
     },
     "execution_count": 183,
     "metadata": {},
     "output_type": "execute_result"
    }
   ],
   "source": [
    "df.manufacturer.value_counts()"
   ]
  },
  {
   "cell_type": "markdown",
   "metadata": {},
   "source": [
    "this shows the total no. of cars manufactured by the various car company."
   ]
  },
  {
   "cell_type": "code",
   "execution_count": 184,
   "metadata": {},
   "outputs": [
    {
     "data": {
      "image/png": "[encoded data removed]",
      "text/plain": [
       "<Figure size 1440x720 with 1 Axes>"
      ]
     },
     "metadata": {},
     "output_type": "display_data"
    }
   ],
   "source": [
    "fig = plt.figure(figsize=(20,10))\n",
    "sns.countplot(df.year)\n",
    "plt.title(\"Distribution of cars by year\")\n",
    "plt.xticks(rotation=90);\n",
    "plt.savefig('distribution-of-car-by-year.png')"
   ]
  },
  {
   "cell_type": "markdown",
   "metadata": {},
   "source": [
    "this shows the total no. of cars over the years."
   ]
  },
  {
   "cell_type": "code",
   "execution_count": 185,
   "metadata": {},
   "outputs": [
    {
     "data": {
      "text/plain": [
       "Text(0.5, 1.0, 'Distribution of `the years')"
      ]
     },
     "execution_count": 185,
     "metadata": {},
     "output_type": "execute_result"
    },
    {
     "data": {
      "image/png": "[encoded data removed]",
      "text/plain": [
       "<Figure size 1440x720 with 1 Axes>"
      ]
     },
     "metadata": {},
     "output_type": "display_data"
    }
   ],
   "source": [
    "fig = plt.figure(figsize=(20,10))\n",
    "sns.histplot(data = df, x = 'year', kde = True)\n",
    "plt.title(\"Distribution of `the years\")"
   ]
  },
  {
   "cell_type": "markdown",
   "metadata": {},
   "source": [
    "this graph shows the distribution of cars as per year wise collection."
   ]
  },
  {
   "cell_type": "code",
   "execution_count": 186,
   "metadata": {},
   "outputs": [
    {
     "data": {
      "text/plain": [
       "2018    613\n",
       "2019    493\n",
       "2017    392\n",
       "2016    277\n",
       "2020    272\n",
       "2015    197\n",
       "2014    170\n",
       "2021    131\n",
       "2013    120\n",
       "2012     97\n",
       "2011     68\n",
       "2010     52\n",
       "2009     38\n",
       "2008     28\n",
       "2007     17\n",
       "2006      7\n",
       "2005      4\n",
       "2003      1\n",
       "2004      1\n",
       "2000      1\n",
       "Name: year, dtype: int64"
      ]
     },
     "execution_count": 186,
     "metadata": {},
     "output_type": "execute_result"
    }
   ],
   "source": [
    "df.year.value_counts()"
   ]
  },
  {
   "cell_type": "markdown",
   "metadata": {},
   "source": [
    "this shows the  no. of cars produced in each year."
   ]
  },
  {
   "cell_type": "code",
   "execution_count": 187,
   "metadata": {},
   "outputs": [
    {
     "data": {
      "image/png": "[encoded data removed]",
      "text/plain": [
       "<Figure size 1152x576 with 1 Axes>"
      ]
     },
     "metadata": {},
     "output_type": "display_data"
    }
   ],
   "source": [
    "fig = plt.figure(figsize=(16, 8))\n",
    "sns.countplot(df.engine);\n",
    "plt.title(\"Distribution of car engine type\")\n",
    "plt.xticks(rotation=90);\n",
    "plt.savefig('distribution-of-car-engine-type.png')"
   ]
  },
  {
   "cell_type": "markdown",
   "metadata": {},
   "source": [
    "this graph shows the engine wise total no. of cars produced."
   ]
  },
  {
   "cell_type": "code",
   "execution_count": 188,
   "metadata": {},
   "outputs": [
    {
     "data": {
      "text/plain": [
       "Petrol                  1832\n",
       "Diesel                  1039\n",
       "Hybrid                    66\n",
       "Electric                  27\n",
       "Plug_in_hybrid             8\n",
       "Petrol/plugin elec h       2\n",
       "Petrol/electric hybr       1\n",
       "Diesel hybrid              1\n",
       "Petrol plugin hybrid       1\n",
       "Hybrid electric            1\n",
       "Unlisted                   1\n",
       "Name: engine, dtype: int64"
      ]
     },
     "execution_count": 188,
     "metadata": {},
     "output_type": "execute_result"
    }
   ],
   "source": [
    "df.engine.value_counts()"
   ]
  },
  {
   "cell_type": "code",
   "execution_count": 189,
   "metadata": {},
   "outputs": [
    {
     "data": {
      "image/png": "[encoded data removed]",
      "text/plain": [
       "<Figure size 576x360 with 1 Axes>"
      ]
     },
     "metadata": {},
     "output_type": "display_data"
    }
   ],
   "source": [
    "fig = plt.figure(figsize=(8, 5))\n",
    "sns.countplot(df.transmission);\n",
    "plt.title(\"Distribution of car transmissions\")\n",
    "plt.xticks(rotation=90);\n",
    "plt.savefig('distribution-of-car-transmission.png')"
   ]
  },
  {
   "cell_type": "markdown",
   "metadata": {},
   "source": [
    "this graph shows the total no. of cars produced by transmission."
   ]
  },
  {
   "cell_type": "code",
   "execution_count": 190,
   "metadata": {},
   "outputs": [
    {
     "data": {
      "text/plain": [
       "Manual           2070\n",
       "Automatic         643\n",
       "Semiautomatic     263\n",
       "Other               2\n",
       "Unlisted            1\n",
       "Name: transmission, dtype: int64"
      ]
     },
     "execution_count": 190,
     "metadata": {},
     "output_type": "execute_result"
    }
   ],
   "source": [
    "df.transmission.value_counts()"
   ]
  },
  {
   "cell_type": "code",
   "execution_count": 191,
   "metadata": {},
   "outputs": [
    {
     "data": {
      "text/html": [
       "<div>\n",
       "<style scoped>\n",
       "    .dataframe tbody tr th:only-of-type {\n",
       "        vertical-align: middle;\n",
       "    }\n",
       "\n",
       "    .dataframe tbody tr th {\n",
       "        vertical-align: top;\n",
       "    }\n",
       "\n",
       "    .dataframe thead th {\n",
       "        text-align: right;\n",
       "    }\n",
       "</style>\n",
       "<table border=\"1\" class=\"dataframe\">\n",
       "  <thead>\n",
       "    <tr style=\"text-align: right;\">\n",
       "      <th></th>\n",
       "      <th>price</th>\n",
       "    </tr>\n",
       "    <tr>\n",
       "      <th>manufacturer</th>\n",
       "      <th></th>\n",
       "    </tr>\n",
       "  </thead>\n",
       "  <tbody>\n",
       "    <tr>\n",
       "      <th>Porsche</th>\n",
       "      <td>24000.000000</td>\n",
       "    </tr>\n",
       "    <tr>\n",
       "      <th>Ssangyong</th>\n",
       "      <td>23424.500000</td>\n",
       "    </tr>\n",
       "    <tr>\n",
       "      <th>Mercedes-Benz</th>\n",
       "      <td>20162.493056</td>\n",
       "    </tr>\n",
       "    <tr>\n",
       "      <th>Jeep</th>\n",
       "      <td>19795.857143</td>\n",
       "    </tr>\n",
       "    <tr>\n",
       "      <th>Land-Rover</th>\n",
       "      <td>19179.829268</td>\n",
       "    </tr>\n",
       "    <tr>\n",
       "      <th>Isuzu</th>\n",
       "      <td>19060.600000</td>\n",
       "    </tr>\n",
       "    <tr>\n",
       "      <th>Volvo</th>\n",
       "      <td>18626.525000</td>\n",
       "    </tr>\n",
       "    <tr>\n",
       "      <th>Mitsubishi</th>\n",
       "      <td>18275.450000</td>\n",
       "    </tr>\n",
       "    <tr>\n",
       "      <th>Audi</th>\n",
       "      <td>18035.000000</td>\n",
       "    </tr>\n",
       "    <tr>\n",
       "      <th>BMW</th>\n",
       "      <td>17711.378571</td>\n",
       "    </tr>\n",
       "    <tr>\n",
       "      <th>Alfa-Romero</th>\n",
       "      <td>17660.000000</td>\n",
       "    </tr>\n",
       "    <tr>\n",
       "      <th>Lexus</th>\n",
       "      <td>17291.000000</td>\n",
       "    </tr>\n",
       "    <tr>\n",
       "      <th>Volkswagen</th>\n",
       "      <td>16768.479839</td>\n",
       "    </tr>\n",
       "    <tr>\n",
       "      <th>Jaguar</th>\n",
       "      <td>16280.947368</td>\n",
       "    </tr>\n",
       "    <tr>\n",
       "      <th>Skoda</th>\n",
       "      <td>15854.820225</td>\n",
       "    </tr>\n",
       "    <tr>\n",
       "      <th>Nissan</th>\n",
       "      <td>15687.500000</td>\n",
       "    </tr>\n",
       "    <tr>\n",
       "      <th>Honda</th>\n",
       "      <td>15450.790000</td>\n",
       "    </tr>\n",
       "    <tr>\n",
       "      <th>Ford</th>\n",
       "      <td>15396.769976</td>\n",
       "    </tr>\n",
       "    <tr>\n",
       "      <th>Seat</th>\n",
       "      <td>15324.916667</td>\n",
       "    </tr>\n",
       "    <tr>\n",
       "      <th>Mazda</th>\n",
       "      <td>15298.428571</td>\n",
       "    </tr>\n",
       "    <tr>\n",
       "      <th>Peugeot</th>\n",
       "      <td>15089.715976</td>\n",
       "    </tr>\n",
       "    <tr>\n",
       "      <th>Kia</th>\n",
       "      <td>14908.287356</td>\n",
       "    </tr>\n",
       "    <tr>\n",
       "      <th>Abarth</th>\n",
       "      <td>14799.875000</td>\n",
       "    </tr>\n",
       "    <tr>\n",
       "      <th>Suzuki</th>\n",
       "      <td>14736.000000</td>\n",
       "    </tr>\n",
       "    <tr>\n",
       "      <th>MG</th>\n",
       "      <td>14442.454545</td>\n",
       "    </tr>\n",
       "    <tr>\n",
       "      <th>Hyundai</th>\n",
       "      <td>14200.250000</td>\n",
       "    </tr>\n",
       "    <tr>\n",
       "      <th>Mini</th>\n",
       "      <td>13937.566038</td>\n",
       "    </tr>\n",
       "    <tr>\n",
       "      <th>Infiniti</th>\n",
       "      <td>12950.000000</td>\n",
       "    </tr>\n",
       "    <tr>\n",
       "      <th>Renault</th>\n",
       "      <td>12842.126316</td>\n",
       "    </tr>\n",
       "    <tr>\n",
       "      <th>Subaru</th>\n",
       "      <td>12195.000000</td>\n",
       "    </tr>\n",
       "    <tr>\n",
       "      <th>Toyota</th>\n",
       "      <td>12015.670213</td>\n",
       "    </tr>\n",
       "    <tr>\n",
       "      <th>LEXUS</th>\n",
       "      <td>11990.000000</td>\n",
       "    </tr>\n",
       "    <tr>\n",
       "      <th>Vauxhall</th>\n",
       "      <td>11647.937500</td>\n",
       "    </tr>\n",
       "    <tr>\n",
       "      <th>Dacia</th>\n",
       "      <td>11615.535714</td>\n",
       "    </tr>\n",
       "    <tr>\n",
       "      <th>DS</th>\n",
       "      <td>11270.222222</td>\n",
       "    </tr>\n",
       "    <tr>\n",
       "      <th>Citroen</th>\n",
       "      <td>11232.547009</td>\n",
       "    </tr>\n",
       "    <tr>\n",
       "      <th>Fiat</th>\n",
       "      <td>9090.161765</td>\n",
       "    </tr>\n",
       "    <tr>\n",
       "      <th>Smart</th>\n",
       "      <td>7177.600000</td>\n",
       "    </tr>\n",
       "    <tr>\n",
       "      <th>SSANGYONG</th>\n",
       "      <td>6995.000000</td>\n",
       "    </tr>\n",
       "    <tr>\n",
       "      <th>SAAB</th>\n",
       "      <td>5245.000000</td>\n",
       "    </tr>\n",
       "    <tr>\n",
       "      <th>Saab</th>\n",
       "      <td>3495.000000</td>\n",
       "    </tr>\n",
       "    <tr>\n",
       "      <th>CHRYSLER</th>\n",
       "      <td>3195.000000</td>\n",
       "    </tr>\n",
       "  </tbody>\n",
       "</table>\n",
       "</div>"
      ],
      "text/plain": [
       "                      price\n",
       "manufacturer               \n",
       "Porsche        24000.000000\n",
       "Ssangyong      23424.500000\n",
       "Mercedes-Benz  20162.493056\n",
       "Jeep           19795.857143\n",
       "Land-Rover     19179.829268\n",
       "Isuzu          19060.600000\n",
       "Volvo          18626.525000\n",
       "Mitsubishi     18275.450000\n",
       "Audi           18035.000000\n",
       "BMW            17711.378571\n",
       "Alfa-Romero    17660.000000\n",
       "Lexus          17291.000000\n",
       "Volkswagen     16768.479839\n",
       "Jaguar         16280.947368\n",
       "Skoda          15854.820225\n",
       "Nissan         15687.500000\n",
       "Honda          15450.790000\n",
       "Ford           15396.769976\n",
       "Seat           15324.916667\n",
       "Mazda          15298.428571\n",
       "Peugeot        15089.715976\n",
       "Kia            14908.287356\n",
       "Abarth         14799.875000\n",
       "Suzuki         14736.000000\n",
       "MG             14442.454545\n",
       "Hyundai        14200.250000\n",
       "Mini           13937.566038\n",
       "Infiniti       12950.000000\n",
       "Renault        12842.126316\n",
       "Subaru         12195.000000\n",
       "Toyota         12015.670213\n",
       "LEXUS          11990.000000\n",
       "Vauxhall       11647.937500\n",
       "Dacia          11615.535714\n",
       "DS             11270.222222\n",
       "Citroen        11232.547009\n",
       "Fiat            9090.161765\n",
       "Smart           7177.600000\n",
       "SSANGYONG       6995.000000\n",
       "SAAB            5245.000000\n",
       "Saab            3495.000000\n",
       "CHRYSLER        3195.000000"
      ]
     },
     "execution_count": 191,
     "metadata": {},
     "output_type": "execute_result"
    }
   ],
   "source": [
    "pivot_table = df.pivot_table(values='price', index='manufacturer', aggfunc='mean')\n",
    "result = pivot_table.sort_values('price', ascending = False)\n",
    "result"
   ]
  },
  {
   "cell_type": "markdown",
   "metadata": {},
   "source": [
    "this table shows the avg. price as per car manufacturing companies."
   ]
  },
  {
   "cell_type": "code",
   "execution_count": 192,
   "metadata": {},
   "outputs": [
    {
     "data": {
      "text/plain": [
       "<AxesSubplot:xlabel='age', ylabel='price'>"
      ]
     },
     "execution_count": 192,
     "metadata": {},
     "output_type": "execute_result"
    },
    {
     "data": {
      "image/png": "[encoded data removed]",
      "text/plain": [
       "<Figure size 432x288 with 1 Axes>"
      ]
     },
     "metadata": {},
     "output_type": "display_data"
    }
   ],
   "source": [
    "sns.scatterplot(x='age', y='price', data=df)"
   ]
  },
  {
   "cell_type": "markdown",
   "metadata": {},
   "source": [
    "There is negative correlation between the age and prices of cars. As the age increases, the price reduces."
   ]
  },
  {
   "cell_type": "code",
   "execution_count": 193,
   "metadata": {},
   "outputs": [
    {
     "data": {
      "text/plain": [
       "<AxesSubplot:xlabel='mileage', ylabel='price'>"
      ]
     },
     "execution_count": 193,
     "metadata": {},
     "output_type": "execute_result"
    },
    {
     "data": {
      "image/png": "[encoded data removed]",
      "text/plain": [
       "<Figure size 432x288 with 1 Axes>"
      ]
     },
     "metadata": {},
     "output_type": "display_data"
    }
   ],
   "source": [
    "sns.scatterplot(x='mileage', y='price', data=df)"
   ]
  },
  {
   "cell_type": "markdown",
   "metadata": {},
   "source": [
    "There is negative correlation between the mileage and prices of the cars. As the number of miles travelled increases, the price reduces."
   ]
  },
  {
   "cell_type": "code",
   "execution_count": 194,
   "metadata": {},
   "outputs": [
    {
     "data": {
      "text/plain": [
       "<AxesSubplot:xlabel='mileage', ylabel='price'>"
      ]
     },
     "execution_count": 194,
     "metadata": {},
     "output_type": "execute_result"
    },
    {
     "data": {
      "image/png": "[encoded data removed]",
      "text/plain": [
       "<Figure size 432x288 with 1 Axes>"
      ]
     },
     "metadata": {},
     "output_type": "display_data"
    }
   ],
   "source": [
    "sns.scatterplot(x='mileage', y='price', data=df, hue = 'engine')"
   ]
  },
  {
   "cell_type": "markdown",
   "metadata": {},
   "source": [
    "There is negative correlation between the mileage and prices of the cars. As the number of miles travelled increases, the price reduces and also shows the engine wise classification of cars."
   ]
  },
  {
   "cell_type": "code",
   "execution_count": 195,
   "metadata": {},
   "outputs": [
    {
     "data": {
      "text/plain": [
       "<AxesSubplot:xlabel='age', ylabel='mileage'>"
      ]
     },
     "execution_count": 195,
     "metadata": {},
     "output_type": "execute_result"
    },
    {
     "data": {
      "image/png": "[encoded data removed]",
      "text/plain": [
       "<Figure size 432x288 with 1 Axes>"
      ]
     },
     "metadata": {},
     "output_type": "display_data"
    }
   ],
   "source": [
    "sns.scatterplot(x='age', y='mileage', data=df)"
   ]
  },
  {
   "cell_type": "markdown",
   "metadata": {},
   "source": [
    "There is a positive correlation between the mileage and age of the cars. the number of miles travelled increases with age."
   ]
  },
  {
   "cell_type": "code",
   "execution_count": 196,
   "metadata": {},
   "outputs": [
    {
     "data": {
      "text/plain": [
       "<AxesSubplot:xlabel='age', ylabel='mileage'>"
      ]
     },
     "execution_count": 196,
     "metadata": {},
     "output_type": "execute_result"
    },
    {
     "data": {
      "image/png": "[encoded data removed]",
      "text/plain": [
       "<Figure size 432x288 with 1 Axes>"
      ]
     },
     "metadata": {},
     "output_type": "display_data"
    }
   ],
   "source": [
    "sns.scatterplot(x='age', y='mileage', data=df, hue = 'engine')"
   ]
  },
  {
   "cell_type": "markdown",
   "metadata": {},
   "source": [
    "this also shows the engine wise positive correlation between age and mileage of cars."
   ]
  },
  {
   "cell_type": "code",
   "execution_count": 197,
   "metadata": {},
   "outputs": [
    {
     "data": {
      "text/plain": [
       "Text(0.5, 1.0, 'Box Plot of Age')"
      ]
     },
     "execution_count": 197,
     "metadata": {},
     "output_type": "execute_result"
    },
    {
     "data": {
      "image/png": "[encoded data removed]",
      "text/plain": [
       "<Figure size 432x288 with 1 Axes>"
      ]
     },
     "metadata": {},
     "output_type": "display_data"
    }
   ],
   "source": [
    "sns.boxplot(x='age', data = df)\n",
    "plt.title(\"Box Plot of Age\")"
   ]
  },
  {
   "cell_type": "markdown",
   "metadata": {},
   "source": [
    "There are still outliers in the data but it's fine.\n",
    "\n"
   ]
  },
  {
   "cell_type": "code",
   "execution_count": 198,
   "metadata": {},
   "outputs": [
    {
     "data": {
      "text/plain": [
       "Text(0.5, 1.0, 'Box Plot of Transmission vs Price')"
      ]
     },
     "execution_count": 198,
     "metadata": {},
     "output_type": "execute_result"
    },
    {
     "data": {
      "image/png": "[encoded data removed]",
      "text/plain": [
       "<Figure size 432x288 with 1 Axes>"
      ]
     },
     "metadata": {},
     "output_type": "display_data"
    }
   ],
   "source": [
    "sns.boxplot(x=\"transmission\", y=\"price\", data=df)\n",
    "plt.title(\"Box Plot of Transmission vs Price\")"
   ]
  },
  {
   "cell_type": "markdown",
   "metadata": {},
   "source": [
    "this shows price wise transmission of cars."
   ]
  },
  {
   "cell_type": "code",
   "execution_count": 202,
   "metadata": {},
   "outputs": [
    {
     "data": {
      "text/plain": [
       "Text(0.5, 1.0, 'Box Plot of Engine vs Price')"
      ]
     },
     "execution_count": 202,
     "metadata": {},
     "output_type": "execute_result"
    },
    {
     "data": {
      "image/png": "[encoded data removed]",
      "text/plain": [
       "<Figure size 1152x576 with 1 Axes>"
      ]
     },
     "metadata": {},
     "output_type": "display_data"
    }
   ],
   "source": [
    "fig = plt.figure(figsize=(16, 8))\n",
    "sns.boxplot(x=\"engine\", y=\"price\", data=df)\n",
    "plt.title(\"Box Plot of Engine vs Price\")"
   ]
  },
  {
   "cell_type": "markdown",
   "metadata": {},
   "source": [
    "this shows the engine wise price pof the cars."
   ]
  },
  {
   "cell_type": "code",
   "execution_count": 200,
   "metadata": {},
   "outputs": [],
   "source": [
    "from wordcloud import WordCloud, STOPWORDS"
   ]
  },
  {
   "cell_type": "code",
   "execution_count": 201,
   "metadata": {},
   "outputs": [
    {
     "data": {
      "image/png": "[encoded data removed]",
      "text/plain": [
       "<Figure size 576x288 with 1 Axes>"
      ]
     },
     "metadata": {},
     "output_type": "display_data"
    }
   ],
   "source": [
    "plt.subplots(figsize=(8,4))\n",
    "wordcloud = WordCloud(background_color='White',width=1920,height=1080).generate(\" \".join(df['manufacturer']))\n",
    "plt.imshow(wordcloud, interpolation='bilinear')\n",
    "plt.axis('off')\n",
    "plt.savefig('cast.png')\n",
    "plt.show()"
   ]
  },
  {
   "cell_type": "markdown",
   "metadata": {},
   "source": [
    "This shows the cars manufacturing campany names by using stop words and word cloud."
   ]
  },
  {
   "cell_type": "code",
   "execution_count": 205,
   "metadata": {},
   "outputs": [
    {
     "name": "stdout",
     "output_type": "stream",
     "text": [
      "Collecting lightgbmNote: you may need to restart the kernel to use updated packages.\n",
      "  Downloading lightgbm-3.2.1-py3-none-win_amd64.whl (1.0 MB)\n",
      "Requirement already satisfied: numpy in c:\\users\\hp\\anaconda3\\lib\\site-packages (from lightgbm) (1.19.2)\n",
      "\n",
      "Requirement already satisfied: scikit-learn!=0.22.0 in c:\\users\\hp\\anaconda3\\lib\\site-packages (from lightgbm) (0.23.2)\n",
      "Requirement already satisfied: scipy in c:\\users\\hp\\anaconda3\\lib\\site-packages (from lightgbm) (1.5.2)\n",
      "Requirement already satisfied: wheel in c:\\users\\hp\\anaconda3\\lib\\site-packages (from lightgbm) (0.35.1)\n",
      "Requirement already satisfied: threadpoolctl>=2.0.0 in c:\\users\\hp\\anaconda3\\lib\\site-packages (from scikit-learn!=0.22.0->lightgbm) (2.1.0)\n",
      "Requirement already satisfied: joblib>=0.11 in c:\\users\\hp\\anaconda3\\lib\\site-packages (from scikit-learn!=0.22.0->lightgbm) (0.17.0)\n",
      "Installing collected packages: lightgbm\n",
      "Successfully installed lightgbm-3.2.1\n"
     ]
    }
   ],
   "source": [
    "pip install lightgbm"
   ]
  },
  {
   "cell_type": "code",
   "execution_count": 206,
   "metadata": {},
   "outputs": [
    {
     "name": "stdout",
     "output_type": "stream",
     "text": [
      "Collecting xgboost\n",
      "  Downloading xgboost-1.4.2-py3-none-win_amd64.whl (97.8 MB)\n",
      "Requirement already satisfied: scipy in c:\\users\\hp\\anaconda3\\lib\\site-packages (from xgboost) (1.5.2)\n",
      "Requirement already satisfied: numpy in c:\\users\\hp\\anaconda3\\lib\\site-packages (from xgboost) (1.19.2)\n",
      "Installing collected packages: xgboost\n",
      "Successfully installed xgboost-1.4.2Note: you may need to restart the kernel to use updated packages.\n",
      "\n"
     ]
    }
   ],
   "source": [
    "pip install xgboost"
   ]
  },
  {
   "cell_type": "code",
   "execution_count": 207,
   "metadata": {},
   "outputs": [
    {
     "name": "stdout",
     "output_type": "stream",
     "text": [
      "Collecting catboost\n",
      "  Downloading catboost-1.0.0-cp38-none-win_amd64.whl (77.3 MB)\n",
      "Requirement already satisfied: pandas>=0.24.0 in c:\\users\\hp\\anaconda3\\lib\\site-packages (from catboost) (1.1.3)\n",
      "Requirement already satisfied: six in c:\\users\\hp\\anaconda3\\lib\\site-packages (from catboost) (1.15.0)\n",
      "Collecting graphviz\n",
      "  Downloading graphviz-0.17-py3-none-any.whl (18 kB)\n",
      "Requirement already satisfied: numpy>=1.16.0 in c:\\users\\hp\\anaconda3\\lib\\site-packages (from catboost) (1.19.2)\n",
      "Requirement already satisfied: scipy in c:\\users\\hp\\anaconda3\\lib\\site-packages (from catboost) (1.5.2)\n",
      "Requirement already satisfied: matplotlib in c:\\users\\hp\\anaconda3\\lib\\site-packages (from catboost) (3.3.2)\n",
      "Collecting plotly\n",
      "  Downloading plotly-5.3.1-py2.py3-none-any.whl (23.9 MB)\n",
      "Requirement already satisfied: python-dateutil>=2.7.3 in c:\\users\\hp\\anaconda3\\lib\\site-packages (from pandas>=0.24.0->catboost) (2.8.1)\n",
      "Requirement already satisfied: pytz>=2017.2 in c:\\users\\hp\\anaconda3\\lib\\site-packages (from pandas>=0.24.0->catboost) (2020.1)\n",
      "Requirement already satisfied: pillow>=6.2.0 in c:\\users\\hp\\anaconda3\\lib\\site-packages (from matplotlib->catboost) (8.0.1)\n",
      "Requirement already satisfied: cycler>=0.10 in c:\\users\\hp\\anaconda3\\lib\\site-packages (from matplotlib->catboost) (0.10.0)\n",
      "Requirement already satisfied: certifi>=2020.06.20 in c:\\users\\hp\\anaconda3\\lib\\site-packages (from matplotlib->catboost) (2020.6.20)\n",
      "Requirement already satisfied: kiwisolver>=1.0.1 in c:\\users\\hp\\anaconda3\\lib\\site-packages (from matplotlib->catboost) (1.3.0)\n",
      "Requirement already satisfied: pyparsing!=2.0.4,!=2.1.2,!=2.1.6,>=2.0.3 in c:\\users\\hp\\anaconda3\\lib\\site-packages (from matplotlib->catboost) (2.4.7)\n",
      "Collecting tenacity>=6.2.0\n",
      "  Downloading tenacity-8.0.1-py3-none-any.whl (24 kB)\n",
      "Installing collected packages: graphviz, tenacity, plotly, catboost\n",
      "Successfully installed catboost-1.0.0 graphviz-0.17 plotly-5.3.1 tenacity-8.0.1\n",
      "Note: you may need to restart the kernel to use updated packages.\n"
     ]
    }
   ],
   "source": [
    "pip install catboost"
   ]
  },
  {
   "cell_type": "code",
   "execution_count": 208,
   "metadata": {},
   "outputs": [],
   "source": [
    "import pandas as pd\n",
    "import numpy as np\n",
    "from sklearn.preprocessing import LabelEncoder\n",
    "from sklearn.model_selection import train_test_split, GridSearchCV\n",
    "from sklearn.preprocessing import MinMaxScaler\n",
    "from sklearn.ensemble import ExtraTreesRegressor\n",
    "from lightgbm import LGBMRegressor\n",
    "from xgboost import XGBRegressor\n",
    "from sklearn.ensemble import RandomForestRegressor\n",
    "from catboost import CatBoostRegressor\n",
    "from sklearn.metrics import mean_absolute_error, accuracy_score, mean_squared_error\n",
    "from sklearn import metrics\n",
    "import warnings\n",
    "warnings.filterwarnings('ignore')"
   ]
  },
  {
   "cell_type": "code",
   "execution_count": 209,
   "metadata": {},
   "outputs": [
    {
     "data": {
      "text/html": [
       "<div>\n",
       "<style scoped>\n",
       "    .dataframe tbody tr th:only-of-type {\n",
       "        vertical-align: middle;\n",
       "    }\n",
       "\n",
       "    .dataframe tbody tr th {\n",
       "        vertical-align: top;\n",
       "    }\n",
       "\n",
       "    .dataframe thead th {\n",
       "        text-align: right;\n",
       "    }\n",
       "</style>\n",
       "<table border=\"1\" class=\"dataframe\">\n",
       "  <thead>\n",
       "    <tr style=\"text-align: right;\">\n",
       "      <th></th>\n",
       "      <th>name</th>\n",
       "      <th>manufacturer</th>\n",
       "      <th>year</th>\n",
       "      <th>age</th>\n",
       "      <th>mileage</th>\n",
       "      <th>engine</th>\n",
       "      <th>transmission</th>\n",
       "      <th>price</th>\n",
       "    </tr>\n",
       "  </thead>\n",
       "  <tbody>\n",
       "    <tr>\n",
       "      <th>0</th>\n",
       "      <td>Volkswagen Polo</td>\n",
       "      <td>Volkswagen</td>\n",
       "      <td>2010</td>\n",
       "      <td>11</td>\n",
       "      <td>83000</td>\n",
       "      <td>Diesel</td>\n",
       "      <td>Manual</td>\n",
       "      <td>3495</td>\n",
       "    </tr>\n",
       "    <tr>\n",
       "      <th>1</th>\n",
       "      <td>Volkswagen Caddy</td>\n",
       "      <td>Volkswagen</td>\n",
       "      <td>2011</td>\n",
       "      <td>10</td>\n",
       "      <td>160000</td>\n",
       "      <td>Diesel</td>\n",
       "      <td>Manual</td>\n",
       "      <td>6495</td>\n",
       "    </tr>\n",
       "    <tr>\n",
       "      <th>2</th>\n",
       "      <td>Skoda Fabia</td>\n",
       "      <td>Skoda</td>\n",
       "      <td>2011</td>\n",
       "      <td>10</td>\n",
       "      <td>51000</td>\n",
       "      <td>Petrol</td>\n",
       "      <td>Manual</td>\n",
       "      <td>4190</td>\n",
       "    </tr>\n",
       "    <tr>\n",
       "      <th>3</th>\n",
       "      <td>Nissan NV200</td>\n",
       "      <td>Nissan</td>\n",
       "      <td>2010</td>\n",
       "      <td>11</td>\n",
       "      <td>107000</td>\n",
       "      <td>Diesel</td>\n",
       "      <td>Manual</td>\n",
       "      <td>4690</td>\n",
       "    </tr>\n",
       "    <tr>\n",
       "      <th>4</th>\n",
       "      <td>Ford Transit</td>\n",
       "      <td>Ford</td>\n",
       "      <td>2005</td>\n",
       "      <td>16</td>\n",
       "      <td>93949</td>\n",
       "      <td>Diesel</td>\n",
       "      <td>Manual</td>\n",
       "      <td>3995</td>\n",
       "    </tr>\n",
       "  </tbody>\n",
       "</table>\n",
       "</div>"
      ],
      "text/plain": [
       "               name manufacturer  year  age  mileage  engine transmission  \\\n",
       "0   Volkswagen Polo   Volkswagen  2010   11    83000  Diesel       Manual   \n",
       "1  Volkswagen Caddy   Volkswagen  2011   10   160000  Diesel       Manual   \n",
       "2       Skoda Fabia        Skoda  2011   10    51000  Petrol       Manual   \n",
       "3      Nissan NV200       Nissan  2010   11   107000  Diesel       Manual   \n",
       "4      Ford Transit         Ford  2005   16    93949  Diesel       Manual   \n",
       "\n",
       "   price  \n",
       "0   3495  \n",
       "1   6495  \n",
       "2   4190  \n",
       "3   4690  \n",
       "4   3995  "
      ]
     },
     "execution_count": 209,
     "metadata": {},
     "output_type": "execute_result"
    }
   ],
   "source": [
    "df = pd.read_csv('cleaned_car_df.csv')\n",
    "df.head()"
   ]
  },
  {
   "cell_type": "code",
   "execution_count": 210,
   "metadata": {},
   "outputs": [],
   "source": [
    "df = df.drop(['name', 'year'], axis=1)"
   ]
  },
  {
   "cell_type": "code",
   "execution_count": 211,
   "metadata": {},
   "outputs": [
    {
     "data": {
      "text/html": [
       "<div>\n",
       "<style scoped>\n",
       "    .dataframe tbody tr th:only-of-type {\n",
       "        vertical-align: middle;\n",
       "    }\n",
       "\n",
       "    .dataframe tbody tr th {\n",
       "        vertical-align: top;\n",
       "    }\n",
       "\n",
       "    .dataframe thead th {\n",
       "        text-align: right;\n",
       "    }\n",
       "</style>\n",
       "<table border=\"1\" class=\"dataframe\">\n",
       "  <thead>\n",
       "    <tr style=\"text-align: right;\">\n",
       "      <th></th>\n",
       "      <th>manufacturer</th>\n",
       "      <th>age</th>\n",
       "      <th>mileage</th>\n",
       "      <th>engine</th>\n",
       "      <th>transmission</th>\n",
       "      <th>price</th>\n",
       "    </tr>\n",
       "  </thead>\n",
       "  <tbody>\n",
       "    <tr>\n",
       "      <th>0</th>\n",
       "      <td>Volkswagen</td>\n",
       "      <td>11</td>\n",
       "      <td>83000</td>\n",
       "      <td>Diesel</td>\n",
       "      <td>Manual</td>\n",
       "      <td>3495</td>\n",
       "    </tr>\n",
       "    <tr>\n",
       "      <th>1</th>\n",
       "      <td>Volkswagen</td>\n",
       "      <td>10</td>\n",
       "      <td>160000</td>\n",
       "      <td>Diesel</td>\n",
       "      <td>Manual</td>\n",
       "      <td>6495</td>\n",
       "    </tr>\n",
       "    <tr>\n",
       "      <th>2</th>\n",
       "      <td>Skoda</td>\n",
       "      <td>10</td>\n",
       "      <td>51000</td>\n",
       "      <td>Petrol</td>\n",
       "      <td>Manual</td>\n",
       "      <td>4190</td>\n",
       "    </tr>\n",
       "    <tr>\n",
       "      <th>3</th>\n",
       "      <td>Nissan</td>\n",
       "      <td>11</td>\n",
       "      <td>107000</td>\n",
       "      <td>Diesel</td>\n",
       "      <td>Manual</td>\n",
       "      <td>4690</td>\n",
       "    </tr>\n",
       "    <tr>\n",
       "      <th>4</th>\n",
       "      <td>Ford</td>\n",
       "      <td>16</td>\n",
       "      <td>93949</td>\n",
       "      <td>Diesel</td>\n",
       "      <td>Manual</td>\n",
       "      <td>3995</td>\n",
       "    </tr>\n",
       "    <tr>\n",
       "      <th>...</th>\n",
       "      <td>...</td>\n",
       "      <td>...</td>\n",
       "      <td>...</td>\n",
       "      <td>...</td>\n",
       "      <td>...</td>\n",
       "      <td>...</td>\n",
       "    </tr>\n",
       "    <tr>\n",
       "      <th>2974</th>\n",
       "      <td>Citroen</td>\n",
       "      <td>8</td>\n",
       "      <td>71000</td>\n",
       "      <td>Diesel</td>\n",
       "      <td>Manual</td>\n",
       "      <td>4995</td>\n",
       "    </tr>\n",
       "    <tr>\n",
       "      <th>2975</th>\n",
       "      <td>BMW</td>\n",
       "      <td>9</td>\n",
       "      <td>108899</td>\n",
       "      <td>Diesel</td>\n",
       "      <td>Automatic</td>\n",
       "      <td>6690</td>\n",
       "    </tr>\n",
       "    <tr>\n",
       "      <th>2976</th>\n",
       "      <td>Audi</td>\n",
       "      <td>8</td>\n",
       "      <td>71700</td>\n",
       "      <td>Petrol</td>\n",
       "      <td>Semiautomatic</td>\n",
       "      <td>9995</td>\n",
       "    </tr>\n",
       "    <tr>\n",
       "      <th>2977</th>\n",
       "      <td>Audi</td>\n",
       "      <td>12</td>\n",
       "      <td>64787</td>\n",
       "      <td>Diesel</td>\n",
       "      <td>Automatic</td>\n",
       "      <td>11990</td>\n",
       "    </tr>\n",
       "    <tr>\n",
       "      <th>2978</th>\n",
       "      <td>Audi</td>\n",
       "      <td>10</td>\n",
       "      <td>106447</td>\n",
       "      <td>Diesel</td>\n",
       "      <td>Automatic</td>\n",
       "      <td>13490</td>\n",
       "    </tr>\n",
       "  </tbody>\n",
       "</table>\n",
       "<p>2979 rows × 6 columns</p>\n",
       "</div>"
      ],
      "text/plain": [
       "     manufacturer  age  mileage  engine   transmission  price\n",
       "0      Volkswagen   11    83000  Diesel         Manual   3495\n",
       "1      Volkswagen   10   160000  Diesel         Manual   6495\n",
       "2           Skoda   10    51000  Petrol         Manual   4190\n",
       "3          Nissan   11   107000  Diesel         Manual   4690\n",
       "4            Ford   16    93949  Diesel         Manual   3995\n",
       "...           ...  ...      ...     ...            ...    ...\n",
       "2974      Citroen    8    71000  Diesel         Manual   4995\n",
       "2975          BMW    9   108899  Diesel      Automatic   6690\n",
       "2976         Audi    8    71700  Petrol  Semiautomatic   9995\n",
       "2977         Audi   12    64787  Diesel      Automatic  11990\n",
       "2978         Audi   10   106447  Diesel      Automatic  13490\n",
       "\n",
       "[2979 rows x 6 columns]"
      ]
     },
     "execution_count": 211,
     "metadata": {},
     "output_type": "execute_result"
    }
   ],
   "source": [
    "df"
   ]
  },
  {
   "cell_type": "markdown",
   "metadata": {},
   "source": [
    "here we have removed the name and year columns with were irrelevant for model building."
   ]
  },
  {
   "cell_type": "code",
   "execution_count": 212,
   "metadata": {},
   "outputs": [
    {
     "data": {
      "text/plain": [
       "array(['Volkswagen', 'Skoda', 'Nissan', 'Ford', 'Citroen', 'Audi', 'Mini',\n",
       "       'Peugeot', 'Vauxhall', 'BMW', 'Toyota', 'Land-Rover',\n",
       "       'Mercedes-Benz', 'Honda', 'Mazda', 'DS', 'Infiniti', 'Volvo',\n",
       "       'Ssangyong', 'Mitsubishi', 'MG', 'Kia', 'Jaguar', 'Hyundai',\n",
       "       'Fiat', 'Alfa-Romero', 'Seat', 'Dacia', 'Renault', 'LEXUS',\n",
       "       'Isuzu', 'Suzuki', 'Abarth', 'Jeep', 'CHRYSLER', 'Subaru', 'Saab',\n",
       "       'Porsche', 'Lexus', 'SSANGYONG', 'SAAB', 'Smart'], dtype=object)"
      ]
     },
     "execution_count": 212,
     "metadata": {},
     "output_type": "execute_result"
    }
   ],
   "source": [
    "df['manufacturer'].unique()"
   ]
  },
  {
   "cell_type": "code",
   "execution_count": 214,
   "metadata": {},
   "outputs": [],
   "source": [
    "le_manufacturer = LabelEncoder()\n",
    "le_engine = LabelEncoder()\n",
    "le_transmission = LabelEncoder()"
   ]
  },
  {
   "cell_type": "code",
   "execution_count": 215,
   "metadata": {},
   "outputs": [],
   "source": [
    "df['manufacturer'] = le_manufacturer.fit_transform(df['manufacturer'])\n",
    "df['engine'] = le_engine.fit_transform(df['engine'])\n",
    "df['transmission'] = le_transmission.fit_transform(df['transmission'])"
   ]
  },
  {
   "cell_type": "code",
   "execution_count": 216,
   "metadata": {},
   "outputs": [
    {
     "data": {
      "text/html": [
       "<div>\n",
       "<style scoped>\n",
       "    .dataframe tbody tr th:only-of-type {\n",
       "        vertical-align: middle;\n",
       "    }\n",
       "\n",
       "    .dataframe tbody tr th {\n",
       "        vertical-align: top;\n",
       "    }\n",
       "\n",
       "    .dataframe thead th {\n",
       "        text-align: right;\n",
       "    }\n",
       "</style>\n",
       "<table border=\"1\" class=\"dataframe\">\n",
       "  <thead>\n",
       "    <tr style=\"text-align: right;\">\n",
       "      <th></th>\n",
       "      <th>manufacturer</th>\n",
       "      <th>age</th>\n",
       "      <th>mileage</th>\n",
       "      <th>engine</th>\n",
       "      <th>transmission</th>\n",
       "      <th>price</th>\n",
       "    </tr>\n",
       "  </thead>\n",
       "  <tbody>\n",
       "    <tr>\n",
       "      <th>0</th>\n",
       "      <td>40</td>\n",
       "      <td>11</td>\n",
       "      <td>83000</td>\n",
       "      <td>0</td>\n",
       "      <td>1</td>\n",
       "      <td>3495</td>\n",
       "    </tr>\n",
       "    <tr>\n",
       "      <th>1</th>\n",
       "      <td>40</td>\n",
       "      <td>10</td>\n",
       "      <td>160000</td>\n",
       "      <td>0</td>\n",
       "      <td>1</td>\n",
       "      <td>6495</td>\n",
       "    </tr>\n",
       "    <tr>\n",
       "      <th>2</th>\n",
       "      <td>33</td>\n",
       "      <td>10</td>\n",
       "      <td>51000</td>\n",
       "      <td>5</td>\n",
       "      <td>1</td>\n",
       "      <td>4190</td>\n",
       "    </tr>\n",
       "    <tr>\n",
       "      <th>3</th>\n",
       "      <td>25</td>\n",
       "      <td>11</td>\n",
       "      <td>107000</td>\n",
       "      <td>0</td>\n",
       "      <td>1</td>\n",
       "      <td>4690</td>\n",
       "    </tr>\n",
       "    <tr>\n",
       "      <th>4</th>\n",
       "      <td>9</td>\n",
       "      <td>16</td>\n",
       "      <td>93949</td>\n",
       "      <td>0</td>\n",
       "      <td>1</td>\n",
       "      <td>3995</td>\n",
       "    </tr>\n",
       "    <tr>\n",
       "      <th>5</th>\n",
       "      <td>5</td>\n",
       "      <td>11</td>\n",
       "      <td>46000</td>\n",
       "      <td>0</td>\n",
       "      <td>1</td>\n",
       "      <td>5985</td>\n",
       "    </tr>\n",
       "    <tr>\n",
       "      <th>6</th>\n",
       "      <td>2</td>\n",
       "      <td>9</td>\n",
       "      <td>138000</td>\n",
       "      <td>0</td>\n",
       "      <td>1</td>\n",
       "      <td>4499</td>\n",
       "    </tr>\n",
       "    <tr>\n",
       "      <th>7</th>\n",
       "      <td>2</td>\n",
       "      <td>11</td>\n",
       "      <td>103000</td>\n",
       "      <td>0</td>\n",
       "      <td>1</td>\n",
       "      <td>5999</td>\n",
       "    </tr>\n",
       "    <tr>\n",
       "      <th>8</th>\n",
       "      <td>23</td>\n",
       "      <td>6</td>\n",
       "      <td>47074</td>\n",
       "      <td>5</td>\n",
       "      <td>0</td>\n",
       "      <td>12495</td>\n",
       "    </tr>\n",
       "    <tr>\n",
       "      <th>9</th>\n",
       "      <td>9</td>\n",
       "      <td>10</td>\n",
       "      <td>97289</td>\n",
       "      <td>5</td>\n",
       "      <td>1</td>\n",
       "      <td>4495</td>\n",
       "    </tr>\n",
       "  </tbody>\n",
       "</table>\n",
       "</div>"
      ],
      "text/plain": [
       "   manufacturer  age  mileage  engine  transmission  price\n",
       "0            40   11    83000       0             1   3495\n",
       "1            40   10   160000       0             1   6495\n",
       "2            33   10    51000       5             1   4190\n",
       "3            25   11   107000       0             1   4690\n",
       "4             9   16    93949       0             1   3995\n",
       "5             5   11    46000       0             1   5985\n",
       "6             2    9   138000       0             1   4499\n",
       "7             2   11   103000       0             1   5999\n",
       "8            23    6    47074       5             0  12495\n",
       "9             9   10    97289       5             1   4495"
      ]
     },
     "execution_count": 216,
     "metadata": {},
     "output_type": "execute_result"
    }
   ],
   "source": [
    "df.head(10)"
   ]
  },
  {
   "cell_type": "code",
   "execution_count": 218,
   "metadata": {},
   "outputs": [],
   "source": [
    "X = df.drop('price', axis=1)\n",
    "y = np.log(df['price'])"
   ]
  },
  {
   "cell_type": "code",
   "execution_count": 219,
   "metadata": {},
   "outputs": [],
   "source": [
    "X_train, X_test, y_train, y_test = train_test_split(X, y, test_size=0.3, random_state=42)"
   ]
  },
  {
   "cell_type": "code",
   "execution_count": 220,
   "metadata": {},
   "outputs": [
    {
     "data": {
      "text/plain": [
       "((2085, 5), (894, 5), (2085,), (894,))"
      ]
     },
     "execution_count": 220,
     "metadata": {},
     "output_type": "execute_result"
    }
   ],
   "source": [
    "X_train.shape, X_test.shape, y_train.shape, y_test.shape"
   ]
  },
  {
   "cell_type": "code",
   "execution_count": 221,
   "metadata": {},
   "outputs": [
    {
     "name": "stdout",
     "output_type": "stream",
     "text": [
      "[[0.26829268 0.14285714 0.10823839 0.         0.33333333]\n",
      " [0.97560976 0.0952381  0.04240823 0.55555556 0.        ]\n",
      " [0.07317073 0.23809524 0.17282477 0.         1.        ]\n",
      " ...\n",
      " [0.97560976 0.04761905 0.09320319 0.55555556 1.        ]\n",
      " [0.2195122  0.14285714 0.15903335 0.         0.33333333]\n",
      " [0.95121951 0.23809524 0.41377743 0.         0.33333333]]\n",
      "\n",
      "\n",
      "[[0.56097561 0.28571429 0.08162959 0.55555556 0.33333333]\n",
      " [0.68292683 0.0952381  0.08989645 0.         0.33333333]\n",
      " [0.63414634 0.19047619 0.06685415 0.55555556 1.        ]\n",
      " ...\n",
      " [0.2195122  0.52380952 0.45953236 0.55555556 0.33333333]\n",
      " [0.24390244 0.0952381  0.05397683 0.55555556 0.        ]\n",
      " [0.95121951 0.28571429 0.24707663 0.55555556 0.33333333]]\n"
     ]
    }
   ],
   "source": [
    "# feature scale the X_train and X_test values\n",
    "\n",
    "norm = MinMaxScaler().fit(X_train)\n",
    "\n",
    "# transform training data\n",
    "X_train = norm.transform(X_train)\n",
    "\n",
    "# transform testing data\n",
    "X_test = norm.transform(X_test)\n",
    "\n",
    "print(X_train)\n",
    "print('\\n')\n",
    "print(X_test)"
   ]
  },
  {
   "cell_type": "code",
   "execution_count": 222,
   "metadata": {},
   "outputs": [
    {
     "data": {
      "text/plain": [
       "ExtraTreesRegressor(max_depth=45, n_estimators=400, random_state=123)"
      ]
     },
     "execution_count": 222,
     "metadata": {},
     "output_type": "execute_result"
    }
   ],
   "source": [
    "# Fitting extra trees regressor\n",
    "\n",
    "etr = ExtraTreesRegressor(random_state = 123 , max_depth = 45  , n_estimators = 400)\n",
    "etr.fit(X_train,y_train)"
   ]
  },
  {
   "cell_type": "code",
   "execution_count": 223,
   "metadata": {},
   "outputs": [
    {
     "data": {
      "text/plain": [
       "LGBMRegressor(learning_rate=0.01, max_bin=1200, n_estimators=1000,\n",
       "              num_leaves=750, random_state=123)"
      ]
     },
     "execution_count": 223,
     "metadata": {},
     "output_type": "execute_result"
    }
   ],
   "source": [
    "#Fitting light gbm model on the train data\n",
    "\n",
    "lgbm = LGBMRegressor(random_state = 123 ,  num_leaves = 750 , learning_rate = 0.01, max_bin = 1200 , n_estimators = 1000)\n",
    "lgbm.fit(X_train,y_train)"
   ]
  },
  {
   "cell_type": "code",
   "execution_count": 224,
   "metadata": {},
   "outputs": [
    {
     "data": {
      "text/plain": [
       "XGBRegressor(base_score=0.5, booster='gbtree', colsample_bylevel=1,\n",
       "             colsample_bynode=1, colsample_bytree=1, gamma=0, gpu_id=-1,\n",
       "             importance_type='gain', interaction_constraints='',\n",
       "             learning_rate=0.2, max_delta_step=0, max_depth=7,\n",
       "             min_child_weight=1, missing=nan, monotone_constraints='()',\n",
       "             n_estimators=1500, n_jobs=8, num_parallel_tree=1, random_state=123,\n",
       "             reg_alpha=0, reg_lambda=1, scale_pos_weight=1, subsample=1,\n",
       "             tree_method='exact', validate_parameters=1, verbosity=None)"
      ]
     },
     "execution_count": 224,
     "metadata": {},
     "output_type": "execute_result"
    }
   ],
   "source": [
    "#Fitting xgboost regressor model on the train data\n",
    "\n",
    "xgb = XGBRegressor(random_state = 123 , max_depth = 7 , learning_rate = 0.2 , n_estimators = 1500)\n",
    "xgb.fit(X_train,y_train)"
   ]
  },
  {
   "cell_type": "code",
   "execution_count": 225,
   "metadata": {},
   "outputs": [
    {
     "data": {
      "text/plain": [
       "RandomForestRegressor(max_depth=45, n_estimators=600, random_state=123)"
      ]
     },
     "execution_count": 225,
     "metadata": {},
     "output_type": "execute_result"
    }
   ],
   "source": [
    "#Fitting random forest regressor model on the train data\n",
    "\n",
    "rf = RandomForestRegressor(random_state = 123 , max_depth = 45 , n_estimators = 600)\n",
    "rf.fit(X_train,y_train)"
   ]
  },
  {
   "cell_type": "code",
   "execution_count": 226,
   "metadata": {},
   "outputs": [
    {
     "data": {
      "text/plain": [
       "<catboost.core.CatBoostRegressor at 0x2a77ad8cf70>"
      ]
     },
     "execution_count": 226,
     "metadata": {},
     "output_type": "execute_result"
    }
   ],
   "source": [
    "#Fitting catboost regressor model on the train data\n",
    "\n",
    "cat = CatBoostRegressor(random_state = 123  , max_depth = 14 )\n",
    "cat.fit(X_train,y_train, verbose = False)"
   ]
  },
  {
   "cell_type": "code",
   "execution_count": 227,
   "metadata": {},
   "outputs": [
    {
     "data": {
      "text/html": [
       "<div>\n",
       "<style scoped>\n",
       "    .dataframe tbody tr th:only-of-type {\n",
       "        vertical-align: middle;\n",
       "    }\n",
       "\n",
       "    .dataframe tbody tr th {\n",
       "        vertical-align: top;\n",
       "    }\n",
       "\n",
       "    .dataframe thead th {\n",
       "        text-align: right;\n",
       "    }\n",
       "</style>\n",
       "<table border=\"1\" class=\"dataframe\">\n",
       "  <thead>\n",
       "    <tr style=\"text-align: right;\">\n",
       "      <th></th>\n",
       "      <th>model</th>\n",
       "      <th>score</th>\n",
       "    </tr>\n",
       "  </thead>\n",
       "  <tbody>\n",
       "    <tr>\n",
       "      <th>0</th>\n",
       "      <td>ExtraTreesRegressor</td>\n",
       "      <td>0.999158</td>\n",
       "    </tr>\n",
       "    <tr>\n",
       "      <th>1</th>\n",
       "      <td>LGBMRegressor</td>\n",
       "      <td>0.905883</td>\n",
       "    </tr>\n",
       "    <tr>\n",
       "      <th>2</th>\n",
       "      <td>XGBRegressor</td>\n",
       "      <td>0.999025</td>\n",
       "    </tr>\n",
       "    <tr>\n",
       "      <th>3</th>\n",
       "      <td>RandomForestRegressor</td>\n",
       "      <td>0.959118</td>\n",
       "    </tr>\n",
       "    <tr>\n",
       "      <th>4</th>\n",
       "      <td>CatBoostRegressor</td>\n",
       "      <td>0.959854</td>\n",
       "    </tr>\n",
       "  </tbody>\n",
       "</table>\n",
       "</div>"
      ],
      "text/plain": [
       "                   model     score\n",
       "0    ExtraTreesRegressor  0.999158\n",
       "1          LGBMRegressor  0.905883\n",
       "2           XGBRegressor  0.999025\n",
       "3  RandomForestRegressor  0.959118\n",
       "4      CatBoostRegressor  0.959854"
      ]
     },
     "execution_count": 227,
     "metadata": {},
     "output_type": "execute_result"
    }
   ],
   "source": [
    "train_score = pd.DataFrame({\n",
    "    'model': ['ExtraTreesRegressor', 'LGBMRegressor', 'XGBRegressor', 'RandomForestRegressor', 'CatBoostRegressor'],\n",
    "    \n",
    "    'score': [etr.score(X_train, y_train), lgbm.score(X_train, y_train),\n",
    "                xgb.score(X_train, y_train) , rf.score(X_train, y_train),\n",
    "                cat.score(X_train, y_train)]\n",
    "    })\n",
    "train_score"
   ]
  },
  {
   "cell_type": "code",
   "execution_count": 228,
   "metadata": {},
   "outputs": [],
   "source": [
    "etr_pred = etr.predict(X_test)\n",
    "lgbm_pred = lgbm.predict(X_test)\n",
    "xgb_pred = xgb.predict(X_test)\n",
    "rf_pred = rf.predict(X_test)\n",
    "cat_pred = cat.predict(X_test)"
   ]
  },
  {
   "cell_type": "code",
   "execution_count": 229,
   "metadata": {},
   "outputs": [
    {
     "data": {
      "text/html": [
       "<div>\n",
       "<style scoped>\n",
       "    .dataframe tbody tr th:only-of-type {\n",
       "        vertical-align: middle;\n",
       "    }\n",
       "\n",
       "    .dataframe tbody tr th {\n",
       "        vertical-align: top;\n",
       "    }\n",
       "\n",
       "    .dataframe thead th {\n",
       "        text-align: right;\n",
       "    }\n",
       "</style>\n",
       "<table border=\"1\" class=\"dataframe\">\n",
       "  <thead>\n",
       "    <tr style=\"text-align: right;\">\n",
       "      <th></th>\n",
       "      <th>model</th>\n",
       "      <th>mae</th>\n",
       "      <th>mse</th>\n",
       "      <th>rmse</th>\n",
       "    </tr>\n",
       "  </thead>\n",
       "  <tbody>\n",
       "    <tr>\n",
       "      <th>0</th>\n",
       "      <td>ExtraTreesRegressor</td>\n",
       "      <td>0.232172</td>\n",
       "      <td>0.094566</td>\n",
       "      <td>0.307515</td>\n",
       "    </tr>\n",
       "    <tr>\n",
       "      <th>1</th>\n",
       "      <td>LGBMRegressor</td>\n",
       "      <td>0.210049</td>\n",
       "      <td>0.072385</td>\n",
       "      <td>0.269045</td>\n",
       "    </tr>\n",
       "    <tr>\n",
       "      <th>2</th>\n",
       "      <td>XGBRegressor</td>\n",
       "      <td>0.224785</td>\n",
       "      <td>0.082715</td>\n",
       "      <td>0.287602</td>\n",
       "    </tr>\n",
       "    <tr>\n",
       "      <th>3</th>\n",
       "      <td>RandomForestRegressor</td>\n",
       "      <td>0.215135</td>\n",
       "      <td>0.078738</td>\n",
       "      <td>0.280603</td>\n",
       "    </tr>\n",
       "    <tr>\n",
       "      <th>4</th>\n",
       "      <td>CatBoostRegressor</td>\n",
       "      <td>0.202530</td>\n",
       "      <td>0.069940</td>\n",
       "      <td>0.264462</td>\n",
       "    </tr>\n",
       "  </tbody>\n",
       "</table>\n",
       "</div>"
      ],
      "text/plain": [
       "                   model       mae       mse      rmse\n",
       "0    ExtraTreesRegressor  0.232172  0.094566  0.307515\n",
       "1          LGBMRegressor  0.210049  0.072385  0.269045\n",
       "2           XGBRegressor  0.224785  0.082715  0.287602\n",
       "3  RandomForestRegressor  0.215135  0.078738  0.280603\n",
       "4      CatBoostRegressor  0.202530  0.069940  0.264462"
      ]
     },
     "execution_count": 229,
     "metadata": {},
     "output_type": "execute_result"
    }
   ],
   "source": [
    "best_model = pd.DataFrame({\n",
    "    'model': ['ExtraTreesRegressor', 'LGBMRegressor', 'XGBRegressor', 'RandomForestRegressor', 'CatBoostRegressor'],\n",
    "    \n",
    "    'mae': [mean_absolute_error(y_test, etr_pred), mean_absolute_error(y_test, lgbm_pred),\n",
    "           mean_absolute_error(y_test, xgb_pred), mean_absolute_error(y_test, rf_pred),\n",
    "           mean_absolute_error(y_test, cat_pred)],\n",
    "    \n",
    "    'mse': [mean_squared_error(y_test, etr_pred), mean_squared_error(y_test, lgbm_pred),\n",
    "            mean_squared_error(y_test, xgb_pred), mean_squared_error(y_test, rf_pred),\n",
    "            mean_squared_error(y_test, cat_pred)],\n",
    "    \n",
    "    'rmse': [(np.sqrt(metrics.mean_squared_error(y_test, etr_pred))),(np.sqrt(metrics.mean_squared_error(y_test, lgbm_pred))),\n",
    "             (np.sqrt(metrics.mean_squared_error(y_test, xgb_pred))), (np.sqrt(metrics.mean_squared_error(y_test, rf_pred))),\n",
    "             (np.sqrt(metrics.mean_squared_error(y_test, cat_pred)))]\n",
    "})\n",
    "best_model"
   ]
  },
  {
   "cell_type": "markdown",
   "metadata": {},
   "source": [
    "The CatBoost Regressor has the lowest MAE and RMSE, so it is the chosen model."
   ]
  },
  {
   "cell_type": "code",
   "execution_count": 230,
   "metadata": {},
   "outputs": [],
   "source": [
    "grid = {'max_depth': [3,4,5],'n_estimators':[100, 200, 300]}\n",
    "model = GridSearchCV (estimator = cat, param_grid = grid, scoring ='neg_root_mean_squared_error', cv = 5)"
   ]
  },
  {
   "cell_type": "code",
   "execution_count": 231,
   "metadata": {},
   "outputs": [
    {
     "data": {
      "text/plain": [
       "GridSearchCV(cv=5,\n",
       "             estimator=<catboost.core.CatBoostRegressor object at 0x000002A77AD8CF70>,\n",
       "             param_grid={'max_depth': [3, 4, 5],\n",
       "                         'n_estimators': [100, 200, 300]},\n",
       "             scoring='neg_root_mean_squared_error')"
      ]
     },
     "execution_count": 231,
     "metadata": {},
     "output_type": "execute_result"
    }
   ],
   "source": [
    "model.fit(X_train,y_train, verbose = False)"
   ]
  },
  {
   "cell_type": "code",
   "execution_count": 232,
   "metadata": {},
   "outputs": [],
   "source": [
    "y_pred = model.predict(X_test)"
   ]
  },
  {
   "cell_type": "code",
   "execution_count": 233,
   "metadata": {},
   "outputs": [
    {
     "data": {
      "text/html": [
       "<div>\n",
       "<style scoped>\n",
       "    .dataframe tbody tr th:only-of-type {\n",
       "        vertical-align: middle;\n",
       "    }\n",
       "\n",
       "    .dataframe tbody tr th {\n",
       "        vertical-align: top;\n",
       "    }\n",
       "\n",
       "    .dataframe thead th {\n",
       "        text-align: right;\n",
       "    }\n",
       "</style>\n",
       "<table border=\"1\" class=\"dataframe\">\n",
       "  <thead>\n",
       "    <tr style=\"text-align: right;\">\n",
       "      <th></th>\n",
       "      <th>model</th>\n",
       "      <th>mae</th>\n",
       "      <th>mse</th>\n",
       "      <th>rmse</th>\n",
       "    </tr>\n",
       "  </thead>\n",
       "  <tbody>\n",
       "    <tr>\n",
       "      <th>0</th>\n",
       "      <td>CatBoost Regressor</td>\n",
       "      <td>0.200648</td>\n",
       "      <td>0.065071</td>\n",
       "      <td>0.25509</td>\n",
       "    </tr>\n",
       "  </tbody>\n",
       "</table>\n",
       "</div>"
      ],
      "text/plain": [
       "                model       mae       mse     rmse\n",
       "0  CatBoost Regressor  0.200648  0.065071  0.25509"
      ]
     },
     "execution_count": 233,
     "metadata": {},
     "output_type": "execute_result"
    }
   ],
   "source": [
    "grid_model = pd.DataFrame({\n",
    "    'model': ['CatBoost Regressor'],\n",
    "    'mae': [mean_absolute_error(y_test, y_pred)],\n",
    "    'mse': [mean_squared_error(y_test, y_pred)],\n",
    "    'rmse': [np.sqrt(metrics.mean_squared_error(y_test, y_pred))]\n",
    "    })\n",
    "grid_model"
   ]
  },
  {
   "cell_type": "markdown",
   "metadata": {},
   "source": [
    "# Make prediction for new data"
   ]
  },
  {
   "cell_type": "code",
   "execution_count": 234,
   "metadata": {},
   "outputs": [
    {
     "data": {
      "text/plain": [
       "array([['Mercedes-Benz', '2', '12340', 'Petrol', 'Automatic']],\n",
       "      dtype='<U13')"
      ]
     },
     "execution_count": 234,
     "metadata": {},
     "output_type": "execute_result"
    }
   ],
   "source": [
    "new_data = [['Mercedes-Benz', 2, 12340, 'Petrol', 'Automatic']]\n",
    "# convert to array\n",
    "new_data = np.array(new_data)\n",
    "new_data"
   ]
  },
  {
   "cell_type": "code",
   "execution_count": 235,
   "metadata": {},
   "outputs": [
    {
     "data": {
      "text/plain": [
       "array([['22', '2', '12340', '5', '0']], dtype='<U13')"
      ]
     },
     "execution_count": 235,
     "metadata": {},
     "output_type": "execute_result"
    }
   ],
   "source": [
    "new_data[:,0] = le_manufacturer.transform(new_data[:,0])\n",
    "new_data[:,3] = le_engine.transform(new_data[:,3])\n",
    "new_data[:,4] = le_transmission.transform(new_data[:,4])\n",
    "new_data"
   ]
  },
  {
   "cell_type": "code",
   "execution_count": 236,
   "metadata": {},
   "outputs": [
    {
     "data": {
      "text/plain": [
       "array([[0.53658537, 0.0952381 , 0.0616243 , 0.55555556, 0.        ]])"
      ]
     },
     "execution_count": 236,
     "metadata": {},
     "output_type": "execute_result"
    }
   ],
   "source": [
    "new_data = norm.transform(new_data)\n",
    "new_data"
   ]
  },
  {
   "cell_type": "code",
   "execution_count": 237,
   "metadata": {},
   "outputs": [
    {
     "name": "stdout",
     "output_type": "stream",
     "text": [
      "The estimated cost of the car is 23,048 pounds\n"
     ]
    }
   ],
   "source": [
    "# make predictions\n",
    "price = model.predict(new_data)\n",
    "# convert the price from log_price to actual price\n",
    "act_price = np.exp(price) + 1\n",
    "act_price = round(act_price[0])  # round to the neaarest pounds\n",
    "\n",
    "print(f\"The estimated cost of the car is {act_price:,} pounds\")"
   ]
  },
  {
   "cell_type": "code",
   "execution_count": null,
   "metadata": {},
   "outputs": [],
   "source": []
  }
 ],
 "metadata": {
  "kernelspec": {
   "display_name": "Python 3",
   "language": "python",
   "name": "python3"
  },
  "language_info": {
   "codemirror_mode": {
    "name": "ipython",
    "version": 3
   },
   "file_extension": ".py",
   "mimetype": "text/x-python",
   "name": "python",
   "nbconvert_exporter": "python",
   "pygments_lexer": "ipython3",
   "version": "3.8.5"
  }
 },
 "nbformat": 4,
 "nbformat_minor": 4
}
