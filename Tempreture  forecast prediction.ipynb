{
 "cells": [
  {
   "cell_type": "code",
   "execution_count": 517,
   "metadata": {},
   "outputs": [],
   "source": [
    "import pandas as pd\n",
    "import numpy as np\n",
    "import matplotlib.pyplot as plt\n",
    "import seaborn as sns"
   ]
  },
  {
   "cell_type": "code",
   "execution_count": 518,
   "metadata": {},
   "outputs": [],
   "source": [
    "df=pd.read_csv('temp_forecast.csv')"
   ]
  },
  {
   "cell_type": "code",
   "execution_count": 519,
   "metadata": {},
   "outputs": [
    {
     "data": {
      "text/html": [
       "<div>\n",
       "<style scoped>\n",
       "    .dataframe tbody tr th:only-of-type {\n",
       "        vertical-align: middle;\n",
       "    }\n",
       "\n",
       "    .dataframe tbody tr th {\n",
       "        vertical-align: top;\n",
       "    }\n",
       "\n",
       "    .dataframe thead th {\n",
       "        text-align: right;\n",
       "    }\n",
       "</style>\n",
       "<table border=\"1\" class=\"dataframe\">\n",
       "  <thead>\n",
       "    <tr style=\"text-align: right;\">\n",
       "      <th></th>\n",
       "      <th>station</th>\n",
       "      <th>Date</th>\n",
       "      <th>Present_Tmax</th>\n",
       "      <th>Present_Tmin</th>\n",
       "      <th>LDAPS_RHmin</th>\n",
       "      <th>LDAPS_RHmax</th>\n",
       "      <th>LDAPS_Tmax_lapse</th>\n",
       "      <th>LDAPS_Tmin_lapse</th>\n",
       "      <th>LDAPS_WS</th>\n",
       "      <th>LDAPS_LH</th>\n",
       "      <th>...</th>\n",
       "      <th>LDAPS_PPT2</th>\n",
       "      <th>LDAPS_PPT3</th>\n",
       "      <th>LDAPS_PPT4</th>\n",
       "      <th>lat</th>\n",
       "      <th>lon</th>\n",
       "      <th>DEM</th>\n",
       "      <th>Slope</th>\n",
       "      <th>Solar radiation</th>\n",
       "      <th>Next_Tmax</th>\n",
       "      <th>Next_Tmin</th>\n",
       "    </tr>\n",
       "  </thead>\n",
       "  <tbody>\n",
       "    <tr>\n",
       "      <th>0</th>\n",
       "      <td>1.0</td>\n",
       "      <td>30-06-2013</td>\n",
       "      <td>28.7</td>\n",
       "      <td>21.4</td>\n",
       "      <td>58.255688</td>\n",
       "      <td>91.116364</td>\n",
       "      <td>28.074101</td>\n",
       "      <td>23.006936</td>\n",
       "      <td>6.818887</td>\n",
       "      <td>69.451805</td>\n",
       "      <td>...</td>\n",
       "      <td>0.000000</td>\n",
       "      <td>0.000000</td>\n",
       "      <td>0.000000</td>\n",
       "      <td>37.6046</td>\n",
       "      <td>126.991</td>\n",
       "      <td>212.3350</td>\n",
       "      <td>2.785000</td>\n",
       "      <td>5992.895996</td>\n",
       "      <td>29.1</td>\n",
       "      <td>21.2</td>\n",
       "    </tr>\n",
       "    <tr>\n",
       "      <th>1</th>\n",
       "      <td>2.0</td>\n",
       "      <td>30-06-2013</td>\n",
       "      <td>31.9</td>\n",
       "      <td>21.6</td>\n",
       "      <td>52.263397</td>\n",
       "      <td>90.604721</td>\n",
       "      <td>29.850689</td>\n",
       "      <td>24.035009</td>\n",
       "      <td>5.691890</td>\n",
       "      <td>51.937448</td>\n",
       "      <td>...</td>\n",
       "      <td>0.000000</td>\n",
       "      <td>0.000000</td>\n",
       "      <td>0.000000</td>\n",
       "      <td>37.6046</td>\n",
       "      <td>127.032</td>\n",
       "      <td>44.7624</td>\n",
       "      <td>0.514100</td>\n",
       "      <td>5869.312500</td>\n",
       "      <td>30.5</td>\n",
       "      <td>22.5</td>\n",
       "    </tr>\n",
       "    <tr>\n",
       "      <th>2</th>\n",
       "      <td>3.0</td>\n",
       "      <td>30-06-2013</td>\n",
       "      <td>31.6</td>\n",
       "      <td>23.3</td>\n",
       "      <td>48.690479</td>\n",
       "      <td>83.973587</td>\n",
       "      <td>30.091292</td>\n",
       "      <td>24.565633</td>\n",
       "      <td>6.138224</td>\n",
       "      <td>20.573050</td>\n",
       "      <td>...</td>\n",
       "      <td>0.000000</td>\n",
       "      <td>0.000000</td>\n",
       "      <td>0.000000</td>\n",
       "      <td>37.5776</td>\n",
       "      <td>127.058</td>\n",
       "      <td>33.3068</td>\n",
       "      <td>0.266100</td>\n",
       "      <td>5863.555664</td>\n",
       "      <td>31.1</td>\n",
       "      <td>23.9</td>\n",
       "    </tr>\n",
       "    <tr>\n",
       "      <th>3</th>\n",
       "      <td>4.0</td>\n",
       "      <td>30-06-2013</td>\n",
       "      <td>32.0</td>\n",
       "      <td>23.4</td>\n",
       "      <td>58.239788</td>\n",
       "      <td>96.483688</td>\n",
       "      <td>29.704629</td>\n",
       "      <td>23.326177</td>\n",
       "      <td>5.650050</td>\n",
       "      <td>65.727144</td>\n",
       "      <td>...</td>\n",
       "      <td>0.000000</td>\n",
       "      <td>0.000000</td>\n",
       "      <td>0.000000</td>\n",
       "      <td>37.6450</td>\n",
       "      <td>127.022</td>\n",
       "      <td>45.7160</td>\n",
       "      <td>2.534800</td>\n",
       "      <td>5856.964844</td>\n",
       "      <td>31.7</td>\n",
       "      <td>24.3</td>\n",
       "    </tr>\n",
       "    <tr>\n",
       "      <th>4</th>\n",
       "      <td>5.0</td>\n",
       "      <td>30-06-2013</td>\n",
       "      <td>31.4</td>\n",
       "      <td>21.9</td>\n",
       "      <td>56.174095</td>\n",
       "      <td>90.155128</td>\n",
       "      <td>29.113934</td>\n",
       "      <td>23.486480</td>\n",
       "      <td>5.735004</td>\n",
       "      <td>107.965535</td>\n",
       "      <td>...</td>\n",
       "      <td>0.000000</td>\n",
       "      <td>0.000000</td>\n",
       "      <td>0.000000</td>\n",
       "      <td>37.5507</td>\n",
       "      <td>127.135</td>\n",
       "      <td>35.0380</td>\n",
       "      <td>0.505500</td>\n",
       "      <td>5859.552246</td>\n",
       "      <td>31.2</td>\n",
       "      <td>22.5</td>\n",
       "    </tr>\n",
       "    <tr>\n",
       "      <th>...</th>\n",
       "      <td>...</td>\n",
       "      <td>...</td>\n",
       "      <td>...</td>\n",
       "      <td>...</td>\n",
       "      <td>...</td>\n",
       "      <td>...</td>\n",
       "      <td>...</td>\n",
       "      <td>...</td>\n",
       "      <td>...</td>\n",
       "      <td>...</td>\n",
       "      <td>...</td>\n",
       "      <td>...</td>\n",
       "      <td>...</td>\n",
       "      <td>...</td>\n",
       "      <td>...</td>\n",
       "      <td>...</td>\n",
       "      <td>...</td>\n",
       "      <td>...</td>\n",
       "      <td>...</td>\n",
       "      <td>...</td>\n",
       "      <td>...</td>\n",
       "    </tr>\n",
       "    <tr>\n",
       "      <th>7747</th>\n",
       "      <td>23.0</td>\n",
       "      <td>30-08-2017</td>\n",
       "      <td>23.3</td>\n",
       "      <td>17.1</td>\n",
       "      <td>26.741310</td>\n",
       "      <td>78.869858</td>\n",
       "      <td>26.352081</td>\n",
       "      <td>18.775678</td>\n",
       "      <td>6.148918</td>\n",
       "      <td>72.058294</td>\n",
       "      <td>...</td>\n",
       "      <td>0.000000</td>\n",
       "      <td>0.000000</td>\n",
       "      <td>0.000000</td>\n",
       "      <td>37.5372</td>\n",
       "      <td>126.891</td>\n",
       "      <td>15.5876</td>\n",
       "      <td>0.155400</td>\n",
       "      <td>4443.313965</td>\n",
       "      <td>28.3</td>\n",
       "      <td>18.1</td>\n",
       "    </tr>\n",
       "    <tr>\n",
       "      <th>7748</th>\n",
       "      <td>24.0</td>\n",
       "      <td>30-08-2017</td>\n",
       "      <td>23.3</td>\n",
       "      <td>17.7</td>\n",
       "      <td>24.040634</td>\n",
       "      <td>77.294975</td>\n",
       "      <td>27.010193</td>\n",
       "      <td>18.733519</td>\n",
       "      <td>6.542819</td>\n",
       "      <td>47.241457</td>\n",
       "      <td>...</td>\n",
       "      <td>0.000000</td>\n",
       "      <td>0.000000</td>\n",
       "      <td>0.000000</td>\n",
       "      <td>37.5237</td>\n",
       "      <td>126.909</td>\n",
       "      <td>17.2956</td>\n",
       "      <td>0.222300</td>\n",
       "      <td>4438.373535</td>\n",
       "      <td>28.6</td>\n",
       "      <td>18.8</td>\n",
       "    </tr>\n",
       "    <tr>\n",
       "      <th>7749</th>\n",
       "      <td>25.0</td>\n",
       "      <td>30-08-2017</td>\n",
       "      <td>23.2</td>\n",
       "      <td>17.4</td>\n",
       "      <td>22.933014</td>\n",
       "      <td>77.243744</td>\n",
       "      <td>27.939516</td>\n",
       "      <td>18.522965</td>\n",
       "      <td>7.289264</td>\n",
       "      <td>9.090034</td>\n",
       "      <td>...</td>\n",
       "      <td>0.000000</td>\n",
       "      <td>0.000000</td>\n",
       "      <td>0.000000</td>\n",
       "      <td>37.5237</td>\n",
       "      <td>126.970</td>\n",
       "      <td>19.5844</td>\n",
       "      <td>0.271300</td>\n",
       "      <td>4451.345215</td>\n",
       "      <td>27.8</td>\n",
       "      <td>17.4</td>\n",
       "    </tr>\n",
       "    <tr>\n",
       "      <th>7750</th>\n",
       "      <td>NaN</td>\n",
       "      <td>NaN</td>\n",
       "      <td>20.0</td>\n",
       "      <td>11.3</td>\n",
       "      <td>19.794666</td>\n",
       "      <td>58.936283</td>\n",
       "      <td>17.624954</td>\n",
       "      <td>14.272646</td>\n",
       "      <td>2.882580</td>\n",
       "      <td>-13.603212</td>\n",
       "      <td>...</td>\n",
       "      <td>0.000000</td>\n",
       "      <td>0.000000</td>\n",
       "      <td>0.000000</td>\n",
       "      <td>37.4562</td>\n",
       "      <td>126.826</td>\n",
       "      <td>12.3700</td>\n",
       "      <td>0.098475</td>\n",
       "      <td>4329.520508</td>\n",
       "      <td>17.4</td>\n",
       "      <td>11.3</td>\n",
       "    </tr>\n",
       "    <tr>\n",
       "      <th>7751</th>\n",
       "      <td>NaN</td>\n",
       "      <td>NaN</td>\n",
       "      <td>37.6</td>\n",
       "      <td>29.9</td>\n",
       "      <td>98.524734</td>\n",
       "      <td>100.000153</td>\n",
       "      <td>38.542255</td>\n",
       "      <td>29.619342</td>\n",
       "      <td>21.857621</td>\n",
       "      <td>213.414006</td>\n",
       "      <td>...</td>\n",
       "      <td>21.621661</td>\n",
       "      <td>15.841235</td>\n",
       "      <td>16.655469</td>\n",
       "      <td>37.6450</td>\n",
       "      <td>127.135</td>\n",
       "      <td>212.3350</td>\n",
       "      <td>5.178230</td>\n",
       "      <td>5992.895996</td>\n",
       "      <td>38.9</td>\n",
       "      <td>29.8</td>\n",
       "    </tr>\n",
       "  </tbody>\n",
       "</table>\n",
       "<p>7752 rows × 25 columns</p>\n",
       "</div>"
      ],
      "text/plain": [
       "      station        Date  Present_Tmax  Present_Tmin  LDAPS_RHmin  \\\n",
       "0         1.0  30-06-2013          28.7          21.4    58.255688   \n",
       "1         2.0  30-06-2013          31.9          21.6    52.263397   \n",
       "2         3.0  30-06-2013          31.6          23.3    48.690479   \n",
       "3         4.0  30-06-2013          32.0          23.4    58.239788   \n",
       "4         5.0  30-06-2013          31.4          21.9    56.174095   \n",
       "...       ...         ...           ...           ...          ...   \n",
       "7747     23.0  30-08-2017          23.3          17.1    26.741310   \n",
       "7748     24.0  30-08-2017          23.3          17.7    24.040634   \n",
       "7749     25.0  30-08-2017          23.2          17.4    22.933014   \n",
       "7750      NaN         NaN          20.0          11.3    19.794666   \n",
       "7751      NaN         NaN          37.6          29.9    98.524734   \n",
       "\n",
       "      LDAPS_RHmax  LDAPS_Tmax_lapse  LDAPS_Tmin_lapse   LDAPS_WS    LDAPS_LH  \\\n",
       "0       91.116364         28.074101         23.006936   6.818887   69.451805   \n",
       "1       90.604721         29.850689         24.035009   5.691890   51.937448   \n",
       "2       83.973587         30.091292         24.565633   6.138224   20.573050   \n",
       "3       96.483688         29.704629         23.326177   5.650050   65.727144   \n",
       "4       90.155128         29.113934         23.486480   5.735004  107.965535   \n",
       "...           ...               ...               ...        ...         ...   \n",
       "7747    78.869858         26.352081         18.775678   6.148918   72.058294   \n",
       "7748    77.294975         27.010193         18.733519   6.542819   47.241457   \n",
       "7749    77.243744         27.939516         18.522965   7.289264    9.090034   \n",
       "7750    58.936283         17.624954         14.272646   2.882580  -13.603212   \n",
       "7751   100.000153         38.542255         29.619342  21.857621  213.414006   \n",
       "\n",
       "      ...  LDAPS_PPT2  LDAPS_PPT3  LDAPS_PPT4      lat      lon       DEM  \\\n",
       "0     ...    0.000000    0.000000    0.000000  37.6046  126.991  212.3350   \n",
       "1     ...    0.000000    0.000000    0.000000  37.6046  127.032   44.7624   \n",
       "2     ...    0.000000    0.000000    0.000000  37.5776  127.058   33.3068   \n",
       "3     ...    0.000000    0.000000    0.000000  37.6450  127.022   45.7160   \n",
       "4     ...    0.000000    0.000000    0.000000  37.5507  127.135   35.0380   \n",
       "...   ...         ...         ...         ...      ...      ...       ...   \n",
       "7747  ...    0.000000    0.000000    0.000000  37.5372  126.891   15.5876   \n",
       "7748  ...    0.000000    0.000000    0.000000  37.5237  126.909   17.2956   \n",
       "7749  ...    0.000000    0.000000    0.000000  37.5237  126.970   19.5844   \n",
       "7750  ...    0.000000    0.000000    0.000000  37.4562  126.826   12.3700   \n",
       "7751  ...   21.621661   15.841235   16.655469  37.6450  127.135  212.3350   \n",
       "\n",
       "         Slope  Solar radiation  Next_Tmax  Next_Tmin  \n",
       "0     2.785000      5992.895996       29.1       21.2  \n",
       "1     0.514100      5869.312500       30.5       22.5  \n",
       "2     0.266100      5863.555664       31.1       23.9  \n",
       "3     2.534800      5856.964844       31.7       24.3  \n",
       "4     0.505500      5859.552246       31.2       22.5  \n",
       "...        ...              ...        ...        ...  \n",
       "7747  0.155400      4443.313965       28.3       18.1  \n",
       "7748  0.222300      4438.373535       28.6       18.8  \n",
       "7749  0.271300      4451.345215       27.8       17.4  \n",
       "7750  0.098475      4329.520508       17.4       11.3  \n",
       "7751  5.178230      5992.895996       38.9       29.8  \n",
       "\n",
       "[7752 rows x 25 columns]"
      ]
     },
     "execution_count": 519,
     "metadata": {},
     "output_type": "execute_result"
    }
   ],
   "source": [
    "df"
   ]
  },
  {
   "cell_type": "markdown",
   "metadata": {},
   "source": [
    "we have 7752 rows and 25 columns in our dataset"
   ]
  },
  {
   "cell_type": "code",
   "execution_count": 520,
   "metadata": {},
   "outputs": [
    {
     "data": {
      "text/plain": [
       "(7752, 25)"
      ]
     },
     "execution_count": 520,
     "metadata": {},
     "output_type": "execute_result"
    }
   ],
   "source": [
    "df.shape"
   ]
  },
  {
   "cell_type": "markdown",
   "metadata": {},
   "source": [
    "we have 7752 rows and 25 columns"
   ]
  },
  {
   "cell_type": "code",
   "execution_count": 521,
   "metadata": {},
   "outputs": [
    {
     "data": {
      "text/html": [
       "<div>\n",
       "<style scoped>\n",
       "    .dataframe tbody tr th:only-of-type {\n",
       "        vertical-align: middle;\n",
       "    }\n",
       "\n",
       "    .dataframe tbody tr th {\n",
       "        vertical-align: top;\n",
       "    }\n",
       "\n",
       "    .dataframe thead th {\n",
       "        text-align: right;\n",
       "    }\n",
       "</style>\n",
       "<table border=\"1\" class=\"dataframe\">\n",
       "  <thead>\n",
       "    <tr style=\"text-align: right;\">\n",
       "      <th></th>\n",
       "      <th>station</th>\n",
       "      <th>Date</th>\n",
       "      <th>Present_Tmax</th>\n",
       "      <th>Present_Tmin</th>\n",
       "      <th>LDAPS_RHmin</th>\n",
       "      <th>LDAPS_RHmax</th>\n",
       "      <th>LDAPS_Tmax_lapse</th>\n",
       "      <th>LDAPS_Tmin_lapse</th>\n",
       "      <th>LDAPS_WS</th>\n",
       "      <th>LDAPS_LH</th>\n",
       "      <th>...</th>\n",
       "      <th>LDAPS_PPT2</th>\n",
       "      <th>LDAPS_PPT3</th>\n",
       "      <th>LDAPS_PPT4</th>\n",
       "      <th>lat</th>\n",
       "      <th>lon</th>\n",
       "      <th>DEM</th>\n",
       "      <th>Slope</th>\n",
       "      <th>Solar radiation</th>\n",
       "      <th>Next_Tmax</th>\n",
       "      <th>Next_Tmin</th>\n",
       "    </tr>\n",
       "  </thead>\n",
       "  <tbody>\n",
       "    <tr>\n",
       "      <th>0</th>\n",
       "      <td>1.0</td>\n",
       "      <td>30-06-2013</td>\n",
       "      <td>28.7</td>\n",
       "      <td>21.4</td>\n",
       "      <td>58.255688</td>\n",
       "      <td>91.116364</td>\n",
       "      <td>28.074101</td>\n",
       "      <td>23.006936</td>\n",
       "      <td>6.818887</td>\n",
       "      <td>69.451805</td>\n",
       "      <td>...</td>\n",
       "      <td>0.0</td>\n",
       "      <td>0.0</td>\n",
       "      <td>0.0</td>\n",
       "      <td>37.6046</td>\n",
       "      <td>126.991</td>\n",
       "      <td>212.3350</td>\n",
       "      <td>2.7850</td>\n",
       "      <td>5992.895996</td>\n",
       "      <td>29.1</td>\n",
       "      <td>21.2</td>\n",
       "    </tr>\n",
       "    <tr>\n",
       "      <th>1</th>\n",
       "      <td>2.0</td>\n",
       "      <td>30-06-2013</td>\n",
       "      <td>31.9</td>\n",
       "      <td>21.6</td>\n",
       "      <td>52.263397</td>\n",
       "      <td>90.604721</td>\n",
       "      <td>29.850689</td>\n",
       "      <td>24.035009</td>\n",
       "      <td>5.691890</td>\n",
       "      <td>51.937448</td>\n",
       "      <td>...</td>\n",
       "      <td>0.0</td>\n",
       "      <td>0.0</td>\n",
       "      <td>0.0</td>\n",
       "      <td>37.6046</td>\n",
       "      <td>127.032</td>\n",
       "      <td>44.7624</td>\n",
       "      <td>0.5141</td>\n",
       "      <td>5869.312500</td>\n",
       "      <td>30.5</td>\n",
       "      <td>22.5</td>\n",
       "    </tr>\n",
       "    <tr>\n",
       "      <th>2</th>\n",
       "      <td>3.0</td>\n",
       "      <td>30-06-2013</td>\n",
       "      <td>31.6</td>\n",
       "      <td>23.3</td>\n",
       "      <td>48.690479</td>\n",
       "      <td>83.973587</td>\n",
       "      <td>30.091292</td>\n",
       "      <td>24.565633</td>\n",
       "      <td>6.138224</td>\n",
       "      <td>20.573050</td>\n",
       "      <td>...</td>\n",
       "      <td>0.0</td>\n",
       "      <td>0.0</td>\n",
       "      <td>0.0</td>\n",
       "      <td>37.5776</td>\n",
       "      <td>127.058</td>\n",
       "      <td>33.3068</td>\n",
       "      <td>0.2661</td>\n",
       "      <td>5863.555664</td>\n",
       "      <td>31.1</td>\n",
       "      <td>23.9</td>\n",
       "    </tr>\n",
       "    <tr>\n",
       "      <th>3</th>\n",
       "      <td>4.0</td>\n",
       "      <td>30-06-2013</td>\n",
       "      <td>32.0</td>\n",
       "      <td>23.4</td>\n",
       "      <td>58.239788</td>\n",
       "      <td>96.483688</td>\n",
       "      <td>29.704629</td>\n",
       "      <td>23.326177</td>\n",
       "      <td>5.650050</td>\n",
       "      <td>65.727144</td>\n",
       "      <td>...</td>\n",
       "      <td>0.0</td>\n",
       "      <td>0.0</td>\n",
       "      <td>0.0</td>\n",
       "      <td>37.6450</td>\n",
       "      <td>127.022</td>\n",
       "      <td>45.7160</td>\n",
       "      <td>2.5348</td>\n",
       "      <td>5856.964844</td>\n",
       "      <td>31.7</td>\n",
       "      <td>24.3</td>\n",
       "    </tr>\n",
       "    <tr>\n",
       "      <th>4</th>\n",
       "      <td>5.0</td>\n",
       "      <td>30-06-2013</td>\n",
       "      <td>31.4</td>\n",
       "      <td>21.9</td>\n",
       "      <td>56.174095</td>\n",
       "      <td>90.155128</td>\n",
       "      <td>29.113934</td>\n",
       "      <td>23.486480</td>\n",
       "      <td>5.735004</td>\n",
       "      <td>107.965535</td>\n",
       "      <td>...</td>\n",
       "      <td>0.0</td>\n",
       "      <td>0.0</td>\n",
       "      <td>0.0</td>\n",
       "      <td>37.5507</td>\n",
       "      <td>127.135</td>\n",
       "      <td>35.0380</td>\n",
       "      <td>0.5055</td>\n",
       "      <td>5859.552246</td>\n",
       "      <td>31.2</td>\n",
       "      <td>22.5</td>\n",
       "    </tr>\n",
       "  </tbody>\n",
       "</table>\n",
       "<p>5 rows × 25 columns</p>\n",
       "</div>"
      ],
      "text/plain": [
       "   station        Date  Present_Tmax  Present_Tmin  LDAPS_RHmin  LDAPS_RHmax  \\\n",
       "0      1.0  30-06-2013          28.7          21.4    58.255688    91.116364   \n",
       "1      2.0  30-06-2013          31.9          21.6    52.263397    90.604721   \n",
       "2      3.0  30-06-2013          31.6          23.3    48.690479    83.973587   \n",
       "3      4.0  30-06-2013          32.0          23.4    58.239788    96.483688   \n",
       "4      5.0  30-06-2013          31.4          21.9    56.174095    90.155128   \n",
       "\n",
       "   LDAPS_Tmax_lapse  LDAPS_Tmin_lapse  LDAPS_WS    LDAPS_LH  ...  LDAPS_PPT2  \\\n",
       "0         28.074101         23.006936  6.818887   69.451805  ...         0.0   \n",
       "1         29.850689         24.035009  5.691890   51.937448  ...         0.0   \n",
       "2         30.091292         24.565633  6.138224   20.573050  ...         0.0   \n",
       "3         29.704629         23.326177  5.650050   65.727144  ...         0.0   \n",
       "4         29.113934         23.486480  5.735004  107.965535  ...         0.0   \n",
       "\n",
       "   LDAPS_PPT3  LDAPS_PPT4      lat      lon       DEM   Slope  \\\n",
       "0         0.0         0.0  37.6046  126.991  212.3350  2.7850   \n",
       "1         0.0         0.0  37.6046  127.032   44.7624  0.5141   \n",
       "2         0.0         0.0  37.5776  127.058   33.3068  0.2661   \n",
       "3         0.0         0.0  37.6450  127.022   45.7160  2.5348   \n",
       "4         0.0         0.0  37.5507  127.135   35.0380  0.5055   \n",
       "\n",
       "   Solar radiation  Next_Tmax  Next_Tmin  \n",
       "0      5992.895996       29.1       21.2  \n",
       "1      5869.312500       30.5       22.5  \n",
       "2      5863.555664       31.1       23.9  \n",
       "3      5856.964844       31.7       24.3  \n",
       "4      5859.552246       31.2       22.5  \n",
       "\n",
       "[5 rows x 25 columns]"
      ]
     },
     "execution_count": 521,
     "metadata": {},
     "output_type": "execute_result"
    }
   ],
   "source": [
    "df.head()"
   ]
  },
  {
   "cell_type": "markdown",
   "metadata": {},
   "source": [
    "we have first 5 rows from the dataset"
   ]
  },
  {
   "cell_type": "code",
   "execution_count": 522,
   "metadata": {},
   "outputs": [
    {
     "data": {
      "text/html": [
       "<div>\n",
       "<style scoped>\n",
       "    .dataframe tbody tr th:only-of-type {\n",
       "        vertical-align: middle;\n",
       "    }\n",
       "\n",
       "    .dataframe tbody tr th {\n",
       "        vertical-align: top;\n",
       "    }\n",
       "\n",
       "    .dataframe thead th {\n",
       "        text-align: right;\n",
       "    }\n",
       "</style>\n",
       "<table border=\"1\" class=\"dataframe\">\n",
       "  <thead>\n",
       "    <tr style=\"text-align: right;\">\n",
       "      <th></th>\n",
       "      <th>station</th>\n",
       "      <th>Date</th>\n",
       "      <th>Present_Tmax</th>\n",
       "      <th>Present_Tmin</th>\n",
       "      <th>LDAPS_RHmin</th>\n",
       "      <th>LDAPS_RHmax</th>\n",
       "      <th>LDAPS_Tmax_lapse</th>\n",
       "      <th>LDAPS_Tmin_lapse</th>\n",
       "      <th>LDAPS_WS</th>\n",
       "      <th>LDAPS_LH</th>\n",
       "      <th>...</th>\n",
       "      <th>LDAPS_PPT2</th>\n",
       "      <th>LDAPS_PPT3</th>\n",
       "      <th>LDAPS_PPT4</th>\n",
       "      <th>lat</th>\n",
       "      <th>lon</th>\n",
       "      <th>DEM</th>\n",
       "      <th>Slope</th>\n",
       "      <th>Solar radiation</th>\n",
       "      <th>Next_Tmax</th>\n",
       "      <th>Next_Tmin</th>\n",
       "    </tr>\n",
       "  </thead>\n",
       "  <tbody>\n",
       "    <tr>\n",
       "      <th>7747</th>\n",
       "      <td>23.0</td>\n",
       "      <td>30-08-2017</td>\n",
       "      <td>23.3</td>\n",
       "      <td>17.1</td>\n",
       "      <td>26.741310</td>\n",
       "      <td>78.869858</td>\n",
       "      <td>26.352081</td>\n",
       "      <td>18.775678</td>\n",
       "      <td>6.148918</td>\n",
       "      <td>72.058294</td>\n",
       "      <td>...</td>\n",
       "      <td>0.000000</td>\n",
       "      <td>0.000000</td>\n",
       "      <td>0.000000</td>\n",
       "      <td>37.5372</td>\n",
       "      <td>126.891</td>\n",
       "      <td>15.5876</td>\n",
       "      <td>0.155400</td>\n",
       "      <td>4443.313965</td>\n",
       "      <td>28.3</td>\n",
       "      <td>18.1</td>\n",
       "    </tr>\n",
       "    <tr>\n",
       "      <th>7748</th>\n",
       "      <td>24.0</td>\n",
       "      <td>30-08-2017</td>\n",
       "      <td>23.3</td>\n",
       "      <td>17.7</td>\n",
       "      <td>24.040634</td>\n",
       "      <td>77.294975</td>\n",
       "      <td>27.010193</td>\n",
       "      <td>18.733519</td>\n",
       "      <td>6.542819</td>\n",
       "      <td>47.241457</td>\n",
       "      <td>...</td>\n",
       "      <td>0.000000</td>\n",
       "      <td>0.000000</td>\n",
       "      <td>0.000000</td>\n",
       "      <td>37.5237</td>\n",
       "      <td>126.909</td>\n",
       "      <td>17.2956</td>\n",
       "      <td>0.222300</td>\n",
       "      <td>4438.373535</td>\n",
       "      <td>28.6</td>\n",
       "      <td>18.8</td>\n",
       "    </tr>\n",
       "    <tr>\n",
       "      <th>7749</th>\n",
       "      <td>25.0</td>\n",
       "      <td>30-08-2017</td>\n",
       "      <td>23.2</td>\n",
       "      <td>17.4</td>\n",
       "      <td>22.933014</td>\n",
       "      <td>77.243744</td>\n",
       "      <td>27.939516</td>\n",
       "      <td>18.522965</td>\n",
       "      <td>7.289264</td>\n",
       "      <td>9.090034</td>\n",
       "      <td>...</td>\n",
       "      <td>0.000000</td>\n",
       "      <td>0.000000</td>\n",
       "      <td>0.000000</td>\n",
       "      <td>37.5237</td>\n",
       "      <td>126.970</td>\n",
       "      <td>19.5844</td>\n",
       "      <td>0.271300</td>\n",
       "      <td>4451.345215</td>\n",
       "      <td>27.8</td>\n",
       "      <td>17.4</td>\n",
       "    </tr>\n",
       "    <tr>\n",
       "      <th>7750</th>\n",
       "      <td>NaN</td>\n",
       "      <td>NaN</td>\n",
       "      <td>20.0</td>\n",
       "      <td>11.3</td>\n",
       "      <td>19.794666</td>\n",
       "      <td>58.936283</td>\n",
       "      <td>17.624954</td>\n",
       "      <td>14.272646</td>\n",
       "      <td>2.882580</td>\n",
       "      <td>-13.603212</td>\n",
       "      <td>...</td>\n",
       "      <td>0.000000</td>\n",
       "      <td>0.000000</td>\n",
       "      <td>0.000000</td>\n",
       "      <td>37.4562</td>\n",
       "      <td>126.826</td>\n",
       "      <td>12.3700</td>\n",
       "      <td>0.098475</td>\n",
       "      <td>4329.520508</td>\n",
       "      <td>17.4</td>\n",
       "      <td>11.3</td>\n",
       "    </tr>\n",
       "    <tr>\n",
       "      <th>7751</th>\n",
       "      <td>NaN</td>\n",
       "      <td>NaN</td>\n",
       "      <td>37.6</td>\n",
       "      <td>29.9</td>\n",
       "      <td>98.524734</td>\n",
       "      <td>100.000153</td>\n",
       "      <td>38.542255</td>\n",
       "      <td>29.619342</td>\n",
       "      <td>21.857621</td>\n",
       "      <td>213.414006</td>\n",
       "      <td>...</td>\n",
       "      <td>21.621661</td>\n",
       "      <td>15.841235</td>\n",
       "      <td>16.655469</td>\n",
       "      <td>37.6450</td>\n",
       "      <td>127.135</td>\n",
       "      <td>212.3350</td>\n",
       "      <td>5.178230</td>\n",
       "      <td>5992.895996</td>\n",
       "      <td>38.9</td>\n",
       "      <td>29.8</td>\n",
       "    </tr>\n",
       "  </tbody>\n",
       "</table>\n",
       "<p>5 rows × 25 columns</p>\n",
       "</div>"
      ],
      "text/plain": [
       "      station        Date  Present_Tmax  Present_Tmin  LDAPS_RHmin  \\\n",
       "7747     23.0  30-08-2017          23.3          17.1    26.741310   \n",
       "7748     24.0  30-08-2017          23.3          17.7    24.040634   \n",
       "7749     25.0  30-08-2017          23.2          17.4    22.933014   \n",
       "7750      NaN         NaN          20.0          11.3    19.794666   \n",
       "7751      NaN         NaN          37.6          29.9    98.524734   \n",
       "\n",
       "      LDAPS_RHmax  LDAPS_Tmax_lapse  LDAPS_Tmin_lapse   LDAPS_WS    LDAPS_LH  \\\n",
       "7747    78.869858         26.352081         18.775678   6.148918   72.058294   \n",
       "7748    77.294975         27.010193         18.733519   6.542819   47.241457   \n",
       "7749    77.243744         27.939516         18.522965   7.289264    9.090034   \n",
       "7750    58.936283         17.624954         14.272646   2.882580  -13.603212   \n",
       "7751   100.000153         38.542255         29.619342  21.857621  213.414006   \n",
       "\n",
       "      ...  LDAPS_PPT2  LDAPS_PPT3  LDAPS_PPT4      lat      lon       DEM  \\\n",
       "7747  ...    0.000000    0.000000    0.000000  37.5372  126.891   15.5876   \n",
       "7748  ...    0.000000    0.000000    0.000000  37.5237  126.909   17.2956   \n",
       "7749  ...    0.000000    0.000000    0.000000  37.5237  126.970   19.5844   \n",
       "7750  ...    0.000000    0.000000    0.000000  37.4562  126.826   12.3700   \n",
       "7751  ...   21.621661   15.841235   16.655469  37.6450  127.135  212.3350   \n",
       "\n",
       "         Slope  Solar radiation  Next_Tmax  Next_Tmin  \n",
       "7747  0.155400      4443.313965       28.3       18.1  \n",
       "7748  0.222300      4438.373535       28.6       18.8  \n",
       "7749  0.271300      4451.345215       27.8       17.4  \n",
       "7750  0.098475      4329.520508       17.4       11.3  \n",
       "7751  5.178230      5992.895996       38.9       29.8  \n",
       "\n",
       "[5 rows x 25 columns]"
      ]
     },
     "execution_count": 522,
     "metadata": {},
     "output_type": "execute_result"
    }
   ],
   "source": [
    "df.tail()"
   ]
  },
  {
   "cell_type": "markdown",
   "metadata": {},
   "source": [
    "we have last 5 rows and 25 columns from the dataset."
   ]
  },
  {
   "cell_type": "code",
   "execution_count": 523,
   "metadata": {},
   "outputs": [
    {
     "data": {
      "text/html": [
       "<div>\n",
       "<style scoped>\n",
       "    .dataframe tbody tr th:only-of-type {\n",
       "        vertical-align: middle;\n",
       "    }\n",
       "\n",
       "    .dataframe tbody tr th {\n",
       "        vertical-align: top;\n",
       "    }\n",
       "\n",
       "    .dataframe thead th {\n",
       "        text-align: right;\n",
       "    }\n",
       "</style>\n",
       "<table border=\"1\" class=\"dataframe\">\n",
       "  <thead>\n",
       "    <tr style=\"text-align: right;\">\n",
       "      <th></th>\n",
       "      <th>station</th>\n",
       "      <th>Present_Tmax</th>\n",
       "      <th>Present_Tmin</th>\n",
       "      <th>LDAPS_RHmin</th>\n",
       "      <th>LDAPS_RHmax</th>\n",
       "      <th>LDAPS_Tmax_lapse</th>\n",
       "      <th>LDAPS_Tmin_lapse</th>\n",
       "      <th>LDAPS_WS</th>\n",
       "      <th>LDAPS_LH</th>\n",
       "      <th>LDAPS_CC1</th>\n",
       "      <th>...</th>\n",
       "      <th>LDAPS_PPT2</th>\n",
       "      <th>LDAPS_PPT3</th>\n",
       "      <th>LDAPS_PPT4</th>\n",
       "      <th>lat</th>\n",
       "      <th>lon</th>\n",
       "      <th>DEM</th>\n",
       "      <th>Slope</th>\n",
       "      <th>Solar radiation</th>\n",
       "      <th>Next_Tmax</th>\n",
       "      <th>Next_Tmin</th>\n",
       "    </tr>\n",
       "  </thead>\n",
       "  <tbody>\n",
       "    <tr>\n",
       "      <th>count</th>\n",
       "      <td>7750.000000</td>\n",
       "      <td>7682.000000</td>\n",
       "      <td>7682.000000</td>\n",
       "      <td>7677.000000</td>\n",
       "      <td>7677.000000</td>\n",
       "      <td>7677.000000</td>\n",
       "      <td>7677.000000</td>\n",
       "      <td>7677.000000</td>\n",
       "      <td>7677.000000</td>\n",
       "      <td>7677.000000</td>\n",
       "      <td>...</td>\n",
       "      <td>7677.000000</td>\n",
       "      <td>7677.000000</td>\n",
       "      <td>7677.000000</td>\n",
       "      <td>7752.000000</td>\n",
       "      <td>7752.000000</td>\n",
       "      <td>7752.000000</td>\n",
       "      <td>7752.000000</td>\n",
       "      <td>7752.000000</td>\n",
       "      <td>7725.000000</td>\n",
       "      <td>7725.000000</td>\n",
       "    </tr>\n",
       "    <tr>\n",
       "      <th>mean</th>\n",
       "      <td>13.000000</td>\n",
       "      <td>29.768211</td>\n",
       "      <td>23.225059</td>\n",
       "      <td>56.759372</td>\n",
       "      <td>88.374804</td>\n",
       "      <td>29.613447</td>\n",
       "      <td>23.512589</td>\n",
       "      <td>7.097875</td>\n",
       "      <td>62.505019</td>\n",
       "      <td>0.368774</td>\n",
       "      <td>...</td>\n",
       "      <td>0.485003</td>\n",
       "      <td>0.278200</td>\n",
       "      <td>0.269407</td>\n",
       "      <td>37.544722</td>\n",
       "      <td>126.991397</td>\n",
       "      <td>61.867972</td>\n",
       "      <td>1.257048</td>\n",
       "      <td>5341.502803</td>\n",
       "      <td>30.274887</td>\n",
       "      <td>22.932220</td>\n",
       "    </tr>\n",
       "    <tr>\n",
       "      <th>std</th>\n",
       "      <td>7.211568</td>\n",
       "      <td>2.969999</td>\n",
       "      <td>2.413961</td>\n",
       "      <td>14.668111</td>\n",
       "      <td>7.192004</td>\n",
       "      <td>2.947191</td>\n",
       "      <td>2.345347</td>\n",
       "      <td>2.183836</td>\n",
       "      <td>33.730589</td>\n",
       "      <td>0.262458</td>\n",
       "      <td>...</td>\n",
       "      <td>1.762807</td>\n",
       "      <td>1.161809</td>\n",
       "      <td>1.206214</td>\n",
       "      <td>0.050352</td>\n",
       "      <td>0.079435</td>\n",
       "      <td>54.279780</td>\n",
       "      <td>1.370444</td>\n",
       "      <td>429.158867</td>\n",
       "      <td>3.128010</td>\n",
       "      <td>2.487613</td>\n",
       "    </tr>\n",
       "    <tr>\n",
       "      <th>min</th>\n",
       "      <td>1.000000</td>\n",
       "      <td>20.000000</td>\n",
       "      <td>11.300000</td>\n",
       "      <td>19.794666</td>\n",
       "      <td>58.936283</td>\n",
       "      <td>17.624954</td>\n",
       "      <td>14.272646</td>\n",
       "      <td>2.882580</td>\n",
       "      <td>-13.603212</td>\n",
       "      <td>0.000000</td>\n",
       "      <td>...</td>\n",
       "      <td>0.000000</td>\n",
       "      <td>0.000000</td>\n",
       "      <td>0.000000</td>\n",
       "      <td>37.456200</td>\n",
       "      <td>126.826000</td>\n",
       "      <td>12.370000</td>\n",
       "      <td>0.098475</td>\n",
       "      <td>4329.520508</td>\n",
       "      <td>17.400000</td>\n",
       "      <td>11.300000</td>\n",
       "    </tr>\n",
       "    <tr>\n",
       "      <th>25%</th>\n",
       "      <td>7.000000</td>\n",
       "      <td>27.800000</td>\n",
       "      <td>21.700000</td>\n",
       "      <td>45.963543</td>\n",
       "      <td>84.222862</td>\n",
       "      <td>27.673499</td>\n",
       "      <td>22.089739</td>\n",
       "      <td>5.678705</td>\n",
       "      <td>37.266753</td>\n",
       "      <td>0.146654</td>\n",
       "      <td>...</td>\n",
       "      <td>0.000000</td>\n",
       "      <td>0.000000</td>\n",
       "      <td>0.000000</td>\n",
       "      <td>37.510200</td>\n",
       "      <td>126.937000</td>\n",
       "      <td>28.700000</td>\n",
       "      <td>0.271300</td>\n",
       "      <td>4999.018555</td>\n",
       "      <td>28.200000</td>\n",
       "      <td>21.300000</td>\n",
       "    </tr>\n",
       "    <tr>\n",
       "      <th>50%</th>\n",
       "      <td>13.000000</td>\n",
       "      <td>29.900000</td>\n",
       "      <td>23.400000</td>\n",
       "      <td>55.039024</td>\n",
       "      <td>89.793480</td>\n",
       "      <td>29.703426</td>\n",
       "      <td>23.760199</td>\n",
       "      <td>6.547470</td>\n",
       "      <td>56.865482</td>\n",
       "      <td>0.315697</td>\n",
       "      <td>...</td>\n",
       "      <td>0.000000</td>\n",
       "      <td>0.000000</td>\n",
       "      <td>0.000000</td>\n",
       "      <td>37.550700</td>\n",
       "      <td>126.995000</td>\n",
       "      <td>45.716000</td>\n",
       "      <td>0.618000</td>\n",
       "      <td>5436.345215</td>\n",
       "      <td>30.500000</td>\n",
       "      <td>23.100000</td>\n",
       "    </tr>\n",
       "    <tr>\n",
       "      <th>75%</th>\n",
       "      <td>19.000000</td>\n",
       "      <td>32.000000</td>\n",
       "      <td>24.900000</td>\n",
       "      <td>67.190056</td>\n",
       "      <td>93.743629</td>\n",
       "      <td>31.710450</td>\n",
       "      <td>25.152909</td>\n",
       "      <td>8.032276</td>\n",
       "      <td>84.223616</td>\n",
       "      <td>0.575489</td>\n",
       "      <td>...</td>\n",
       "      <td>0.018364</td>\n",
       "      <td>0.007896</td>\n",
       "      <td>0.000041</td>\n",
       "      <td>37.577600</td>\n",
       "      <td>127.042000</td>\n",
       "      <td>59.832400</td>\n",
       "      <td>1.767800</td>\n",
       "      <td>5728.316406</td>\n",
       "      <td>32.600000</td>\n",
       "      <td>24.600000</td>\n",
       "    </tr>\n",
       "    <tr>\n",
       "      <th>max</th>\n",
       "      <td>25.000000</td>\n",
       "      <td>37.600000</td>\n",
       "      <td>29.900000</td>\n",
       "      <td>98.524734</td>\n",
       "      <td>100.000153</td>\n",
       "      <td>38.542255</td>\n",
       "      <td>29.619342</td>\n",
       "      <td>21.857621</td>\n",
       "      <td>213.414006</td>\n",
       "      <td>0.967277</td>\n",
       "      <td>...</td>\n",
       "      <td>21.621661</td>\n",
       "      <td>15.841235</td>\n",
       "      <td>16.655469</td>\n",
       "      <td>37.645000</td>\n",
       "      <td>127.135000</td>\n",
       "      <td>212.335000</td>\n",
       "      <td>5.178230</td>\n",
       "      <td>5992.895996</td>\n",
       "      <td>38.900000</td>\n",
       "      <td>29.800000</td>\n",
       "    </tr>\n",
       "  </tbody>\n",
       "</table>\n",
       "<p>8 rows × 24 columns</p>\n",
       "</div>"
      ],
      "text/plain": [
       "           station  Present_Tmax  Present_Tmin  LDAPS_RHmin  LDAPS_RHmax  \\\n",
       "count  7750.000000   7682.000000   7682.000000  7677.000000  7677.000000   \n",
       "mean     13.000000     29.768211     23.225059    56.759372    88.374804   \n",
       "std       7.211568      2.969999      2.413961    14.668111     7.192004   \n",
       "min       1.000000     20.000000     11.300000    19.794666    58.936283   \n",
       "25%       7.000000     27.800000     21.700000    45.963543    84.222862   \n",
       "50%      13.000000     29.900000     23.400000    55.039024    89.793480   \n",
       "75%      19.000000     32.000000     24.900000    67.190056    93.743629   \n",
       "max      25.000000     37.600000     29.900000    98.524734   100.000153   \n",
       "\n",
       "       LDAPS_Tmax_lapse  LDAPS_Tmin_lapse     LDAPS_WS     LDAPS_LH  \\\n",
       "count       7677.000000       7677.000000  7677.000000  7677.000000   \n",
       "mean          29.613447         23.512589     7.097875    62.505019   \n",
       "std            2.947191          2.345347     2.183836    33.730589   \n",
       "min           17.624954         14.272646     2.882580   -13.603212   \n",
       "25%           27.673499         22.089739     5.678705    37.266753   \n",
       "50%           29.703426         23.760199     6.547470    56.865482   \n",
       "75%           31.710450         25.152909     8.032276    84.223616   \n",
       "max           38.542255         29.619342    21.857621   213.414006   \n",
       "\n",
       "         LDAPS_CC1  ...   LDAPS_PPT2   LDAPS_PPT3   LDAPS_PPT4          lat  \\\n",
       "count  7677.000000  ...  7677.000000  7677.000000  7677.000000  7752.000000   \n",
       "mean      0.368774  ...     0.485003     0.278200     0.269407    37.544722   \n",
       "std       0.262458  ...     1.762807     1.161809     1.206214     0.050352   \n",
       "min       0.000000  ...     0.000000     0.000000     0.000000    37.456200   \n",
       "25%       0.146654  ...     0.000000     0.000000     0.000000    37.510200   \n",
       "50%       0.315697  ...     0.000000     0.000000     0.000000    37.550700   \n",
       "75%       0.575489  ...     0.018364     0.007896     0.000041    37.577600   \n",
       "max       0.967277  ...    21.621661    15.841235    16.655469    37.645000   \n",
       "\n",
       "               lon          DEM        Slope  Solar radiation    Next_Tmax  \\\n",
       "count  7752.000000  7752.000000  7752.000000      7752.000000  7725.000000   \n",
       "mean    126.991397    61.867972     1.257048      5341.502803    30.274887   \n",
       "std       0.079435    54.279780     1.370444       429.158867     3.128010   \n",
       "min     126.826000    12.370000     0.098475      4329.520508    17.400000   \n",
       "25%     126.937000    28.700000     0.271300      4999.018555    28.200000   \n",
       "50%     126.995000    45.716000     0.618000      5436.345215    30.500000   \n",
       "75%     127.042000    59.832400     1.767800      5728.316406    32.600000   \n",
       "max     127.135000   212.335000     5.178230      5992.895996    38.900000   \n",
       "\n",
       "         Next_Tmin  \n",
       "count  7725.000000  \n",
       "mean     22.932220  \n",
       "std       2.487613  \n",
       "min      11.300000  \n",
       "25%      21.300000  \n",
       "50%      23.100000  \n",
       "75%      24.600000  \n",
       "max      29.800000  \n",
       "\n",
       "[8 rows x 24 columns]"
      ]
     },
     "execution_count": 523,
     "metadata": {},
     "output_type": "execute_result"
    }
   ],
   "source": [
    "df.describe()"
   ]
  },
  {
   "cell_type": "markdown",
   "metadata": {},
   "source": [
    "in this we can see the mean value, mininum and maximum values and standard deviation values of our columns attributes."
   ]
  },
  {
   "cell_type": "code",
   "execution_count": 524,
   "metadata": {},
   "outputs": [
    {
     "name": "stdout",
     "output_type": "stream",
     "text": [
      "<class 'pandas.core.frame.DataFrame'>\n",
      "RangeIndex: 7752 entries, 0 to 7751\n",
      "Data columns (total 25 columns):\n",
      " #   Column            Non-Null Count  Dtype  \n",
      "---  ------            --------------  -----  \n",
      " 0   station           7750 non-null   float64\n",
      " 1   Date              7750 non-null   object \n",
      " 2   Present_Tmax      7682 non-null   float64\n",
      " 3   Present_Tmin      7682 non-null   float64\n",
      " 4   LDAPS_RHmin       7677 non-null   float64\n",
      " 5   LDAPS_RHmax       7677 non-null   float64\n",
      " 6   LDAPS_Tmax_lapse  7677 non-null   float64\n",
      " 7   LDAPS_Tmin_lapse  7677 non-null   float64\n",
      " 8   LDAPS_WS          7677 non-null   float64\n",
      " 9   LDAPS_LH          7677 non-null   float64\n",
      " 10  LDAPS_CC1         7677 non-null   float64\n",
      " 11  LDAPS_CC2         7677 non-null   float64\n",
      " 12  LDAPS_CC3         7677 non-null   float64\n",
      " 13  LDAPS_CC4         7677 non-null   float64\n",
      " 14  LDAPS_PPT1        7677 non-null   float64\n",
      " 15  LDAPS_PPT2        7677 non-null   float64\n",
      " 16  LDAPS_PPT3        7677 non-null   float64\n",
      " 17  LDAPS_PPT4        7677 non-null   float64\n",
      " 18  lat               7752 non-null   float64\n",
      " 19  lon               7752 non-null   float64\n",
      " 20  DEM               7752 non-null   float64\n",
      " 21  Slope             7752 non-null   float64\n",
      " 22  Solar radiation   7752 non-null   float64\n",
      " 23  Next_Tmax         7725 non-null   float64\n",
      " 24  Next_Tmin         7725 non-null   float64\n",
      "dtypes: float64(24), object(1)\n",
      "memory usage: 1.5+ MB\n"
     ]
    }
   ],
   "source": [
    "df.info()"
   ]
  },
  {
   "cell_type": "markdown",
   "metadata": {},
   "source": [
    "it gives the information about our datasaet having 24 float values and 1 object the attributes named 'Date'"
   ]
  },
  {
   "cell_type": "code",
   "execution_count": 525,
   "metadata": {},
   "outputs": [
    {
     "data": {
      "text/plain": [
       "station              2\n",
       "Date                 2\n",
       "Present_Tmax        70\n",
       "Present_Tmin        70\n",
       "LDAPS_RHmin         75\n",
       "LDAPS_RHmax         75\n",
       "LDAPS_Tmax_lapse    75\n",
       "LDAPS_Tmin_lapse    75\n",
       "LDAPS_WS            75\n",
       "LDAPS_LH            75\n",
       "LDAPS_CC1           75\n",
       "LDAPS_CC2           75\n",
       "LDAPS_CC3           75\n",
       "LDAPS_CC4           75\n",
       "LDAPS_PPT1          75\n",
       "LDAPS_PPT2          75\n",
       "LDAPS_PPT3          75\n",
       "LDAPS_PPT4          75\n",
       "lat                  0\n",
       "lon                  0\n",
       "DEM                  0\n",
       "Slope                0\n",
       "Solar radiation      0\n",
       "Next_Tmax           27\n",
       "Next_Tmin           27\n",
       "dtype: int64"
      ]
     },
     "execution_count": 525,
     "metadata": {},
     "output_type": "execute_result"
    }
   ],
   "source": [
    "df.isnull().sum()"
   ]
  },
  {
   "cell_type": "markdown",
   "metadata": {},
   "source": [
    "we can see there is null values present in our dataset. We have to remove it."
   ]
  },
  {
   "cell_type": "code",
   "execution_count": 526,
   "metadata": {},
   "outputs": [
    {
     "data": {
      "text/plain": [
       "station             float64\n",
       "Date                 object\n",
       "Present_Tmax        float64\n",
       "Present_Tmin        float64\n",
       "LDAPS_RHmin         float64\n",
       "LDAPS_RHmax         float64\n",
       "LDAPS_Tmax_lapse    float64\n",
       "LDAPS_Tmin_lapse    float64\n",
       "LDAPS_WS            float64\n",
       "LDAPS_LH            float64\n",
       "LDAPS_CC1           float64\n",
       "LDAPS_CC2           float64\n",
       "LDAPS_CC3           float64\n",
       "LDAPS_CC4           float64\n",
       "LDAPS_PPT1          float64\n",
       "LDAPS_PPT2          float64\n",
       "LDAPS_PPT3          float64\n",
       "LDAPS_PPT4          float64\n",
       "lat                 float64\n",
       "lon                 float64\n",
       "DEM                 float64\n",
       "Slope               float64\n",
       "Solar radiation     float64\n",
       "Next_Tmax           float64\n",
       "Next_Tmin           float64\n",
       "dtype: object"
      ]
     },
     "execution_count": 526,
     "metadata": {},
     "output_type": "execute_result"
    }
   ],
   "source": [
    "df.dtypes"
   ]
  },
  {
   "cell_type": "markdown",
   "metadata": {},
   "source": [
    "in this we can see 1 column is in object and 24 are float64"
   ]
  },
  {
   "cell_type": "code",
   "execution_count": 527,
   "metadata": {},
   "outputs": [],
   "source": [
    "df['station'].fillna('0.00', inplace=True)"
   ]
  },
  {
   "cell_type": "code",
   "execution_count": 528,
   "metadata": {},
   "outputs": [],
   "source": [
    "df['Date'].fillna('0.00', inplace=True)"
   ]
  },
  {
   "cell_type": "code",
   "execution_count": 529,
   "metadata": {},
   "outputs": [],
   "source": [
    "df['Present_Tmax'].fillna('31.00', inplace=True)"
   ]
  },
  {
   "cell_type": "code",
   "execution_count": 530,
   "metadata": {},
   "outputs": [],
   "source": [
    "df['Present_Tmin'].fillna('0.00', inplace=True)"
   ]
  },
  {
   "cell_type": "code",
   "execution_count": 531,
   "metadata": {},
   "outputs": [],
   "source": [
    "df['LDAPS_RHmin'].fillna('0.00', inplace=True)"
   ]
  },
  {
   "cell_type": "code",
   "execution_count": 532,
   "metadata": {},
   "outputs": [],
   "source": [
    "df['LDAPS_RHmax'].fillna('0.00', inplace=True)"
   ]
  },
  {
   "cell_type": "code",
   "execution_count": 533,
   "metadata": {},
   "outputs": [],
   "source": [
    "df['LDAPS_Tmax_lapse'].fillna('0.00', inplace=True)"
   ]
  },
  {
   "cell_type": "code",
   "execution_count": 534,
   "metadata": {},
   "outputs": [],
   "source": [
    "df['LDAPS_Tmin_lapse'].fillna('0.00', inplace=True)"
   ]
  },
  {
   "cell_type": "code",
   "execution_count": 535,
   "metadata": {},
   "outputs": [],
   "source": [
    "df['LDAPS_WS'].fillna('0.00', inplace=True)"
   ]
  },
  {
   "cell_type": "code",
   "execution_count": 536,
   "metadata": {},
   "outputs": [],
   "source": [
    "df['LDAPS_LH'].fillna('0.00', inplace=True)"
   ]
  },
  {
   "cell_type": "code",
   "execution_count": 537,
   "metadata": {},
   "outputs": [],
   "source": [
    "df['LDAPS_CC1'].fillna('0.00', inplace=True)"
   ]
  },
  {
   "cell_type": "code",
   "execution_count": 538,
   "metadata": {},
   "outputs": [],
   "source": [
    "df['LDAPS_CC2'].fillna('0.00', inplace=True)"
   ]
  },
  {
   "cell_type": "code",
   "execution_count": 539,
   "metadata": {},
   "outputs": [],
   "source": [
    "df['LDAPS_CC3'].fillna('0.00', inplace=True)"
   ]
  },
  {
   "cell_type": "code",
   "execution_count": 540,
   "metadata": {},
   "outputs": [],
   "source": [
    "df['LDAPS_CC4'].fillna('0.00', inplace=True)"
   ]
  },
  {
   "cell_type": "code",
   "execution_count": 541,
   "metadata": {},
   "outputs": [],
   "source": [
    "df['LDAPS_PPT1'].fillna('0.00', inplace=True)"
   ]
  },
  {
   "cell_type": "code",
   "execution_count": 542,
   "metadata": {},
   "outputs": [],
   "source": [
    "df['LDAPS_PPT2'].fillna('0.00', inplace=True)"
   ]
  },
  {
   "cell_type": "code",
   "execution_count": 543,
   "metadata": {},
   "outputs": [],
   "source": [
    "df['LDAPS_PPT3'].fillna('0.00', inplace=True)"
   ]
  },
  {
   "cell_type": "code",
   "execution_count": 544,
   "metadata": {},
   "outputs": [],
   "source": [
    "df['LDAPS_PPT4'].fillna('0.00', inplace=True)"
   ]
  },
  {
   "cell_type": "code",
   "execution_count": 545,
   "metadata": {},
   "outputs": [],
   "source": [
    "df['Next_Tmax'].fillna('0.00', inplace=True)"
   ]
  },
  {
   "cell_type": "code",
   "execution_count": 546,
   "metadata": {},
   "outputs": [],
   "source": [
    "df['Next_Tmin'].fillna('0.00', inplace=True)"
   ]
  },
  {
   "cell_type": "code",
   "execution_count": 547,
   "metadata": {},
   "outputs": [
    {
     "data": {
      "text/html": [
       "<div>\n",
       "<style scoped>\n",
       "    .dataframe tbody tr th:only-of-type {\n",
       "        vertical-align: middle;\n",
       "    }\n",
       "\n",
       "    .dataframe tbody tr th {\n",
       "        vertical-align: top;\n",
       "    }\n",
       "\n",
       "    .dataframe thead th {\n",
       "        text-align: right;\n",
       "    }\n",
       "</style>\n",
       "<table border=\"1\" class=\"dataframe\">\n",
       "  <thead>\n",
       "    <tr style=\"text-align: right;\">\n",
       "      <th></th>\n",
       "      <th>station</th>\n",
       "      <th>Date</th>\n",
       "      <th>Present_Tmax</th>\n",
       "      <th>Present_Tmin</th>\n",
       "      <th>LDAPS_RHmin</th>\n",
       "      <th>LDAPS_RHmax</th>\n",
       "      <th>LDAPS_Tmax_lapse</th>\n",
       "      <th>LDAPS_Tmin_lapse</th>\n",
       "      <th>LDAPS_WS</th>\n",
       "      <th>LDAPS_LH</th>\n",
       "      <th>...</th>\n",
       "      <th>LDAPS_PPT2</th>\n",
       "      <th>LDAPS_PPT3</th>\n",
       "      <th>LDAPS_PPT4</th>\n",
       "      <th>lat</th>\n",
       "      <th>lon</th>\n",
       "      <th>DEM</th>\n",
       "      <th>Slope</th>\n",
       "      <th>Solar radiation</th>\n",
       "      <th>Next_Tmax</th>\n",
       "      <th>Next_Tmin</th>\n",
       "    </tr>\n",
       "  </thead>\n",
       "  <tbody>\n",
       "    <tr>\n",
       "      <th>0</th>\n",
       "      <td>1</td>\n",
       "      <td>30-06-2013</td>\n",
       "      <td>28.7</td>\n",
       "      <td>21.4</td>\n",
       "      <td>58.2557</td>\n",
       "      <td>91.1164</td>\n",
       "      <td>28.0741</td>\n",
       "      <td>23.0069</td>\n",
       "      <td>6.81889</td>\n",
       "      <td>69.4518</td>\n",
       "      <td>...</td>\n",
       "      <td>0</td>\n",
       "      <td>0</td>\n",
       "      <td>0</td>\n",
       "      <td>37.6046</td>\n",
       "      <td>126.991</td>\n",
       "      <td>212.3350</td>\n",
       "      <td>2.785000</td>\n",
       "      <td>5992.895996</td>\n",
       "      <td>29.1</td>\n",
       "      <td>21.2</td>\n",
       "    </tr>\n",
       "    <tr>\n",
       "      <th>1</th>\n",
       "      <td>2</td>\n",
       "      <td>30-06-2013</td>\n",
       "      <td>31.9</td>\n",
       "      <td>21.6</td>\n",
       "      <td>52.2634</td>\n",
       "      <td>90.6047</td>\n",
       "      <td>29.8507</td>\n",
       "      <td>24.035</td>\n",
       "      <td>5.69189</td>\n",
       "      <td>51.9374</td>\n",
       "      <td>...</td>\n",
       "      <td>0</td>\n",
       "      <td>0</td>\n",
       "      <td>0</td>\n",
       "      <td>37.6046</td>\n",
       "      <td>127.032</td>\n",
       "      <td>44.7624</td>\n",
       "      <td>0.514100</td>\n",
       "      <td>5869.312500</td>\n",
       "      <td>30.5</td>\n",
       "      <td>22.5</td>\n",
       "    </tr>\n",
       "    <tr>\n",
       "      <th>2</th>\n",
       "      <td>3</td>\n",
       "      <td>30-06-2013</td>\n",
       "      <td>31.6</td>\n",
       "      <td>23.3</td>\n",
       "      <td>48.6905</td>\n",
       "      <td>83.9736</td>\n",
       "      <td>30.0913</td>\n",
       "      <td>24.5656</td>\n",
       "      <td>6.13822</td>\n",
       "      <td>20.573</td>\n",
       "      <td>...</td>\n",
       "      <td>0</td>\n",
       "      <td>0</td>\n",
       "      <td>0</td>\n",
       "      <td>37.5776</td>\n",
       "      <td>127.058</td>\n",
       "      <td>33.3068</td>\n",
       "      <td>0.266100</td>\n",
       "      <td>5863.555664</td>\n",
       "      <td>31.1</td>\n",
       "      <td>23.9</td>\n",
       "    </tr>\n",
       "    <tr>\n",
       "      <th>3</th>\n",
       "      <td>4</td>\n",
       "      <td>30-06-2013</td>\n",
       "      <td>32</td>\n",
       "      <td>23.4</td>\n",
       "      <td>58.2398</td>\n",
       "      <td>96.4837</td>\n",
       "      <td>29.7046</td>\n",
       "      <td>23.3262</td>\n",
       "      <td>5.65005</td>\n",
       "      <td>65.7271</td>\n",
       "      <td>...</td>\n",
       "      <td>0</td>\n",
       "      <td>0</td>\n",
       "      <td>0</td>\n",
       "      <td>37.6450</td>\n",
       "      <td>127.022</td>\n",
       "      <td>45.7160</td>\n",
       "      <td>2.534800</td>\n",
       "      <td>5856.964844</td>\n",
       "      <td>31.7</td>\n",
       "      <td>24.3</td>\n",
       "    </tr>\n",
       "    <tr>\n",
       "      <th>4</th>\n",
       "      <td>5</td>\n",
       "      <td>30-06-2013</td>\n",
       "      <td>31.4</td>\n",
       "      <td>21.9</td>\n",
       "      <td>56.1741</td>\n",
       "      <td>90.1551</td>\n",
       "      <td>29.1139</td>\n",
       "      <td>23.4865</td>\n",
       "      <td>5.735</td>\n",
       "      <td>107.966</td>\n",
       "      <td>...</td>\n",
       "      <td>0</td>\n",
       "      <td>0</td>\n",
       "      <td>0</td>\n",
       "      <td>37.5507</td>\n",
       "      <td>127.135</td>\n",
       "      <td>35.0380</td>\n",
       "      <td>0.505500</td>\n",
       "      <td>5859.552246</td>\n",
       "      <td>31.2</td>\n",
       "      <td>22.5</td>\n",
       "    </tr>\n",
       "    <tr>\n",
       "      <th>...</th>\n",
       "      <td>...</td>\n",
       "      <td>...</td>\n",
       "      <td>...</td>\n",
       "      <td>...</td>\n",
       "      <td>...</td>\n",
       "      <td>...</td>\n",
       "      <td>...</td>\n",
       "      <td>...</td>\n",
       "      <td>...</td>\n",
       "      <td>...</td>\n",
       "      <td>...</td>\n",
       "      <td>...</td>\n",
       "      <td>...</td>\n",
       "      <td>...</td>\n",
       "      <td>...</td>\n",
       "      <td>...</td>\n",
       "      <td>...</td>\n",
       "      <td>...</td>\n",
       "      <td>...</td>\n",
       "      <td>...</td>\n",
       "      <td>...</td>\n",
       "    </tr>\n",
       "    <tr>\n",
       "      <th>7747</th>\n",
       "      <td>23</td>\n",
       "      <td>30-08-2017</td>\n",
       "      <td>23.3</td>\n",
       "      <td>17.1</td>\n",
       "      <td>26.7413</td>\n",
       "      <td>78.8699</td>\n",
       "      <td>26.3521</td>\n",
       "      <td>18.7757</td>\n",
       "      <td>6.14892</td>\n",
       "      <td>72.0583</td>\n",
       "      <td>...</td>\n",
       "      <td>0</td>\n",
       "      <td>0</td>\n",
       "      <td>0</td>\n",
       "      <td>37.5372</td>\n",
       "      <td>126.891</td>\n",
       "      <td>15.5876</td>\n",
       "      <td>0.155400</td>\n",
       "      <td>4443.313965</td>\n",
       "      <td>28.3</td>\n",
       "      <td>18.1</td>\n",
       "    </tr>\n",
       "    <tr>\n",
       "      <th>7748</th>\n",
       "      <td>24</td>\n",
       "      <td>30-08-2017</td>\n",
       "      <td>23.3</td>\n",
       "      <td>17.7</td>\n",
       "      <td>24.0406</td>\n",
       "      <td>77.295</td>\n",
       "      <td>27.0102</td>\n",
       "      <td>18.7335</td>\n",
       "      <td>6.54282</td>\n",
       "      <td>47.2415</td>\n",
       "      <td>...</td>\n",
       "      <td>0</td>\n",
       "      <td>0</td>\n",
       "      <td>0</td>\n",
       "      <td>37.5237</td>\n",
       "      <td>126.909</td>\n",
       "      <td>17.2956</td>\n",
       "      <td>0.222300</td>\n",
       "      <td>4438.373535</td>\n",
       "      <td>28.6</td>\n",
       "      <td>18.8</td>\n",
       "    </tr>\n",
       "    <tr>\n",
       "      <th>7749</th>\n",
       "      <td>25</td>\n",
       "      <td>30-08-2017</td>\n",
       "      <td>23.2</td>\n",
       "      <td>17.4</td>\n",
       "      <td>22.933</td>\n",
       "      <td>77.2437</td>\n",
       "      <td>27.9395</td>\n",
       "      <td>18.523</td>\n",
       "      <td>7.28926</td>\n",
       "      <td>9.09003</td>\n",
       "      <td>...</td>\n",
       "      <td>0</td>\n",
       "      <td>0</td>\n",
       "      <td>0</td>\n",
       "      <td>37.5237</td>\n",
       "      <td>126.970</td>\n",
       "      <td>19.5844</td>\n",
       "      <td>0.271300</td>\n",
       "      <td>4451.345215</td>\n",
       "      <td>27.8</td>\n",
       "      <td>17.4</td>\n",
       "    </tr>\n",
       "    <tr>\n",
       "      <th>7750</th>\n",
       "      <td>0.00</td>\n",
       "      <td>0.00</td>\n",
       "      <td>20</td>\n",
       "      <td>11.3</td>\n",
       "      <td>19.7947</td>\n",
       "      <td>58.9363</td>\n",
       "      <td>17.625</td>\n",
       "      <td>14.2726</td>\n",
       "      <td>2.88258</td>\n",
       "      <td>-13.6032</td>\n",
       "      <td>...</td>\n",
       "      <td>0</td>\n",
       "      <td>0</td>\n",
       "      <td>0</td>\n",
       "      <td>37.4562</td>\n",
       "      <td>126.826</td>\n",
       "      <td>12.3700</td>\n",
       "      <td>0.098475</td>\n",
       "      <td>4329.520508</td>\n",
       "      <td>17.4</td>\n",
       "      <td>11.3</td>\n",
       "    </tr>\n",
       "    <tr>\n",
       "      <th>7751</th>\n",
       "      <td>0.00</td>\n",
       "      <td>0.00</td>\n",
       "      <td>37.6</td>\n",
       "      <td>29.9</td>\n",
       "      <td>98.5247</td>\n",
       "      <td>100</td>\n",
       "      <td>38.5423</td>\n",
       "      <td>29.6193</td>\n",
       "      <td>21.8576</td>\n",
       "      <td>213.414</td>\n",
       "      <td>...</td>\n",
       "      <td>21.6217</td>\n",
       "      <td>15.8412</td>\n",
       "      <td>16.6555</td>\n",
       "      <td>37.6450</td>\n",
       "      <td>127.135</td>\n",
       "      <td>212.3350</td>\n",
       "      <td>5.178230</td>\n",
       "      <td>5992.895996</td>\n",
       "      <td>38.9</td>\n",
       "      <td>29.8</td>\n",
       "    </tr>\n",
       "  </tbody>\n",
       "</table>\n",
       "<p>7752 rows × 25 columns</p>\n",
       "</div>"
      ],
      "text/plain": [
       "     station        Date Present_Tmax Present_Tmin LDAPS_RHmin LDAPS_RHmax  \\\n",
       "0          1  30-06-2013         28.7         21.4     58.2557     91.1164   \n",
       "1          2  30-06-2013         31.9         21.6     52.2634     90.6047   \n",
       "2          3  30-06-2013         31.6         23.3     48.6905     83.9736   \n",
       "3          4  30-06-2013           32         23.4     58.2398     96.4837   \n",
       "4          5  30-06-2013         31.4         21.9     56.1741     90.1551   \n",
       "...      ...         ...          ...          ...         ...         ...   \n",
       "7747      23  30-08-2017         23.3         17.1     26.7413     78.8699   \n",
       "7748      24  30-08-2017         23.3         17.7     24.0406      77.295   \n",
       "7749      25  30-08-2017         23.2         17.4      22.933     77.2437   \n",
       "7750    0.00        0.00           20         11.3     19.7947     58.9363   \n",
       "7751    0.00        0.00         37.6         29.9     98.5247         100   \n",
       "\n",
       "     LDAPS_Tmax_lapse LDAPS_Tmin_lapse LDAPS_WS LDAPS_LH  ... LDAPS_PPT2  \\\n",
       "0             28.0741          23.0069  6.81889  69.4518  ...          0   \n",
       "1             29.8507           24.035  5.69189  51.9374  ...          0   \n",
       "2             30.0913          24.5656  6.13822   20.573  ...          0   \n",
       "3             29.7046          23.3262  5.65005  65.7271  ...          0   \n",
       "4             29.1139          23.4865    5.735  107.966  ...          0   \n",
       "...               ...              ...      ...      ...  ...        ...   \n",
       "7747          26.3521          18.7757  6.14892  72.0583  ...          0   \n",
       "7748          27.0102          18.7335  6.54282  47.2415  ...          0   \n",
       "7749          27.9395           18.523  7.28926  9.09003  ...          0   \n",
       "7750           17.625          14.2726  2.88258 -13.6032  ...          0   \n",
       "7751          38.5423          29.6193  21.8576  213.414  ...    21.6217   \n",
       "\n",
       "     LDAPS_PPT3 LDAPS_PPT4      lat      lon       DEM     Slope  \\\n",
       "0             0          0  37.6046  126.991  212.3350  2.785000   \n",
       "1             0          0  37.6046  127.032   44.7624  0.514100   \n",
       "2             0          0  37.5776  127.058   33.3068  0.266100   \n",
       "3             0          0  37.6450  127.022   45.7160  2.534800   \n",
       "4             0          0  37.5507  127.135   35.0380  0.505500   \n",
       "...         ...        ...      ...      ...       ...       ...   \n",
       "7747          0          0  37.5372  126.891   15.5876  0.155400   \n",
       "7748          0          0  37.5237  126.909   17.2956  0.222300   \n",
       "7749          0          0  37.5237  126.970   19.5844  0.271300   \n",
       "7750          0          0  37.4562  126.826   12.3700  0.098475   \n",
       "7751    15.8412    16.6555  37.6450  127.135  212.3350  5.178230   \n",
       "\n",
       "     Solar radiation  Next_Tmax  Next_Tmin  \n",
       "0        5992.895996       29.1       21.2  \n",
       "1        5869.312500       30.5       22.5  \n",
       "2        5863.555664       31.1       23.9  \n",
       "3        5856.964844       31.7       24.3  \n",
       "4        5859.552246       31.2       22.5  \n",
       "...              ...        ...        ...  \n",
       "7747     4443.313965       28.3       18.1  \n",
       "7748     4438.373535       28.6       18.8  \n",
       "7749     4451.345215       27.8       17.4  \n",
       "7750     4329.520508       17.4       11.3  \n",
       "7751     5992.895996       38.9       29.8  \n",
       "\n",
       "[7752 rows x 25 columns]"
      ]
     },
     "execution_count": 547,
     "metadata": {},
     "output_type": "execute_result"
    }
   ],
   "source": [
    "df"
   ]
  },
  {
   "cell_type": "markdown",
   "metadata": {},
   "source": [
    "we have removed the missing value from our dataset."
   ]
  },
  {
   "cell_type": "code",
   "execution_count": 548,
   "metadata": {},
   "outputs": [
    {
     "data": {
      "text/plain": [
       "station             0\n",
       "Date                0\n",
       "Present_Tmax        0\n",
       "Present_Tmin        0\n",
       "LDAPS_RHmin         0\n",
       "LDAPS_RHmax         0\n",
       "LDAPS_Tmax_lapse    0\n",
       "LDAPS_Tmin_lapse    0\n",
       "LDAPS_WS            0\n",
       "LDAPS_LH            0\n",
       "LDAPS_CC1           0\n",
       "LDAPS_CC2           0\n",
       "LDAPS_CC3           0\n",
       "LDAPS_CC4           0\n",
       "LDAPS_PPT1          0\n",
       "LDAPS_PPT2          0\n",
       "LDAPS_PPT3          0\n",
       "LDAPS_PPT4          0\n",
       "lat                 0\n",
       "lon                 0\n",
       "DEM                 0\n",
       "Slope               0\n",
       "Solar radiation     0\n",
       "Next_Tmax           0\n",
       "Next_Tmin           0\n",
       "dtype: int64"
      ]
     },
     "execution_count": 548,
     "metadata": {},
     "output_type": "execute_result"
    }
   ],
   "source": [
    "df.isnull().sum()"
   ]
  },
  {
   "cell_type": "markdown",
   "metadata": {},
   "source": [
    "as we can see there is no missing value present in our dataset."
   ]
  },
  {
   "cell_type": "code",
   "execution_count": 549,
   "metadata": {},
   "outputs": [],
   "source": [
    "df.drop(['station'],axis=1,inplace=True)"
   ]
  },
  {
   "cell_type": "code",
   "execution_count": 550,
   "metadata": {},
   "outputs": [
    {
     "data": {
      "text/html": [
       "<div>\n",
       "<style scoped>\n",
       "    .dataframe tbody tr th:only-of-type {\n",
       "        vertical-align: middle;\n",
       "    }\n",
       "\n",
       "    .dataframe tbody tr th {\n",
       "        vertical-align: top;\n",
       "    }\n",
       "\n",
       "    .dataframe thead th {\n",
       "        text-align: right;\n",
       "    }\n",
       "</style>\n",
       "<table border=\"1\" class=\"dataframe\">\n",
       "  <thead>\n",
       "    <tr style=\"text-align: right;\">\n",
       "      <th></th>\n",
       "      <th>Date</th>\n",
       "      <th>Present_Tmax</th>\n",
       "      <th>Present_Tmin</th>\n",
       "      <th>LDAPS_RHmin</th>\n",
       "      <th>LDAPS_RHmax</th>\n",
       "      <th>LDAPS_Tmax_lapse</th>\n",
       "      <th>LDAPS_Tmin_lapse</th>\n",
       "      <th>LDAPS_WS</th>\n",
       "      <th>LDAPS_LH</th>\n",
       "      <th>LDAPS_CC1</th>\n",
       "      <th>...</th>\n",
       "      <th>LDAPS_PPT2</th>\n",
       "      <th>LDAPS_PPT3</th>\n",
       "      <th>LDAPS_PPT4</th>\n",
       "      <th>lat</th>\n",
       "      <th>lon</th>\n",
       "      <th>DEM</th>\n",
       "      <th>Slope</th>\n",
       "      <th>Solar radiation</th>\n",
       "      <th>Next_Tmax</th>\n",
       "      <th>Next_Tmin</th>\n",
       "    </tr>\n",
       "  </thead>\n",
       "  <tbody>\n",
       "    <tr>\n",
       "      <th>0</th>\n",
       "      <td>30-06-2013</td>\n",
       "      <td>28.7</td>\n",
       "      <td>21.4</td>\n",
       "      <td>58.2557</td>\n",
       "      <td>91.1164</td>\n",
       "      <td>28.0741</td>\n",
       "      <td>23.0069</td>\n",
       "      <td>6.81889</td>\n",
       "      <td>69.4518</td>\n",
       "      <td>0.233947</td>\n",
       "      <td>...</td>\n",
       "      <td>0</td>\n",
       "      <td>0</td>\n",
       "      <td>0</td>\n",
       "      <td>37.6046</td>\n",
       "      <td>126.991</td>\n",
       "      <td>212.3350</td>\n",
       "      <td>2.785000</td>\n",
       "      <td>5992.895996</td>\n",
       "      <td>29.1</td>\n",
       "      <td>21.2</td>\n",
       "    </tr>\n",
       "    <tr>\n",
       "      <th>1</th>\n",
       "      <td>30-06-2013</td>\n",
       "      <td>31.9</td>\n",
       "      <td>21.6</td>\n",
       "      <td>52.2634</td>\n",
       "      <td>90.6047</td>\n",
       "      <td>29.8507</td>\n",
       "      <td>24.035</td>\n",
       "      <td>5.69189</td>\n",
       "      <td>51.9374</td>\n",
       "      <td>0.225508</td>\n",
       "      <td>...</td>\n",
       "      <td>0</td>\n",
       "      <td>0</td>\n",
       "      <td>0</td>\n",
       "      <td>37.6046</td>\n",
       "      <td>127.032</td>\n",
       "      <td>44.7624</td>\n",
       "      <td>0.514100</td>\n",
       "      <td>5869.312500</td>\n",
       "      <td>30.5</td>\n",
       "      <td>22.5</td>\n",
       "    </tr>\n",
       "    <tr>\n",
       "      <th>2</th>\n",
       "      <td>30-06-2013</td>\n",
       "      <td>31.6</td>\n",
       "      <td>23.3</td>\n",
       "      <td>48.6905</td>\n",
       "      <td>83.9736</td>\n",
       "      <td>30.0913</td>\n",
       "      <td>24.5656</td>\n",
       "      <td>6.13822</td>\n",
       "      <td>20.573</td>\n",
       "      <td>0.209344</td>\n",
       "      <td>...</td>\n",
       "      <td>0</td>\n",
       "      <td>0</td>\n",
       "      <td>0</td>\n",
       "      <td>37.5776</td>\n",
       "      <td>127.058</td>\n",
       "      <td>33.3068</td>\n",
       "      <td>0.266100</td>\n",
       "      <td>5863.555664</td>\n",
       "      <td>31.1</td>\n",
       "      <td>23.9</td>\n",
       "    </tr>\n",
       "    <tr>\n",
       "      <th>3</th>\n",
       "      <td>30-06-2013</td>\n",
       "      <td>32</td>\n",
       "      <td>23.4</td>\n",
       "      <td>58.2398</td>\n",
       "      <td>96.4837</td>\n",
       "      <td>29.7046</td>\n",
       "      <td>23.3262</td>\n",
       "      <td>5.65005</td>\n",
       "      <td>65.7271</td>\n",
       "      <td>0.216372</td>\n",
       "      <td>...</td>\n",
       "      <td>0</td>\n",
       "      <td>0</td>\n",
       "      <td>0</td>\n",
       "      <td>37.6450</td>\n",
       "      <td>127.022</td>\n",
       "      <td>45.7160</td>\n",
       "      <td>2.534800</td>\n",
       "      <td>5856.964844</td>\n",
       "      <td>31.7</td>\n",
       "      <td>24.3</td>\n",
       "    </tr>\n",
       "    <tr>\n",
       "      <th>4</th>\n",
       "      <td>30-06-2013</td>\n",
       "      <td>31.4</td>\n",
       "      <td>21.9</td>\n",
       "      <td>56.1741</td>\n",
       "      <td>90.1551</td>\n",
       "      <td>29.1139</td>\n",
       "      <td>23.4865</td>\n",
       "      <td>5.735</td>\n",
       "      <td>107.966</td>\n",
       "      <td>0.151407</td>\n",
       "      <td>...</td>\n",
       "      <td>0</td>\n",
       "      <td>0</td>\n",
       "      <td>0</td>\n",
       "      <td>37.5507</td>\n",
       "      <td>127.135</td>\n",
       "      <td>35.0380</td>\n",
       "      <td>0.505500</td>\n",
       "      <td>5859.552246</td>\n",
       "      <td>31.2</td>\n",
       "      <td>22.5</td>\n",
       "    </tr>\n",
       "    <tr>\n",
       "      <th>...</th>\n",
       "      <td>...</td>\n",
       "      <td>...</td>\n",
       "      <td>...</td>\n",
       "      <td>...</td>\n",
       "      <td>...</td>\n",
       "      <td>...</td>\n",
       "      <td>...</td>\n",
       "      <td>...</td>\n",
       "      <td>...</td>\n",
       "      <td>...</td>\n",
       "      <td>...</td>\n",
       "      <td>...</td>\n",
       "      <td>...</td>\n",
       "      <td>...</td>\n",
       "      <td>...</td>\n",
       "      <td>...</td>\n",
       "      <td>...</td>\n",
       "      <td>...</td>\n",
       "      <td>...</td>\n",
       "      <td>...</td>\n",
       "      <td>...</td>\n",
       "    </tr>\n",
       "    <tr>\n",
       "      <th>7747</th>\n",
       "      <td>30-08-2017</td>\n",
       "      <td>23.3</td>\n",
       "      <td>17.1</td>\n",
       "      <td>26.7413</td>\n",
       "      <td>78.8699</td>\n",
       "      <td>26.3521</td>\n",
       "      <td>18.7757</td>\n",
       "      <td>6.14892</td>\n",
       "      <td>72.0583</td>\n",
       "      <td>0.0300342</td>\n",
       "      <td>...</td>\n",
       "      <td>0</td>\n",
       "      <td>0</td>\n",
       "      <td>0</td>\n",
       "      <td>37.5372</td>\n",
       "      <td>126.891</td>\n",
       "      <td>15.5876</td>\n",
       "      <td>0.155400</td>\n",
       "      <td>4443.313965</td>\n",
       "      <td>28.3</td>\n",
       "      <td>18.1</td>\n",
       "    </tr>\n",
       "    <tr>\n",
       "      <th>7748</th>\n",
       "      <td>30-08-2017</td>\n",
       "      <td>23.3</td>\n",
       "      <td>17.7</td>\n",
       "      <td>24.0406</td>\n",
       "      <td>77.295</td>\n",
       "      <td>27.0102</td>\n",
       "      <td>18.7335</td>\n",
       "      <td>6.54282</td>\n",
       "      <td>47.2415</td>\n",
       "      <td>0.0358738</td>\n",
       "      <td>...</td>\n",
       "      <td>0</td>\n",
       "      <td>0</td>\n",
       "      <td>0</td>\n",
       "      <td>37.5237</td>\n",
       "      <td>126.909</td>\n",
       "      <td>17.2956</td>\n",
       "      <td>0.222300</td>\n",
       "      <td>4438.373535</td>\n",
       "      <td>28.6</td>\n",
       "      <td>18.8</td>\n",
       "    </tr>\n",
       "    <tr>\n",
       "      <th>7749</th>\n",
       "      <td>30-08-2017</td>\n",
       "      <td>23.2</td>\n",
       "      <td>17.4</td>\n",
       "      <td>22.933</td>\n",
       "      <td>77.2437</td>\n",
       "      <td>27.9395</td>\n",
       "      <td>18.523</td>\n",
       "      <td>7.28926</td>\n",
       "      <td>9.09003</td>\n",
       "      <td>0.0489535</td>\n",
       "      <td>...</td>\n",
       "      <td>0</td>\n",
       "      <td>0</td>\n",
       "      <td>0</td>\n",
       "      <td>37.5237</td>\n",
       "      <td>126.970</td>\n",
       "      <td>19.5844</td>\n",
       "      <td>0.271300</td>\n",
       "      <td>4451.345215</td>\n",
       "      <td>27.8</td>\n",
       "      <td>17.4</td>\n",
       "    </tr>\n",
       "    <tr>\n",
       "      <th>7750</th>\n",
       "      <td>0.00</td>\n",
       "      <td>20</td>\n",
       "      <td>11.3</td>\n",
       "      <td>19.7947</td>\n",
       "      <td>58.9363</td>\n",
       "      <td>17.625</td>\n",
       "      <td>14.2726</td>\n",
       "      <td>2.88258</td>\n",
       "      <td>-13.6032</td>\n",
       "      <td>0</td>\n",
       "      <td>...</td>\n",
       "      <td>0</td>\n",
       "      <td>0</td>\n",
       "      <td>0</td>\n",
       "      <td>37.4562</td>\n",
       "      <td>126.826</td>\n",
       "      <td>12.3700</td>\n",
       "      <td>0.098475</td>\n",
       "      <td>4329.520508</td>\n",
       "      <td>17.4</td>\n",
       "      <td>11.3</td>\n",
       "    </tr>\n",
       "    <tr>\n",
       "      <th>7751</th>\n",
       "      <td>0.00</td>\n",
       "      <td>37.6</td>\n",
       "      <td>29.9</td>\n",
       "      <td>98.5247</td>\n",
       "      <td>100</td>\n",
       "      <td>38.5423</td>\n",
       "      <td>29.6193</td>\n",
       "      <td>21.8576</td>\n",
       "      <td>213.414</td>\n",
       "      <td>0.967277</td>\n",
       "      <td>...</td>\n",
       "      <td>21.6217</td>\n",
       "      <td>15.8412</td>\n",
       "      <td>16.6555</td>\n",
       "      <td>37.6450</td>\n",
       "      <td>127.135</td>\n",
       "      <td>212.3350</td>\n",
       "      <td>5.178230</td>\n",
       "      <td>5992.895996</td>\n",
       "      <td>38.9</td>\n",
       "      <td>29.8</td>\n",
       "    </tr>\n",
       "  </tbody>\n",
       "</table>\n",
       "<p>7752 rows × 24 columns</p>\n",
       "</div>"
      ],
      "text/plain": [
       "            Date Present_Tmax Present_Tmin LDAPS_RHmin LDAPS_RHmax  \\\n",
       "0     30-06-2013         28.7         21.4     58.2557     91.1164   \n",
       "1     30-06-2013         31.9         21.6     52.2634     90.6047   \n",
       "2     30-06-2013         31.6         23.3     48.6905     83.9736   \n",
       "3     30-06-2013           32         23.4     58.2398     96.4837   \n",
       "4     30-06-2013         31.4         21.9     56.1741     90.1551   \n",
       "...          ...          ...          ...         ...         ...   \n",
       "7747  30-08-2017         23.3         17.1     26.7413     78.8699   \n",
       "7748  30-08-2017         23.3         17.7     24.0406      77.295   \n",
       "7749  30-08-2017         23.2         17.4      22.933     77.2437   \n",
       "7750        0.00           20         11.3     19.7947     58.9363   \n",
       "7751        0.00         37.6         29.9     98.5247         100   \n",
       "\n",
       "     LDAPS_Tmax_lapse LDAPS_Tmin_lapse LDAPS_WS LDAPS_LH  LDAPS_CC1  ...  \\\n",
       "0             28.0741          23.0069  6.81889  69.4518   0.233947  ...   \n",
       "1             29.8507           24.035  5.69189  51.9374   0.225508  ...   \n",
       "2             30.0913          24.5656  6.13822   20.573   0.209344  ...   \n",
       "3             29.7046          23.3262  5.65005  65.7271   0.216372  ...   \n",
       "4             29.1139          23.4865    5.735  107.966   0.151407  ...   \n",
       "...               ...              ...      ...      ...        ...  ...   \n",
       "7747          26.3521          18.7757  6.14892  72.0583  0.0300342  ...   \n",
       "7748          27.0102          18.7335  6.54282  47.2415  0.0358738  ...   \n",
       "7749          27.9395           18.523  7.28926  9.09003  0.0489535  ...   \n",
       "7750           17.625          14.2726  2.88258 -13.6032          0  ...   \n",
       "7751          38.5423          29.6193  21.8576  213.414   0.967277  ...   \n",
       "\n",
       "     LDAPS_PPT2 LDAPS_PPT3 LDAPS_PPT4      lat      lon       DEM     Slope  \\\n",
       "0             0          0          0  37.6046  126.991  212.3350  2.785000   \n",
       "1             0          0          0  37.6046  127.032   44.7624  0.514100   \n",
       "2             0          0          0  37.5776  127.058   33.3068  0.266100   \n",
       "3             0          0          0  37.6450  127.022   45.7160  2.534800   \n",
       "4             0          0          0  37.5507  127.135   35.0380  0.505500   \n",
       "...         ...        ...        ...      ...      ...       ...       ...   \n",
       "7747          0          0          0  37.5372  126.891   15.5876  0.155400   \n",
       "7748          0          0          0  37.5237  126.909   17.2956  0.222300   \n",
       "7749          0          0          0  37.5237  126.970   19.5844  0.271300   \n",
       "7750          0          0          0  37.4562  126.826   12.3700  0.098475   \n",
       "7751    21.6217    15.8412    16.6555  37.6450  127.135  212.3350  5.178230   \n",
       "\n",
       "      Solar radiation  Next_Tmax  Next_Tmin  \n",
       "0         5992.895996       29.1       21.2  \n",
       "1         5869.312500       30.5       22.5  \n",
       "2         5863.555664       31.1       23.9  \n",
       "3         5856.964844       31.7       24.3  \n",
       "4         5859.552246       31.2       22.5  \n",
       "...               ...        ...        ...  \n",
       "7747      4443.313965       28.3       18.1  \n",
       "7748      4438.373535       28.6       18.8  \n",
       "7749      4451.345215       27.8       17.4  \n",
       "7750      4329.520508       17.4       11.3  \n",
       "7751      5992.895996       38.9       29.8  \n",
       "\n",
       "[7752 rows x 24 columns]"
      ]
     },
     "execution_count": 550,
     "metadata": {},
     "output_type": "execute_result"
    }
   ],
   "source": [
    "df"
   ]
  },
  {
   "cell_type": "markdown",
   "metadata": {},
   "source": [
    "we have dropped the station attributes from the dataset."
   ]
  },
  {
   "cell_type": "code",
   "execution_count": 551,
   "metadata": {},
   "outputs": [
    {
     "data": {
      "text/plain": [
       "array(['30-06-2013', '01-07-2013', '02-07-2013', '03-07-2013',\n",
       "       '04-07-2013', '05-07-2013', '06-07-2013', '07-07-2013',\n",
       "       '08-07-2013', '09-07-2013', '10-07-2013', '11-07-2013',\n",
       "       '12-07-2013', '13-07-2013', '14-07-2013', '15-07-2013',\n",
       "       '16-07-2013', '17-07-2013', '18-07-2013', '19-07-2013',\n",
       "       '20-07-2013', '21-07-2013', '22-07-2013', '23-07-2013',\n",
       "       '24-07-2013', '25-07-2013', '26-07-2013', '27-07-2013',\n",
       "       '28-07-2013', '29-07-2013', '30-07-2013', '31-07-2013',\n",
       "       '01-08-2013', '02-08-2013', '03-08-2013', '04-08-2013',\n",
       "       '05-08-2013', '06-08-2013', '07-08-2013', '08-08-2013',\n",
       "       '09-08-2013', '10-08-2013', '11-08-2013', '12-08-2013',\n",
       "       '13-08-2013', '14-08-2013', '15-08-2013', '16-08-2013',\n",
       "       '17-08-2013', '18-08-2013', '19-08-2013', '20-08-2013',\n",
       "       '21-08-2013', '22-08-2013', '23-08-2013', '24-08-2013',\n",
       "       '25-08-2013', '26-08-2013', '27-08-2013', '28-08-2013',\n",
       "       '29-08-2013', '30-08-2013', '30-06-2014', '01-07-2014',\n",
       "       '02-07-2014', '03-07-2014', '04-07-2014', '05-07-2014',\n",
       "       '06-07-2014', '07-07-2014', '08-07-2014', '09-07-2014',\n",
       "       '10-07-2014', '11-07-2014', '12-07-2014', '13-07-2014',\n",
       "       '14-07-2014', '15-07-2014', '16-07-2014', '17-07-2014',\n",
       "       '18-07-2014', '19-07-2014', '20-07-2014', '21-07-2014',\n",
       "       '22-07-2014', '23-07-2014', '24-07-2014', '25-07-2014',\n",
       "       '26-07-2014', '27-07-2014', '28-07-2014', '29-07-2014',\n",
       "       '30-07-2014', '31-07-2014', '01-08-2014', '02-08-2014',\n",
       "       '03-08-2014', '04-08-2014', '05-08-2014', '06-08-2014',\n",
       "       '07-08-2014', '08-08-2014', '09-08-2014', '10-08-2014',\n",
       "       '11-08-2014', '12-08-2014', '13-08-2014', '14-08-2014',\n",
       "       '15-08-2014', '16-08-2014', '17-08-2014', '18-08-2014',\n",
       "       '19-08-2014', '20-08-2014', '21-08-2014', '22-08-2014',\n",
       "       '23-08-2014', '24-08-2014', '25-08-2014', '26-08-2014',\n",
       "       '27-08-2014', '28-08-2014', '29-08-2014', '30-08-2014',\n",
       "       '30-06-2015', '01-07-2015', '02-07-2015', '03-07-2015',\n",
       "       '04-07-2015', '05-07-2015', '06-07-2015', '07-07-2015',\n",
       "       '08-07-2015', '09-07-2015', '10-07-2015', '11-07-2015',\n",
       "       '12-07-2015', '13-07-2015', '14-07-2015', '15-07-2015',\n",
       "       '16-07-2015', '17-07-2015', '18-07-2015', '19-07-2015',\n",
       "       '20-07-2015', '21-07-2015', '22-07-2015', '23-07-2015',\n",
       "       '24-07-2015', '25-07-2015', '26-07-2015', '27-07-2015',\n",
       "       '28-07-2015', '29-07-2015', '30-07-2015', '31-07-2015',\n",
       "       '01-08-2015', '02-08-2015', '03-08-2015', '04-08-2015',\n",
       "       '05-08-2015', '06-08-2015', '07-08-2015', '08-08-2015',\n",
       "       '09-08-2015', '10-08-2015', '11-08-2015', '12-08-2015',\n",
       "       '13-08-2015', '14-08-2015', '15-08-2015', '16-08-2015',\n",
       "       '17-08-2015', '18-08-2015', '19-08-2015', '20-08-2015',\n",
       "       '21-08-2015', '22-08-2015', '23-08-2015', '24-08-2015',\n",
       "       '25-08-2015', '26-08-2015', '27-08-2015', '28-08-2015',\n",
       "       '29-08-2015', '30-08-2015', '30-06-2016', '01-07-2016',\n",
       "       '02-07-2016', '03-07-2016', '04-07-2016', '05-07-2016',\n",
       "       '06-07-2016', '07-07-2016', '08-07-2016', '09-07-2016',\n",
       "       '10-07-2016', '11-07-2016', '12-07-2016', '13-07-2016',\n",
       "       '14-07-2016', '15-07-2016', '16-07-2016', '17-07-2016',\n",
       "       '18-07-2016', '19-07-2016', '20-07-2016', '21-07-2016',\n",
       "       '22-07-2016', '23-07-2016', '24-07-2016', '25-07-2016',\n",
       "       '26-07-2016', '27-07-2016', '28-07-2016', '29-07-2016',\n",
       "       '30-07-2016', '31-07-2016', '01-08-2016', '02-08-2016',\n",
       "       '03-08-2016', '04-08-2016', '05-08-2016', '06-08-2016',\n",
       "       '07-08-2016', '08-08-2016', '09-08-2016', '10-08-2016',\n",
       "       '11-08-2016', '12-08-2016', '13-08-2016', '14-08-2016',\n",
       "       '15-08-2016', '16-08-2016', '17-08-2016', '18-08-2016',\n",
       "       '19-08-2016', '20-08-2016', '21-08-2016', '22-08-2016',\n",
       "       '23-08-2016', '24-08-2016', '25-08-2016', '26-08-2016',\n",
       "       '27-08-2016', '28-08-2016', '29-08-2016', '30-08-2016',\n",
       "       '30-06-2017', '01-07-2017', '02-07-2017', '03-07-2017',\n",
       "       '04-07-2017', '05-07-2017', '06-07-2017', '07-07-2017',\n",
       "       '08-07-2017', '09-07-2017', '10-07-2017', '11-07-2017',\n",
       "       '12-07-2017', '13-07-2017', '14-07-2017', '15-07-2017',\n",
       "       '16-07-2017', '17-07-2017', '18-07-2017', '19-07-2017',\n",
       "       '20-07-2017', '21-07-2017', '22-07-2017', '23-07-2017',\n",
       "       '24-07-2017', '25-07-2017', '26-07-2017', '27-07-2017',\n",
       "       '28-07-2017', '29-07-2017', '30-07-2017', '31-07-2017',\n",
       "       '01-08-2017', '02-08-2017', '03-08-2017', '04-08-2017',\n",
       "       '05-08-2017', '06-08-2017', '07-08-2017', '08-08-2017',\n",
       "       '09-08-2017', '10-08-2017', '11-08-2017', '12-08-2017',\n",
       "       '13-08-2017', '14-08-2017', '15-08-2017', '16-08-2017',\n",
       "       '17-08-2017', '18-08-2017', '19-08-2017', '20-08-2017',\n",
       "       '21-08-2017', '22-08-2017', '23-08-2017', '24-08-2017',\n",
       "       '25-08-2017', '26-08-2017', '27-08-2017', '28-08-2017',\n",
       "       '29-08-2017', '30-08-2017', '0.00'], dtype=object)"
      ]
     },
     "execution_count": 551,
     "metadata": {},
     "output_type": "execute_result"
    }
   ],
   "source": [
    "df.Date.unique()"
   ]
  },
  {
   "cell_type": "markdown",
   "metadata": {},
   "source": [
    "this shows the unique occurance of date in our dataset."
   ]
  },
  {
   "cell_type": "code",
   "execution_count": 552,
   "metadata": {},
   "outputs": [
    {
     "data": {
      "text/plain": [
       "18-08-2015    25\n",
       "12-08-2016    25\n",
       "13-07-2015    25\n",
       "23-07-2016    25\n",
       "10-08-2013    25\n",
       "              ..\n",
       "16-07-2014    25\n",
       "07-07-2014    25\n",
       "05-07-2015    25\n",
       "21-08-2017    25\n",
       "0.00           2\n",
       "Name: Date, Length: 311, dtype: int64"
      ]
     },
     "execution_count": 552,
     "metadata": {},
     "output_type": "execute_result"
    }
   ],
   "source": [
    "df.Date.value_counts()"
   ]
  },
  {
   "cell_type": "markdown",
   "metadata": {},
   "source": [
    "this shows the no. of date are repeated in our dataset."
   ]
  },
  {
   "cell_type": "code",
   "execution_count": 553,
   "metadata": {},
   "outputs": [],
   "source": [
    "ordinal_features=['Date']"
   ]
  },
  {
   "cell_type": "code",
   "execution_count": 554,
   "metadata": {},
   "outputs": [],
   "source": [
    "date_ordering=sorted(df['Date'].unique())"
   ]
  },
  {
   "cell_type": "code",
   "execution_count": 555,
   "metadata": {},
   "outputs": [
    {
     "data": {
      "text/plain": [
       "70"
      ]
     },
     "execution_count": 555,
     "metadata": {},
     "output_type": "execute_result"
    }
   ],
   "source": [
    "date_ordering.index('07-08-2017')"
   ]
  },
  {
   "cell_type": "markdown",
   "metadata": {},
   "source": [
    "this shows the location of 07-08-2017th date in the list is 70"
   ]
  },
  {
   "cell_type": "code",
   "execution_count": 556,
   "metadata": {},
   "outputs": [
    {
     "data": {
      "text/plain": [
       "79"
      ]
     },
     "execution_count": 556,
     "metadata": {},
     "output_type": "execute_result"
    }
   ],
   "source": [
    "date_ordering.index('08-08-2016')"
   ]
  },
  {
   "cell_type": "markdown",
   "metadata": {},
   "source": [
    "this shows the location of 08-08-2016th date in the list is 79"
   ]
  },
  {
   "cell_type": "code",
   "execution_count": 557,
   "metadata": {},
   "outputs": [],
   "source": [
    "import seaborn as sns"
   ]
  },
  {
   "cell_type": "code",
   "execution_count": 558,
   "metadata": {},
   "outputs": [
    {
     "data": {
      "text/plain": [
       "<AxesSubplot:>"
      ]
     },
     "execution_count": 558,
     "metadata": {},
     "output_type": "execute_result"
    },
    {
     "data": {
      "image/png": "[encoded data removed]",
      "text/plain": [
       "<Figure size 432x288 with 2 Axes>"
      ]
     },
     "metadata": {
      "needs_background": "light"
     },
     "output_type": "display_data"
    }
   ],
   "source": [
    "sns.heatmap(df.isnull())"
   ]
  },
  {
   "cell_type": "markdown",
   "metadata": {},
   "source": [
    "we can see there is no missing value found all features lies around 0.00"
   ]
  },
  {
   "cell_type": "code",
   "execution_count": 461,
   "metadata": {},
   "outputs": [
    {
     "data": {
      "text/plain": [
       "Index(['Date', 'Present_Tmax', 'Present_Tmin', 'LDAPS_RHmin', 'LDAPS_RHmax',\n",
       "       'LDAPS_Tmax_lapse', 'LDAPS_Tmin_lapse', 'LDAPS_WS', 'LDAPS_LH',\n",
       "       'LDAPS_CC1', 'LDAPS_CC2', 'LDAPS_CC3', 'LDAPS_CC4', 'LDAPS_PPT1',\n",
       "       'LDAPS_PPT2', 'LDAPS_PPT3', 'LDAPS_PPT4', 'lat', 'lon', 'DEM', 'Slope',\n",
       "       'Solar radiation', 'Next_Tmax', 'Next_Tmin'],\n",
       "      dtype='object')"
      ]
     },
     "execution_count": 461,
     "metadata": {},
     "output_type": "execute_result"
    }
   ],
   "source": [
    "df.columns"
   ]
  },
  {
   "cell_type": "markdown",
   "metadata": {},
   "source": [
    "these are the columns in our dataset"
   ]
  },
  {
   "cell_type": "code",
   "execution_count": 462,
   "metadata": {},
   "outputs": [],
   "source": [
    "df_visualization_continuous=df[['Date', 'Present_Tmax', 'Present_Tmin', 'LDAPS_RHmin', 'LDAPS_RHmax',\n",
    "       'LDAPS_Tmax_lapse', 'LDAPS_Tmin_lapse', 'LDAPS_WS', 'LDAPS_LH',\n",
    "       'LDAPS_CC1', 'LDAPS_CC2', 'LDAPS_CC3', 'LDAPS_CC4', 'LDAPS_PPT1',\n",
    "       'LDAPS_PPT2', 'LDAPS_PPT3', 'LDAPS_PPT4', 'lat', 'lon', 'DEM', 'Slope',\n",
    "       'Solar radiation', 'Next_Tmax', 'Next_Tmin']].copy()"
   ]
  },
  {
   "cell_type": "code",
   "execution_count": 463,
   "metadata": {},
   "outputs": [
    {
     "data": {
      "text/plain": [
       "<AxesSubplot:xlabel='Present_Tmax', ylabel='Density'>"
      ]
     },
     "execution_count": 463,
     "metadata": {},
     "output_type": "execute_result"
    },
    {
     "data": {
      "image/png": "[encoded data removed]",
      "text/plain": [
       "<Figure size 432x288 with 1 Axes>"
      ]
     },
     "metadata": {
      "needs_background": "light"
     },
     "output_type": "display_data"
    }
   ],
   "source": [
    "sns.distplot(df_visualization_continuous['Present_Tmax'],kde=True)"
   ]
  },
  {
   "cell_type": "markdown",
   "metadata": {},
   "source": [
    "in this we can see present maximum  temp. reaches from 20 to 40 "
   ]
  },
  {
   "cell_type": "code",
   "execution_count": 561,
   "metadata": {},
   "outputs": [
    {
     "data": {
      "text/plain": [
       "<AxesSubplot:xlabel='Present_Tmin', ylabel='Density'>"
      ]
     },
     "execution_count": 561,
     "metadata": {},
     "output_type": "execute_result"
    },
    {
     "data": {
      "image/png": "[encoded data removed]",
      "text/plain": [
       "<Figure size 432x288 with 1 Axes>"
      ]
     },
     "metadata": {
      "needs_background": "light"
     },
     "output_type": "display_data"
    }
   ],
   "source": [
    "sns.distplot(df_visualization_continuous['Present_Tmin'],kde=True)"
   ]
  },
  {
   "cell_type": "markdown",
   "metadata": {},
   "source": [
    "this shows the continuous values max. lies between 20 to 25."
   ]
  },
  {
   "cell_type": "code",
   "execution_count": 465,
   "metadata": {},
   "outputs": [
    {
     "data": {
      "text/plain": [
       "<AxesSubplot:xlabel='Slope', ylabel='Density'>"
      ]
     },
     "execution_count": 465,
     "metadata": {},
     "output_type": "execute_result"
    },
    {
     "data": {
      "image/png": "[encoded data removed]",
      "text/plain": [
       "<Figure size 432x288 with 1 Axes>"
      ]
     },
     "metadata": {
      "needs_background": "light"
     },
     "output_type": "display_data"
    }
   ],
   "source": [
    "sns.distplot(df_visualization_continuous['Slope'],kde=True)"
   ]
  },
  {
   "cell_type": "markdown",
   "metadata": {},
   "source": [
    "in this we can see the distribution of slope values from the dataset"
   ]
  },
  {
   "cell_type": "code",
   "execution_count": 466,
   "metadata": {},
   "outputs": [
    {
     "data": {
      "text/plain": [
       "<AxesSubplot:xlabel='lat', ylabel='Density'>"
      ]
     },
     "execution_count": 466,
     "metadata": {},
     "output_type": "execute_result"
    },
    {
     "data": {
      "image/png": "[encoded data removed]",
      "text/plain": [
       "<Figure size 432x288 with 1 Axes>"
      ]
     },
     "metadata": {
      "needs_background": "light"
     },
     "output_type": "display_data"
    }
   ],
   "source": [
    "sns.distplot(df_visualization_continuous['lat'],kde=True)"
   ]
  },
  {
   "cell_type": "markdown",
   "metadata": {},
   "source": [
    "in this we can see the distribution of lat values via distplot."
   ]
  },
  {
   "cell_type": "code",
   "execution_count": 467,
   "metadata": {},
   "outputs": [
    {
     "data": {
      "text/plain": [
       "<AxesSubplot:xlabel='lon', ylabel='Density'>"
      ]
     },
     "execution_count": 467,
     "metadata": {},
     "output_type": "execute_result"
    },
    {
     "data": {
      "image/png": "[encoded data removed]",
      "text/plain": [
       "<Figure size 432x288 with 1 Axes>"
      ]
     },
     "metadata": {
      "needs_background": "light"
     },
     "output_type": "display_data"
    }
   ],
   "source": [
    "sns.distplot(df_visualization_continuous['lon'],kde=True)"
   ]
  },
  {
   "cell_type": "markdown",
   "metadata": {},
   "source": [
    "in this we can see the distribution of 'lon' values reaches max. 127 approx"
   ]
  },
  {
   "cell_type": "code",
   "execution_count": 468,
   "metadata": {},
   "outputs": [
    {
     "data": {
      "text/plain": [
       "<AxesSubplot:ylabel='Frequency'>"
      ]
     },
     "execution_count": 468,
     "metadata": {},
     "output_type": "execute_result"
    },
    {
     "data": {
      "image/png": "[encoded data removed]",
      "text/plain": [
       "<Figure size 432x288 with 1 Axes>"
      ]
     },
     "metadata": {
      "needs_background": "light"
     },
     "output_type": "display_data"
    }
   ],
   "source": [
    "df['DEM'].plot.hist()"
   ]
  },
  {
   "cell_type": "markdown",
   "metadata": {},
   "source": [
    "In this we can see the 'DEM' values reaches max. upto 2800 approx"
   ]
  },
  {
   "cell_type": "code",
   "execution_count": 469,
   "metadata": {},
   "outputs": [
    {
     "data": {
      "text/plain": [
       "<AxesSubplot:xlabel='Solar radiation', ylabel='Density'>"
      ]
     },
     "execution_count": 469,
     "metadata": {},
     "output_type": "execute_result"
    },
    {
     "data": {
      "image/png": "[encoded data removed]",
      "text/plain": [
       "<Figure size 432x288 with 1 Axes>"
      ]
     },
     "metadata": {
      "needs_background": "light"
     },
     "output_type": "display_data"
    }
   ],
   "source": [
    "sns.distplot(df_visualization_continuous['Solar radiation'],kde=True)"
   ]
  },
  {
   "cell_type": "markdown",
   "metadata": {},
   "source": [
    "in this we can see the values of solar radiation reaches max. between 5500 to 6000 approx."
   ]
  },
  {
   "cell_type": "code",
   "execution_count": 562,
   "metadata": {},
   "outputs": [
    {
     "data": {
      "text/plain": [
       "<AxesSubplot:xlabel='LDAPS_RHmin', ylabel='Density'>"
      ]
     },
     "execution_count": 562,
     "metadata": {},
     "output_type": "execute_result"
    },
    {
     "data": {
      "image/png": "[encoded data removed]",
      "text/plain": [
       "<Figure size 432x288 with 1 Axes>"
      ]
     },
     "metadata": {
      "needs_background": "light"
     },
     "output_type": "display_data"
    }
   ],
   "source": [
    "sns.distplot(df_visualization_continuous['LDAPS_RHmin'],kde=True)"
   ]
  },
  {
   "cell_type": "markdown",
   "metadata": {},
   "source": [
    "this graph shows the univariate distribution of LDAPS_RHmin values."
   ]
  },
  {
   "cell_type": "code",
   "execution_count": 471,
   "metadata": {},
   "outputs": [
    {
     "data": {
      "text/plain": [
       "<AxesSubplot:xlabel='LDAPS_RHmax', ylabel='Density'>"
      ]
     },
     "execution_count": 471,
     "metadata": {},
     "output_type": "execute_result"
    },
    {
     "data": {
      "image/png": "[encoded data removed]",
      "text/plain": [
       "<Figure size 432x288 with 1 Axes>"
      ]
     },
     "metadata": {
      "needs_background": "light"
     },
     "output_type": "display_data"
    }
   ],
   "source": [
    "sns.distplot(df_visualization_continuous['LDAPS_RHmax'],kde=True)"
   ]
  },
  {
   "cell_type": "markdown",
   "metadata": {},
   "source": [
    "this graph shows the univariate distribution of LDAPS_RHmax values."
   ]
  },
  {
   "cell_type": "code",
   "execution_count": 472,
   "metadata": {},
   "outputs": [
    {
     "data": {
      "text/plain": [
       "<AxesSubplot:xlabel='LDAPS_Tmax_lapse', ylabel='Density'>"
      ]
     },
     "execution_count": 472,
     "metadata": {},
     "output_type": "execute_result"
    },
    {
     "data": {
      "image/png": "[encoded data removed]",
      "text/plain": [
       "<Figure size 432x288 with 1 Axes>"
      ]
     },
     "metadata": {
      "needs_background": "light"
     },
     "output_type": "display_data"
    }
   ],
   "source": [
    "sns.distplot(df_visualization_continuous['LDAPS_Tmax_lapse'],kde=True)"
   ]
  },
  {
   "cell_type": "markdown",
   "metadata": {},
   "source": [
    "this shows the distribution of LDAPS_Tmax_lapse values "
   ]
  },
  {
   "cell_type": "code",
   "execution_count": 473,
   "metadata": {},
   "outputs": [
    {
     "data": {
      "text/plain": [
       "<AxesSubplot:xlabel='LDAPS_Tmin_lapse', ylabel='Density'>"
      ]
     },
     "execution_count": 473,
     "metadata": {},
     "output_type": "execute_result"
    },
    {
     "data": {
      "image/png": "[encoded data removed]",
      "text/plain": [
       "<Figure size 432x288 with 1 Axes>"
      ]
     },
     "metadata": {
      "needs_background": "light"
     },
     "output_type": "display_data"
    }
   ],
   "source": [
    "sns.distplot(df_visualization_continuous['LDAPS_Tmin_lapse'],kde=True)"
   ]
  },
  {
   "cell_type": "markdown",
   "metadata": {},
   "source": [
    "this shows the univariate distribution of LDAPS_Tmin_lapse values."
   ]
  },
  {
   "cell_type": "code",
   "execution_count": 474,
   "metadata": {},
   "outputs": [
    {
     "data": {
      "text/plain": [
       "<AxesSubplot:xlabel='LDAPS_WS', ylabel='Density'>"
      ]
     },
     "execution_count": 474,
     "metadata": {},
     "output_type": "execute_result"
    },
    {
     "data": {
      "image/png": "[encoded data removed]",
      "text/plain": [
       "<Figure size 432x288 with 1 Axes>"
      ]
     },
     "metadata": {
      "needs_background": "light"
     },
     "output_type": "display_data"
    }
   ],
   "source": [
    "sns.distplot(df_visualization_continuous['LDAPS_WS'],kde=True)"
   ]
  },
  {
   "cell_type": "markdown",
   "metadata": {},
   "source": [
    "this shows the univariate distribution of LDAPS_WS values."
   ]
  },
  {
   "cell_type": "code",
   "execution_count": 475,
   "metadata": {},
   "outputs": [
    {
     "data": {
      "text/plain": [
       "<AxesSubplot:xlabel='LDAPS_LH', ylabel='Density'>"
      ]
     },
     "execution_count": 475,
     "metadata": {},
     "output_type": "execute_result"
    },
    {
     "data": {
      "image/png": "[encoded data removed]",
      "text/plain": [
       "<Figure size 432x288 with 1 Axes>"
      ]
     },
     "metadata": {
      "needs_background": "light"
     },
     "output_type": "display_data"
    }
   ],
   "source": [
    "sns.distplot(df_visualization_continuous['LDAPS_LH'],kde=True)"
   ]
  },
  {
   "cell_type": "markdown",
   "metadata": {},
   "source": [
    "this shows the univariate distribution of LDAPS_LH values."
   ]
  },
  {
   "cell_type": "code",
   "execution_count": 476,
   "metadata": {},
   "outputs": [
    {
     "data": {
      "text/plain": [
       "<AxesSubplot:xlabel='LDAPS_CC1', ylabel='Density'>"
      ]
     },
     "execution_count": 476,
     "metadata": {},
     "output_type": "execute_result"
    },
    {
     "data": {
      "image/png": "[encoded data removed]",
      "text/plain": [
       "<Figure size 432x288 with 1 Axes>"
      ]
     },
     "metadata": {
      "needs_background": "light"
     },
     "output_type": "display_data"
    }
   ],
   "source": [
    "sns.distplot(df_visualization_continuous['LDAPS_CC1'],kde=True)"
   ]
  },
  {
   "cell_type": "markdown",
   "metadata": {},
   "source": [
    "This shows the univariate analysis of LDAPS_CC1 values."
   ]
  },
  {
   "cell_type": "code",
   "execution_count": 477,
   "metadata": {},
   "outputs": [
    {
     "data": {
      "text/plain": [
       "<AxesSubplot:xlabel='LDAPS_CC2', ylabel='Density'>"
      ]
     },
     "execution_count": 477,
     "metadata": {},
     "output_type": "execute_result"
    },
    {
     "data": {
      "image/png": "[encoded data removed]",
      "text/plain": [
       "<Figure size 432x288 with 1 Axes>"
      ]
     },
     "metadata": {
      "needs_background": "light"
     },
     "output_type": "display_data"
    }
   ],
   "source": [
    "sns.distplot(df_visualization_continuous['LDAPS_CC2'],kde=True)"
   ]
  },
  {
   "cell_type": "markdown",
   "metadata": {},
   "source": [
    "This shows the distribution of LDAPS_CC2 values"
   ]
  },
  {
   "cell_type": "code",
   "execution_count": 478,
   "metadata": {},
   "outputs": [
    {
     "data": {
      "text/plain": [
       "<AxesSubplot:xlabel='LDAPS_CC3', ylabel='Density'>"
      ]
     },
     "execution_count": 478,
     "metadata": {},
     "output_type": "execute_result"
    },
    {
     "data": {
      "image/png": "[encoded data removed]",
      "text/plain": [
       "<Figure size 432x288 with 1 Axes>"
      ]
     },
     "metadata": {
      "needs_background": "light"
     },
     "output_type": "display_data"
    }
   ],
   "source": [
    "sns.distplot(df_visualization_continuous['LDAPS_CC3'],kde=True)"
   ]
  },
  {
   "cell_type": "markdown",
   "metadata": {},
   "source": [
    "This shows the univariate distribution of LDAPS_CC3 values."
   ]
  },
  {
   "cell_type": "code",
   "execution_count": 479,
   "metadata": {},
   "outputs": [
    {
     "data": {
      "text/plain": [
       "<AxesSubplot:xlabel='LDAPS_CC4', ylabel='Density'>"
      ]
     },
     "execution_count": 479,
     "metadata": {},
     "output_type": "execute_result"
    },
    {
     "data": {
      "image/png": "[encoded data removed]",
      "text/plain": [
       "<Figure size 432x288 with 1 Axes>"
      ]
     },
     "metadata": {
      "needs_background": "light"
     },
     "output_type": "display_data"
    }
   ],
   "source": [
    "sns.distplot(df_visualization_continuous['LDAPS_CC4'],kde=True)"
   ]
  },
  {
   "cell_type": "markdown",
   "metadata": {},
   "source": [
    "this shows the distribution of continous float values of LDAPS_CC4 Column."
   ]
  },
  {
   "cell_type": "code",
   "execution_count": 480,
   "metadata": {},
   "outputs": [
    {
     "data": {
      "text/plain": [
       "<AxesSubplot:xlabel='LDAPS_PPT1', ylabel='Density'>"
      ]
     },
     "execution_count": 480,
     "metadata": {},
     "output_type": "execute_result"
    },
    {
     "data": {
      "image/png": "[encoded data removed]",
      "text/plain": [
       "<Figure size 432x288 with 1 Axes>"
      ]
     },
     "metadata": {
      "needs_background": "light"
     },
     "output_type": "display_data"
    }
   ],
   "source": [
    "sns.distplot(df_visualization_continuous['LDAPS_PPT1'],kde=True)"
   ]
  },
  {
   "cell_type": "markdown",
   "metadata": {},
   "source": [
    "this shows the distribution of Ldaps_ppt1 column values which is less skewed."
   ]
  },
  {
   "cell_type": "code",
   "execution_count": 481,
   "metadata": {},
   "outputs": [
    {
     "data": {
      "text/plain": [
       "<AxesSubplot:xlabel='LDAPS_PPT2', ylabel='Density'>"
      ]
     },
     "execution_count": 481,
     "metadata": {},
     "output_type": "execute_result"
    },
    {
     "data": {
      "image/png": "[encoded data removed]",
      "text/plain": [
       "<Figure size 432x288 with 1 Axes>"
      ]
     },
     "metadata": {
      "needs_background": "light"
     },
     "output_type": "display_data"
    }
   ],
   "source": [
    "sns.distplot(df_visualization_continuous['LDAPS_PPT2'],kde=True)"
   ]
  },
  {
   "cell_type": "markdown",
   "metadata": {},
   "source": [
    "from the above graph we see that distribution of LDAPS_PPT2 column which is also less skewed."
   ]
  },
  {
   "cell_type": "code",
   "execution_count": 482,
   "metadata": {},
   "outputs": [
    {
     "data": {
      "text/plain": [
       "<AxesSubplot:xlabel='LDAPS_PPT3', ylabel='Density'>"
      ]
     },
     "execution_count": 482,
     "metadata": {},
     "output_type": "execute_result"
    },
    {
     "data": {
      "image/png": "[encoded data removed]",
      "text/plain": [
       "<Figure size 432x288 with 1 Axes>"
      ]
     },
     "metadata": {
      "needs_background": "light"
     },
     "output_type": "display_data"
    }
   ],
   "source": [
    "sns.distplot(df_visualization_continuous['LDAPS_PPT3'],kde=True)"
   ]
  },
  {
   "cell_type": "markdown",
   "metadata": {},
   "source": [
    "from the above graph we see that distribution of LDAPS_PPT3 column which is also less skewed."
   ]
  },
  {
   "cell_type": "code",
   "execution_count": 483,
   "metadata": {},
   "outputs": [
    {
     "data": {
      "text/plain": [
       "<AxesSubplot:xlabel='LDAPS_PPT4', ylabel='Density'>"
      ]
     },
     "execution_count": 483,
     "metadata": {},
     "output_type": "execute_result"
    },
    {
     "data": {
      "image/png": "[encoded data removed]",
      "text/plain": [
       "<Figure size 432x288 with 1 Axes>"
      ]
     },
     "metadata": {
      "needs_background": "light"
     },
     "output_type": "display_data"
    }
   ],
   "source": [
    "sns.distplot(df_visualization_continuous['LDAPS_PPT4'],kde=True)"
   ]
  },
  {
   "cell_type": "markdown",
   "metadata": {},
   "source": [
    "from the above graph we see that distribution of LDAPS_PPT4 column which is also less skewed."
   ]
  },
  {
   "cell_type": "code",
   "execution_count": 570,
   "metadata": {},
   "outputs": [
    {
     "data": {
      "text/plain": [
       "<seaborn.axisgrid.JointGrid at 0x2b2bc606610>"
      ]
     },
     "execution_count": 570,
     "metadata": {},
     "output_type": "execute_result"
    },
    {
     "data": {
      "image/png": "[encoded data removed]",
      "text/plain": [
       "<Figure size 432x432 with 3 Axes>"
      ]
     },
     "metadata": {
      "needs_background": "light"
     },
     "output_type": "display_data"
    }
   ],
   "source": [
    "sns.jointplot(x='lon',y='Slope',kind='kde',data=df)"
   ]
  },
  {
   "cell_type": "markdown",
   "metadata": {},
   "source": [
    "as we can see the correlation between lon and slope via jointplot."
   ]
  },
  {
   "cell_type": "code",
   "execution_count": 571,
   "metadata": {},
   "outputs": [
    {
     "data": {
      "text/plain": [
       "<seaborn.axisgrid.JointGrid at 0x2b2bc73bdc0>"
      ]
     },
     "execution_count": 571,
     "metadata": {},
     "output_type": "execute_result"
    },
    {
     "data": {
      "image/png": "[encoded data removed]",
      "text/plain": [
       "<Figure size 432x432 with 3 Axes>"
      ]
     },
     "metadata": {
      "needs_background": "light"
     },
     "output_type": "display_data"
    }
   ],
   "source": [
    "sns.jointplot(x='lon',y='lat',kind='kde',data=df)"
   ]
  },
  {
   "cell_type": "markdown",
   "metadata": {},
   "source": [
    "this shows the correlation between lon and lat via jointplot."
   ]
  },
  {
   "cell_type": "code",
   "execution_count": 575,
   "metadata": {},
   "outputs": [
    {
     "data": {
      "text/plain": [
       "<matplotlib.collections.PathCollection at 0x2b2bd5ea370>"
      ]
     },
     "execution_count": 575,
     "metadata": {},
     "output_type": "execute_result"
    },
    {
     "data": {
      "image/png": "[encoded data removed]",
      "text/plain": [
       "<Figure size 432x288 with 1 Axes>"
      ]
     },
     "metadata": {
      "needs_background": "light"
     },
     "output_type": "display_data"
    }
   ],
   "source": [
    "plt.scatter(df['DEM'],df['Slope'])"
   ]
  },
  {
   "cell_type": "markdown",
   "metadata": {},
   "source": [
    "in this we can see the some outliers present when we compare slope with DEM."
   ]
  },
  {
   "cell_type": "code",
   "execution_count": null,
   "metadata": {},
   "outputs": [],
   "source": []
  },
  {
   "cell_type": "code",
   "execution_count": 576,
   "metadata": {},
   "outputs": [
    {
     "data": {
      "text/plain": [
       "<matplotlib.collections.PathCollection at 0x2b2bd942b20>"
      ]
     },
     "execution_count": 576,
     "metadata": {},
     "output_type": "execute_result"
    },
    {
     "data": {
      "image/png": "[encoded data removed]",
      "text/plain": [
       "<Figure size 432x288 with 1 Axes>"
      ]
     },
     "metadata": {
      "needs_background": "light"
     },
     "output_type": "display_data"
    }
   ],
   "source": [
    "plt.scatter(df['DEM'],df['lat'])"
   ]
  },
  {
   "cell_type": "markdown",
   "metadata": {},
   "source": [
    "in this we can see the some outliers present when we compare lat with DEM."
   ]
  },
  {
   "cell_type": "code",
   "execution_count": null,
   "metadata": {},
   "outputs": [],
   "source": []
  },
  {
   "cell_type": "code",
   "execution_count": null,
   "metadata": {},
   "outputs": [],
   "source": []
  },
  {
   "cell_type": "code",
   "execution_count": 574,
   "metadata": {},
   "outputs": [
    {
     "data": {
      "text/plain": [
       "<seaborn.axisgrid.PairGrid at 0x2b2bc83e880>"
      ]
     },
     "execution_count": 574,
     "metadata": {},
     "output_type": "execute_result"
    },
    {
     "data": {
      "image/png": "[encoded data removed]",
      "text/plain": [
       "<Figure size 900x900 with 30 Axes>"
      ]
     },
     "metadata": {
      "needs_background": "light"
     },
     "output_type": "display_data"
    }
   ],
   "source": [
    "sns.pairplot(df)"
   ]
  },
  {
   "cell_type": "markdown",
   "metadata": {},
   "source": [
    "this shows the correlation between the column variables."
   ]
  },
  {
   "cell_type": "code",
   "execution_count": 486,
   "metadata": {},
   "outputs": [],
   "source": [
    "df.drop(['Date','LDAPS_PPT1','LDAPS_PPT2','LDAPS_PPT3','LDAPS_PPT4'],axis=1,inplace=True)"
   ]
  },
  {
   "cell_type": "code",
   "execution_count": 487,
   "metadata": {},
   "outputs": [
    {
     "data": {
      "text/html": [
       "<div>\n",
       "<style scoped>\n",
       "    .dataframe tbody tr th:only-of-type {\n",
       "        vertical-align: middle;\n",
       "    }\n",
       "\n",
       "    .dataframe tbody tr th {\n",
       "        vertical-align: top;\n",
       "    }\n",
       "\n",
       "    .dataframe thead th {\n",
       "        text-align: right;\n",
       "    }\n",
       "</style>\n",
       "<table border=\"1\" class=\"dataframe\">\n",
       "  <thead>\n",
       "    <tr style=\"text-align: right;\">\n",
       "      <th></th>\n",
       "      <th>Present_Tmax</th>\n",
       "      <th>Present_Tmin</th>\n",
       "      <th>LDAPS_RHmin</th>\n",
       "      <th>LDAPS_RHmax</th>\n",
       "      <th>LDAPS_Tmax_lapse</th>\n",
       "      <th>LDAPS_Tmin_lapse</th>\n",
       "      <th>LDAPS_WS</th>\n",
       "      <th>LDAPS_LH</th>\n",
       "      <th>LDAPS_CC1</th>\n",
       "      <th>LDAPS_CC2</th>\n",
       "      <th>LDAPS_CC3</th>\n",
       "      <th>LDAPS_CC4</th>\n",
       "      <th>lat</th>\n",
       "      <th>lon</th>\n",
       "      <th>DEM</th>\n",
       "      <th>Slope</th>\n",
       "      <th>Solar radiation</th>\n",
       "      <th>Next_Tmax</th>\n",
       "      <th>Next_Tmin</th>\n",
       "    </tr>\n",
       "  </thead>\n",
       "  <tbody>\n",
       "    <tr>\n",
       "      <th>0</th>\n",
       "      <td>28.7</td>\n",
       "      <td>21.4</td>\n",
       "      <td>58.2557</td>\n",
       "      <td>91.1164</td>\n",
       "      <td>28.0741</td>\n",
       "      <td>23.0069</td>\n",
       "      <td>6.81889</td>\n",
       "      <td>69.4518</td>\n",
       "      <td>0.233947</td>\n",
       "      <td>0.203896</td>\n",
       "      <td>0.161697</td>\n",
       "      <td>0.130928</td>\n",
       "      <td>37.6046</td>\n",
       "      <td>126.991</td>\n",
       "      <td>212.3350</td>\n",
       "      <td>2.785000</td>\n",
       "      <td>5992.895996</td>\n",
       "      <td>29.1</td>\n",
       "      <td>21.2</td>\n",
       "    </tr>\n",
       "    <tr>\n",
       "      <th>1</th>\n",
       "      <td>31.9</td>\n",
       "      <td>21.6</td>\n",
       "      <td>52.2634</td>\n",
       "      <td>90.6047</td>\n",
       "      <td>29.8507</td>\n",
       "      <td>24.035</td>\n",
       "      <td>5.69189</td>\n",
       "      <td>51.9374</td>\n",
       "      <td>0.225508</td>\n",
       "      <td>0.251771</td>\n",
       "      <td>0.159444</td>\n",
       "      <td>0.127727</td>\n",
       "      <td>37.6046</td>\n",
       "      <td>127.032</td>\n",
       "      <td>44.7624</td>\n",
       "      <td>0.514100</td>\n",
       "      <td>5869.312500</td>\n",
       "      <td>30.5</td>\n",
       "      <td>22.5</td>\n",
       "    </tr>\n",
       "    <tr>\n",
       "      <th>2</th>\n",
       "      <td>31.6</td>\n",
       "      <td>23.3</td>\n",
       "      <td>48.6905</td>\n",
       "      <td>83.9736</td>\n",
       "      <td>30.0913</td>\n",
       "      <td>24.5656</td>\n",
       "      <td>6.13822</td>\n",
       "      <td>20.573</td>\n",
       "      <td>0.209344</td>\n",
       "      <td>0.257469</td>\n",
       "      <td>0.204091</td>\n",
       "      <td>0.142125</td>\n",
       "      <td>37.5776</td>\n",
       "      <td>127.058</td>\n",
       "      <td>33.3068</td>\n",
       "      <td>0.266100</td>\n",
       "      <td>5863.555664</td>\n",
       "      <td>31.1</td>\n",
       "      <td>23.9</td>\n",
       "    </tr>\n",
       "    <tr>\n",
       "      <th>3</th>\n",
       "      <td>32</td>\n",
       "      <td>23.4</td>\n",
       "      <td>58.2398</td>\n",
       "      <td>96.4837</td>\n",
       "      <td>29.7046</td>\n",
       "      <td>23.3262</td>\n",
       "      <td>5.65005</td>\n",
       "      <td>65.7271</td>\n",
       "      <td>0.216372</td>\n",
       "      <td>0.226002</td>\n",
       "      <td>0.161157</td>\n",
       "      <td>0.134249</td>\n",
       "      <td>37.6450</td>\n",
       "      <td>127.022</td>\n",
       "      <td>45.7160</td>\n",
       "      <td>2.534800</td>\n",
       "      <td>5856.964844</td>\n",
       "      <td>31.7</td>\n",
       "      <td>24.3</td>\n",
       "    </tr>\n",
       "    <tr>\n",
       "      <th>4</th>\n",
       "      <td>31.4</td>\n",
       "      <td>21.9</td>\n",
       "      <td>56.1741</td>\n",
       "      <td>90.1551</td>\n",
       "      <td>29.1139</td>\n",
       "      <td>23.4865</td>\n",
       "      <td>5.735</td>\n",
       "      <td>107.966</td>\n",
       "      <td>0.151407</td>\n",
       "      <td>0.249995</td>\n",
       "      <td>0.178892</td>\n",
       "      <td>0.170021</td>\n",
       "      <td>37.5507</td>\n",
       "      <td>127.135</td>\n",
       "      <td>35.0380</td>\n",
       "      <td>0.505500</td>\n",
       "      <td>5859.552246</td>\n",
       "      <td>31.2</td>\n",
       "      <td>22.5</td>\n",
       "    </tr>\n",
       "    <tr>\n",
       "      <th>...</th>\n",
       "      <td>...</td>\n",
       "      <td>...</td>\n",
       "      <td>...</td>\n",
       "      <td>...</td>\n",
       "      <td>...</td>\n",
       "      <td>...</td>\n",
       "      <td>...</td>\n",
       "      <td>...</td>\n",
       "      <td>...</td>\n",
       "      <td>...</td>\n",
       "      <td>...</td>\n",
       "      <td>...</td>\n",
       "      <td>...</td>\n",
       "      <td>...</td>\n",
       "      <td>...</td>\n",
       "      <td>...</td>\n",
       "      <td>...</td>\n",
       "      <td>...</td>\n",
       "      <td>...</td>\n",
       "    </tr>\n",
       "    <tr>\n",
       "      <th>7747</th>\n",
       "      <td>23.3</td>\n",
       "      <td>17.1</td>\n",
       "      <td>26.7413</td>\n",
       "      <td>78.8699</td>\n",
       "      <td>26.3521</td>\n",
       "      <td>18.7757</td>\n",
       "      <td>6.14892</td>\n",
       "      <td>72.0583</td>\n",
       "      <td>0.0300342</td>\n",
       "      <td>0.081035</td>\n",
       "      <td>0</td>\n",
       "      <td>0</td>\n",
       "      <td>37.5372</td>\n",
       "      <td>126.891</td>\n",
       "      <td>15.5876</td>\n",
       "      <td>0.155400</td>\n",
       "      <td>4443.313965</td>\n",
       "      <td>28.3</td>\n",
       "      <td>18.1</td>\n",
       "    </tr>\n",
       "    <tr>\n",
       "      <th>7748</th>\n",
       "      <td>23.3</td>\n",
       "      <td>17.7</td>\n",
       "      <td>24.0406</td>\n",
       "      <td>77.295</td>\n",
       "      <td>27.0102</td>\n",
       "      <td>18.7335</td>\n",
       "      <td>6.54282</td>\n",
       "      <td>47.2415</td>\n",
       "      <td>0.0358738</td>\n",
       "      <td>0.0749624</td>\n",
       "      <td>0</td>\n",
       "      <td>0</td>\n",
       "      <td>37.5237</td>\n",
       "      <td>126.909</td>\n",
       "      <td>17.2956</td>\n",
       "      <td>0.222300</td>\n",
       "      <td>4438.373535</td>\n",
       "      <td>28.6</td>\n",
       "      <td>18.8</td>\n",
       "    </tr>\n",
       "    <tr>\n",
       "      <th>7749</th>\n",
       "      <td>23.2</td>\n",
       "      <td>17.4</td>\n",
       "      <td>22.933</td>\n",
       "      <td>77.2437</td>\n",
       "      <td>27.9395</td>\n",
       "      <td>18.523</td>\n",
       "      <td>7.28926</td>\n",
       "      <td>9.09003</td>\n",
       "      <td>0.0489535</td>\n",
       "      <td>0.0598686</td>\n",
       "      <td>0</td>\n",
       "      <td>0.000796153</td>\n",
       "      <td>37.5237</td>\n",
       "      <td>126.970</td>\n",
       "      <td>19.5844</td>\n",
       "      <td>0.271300</td>\n",
       "      <td>4451.345215</td>\n",
       "      <td>27.8</td>\n",
       "      <td>17.4</td>\n",
       "    </tr>\n",
       "    <tr>\n",
       "      <th>7750</th>\n",
       "      <td>20</td>\n",
       "      <td>11.3</td>\n",
       "      <td>19.7947</td>\n",
       "      <td>58.9363</td>\n",
       "      <td>17.625</td>\n",
       "      <td>14.2726</td>\n",
       "      <td>2.88258</td>\n",
       "      <td>-13.6032</td>\n",
       "      <td>0</td>\n",
       "      <td>0</td>\n",
       "      <td>0</td>\n",
       "      <td>0</td>\n",
       "      <td>37.4562</td>\n",
       "      <td>126.826</td>\n",
       "      <td>12.3700</td>\n",
       "      <td>0.098475</td>\n",
       "      <td>4329.520508</td>\n",
       "      <td>17.4</td>\n",
       "      <td>11.3</td>\n",
       "    </tr>\n",
       "    <tr>\n",
       "      <th>7751</th>\n",
       "      <td>37.6</td>\n",
       "      <td>29.9</td>\n",
       "      <td>98.5247</td>\n",
       "      <td>100</td>\n",
       "      <td>38.5423</td>\n",
       "      <td>29.6193</td>\n",
       "      <td>21.8576</td>\n",
       "      <td>213.414</td>\n",
       "      <td>0.967277</td>\n",
       "      <td>0.968353</td>\n",
       "      <td>0.983789</td>\n",
       "      <td>0.97471</td>\n",
       "      <td>37.6450</td>\n",
       "      <td>127.135</td>\n",
       "      <td>212.3350</td>\n",
       "      <td>5.178230</td>\n",
       "      <td>5992.895996</td>\n",
       "      <td>38.9</td>\n",
       "      <td>29.8</td>\n",
       "    </tr>\n",
       "  </tbody>\n",
       "</table>\n",
       "<p>7752 rows × 19 columns</p>\n",
       "</div>"
      ],
      "text/plain": [
       "     Present_Tmax Present_Tmin LDAPS_RHmin LDAPS_RHmax LDAPS_Tmax_lapse  \\\n",
       "0            28.7         21.4     58.2557     91.1164          28.0741   \n",
       "1            31.9         21.6     52.2634     90.6047          29.8507   \n",
       "2            31.6         23.3     48.6905     83.9736          30.0913   \n",
       "3              32         23.4     58.2398     96.4837          29.7046   \n",
       "4            31.4         21.9     56.1741     90.1551          29.1139   \n",
       "...           ...          ...         ...         ...              ...   \n",
       "7747         23.3         17.1     26.7413     78.8699          26.3521   \n",
       "7748         23.3         17.7     24.0406      77.295          27.0102   \n",
       "7749         23.2         17.4      22.933     77.2437          27.9395   \n",
       "7750           20         11.3     19.7947     58.9363           17.625   \n",
       "7751         37.6         29.9     98.5247         100          38.5423   \n",
       "\n",
       "     LDAPS_Tmin_lapse LDAPS_WS LDAPS_LH  LDAPS_CC1  LDAPS_CC2 LDAPS_CC3  \\\n",
       "0             23.0069  6.81889  69.4518   0.233947   0.203896  0.161697   \n",
       "1              24.035  5.69189  51.9374   0.225508   0.251771  0.159444   \n",
       "2             24.5656  6.13822   20.573   0.209344   0.257469  0.204091   \n",
       "3             23.3262  5.65005  65.7271   0.216372   0.226002  0.161157   \n",
       "4             23.4865    5.735  107.966   0.151407   0.249995  0.178892   \n",
       "...               ...      ...      ...        ...        ...       ...   \n",
       "7747          18.7757  6.14892  72.0583  0.0300342   0.081035         0   \n",
       "7748          18.7335  6.54282  47.2415  0.0358738  0.0749624         0   \n",
       "7749           18.523  7.28926  9.09003  0.0489535  0.0598686         0   \n",
       "7750          14.2726  2.88258 -13.6032          0          0         0   \n",
       "7751          29.6193  21.8576  213.414   0.967277   0.968353  0.983789   \n",
       "\n",
       "        LDAPS_CC4      lat      lon       DEM     Slope  Solar radiation  \\\n",
       "0        0.130928  37.6046  126.991  212.3350  2.785000      5992.895996   \n",
       "1        0.127727  37.6046  127.032   44.7624  0.514100      5869.312500   \n",
       "2        0.142125  37.5776  127.058   33.3068  0.266100      5863.555664   \n",
       "3        0.134249  37.6450  127.022   45.7160  2.534800      5856.964844   \n",
       "4        0.170021  37.5507  127.135   35.0380  0.505500      5859.552246   \n",
       "...           ...      ...      ...       ...       ...              ...   \n",
       "7747            0  37.5372  126.891   15.5876  0.155400      4443.313965   \n",
       "7748            0  37.5237  126.909   17.2956  0.222300      4438.373535   \n",
       "7749  0.000796153  37.5237  126.970   19.5844  0.271300      4451.345215   \n",
       "7750            0  37.4562  126.826   12.3700  0.098475      4329.520508   \n",
       "7751      0.97471  37.6450  127.135  212.3350  5.178230      5992.895996   \n",
       "\n",
       "     Next_Tmax Next_Tmin  \n",
       "0         29.1      21.2  \n",
       "1         30.5      22.5  \n",
       "2         31.1      23.9  \n",
       "3         31.7      24.3  \n",
       "4         31.2      22.5  \n",
       "...        ...       ...  \n",
       "7747      28.3      18.1  \n",
       "7748      28.6      18.8  \n",
       "7749      27.8      17.4  \n",
       "7750      17.4      11.3  \n",
       "7751      38.9      29.8  \n",
       "\n",
       "[7752 rows x 19 columns]"
      ]
     },
     "execution_count": 487,
     "metadata": {},
     "output_type": "execute_result"
    }
   ],
   "source": [
    "df"
   ]
  },
  {
   "cell_type": "markdown",
   "metadata": {},
   "source": [
    "we can see the our dataset having numeric values so there is no need to apply Label encoding."
   ]
  },
  {
   "cell_type": "code",
   "execution_count": null,
   "metadata": {},
   "outputs": [],
   "source": []
  },
  {
   "cell_type": "code",
   "execution_count": 488,
   "metadata": {},
   "outputs": [
    {
     "data": {
      "text/plain": [
       "Present_Tmax       -0.274152\n",
       "Present_Tmin       -3.232442\n",
       "LDAPS_RHmin        -0.113889\n",
       "LDAPS_RHmax        -4.712138\n",
       "LDAPS_Tmax_lapse   -3.457452\n",
       "LDAPS_Tmin_lapse   -3.573353\n",
       "LDAPS_WS            1.163684\n",
       "LDAPS_LH            0.635208\n",
       "LDAPS_CC1           0.460727\n",
       "LDAPS_CC2           0.474379\n",
       "LDAPS_CC3           0.643064\n",
       "LDAPS_CC4           0.671739\n",
       "lat                 0.087062\n",
       "lon                -0.285213\n",
       "DEM                 1.723257\n",
       "Slope               1.563020\n",
       "Solar radiation    -0.511210\n",
       "Next_Tmax          -2.213759\n",
       "Next_Tmin          -2.049088\n",
       "dtype: float64"
      ]
     },
     "execution_count": 488,
     "metadata": {},
     "output_type": "execute_result"
    }
   ],
   "source": [
    "df.skew()\n"
   ]
  },
  {
   "cell_type": "markdown",
   "metadata": {},
   "source": [
    "this shows the skewness of the columns of dataset."
   ]
  },
  {
   "cell_type": "code",
   "execution_count": 489,
   "metadata": {},
   "outputs": [
    {
     "data": {
      "text/html": [
       "<div>\n",
       "<style scoped>\n",
       "    .dataframe tbody tr th:only-of-type {\n",
       "        vertical-align: middle;\n",
       "    }\n",
       "\n",
       "    .dataframe tbody tr th {\n",
       "        vertical-align: top;\n",
       "    }\n",
       "\n",
       "    .dataframe thead th {\n",
       "        text-align: right;\n",
       "    }\n",
       "</style>\n",
       "<table border=\"1\" class=\"dataframe\">\n",
       "  <thead>\n",
       "    <tr style=\"text-align: right;\">\n",
       "      <th></th>\n",
       "      <th>lat</th>\n",
       "      <th>lon</th>\n",
       "      <th>DEM</th>\n",
       "      <th>Slope</th>\n",
       "      <th>Solar radiation</th>\n",
       "    </tr>\n",
       "  </thead>\n",
       "  <tbody>\n",
       "    <tr>\n",
       "      <th>lat</th>\n",
       "      <td>1.000000</td>\n",
       "      <td>0.289029</td>\n",
       "      <td>0.033165</td>\n",
       "      <td>0.074763</td>\n",
       "      <td>0.038513</td>\n",
       "    </tr>\n",
       "    <tr>\n",
       "      <th>lon</th>\n",
       "      <td>0.289029</td>\n",
       "      <td>1.000000</td>\n",
       "      <td>0.007587</td>\n",
       "      <td>0.038070</td>\n",
       "      <td>0.002182</td>\n",
       "    </tr>\n",
       "    <tr>\n",
       "      <th>DEM</th>\n",
       "      <td>0.033165</td>\n",
       "      <td>0.007587</td>\n",
       "      <td>1.000000</td>\n",
       "      <td>0.783576</td>\n",
       "      <td>0.056224</td>\n",
       "    </tr>\n",
       "    <tr>\n",
       "      <th>Slope</th>\n",
       "      <td>0.074763</td>\n",
       "      <td>0.038070</td>\n",
       "      <td>0.783576</td>\n",
       "      <td>1.000000</td>\n",
       "      <td>0.028199</td>\n",
       "    </tr>\n",
       "    <tr>\n",
       "      <th>Solar radiation</th>\n",
       "      <td>0.038513</td>\n",
       "      <td>0.002182</td>\n",
       "      <td>0.056224</td>\n",
       "      <td>0.028199</td>\n",
       "      <td>1.000000</td>\n",
       "    </tr>\n",
       "  </tbody>\n",
       "</table>\n",
       "</div>"
      ],
      "text/plain": [
       "                      lat       lon       DEM     Slope  Solar radiation\n",
       "lat              1.000000  0.289029  0.033165  0.074763         0.038513\n",
       "lon              0.289029  1.000000  0.007587  0.038070         0.002182\n",
       "DEM              0.033165  0.007587  1.000000  0.783576         0.056224\n",
       "Slope            0.074763  0.038070  0.783576  1.000000         0.028199\n",
       "Solar radiation  0.038513  0.002182  0.056224  0.028199         1.000000"
      ]
     },
     "execution_count": 489,
     "metadata": {},
     "output_type": "execute_result"
    }
   ],
   "source": [
    "df.corr()"
   ]
  },
  {
   "cell_type": "markdown",
   "metadata": {},
   "source": [
    "this shows the correlation among the variables from each other."
   ]
  },
  {
   "cell_type": "code",
   "execution_count": 560,
   "metadata": {},
   "outputs": [
    {
     "data": {
      "image/png": "[encoded data removed]",
      "text/plain": [
       "<Figure size 720x576 with 2 Axes>"
      ]
     },
     "metadata": {
      "needs_background": "light"
     },
     "output_type": "display_data"
    }
   ],
   "source": [
    "corr_hmap=df.corr()\n",
    "plt.figure(figsize=(10,8))\n",
    "sns.heatmap(corr_hmap,annot=True)\n",
    "plt.show()"
   ]
  },
  {
   "cell_type": "markdown",
   "metadata": {},
   "source": [
    "these shows the column wise correllation among them."
   ]
  },
  {
   "cell_type": "code",
   "execution_count": 490,
   "metadata": {},
   "outputs": [
    {
     "data": {
      "text/html": [
       "<div>\n",
       "<style scoped>\n",
       "    .dataframe tbody tr th:only-of-type {\n",
       "        vertical-align: middle;\n",
       "    }\n",
       "\n",
       "    .dataframe tbody tr th {\n",
       "        vertical-align: top;\n",
       "    }\n",
       "\n",
       "    .dataframe thead th {\n",
       "        text-align: right;\n",
       "    }\n",
       "</style>\n",
       "<table border=\"1\" class=\"dataframe\">\n",
       "  <thead>\n",
       "    <tr style=\"text-align: right;\">\n",
       "      <th></th>\n",
       "      <th>Present_Tmax</th>\n",
       "      <th>Present_Tmin</th>\n",
       "      <th>LDAPS_RHmin</th>\n",
       "      <th>LDAPS_RHmax</th>\n",
       "      <th>LDAPS_Tmax_lapse</th>\n",
       "      <th>LDAPS_Tmin_lapse</th>\n",
       "      <th>LDAPS_WS</th>\n",
       "      <th>LDAPS_LH</th>\n",
       "      <th>LDAPS_CC1</th>\n",
       "      <th>LDAPS_CC2</th>\n",
       "      <th>LDAPS_CC3</th>\n",
       "      <th>LDAPS_CC4</th>\n",
       "      <th>lat</th>\n",
       "      <th>lon</th>\n",
       "      <th>DEM</th>\n",
       "      <th>Slope</th>\n",
       "      <th>Solar radiation</th>\n",
       "      <th>Next_Tmax</th>\n",
       "    </tr>\n",
       "  </thead>\n",
       "  <tbody>\n",
       "    <tr>\n",
       "      <th>0</th>\n",
       "      <td>28.7</td>\n",
       "      <td>21.4</td>\n",
       "      <td>58.2557</td>\n",
       "      <td>91.1164</td>\n",
       "      <td>28.0741</td>\n",
       "      <td>23.0069</td>\n",
       "      <td>6.81889</td>\n",
       "      <td>69.4518</td>\n",
       "      <td>0.233947</td>\n",
       "      <td>0.203896</td>\n",
       "      <td>0.161697</td>\n",
       "      <td>0.130928</td>\n",
       "      <td>37.6046</td>\n",
       "      <td>126.991</td>\n",
       "      <td>212.3350</td>\n",
       "      <td>2.7850</td>\n",
       "      <td>5992.895996</td>\n",
       "      <td>29.1</td>\n",
       "    </tr>\n",
       "    <tr>\n",
       "      <th>1</th>\n",
       "      <td>31.9</td>\n",
       "      <td>21.6</td>\n",
       "      <td>52.2634</td>\n",
       "      <td>90.6047</td>\n",
       "      <td>29.8507</td>\n",
       "      <td>24.035</td>\n",
       "      <td>5.69189</td>\n",
       "      <td>51.9374</td>\n",
       "      <td>0.225508</td>\n",
       "      <td>0.251771</td>\n",
       "      <td>0.159444</td>\n",
       "      <td>0.127727</td>\n",
       "      <td>37.6046</td>\n",
       "      <td>127.032</td>\n",
       "      <td>44.7624</td>\n",
       "      <td>0.5141</td>\n",
       "      <td>5869.312500</td>\n",
       "      <td>30.5</td>\n",
       "    </tr>\n",
       "    <tr>\n",
       "      <th>2</th>\n",
       "      <td>31.6</td>\n",
       "      <td>23.3</td>\n",
       "      <td>48.6905</td>\n",
       "      <td>83.9736</td>\n",
       "      <td>30.0913</td>\n",
       "      <td>24.5656</td>\n",
       "      <td>6.13822</td>\n",
       "      <td>20.573</td>\n",
       "      <td>0.209344</td>\n",
       "      <td>0.257469</td>\n",
       "      <td>0.204091</td>\n",
       "      <td>0.142125</td>\n",
       "      <td>37.5776</td>\n",
       "      <td>127.058</td>\n",
       "      <td>33.3068</td>\n",
       "      <td>0.2661</td>\n",
       "      <td>5863.555664</td>\n",
       "      <td>31.1</td>\n",
       "    </tr>\n",
       "    <tr>\n",
       "      <th>3</th>\n",
       "      <td>32</td>\n",
       "      <td>23.4</td>\n",
       "      <td>58.2398</td>\n",
       "      <td>96.4837</td>\n",
       "      <td>29.7046</td>\n",
       "      <td>23.3262</td>\n",
       "      <td>5.65005</td>\n",
       "      <td>65.7271</td>\n",
       "      <td>0.216372</td>\n",
       "      <td>0.226002</td>\n",
       "      <td>0.161157</td>\n",
       "      <td>0.134249</td>\n",
       "      <td>37.6450</td>\n",
       "      <td>127.022</td>\n",
       "      <td>45.7160</td>\n",
       "      <td>2.5348</td>\n",
       "      <td>5856.964844</td>\n",
       "      <td>31.7</td>\n",
       "    </tr>\n",
       "    <tr>\n",
       "      <th>4</th>\n",
       "      <td>31.4</td>\n",
       "      <td>21.9</td>\n",
       "      <td>56.1741</td>\n",
       "      <td>90.1551</td>\n",
       "      <td>29.1139</td>\n",
       "      <td>23.4865</td>\n",
       "      <td>5.735</td>\n",
       "      <td>107.966</td>\n",
       "      <td>0.151407</td>\n",
       "      <td>0.249995</td>\n",
       "      <td>0.178892</td>\n",
       "      <td>0.170021</td>\n",
       "      <td>37.5507</td>\n",
       "      <td>127.135</td>\n",
       "      <td>35.0380</td>\n",
       "      <td>0.5055</td>\n",
       "      <td>5859.552246</td>\n",
       "      <td>31.2</td>\n",
       "    </tr>\n",
       "  </tbody>\n",
       "</table>\n",
       "</div>"
      ],
      "text/plain": [
       "  Present_Tmax Present_Tmin LDAPS_RHmin LDAPS_RHmax LDAPS_Tmax_lapse  \\\n",
       "0         28.7         21.4     58.2557     91.1164          28.0741   \n",
       "1         31.9         21.6     52.2634     90.6047          29.8507   \n",
       "2         31.6         23.3     48.6905     83.9736          30.0913   \n",
       "3           32         23.4     58.2398     96.4837          29.7046   \n",
       "4         31.4         21.9     56.1741     90.1551          29.1139   \n",
       "\n",
       "  LDAPS_Tmin_lapse LDAPS_WS LDAPS_LH LDAPS_CC1 LDAPS_CC2 LDAPS_CC3 LDAPS_CC4  \\\n",
       "0          23.0069  6.81889  69.4518  0.233947  0.203896  0.161697  0.130928   \n",
       "1           24.035  5.69189  51.9374  0.225508  0.251771  0.159444  0.127727   \n",
       "2          24.5656  6.13822   20.573  0.209344  0.257469  0.204091  0.142125   \n",
       "3          23.3262  5.65005  65.7271  0.216372  0.226002  0.161157  0.134249   \n",
       "4          23.4865    5.735  107.966  0.151407  0.249995  0.178892  0.170021   \n",
       "\n",
       "       lat      lon       DEM   Slope  Solar radiation Next_Tmax  \n",
       "0  37.6046  126.991  212.3350  2.7850      5992.895996      29.1  \n",
       "1  37.6046  127.032   44.7624  0.5141      5869.312500      30.5  \n",
       "2  37.5776  127.058   33.3068  0.2661      5863.555664      31.1  \n",
       "3  37.6450  127.022   45.7160  2.5348      5856.964844      31.7  \n",
       "4  37.5507  127.135   35.0380  0.5055      5859.552246      31.2  "
      ]
     },
     "execution_count": 490,
     "metadata": {},
     "output_type": "execute_result"
    }
   ],
   "source": [
    "x=df.iloc[:,0:-1]\n",
    "x.head()"
   ]
  },
  {
   "cell_type": "code",
   "execution_count": 491,
   "metadata": {},
   "outputs": [
    {
     "data": {
      "text/plain": [
       "0    21.2\n",
       "1    22.5\n",
       "2    23.9\n",
       "3    24.3\n",
       "4    22.5\n",
       "Name: Next_Tmin, dtype: object"
      ]
     },
     "execution_count": 491,
     "metadata": {},
     "output_type": "execute_result"
    }
   ],
   "source": [
    "y=df.iloc[:,-1]\n",
    "y.head()"
   ]
  },
  {
   "cell_type": "code",
   "execution_count": 492,
   "metadata": {},
   "outputs": [
    {
     "data": {
      "text/plain": [
       "(7752, 18)"
      ]
     },
     "execution_count": 492,
     "metadata": {},
     "output_type": "execute_result"
    }
   ],
   "source": [
    "x.shape"
   ]
  },
  {
   "cell_type": "code",
   "execution_count": 493,
   "metadata": {},
   "outputs": [
    {
     "data": {
      "text/plain": [
       "(7752,)"
      ]
     },
     "execution_count": 493,
     "metadata": {},
     "output_type": "execute_result"
    }
   ],
   "source": [
    "y.shape"
   ]
  },
  {
   "cell_type": "code",
   "execution_count": 494,
   "metadata": {},
   "outputs": [],
   "source": [
    "from sklearn.preprocessing import MinMaxScaler\n",
    "mms=MinMaxScaler()\n",
    "from sklearn.linear_model import LinearRegression\n",
    "lr=LinearRegression()\n",
    "from sklearn.metrics import r2_score\n",
    "from sklearn.model_selection import train_test_split\n",
    "import warnings\n",
    "warnings.filterwarnings('ignore')"
   ]
  },
  {
   "cell_type": "code",
   "execution_count": 495,
   "metadata": {},
   "outputs": [
    {
     "name": "stdout",
     "output_type": "stream",
     "text": [
      "At random state0,the training accuracy is:- 0.8014919480065235\n",
      "At random state0,the testing accuracy is:- 0.8280974587997302\n",
      "\n",
      "\n",
      "At random state1,the training accuracy is:- 0.8118424375548979\n",
      "At random state1,the testing accuracy is:- 0.790222120786441\n",
      "\n",
      "\n",
      "At random state2,the training accuracy is:- 0.811285573724146\n",
      "At random state2,the testing accuracy is:- 0.7930854472186455\n",
      "\n",
      "\n",
      "At random state3,the training accuracy is:- 0.8054093864989812\n",
      "At random state3,the testing accuracy is:- 0.8168086286637214\n",
      "\n",
      "\n",
      "At random state4,the training accuracy is:- 0.8053900770454633\n",
      "At random state4,the testing accuracy is:- 0.8178240580274051\n",
      "\n",
      "\n",
      "At random state5,the training accuracy is:- 0.8079508668698461\n",
      "At random state5,the testing accuracy is:- 0.8069141250296162\n",
      "\n",
      "\n",
      "At random state6,the training accuracy is:- 0.8052189950628519\n",
      "At random state6,the testing accuracy is:- 0.8175516809018761\n",
      "\n",
      "\n",
      "At random state7,the training accuracy is:- 0.8071188105110725\n",
      "At random state7,the testing accuracy is:- 0.8104913985773201\n",
      "\n",
      "\n",
      "At random state8,the training accuracy is:- 0.8122940852882732\n",
      "At random state8,the testing accuracy is:- 0.7909393168828536\n",
      "\n",
      "\n",
      "At random state9,the training accuracy is:- 0.8083064040256096\n",
      "At random state9,the testing accuracy is:- 0.8057760735384808\n",
      "\n",
      "\n",
      "At random state10,the training accuracy is:- 0.7998027835676259\n",
      "At random state10,the testing accuracy is:- 0.8344750820417742\n",
      "\n",
      "\n",
      "At random state11,the training accuracy is:- 0.8135649371587647\n",
      "At random state11,the testing accuracy is:- 0.7793633017887795\n",
      "\n",
      "\n",
      "At random state12,the training accuracy is:- 0.7998357095312933\n",
      "At random state12,the testing accuracy is:- 0.8359325820162057\n",
      "\n",
      "\n",
      "At random state13,the training accuracy is:- 0.8059244620373416\n",
      "At random state13,the testing accuracy is:- 0.8139630119993458\n",
      "\n",
      "\n",
      "At random state14,the training accuracy is:- 0.8083142455973842\n",
      "At random state14,the testing accuracy is:- 0.8059200565771534\n",
      "\n",
      "\n",
      "At random state15,the training accuracy is:- 0.8112945527431539\n",
      "At random state15,the testing accuracy is:- 0.7941395388747836\n",
      "\n",
      "\n",
      "At random state16,the training accuracy is:- 0.8045234830509136\n",
      "At random state16,the testing accuracy is:- 0.8198634790791491\n",
      "\n",
      "\n",
      "At random state17,the training accuracy is:- 0.8122388167678138\n",
      "At random state17,the testing accuracy is:- 0.7883600421060308\n",
      "\n",
      "\n",
      "At random state18,the training accuracy is:- 0.8097082092277388\n",
      "At random state18,the testing accuracy is:- 0.7997976568276938\n",
      "\n",
      "\n",
      "At random state19,the training accuracy is:- 0.810061364922185\n",
      "At random state19,the testing accuracy is:- 0.7990300301596585\n",
      "\n",
      "\n",
      "At random state20,the training accuracy is:- 0.8112364084010344\n",
      "At random state20,the testing accuracy is:- 0.7912594933014065\n",
      "\n",
      "\n",
      "At random state21,the training accuracy is:- 0.8064352918108008\n",
      "At random state21,the testing accuracy is:- 0.8134670761649021\n",
      "\n",
      "\n",
      "At random state22,the training accuracy is:- 0.8087414793236332\n",
      "At random state22,the testing accuracy is:- 0.8036245084634595\n",
      "\n",
      "\n",
      "At random state23,the training accuracy is:- 0.8039641129923161\n",
      "At random state23,the testing accuracy is:- 0.8138487370249501\n",
      "\n",
      "\n",
      "At random state24,the training accuracy is:- 0.8127105568243892\n",
      "At random state24,the testing accuracy is:- 0.7863041277874574\n",
      "\n",
      "\n",
      "At random state25,the training accuracy is:- 0.8012040402303993\n",
      "At random state25,the testing accuracy is:- 0.8264026977572219\n",
      "\n",
      "\n",
      "At random state26,the training accuracy is:- 0.8142151409597664\n",
      "At random state26,the testing accuracy is:- 0.7777570698166056\n",
      "\n",
      "\n",
      "At random state27,the training accuracy is:- 0.8135138403107722\n",
      "At random state27,the testing accuracy is:- 0.7824816452752191\n",
      "\n",
      "\n",
      "At random state28,the training accuracy is:- 0.8083543932942446\n",
      "At random state28,the testing accuracy is:- 0.8054489289854219\n",
      "\n",
      "\n",
      "At random state29,the training accuracy is:- 0.8048719372684858\n",
      "At random state29,the testing accuracy is:- 0.817999420287213\n",
      "\n",
      "\n",
      "At random state30,the training accuracy is:- 0.8079672434543823\n",
      "At random state30,the testing accuracy is:- 0.8073168049663704\n",
      "\n",
      "\n",
      "At random state31,the training accuracy is:- 0.8072772092064628\n",
      "At random state31,the testing accuracy is:- 0.8098580387774975\n",
      "\n",
      "\n",
      "At random state32,the training accuracy is:- 0.8033276063722772\n",
      "At random state32,the testing accuracy is:- 0.8205180195596771\n",
      "\n",
      "\n",
      "At random state33,the training accuracy is:- 0.8098023687267759\n",
      "At random state33,the testing accuracy is:- 0.7998326282122974\n",
      "\n",
      "\n",
      "At random state34,the training accuracy is:- 0.8063670200305286\n",
      "At random state34,the testing accuracy is:- 0.8140248050568513\n",
      "\n",
      "\n",
      "At random state35,the training accuracy is:- 0.8098882956320222\n",
      "At random state35,the testing accuracy is:- 0.7985800605087205\n",
      "\n",
      "\n",
      "At random state36,the training accuracy is:- 0.8032795551201573\n",
      "At random state36,the testing accuracy is:- 0.824228754907789\n",
      "\n",
      "\n",
      "At random state37,the training accuracy is:- 0.8099813765324024\n",
      "At random state37,the testing accuracy is:- 0.7986616551574124\n",
      "\n",
      "\n",
      "At random state38,the training accuracy is:- 0.8025082434332398\n",
      "At random state38,the testing accuracy is:- 0.8280901675358289\n",
      "\n",
      "\n",
      "At random state39,the training accuracy is:- 0.8050347668724934\n",
      "At random state39,the testing accuracy is:- 0.8189282664102039\n",
      "\n",
      "\n",
      "At random state40,the training accuracy is:- 0.807940341752246\n",
      "At random state40,the testing accuracy is:- 0.8050507856396777\n",
      "\n",
      "\n",
      "At random state41,the training accuracy is:- 0.8101879846837068\n",
      "At random state41,the testing accuracy is:- 0.796872003099137\n",
      "\n",
      "\n",
      "At random state42,the training accuracy is:- 0.8070904414348471\n",
      "At random state42,the testing accuracy is:- 0.8108878498383881\n",
      "\n",
      "\n",
      "At random state43,the training accuracy is:- 0.810184516154947\n",
      "At random state43,the testing accuracy is:- 0.7992407071390963\n",
      "\n",
      "\n",
      "At random state44,the training accuracy is:- 0.8075682153458646\n",
      "At random state44,the testing accuracy is:- 0.8081944021302678\n",
      "\n",
      "\n",
      "At random state45,the training accuracy is:- 0.8114177908569641\n",
      "At random state45,the testing accuracy is:- 0.7906273398203245\n",
      "\n",
      "\n",
      "At random state46,the training accuracy is:- 0.8034897217685398\n",
      "At random state46,the testing accuracy is:- 0.8205155998668654\n",
      "\n",
      "\n",
      "At random state47,the training accuracy is:- 0.8089116100573581\n",
      "At random state47,the testing accuracy is:- 0.8024508487751756\n",
      "\n",
      "\n",
      "At random state48,the training accuracy is:- 0.8104800073459097\n",
      "At random state48,the testing accuracy is:- 0.7951291640632239\n",
      "\n",
      "\n",
      "At random state49,the training accuracy is:- 0.8051136323913693\n",
      "At random state49,the testing accuracy is:- 0.817424646082445\n",
      "\n",
      "\n",
      "At random state50,the training accuracy is:- 0.8161945938115138\n",
      "At random state50,the testing accuracy is:- 0.7666131007096577\n",
      "\n",
      "\n",
      "At random state51,the training accuracy is:- 0.8091298869285024\n",
      "At random state51,the testing accuracy is:- 0.8020753132214145\n",
      "\n",
      "\n",
      "At random state52,the training accuracy is:- 0.8046274024499289\n",
      "At random state52,the testing accuracy is:- 0.8201079313563401\n",
      "\n",
      "\n",
      "At random state53,the training accuracy is:- 0.8054499207366258\n",
      "At random state53,the testing accuracy is:- 0.8155504854204565\n",
      "\n",
      "\n",
      "At random state54,the training accuracy is:- 0.8098625122573824\n",
      "At random state54,the testing accuracy is:- 0.798180310959743\n",
      "\n",
      "\n",
      "At random state55,the training accuracy is:- 0.8110980252401143\n",
      "At random state55,the testing accuracy is:- 0.7925090297797002\n",
      "\n",
      "\n",
      "At random state56,the training accuracy is:- 0.807580921794101\n",
      "At random state56,the testing accuracy is:- 0.808168417959434\n",
      "\n",
      "\n",
      "At random state57,the training accuracy is:- 0.8094837628125254\n",
      "At random state57,the testing accuracy is:- 0.8012246686899475\n",
      "\n",
      "\n",
      "At random state58,the training accuracy is:- 0.7991747799704754\n",
      "At random state58,the testing accuracy is:- 0.8339928801724827\n",
      "\n",
      "\n",
      "At random state59,the training accuracy is:- 0.8094901617920922\n",
      "At random state59,the testing accuracy is:- 0.8015256962527755\n",
      "\n",
      "\n",
      "At random state60,the training accuracy is:- 0.8055525315273319\n",
      "At random state60,the testing accuracy is:- 0.8164311902224035\n",
      "\n",
      "\n",
      "At random state61,the training accuracy is:- 0.8013943292618998\n",
      "At random state61,the testing accuracy is:- 0.8299113410783631\n",
      "\n",
      "\n",
      "At random state62,the training accuracy is:- 0.8106660144287916\n",
      "At random state62,the testing accuracy is:- 0.7955417572001161\n",
      "\n",
      "\n",
      "At random state63,the training accuracy is:- 0.8096914874869199\n",
      "At random state63,the testing accuracy is:- 0.8000308111339074\n",
      "\n",
      "\n",
      "At random state64,the training accuracy is:- 0.8127385417124412\n",
      "At random state64,the testing accuracy is:- 0.7850246418579473\n",
      "\n",
      "\n",
      "At random state65,the training accuracy is:- 0.8130011542197807\n",
      "At random state65,the testing accuracy is:- 0.7847437620765103\n",
      "\n",
      "\n",
      "At random state66,the training accuracy is:- 0.8083789368061107\n",
      "At random state66,the testing accuracy is:- 0.805204393212391\n",
      "\n",
      "\n",
      "At random state67,the training accuracy is:- 0.8117914979485304\n",
      "At random state67,the testing accuracy is:- 0.7899818751228844\n",
      "\n",
      "\n",
      "At random state68,the training accuracy is:- 0.8091137611000379\n",
      "At random state68,the testing accuracy is:- 0.8024274042087753\n",
      "\n",
      "\n",
      "At random state69,the training accuracy is:- 0.8023392636727834\n",
      "At random state69,the testing accuracy is:- 0.8275899789607281\n",
      "\n",
      "\n",
      "At random state70,the training accuracy is:- 0.8132751076145912\n",
      "At random state70,the testing accuracy is:- 0.7842719204085118\n",
      "\n",
      "\n",
      "At random state71,the training accuracy is:- 0.8155501960287367\n",
      "At random state71,the testing accuracy is:- 0.7642841327635099\n",
      "\n",
      "\n",
      "At random state72,the training accuracy is:- 0.8070506456902778\n",
      "At random state72,the testing accuracy is:- 0.811304568113693\n",
      "\n",
      "\n",
      "At random state73,the training accuracy is:- 0.8095837247669313\n",
      "At random state73,the testing accuracy is:- 0.8010394506315168\n",
      "\n",
      "\n",
      "At random state74,the training accuracy is:- 0.8069013218880444\n",
      "At random state74,the testing accuracy is:- 0.8115849780614631\n",
      "\n",
      "\n",
      "At random state75,the training accuracy is:- 0.8117119296539126\n",
      "At random state75,the testing accuracy is:- 0.7887231924699737\n",
      "\n",
      "\n",
      "At random state76,the training accuracy is:- 0.8095847715267128\n",
      "At random state76,the testing accuracy is:- 0.8000390293604401\n",
      "\n",
      "\n",
      "At random state77,the training accuracy is:- 0.8071134637195072\n",
      "At random state77,the testing accuracy is:- 0.8101938988492537\n",
      "\n",
      "\n",
      "At random state78,the training accuracy is:- 0.8071512177426822\n",
      "At random state78,the testing accuracy is:- 0.810902271920365\n",
      "\n",
      "\n",
      "At random state79,the training accuracy is:- 0.8057982059788203\n",
      "At random state79,the testing accuracy is:- 0.8158857104564372\n",
      "\n",
      "\n",
      "At random state80,the training accuracy is:- 0.8088203985361737\n",
      "At random state80,the testing accuracy is:- 0.8029728218100141\n",
      "\n",
      "\n",
      "At random state81,the training accuracy is:- 0.8115911212774385\n",
      "At random state81,the testing accuracy is:- 0.7917501014710885\n",
      "\n",
      "\n",
      "At random state82,the training accuracy is:- 0.8031880025521476\n",
      "At random state82,the testing accuracy is:- 0.8245289300686635\n",
      "\n",
      "\n",
      "At random state83,the training accuracy is:- 0.814740633389719\n",
      "At random state83,the testing accuracy is:- 0.7713898120217327\n",
      "\n",
      "\n",
      "At random state84,the training accuracy is:- 0.8042708647682735\n",
      "At random state84,the testing accuracy is:- 0.8212159355445516\n",
      "\n",
      "\n",
      "At random state85,the training accuracy is:- 0.8053960328991937\n",
      "At random state85,the testing accuracy is:- 0.8174173079228797\n",
      "\n",
      "\n",
      "At random state86,the training accuracy is:- 0.8113625445264999\n",
      "At random state86,the testing accuracy is:- 0.7906745440311067\n",
      "\n",
      "\n",
      "At random state87,the training accuracy is:- 0.8137534010634604\n",
      "At random state87,the testing accuracy is:- 0.7828944842189683\n",
      "\n",
      "\n",
      "At random state88,the training accuracy is:- 0.8068910555864576\n",
      "At random state88,the testing accuracy is:- 0.8116930721642389\n",
      "\n",
      "\n",
      "At random state89,the training accuracy is:- 0.8064611333929077\n",
      "At random state89,the testing accuracy is:- 0.8131686387772493\n",
      "\n",
      "\n",
      "At random state90,the training accuracy is:- 0.8052665054046975\n",
      "At random state90,the testing accuracy is:- 0.8178513625995364\n",
      "\n",
      "\n",
      "At random state91,the training accuracy is:- 0.8089608868127116\n",
      "At random state91,the testing accuracy is:- 0.8029983974002248\n",
      "\n",
      "\n",
      "At random state92,the training accuracy is:- 0.8038070739047759\n",
      "At random state92,the testing accuracy is:- 0.8212703111867021\n",
      "\n",
      "\n",
      "At random state93,the training accuracy is:- 0.8071622721139353\n",
      "At random state93,the testing accuracy is:- 0.8107421544229378\n",
      "\n",
      "\n",
      "At random state94,the training accuracy is:- 0.813653701506927\n",
      "At random state94,the testing accuracy is:- 0.7818150619401302\n",
      "\n",
      "\n",
      "At random state95,the training accuracy is:- 0.8078095813298174\n",
      "At random state95,the testing accuracy is:- 0.8080255244412912\n",
      "\n",
      "\n",
      "At random state96,the training accuracy is:- 0.8082085969615984\n",
      "At random state96,the testing accuracy is:- 0.8065594704150547\n",
      "\n",
      "\n",
      "At random state97,the training accuracy is:- 0.815734936876805\n",
      "At random state97,the testing accuracy is:- 0.7724921387477096\n",
      "\n",
      "\n",
      "At random state98,the training accuracy is:- 0.7994204642381344\n",
      "At random state98,the testing accuracy is:- 0.8343731452102149\n",
      "\n",
      "\n",
      "At random state99,the training accuracy is:- 0.8052940236513764\n",
      "At random state99,the testing accuracy is:- 0.8160995818905321\n",
      "\n",
      "\n"
     ]
    }
   ],
   "source": [
    "for i in range(0,100):\n",
    "    x_train,x_test,y_train,y_test=train_test_split(x,y,test_size=0.2,random_state=i)\n",
    "    lr.fit(x_train,y_train)\n",
    "    pred_train=lr.predict(x_train)\n",
    "    pred_test=lr.predict(x_test)\n",
    "    print(f'At random state{i},the training accuracy is:- {r2_score(y_train,pred_train)}')\n",
    "    print(f'At random state{i},the testing accuracy is:- {r2_score(y_test,pred_test)}')\n",
    "    print('\\n')"
   ]
  },
  {
   "cell_type": "code",
   "execution_count": 496,
   "metadata": {},
   "outputs": [],
   "source": [
    "x_train,x_test,y_train,y_test=train_test_split(x,y,test_size=0.2,random_state=42)"
   ]
  },
  {
   "cell_type": "code",
   "execution_count": 497,
   "metadata": {},
   "outputs": [
    {
     "data": {
      "text/plain": [
       "(6201, 18)"
      ]
     },
     "execution_count": 497,
     "metadata": {},
     "output_type": "execute_result"
    }
   ],
   "source": [
    "x_train.shape"
   ]
  },
  {
   "cell_type": "code",
   "execution_count": 498,
   "metadata": {},
   "outputs": [
    {
     "data": {
      "text/plain": [
       "(6201,)"
      ]
     },
     "execution_count": 498,
     "metadata": {},
     "output_type": "execute_result"
    }
   ],
   "source": [
    "y_train.shape"
   ]
  },
  {
   "cell_type": "code",
   "execution_count": 499,
   "metadata": {},
   "outputs": [
    {
     "data": {
      "text/plain": [
       "LinearRegression()"
      ]
     },
     "execution_count": 499,
     "metadata": {},
     "output_type": "execute_result"
    }
   ],
   "source": [
    "lr.fit(x_train,y_train)"
   ]
  },
  {
   "cell_type": "code",
   "execution_count": 500,
   "metadata": {},
   "outputs": [],
   "source": [
    "pred_test=lr.predict(x_test)"
   ]
  },
  {
   "cell_type": "code",
   "execution_count": 501,
   "metadata": {},
   "outputs": [
    {
     "name": "stdout",
     "output_type": "stream",
     "text": [
      "0.8108878498383881\n"
     ]
    }
   ],
   "source": [
    "print(r2_score(y_test,pred_test))"
   ]
  },
  {
   "cell_type": "markdown",
   "metadata": {},
   "source": [
    "r2 score is 81%"
   ]
  },
  {
   "cell_type": "code",
   "execution_count": 502,
   "metadata": {},
   "outputs": [
    {
     "name": "stdout",
     "output_type": "stream",
     "text": [
      "At cross fold 2 the cv score is 0.7545159387312514 and accuracy score for traning is -0.736981522732362 and accuracy for the testing is  0.8108878498383881\n",
      "\n",
      "\n",
      "At cross fold 3 the cv score is 0.7246700762103107 and accuracy score for traning is -0.736981522732362 and accuracy for the testing is  0.8108878498383881\n",
      "\n",
      "\n",
      "At cross fold 4 the cv score is 0.7363131348039187 and accuracy score for traning is -0.736981522732362 and accuracy for the testing is  0.8108878498383881\n",
      "\n",
      "\n",
      "At cross fold 5 the cv score is 0.7240665812214294 and accuracy score for traning is -0.736981522732362 and accuracy for the testing is  0.8108878498383881\n",
      "\n",
      "\n",
      "At cross fold 6 the cv score is 0.7115422883576129 and accuracy score for traning is -0.736981522732362 and accuracy for the testing is  0.8108878498383881\n",
      "\n",
      "\n",
      "At cross fold 7 the cv score is 0.7281364722876783 and accuracy score for traning is -0.736981522732362 and accuracy for the testing is  0.8108878498383881\n",
      "\n",
      "\n",
      "At cross fold 8 the cv score is 0.7259254895767766 and accuracy score for traning is -0.736981522732362 and accuracy for the testing is  0.8108878498383881\n",
      "\n",
      "\n",
      "At cross fold 9 the cv score is 0.6469013022470355 and accuracy score for traning is -0.736981522732362 and accuracy for the testing is  0.8108878498383881\n",
      "\n",
      "\n"
     ]
    }
   ],
   "source": [
    "train_accuracy=r2_score(y_train,pred_train)\n",
    "test_accuracy=r2_score(y_test,pred_test)\n",
    "\n",
    "from sklearn.model_selection import cross_val_score\n",
    "for j in range(2,10):\n",
    "    cv_score=cross_val_score(lr,x,y,cv=j)\n",
    "    cv_mean=cv_score.mean()\n",
    "    print(f'At cross fold {j} the cv score is {cv_mean} and accuracy score for traning is {train_accuracy} and accuracy for the testing is  {r2_score(y_test,pred_test)}')\n",
    "    print('\\n')  "
   ]
  },
  {
   "cell_type": "markdown",
   "metadata": {},
   "source": [
    "since the no. of folds  don't have much impact on the accuarcy"
   ]
  },
  {
   "cell_type": "code",
   "execution_count": 503,
   "metadata": {},
   "outputs": [
    {
     "name": "stdout",
     "output_type": "stream",
     "text": [
      "{'criterion': 'mse', 'max_features': 'auto'}\n"
     ]
    }
   ],
   "source": [
    "from sklearn.model_selection import GridSearchCV\n",
    "from sklearn.ensemble import RandomForestRegressor\n",
    "\n",
    "parameters={'criterion':['mse','mae'],'max_features':['auto','sqrt','log2']}\n",
    "rf=RandomForestRegressor()\n",
    "clf=GridSearchCV(rf,parameters)\n",
    "clf.fit(x_train,y_train)\n",
    "print(clf.best_params_)"
   ]
  },
  {
   "cell_type": "code",
   "execution_count": 504,
   "metadata": {},
   "outputs": [],
   "source": [
    "rf=RandomForestRegressor(criterion='mse',max_features='auto')\n",
    "rf.fit(x_train,y_train)\n",
    "rf.score(x_train,y_train)\n",
    "pred_decision=rf.predict(x_test)"
   ]
  },
  {
   "cell_type": "code",
   "execution_count": 505,
   "metadata": {},
   "outputs": [
    {
     "name": "stdout",
     "output_type": "stream",
     "text": [
      "R2 Score: 92.96261196354773\n",
      "Cross Val Score: 82.66310281066374\n"
     ]
    }
   ],
   "source": [
    "rfs=r2_score(y_test,pred_decision)\n",
    "print('R2 Score:',rfs*100)\n",
    "rfscore=cross_val_score(rf,x,y,cv=5)\n",
    "rfc=rfscore.mean()\n",
    "print('Cross Val Score:',rfc*100)"
   ]
  },
  {
   "cell_type": "markdown",
   "metadata": {},
   "source": [
    "In this we can see the R2 score is approx 93% and cross val score is 83%."
   ]
  },
  {
   "cell_type": "code",
   "execution_count": 507,
   "metadata": {},
   "outputs": [
    {
     "name": "stdout",
     "output_type": "stream",
     "text": [
      "{'criterion': 'mse', 'max_features': 'auto'}\n"
     ]
    }
   ],
   "source": [
    "from sklearn.model_selection import GridSearchCV\n",
    "from sklearn.tree import DecisionTreeRegressor\n",
    "\n",
    "parameters={'criterion':['mse','mae'],'max_features':['auto','sqrt','log2']}\n",
    "dt=DecisionTreeRegressor()\n",
    "clf=GridSearchCV(dt,parameters)\n",
    "clf.fit(x_train,y_train)\n",
    "print(clf.best_params_)"
   ]
  },
  {
   "cell_type": "code",
   "execution_count": 508,
   "metadata": {},
   "outputs": [],
   "source": [
    "dt=DecisionTreeRegressor(criterion='mse',max_features='auto')\n",
    "dt.fit(x_train,y_train)\n",
    "dt.score(x_train,y_train)\n",
    "pred_decision=dt.predict(x_test)"
   ]
  },
  {
   "cell_type": "code",
   "execution_count": 509,
   "metadata": {},
   "outputs": [
    {
     "name": "stdout",
     "output_type": "stream",
     "text": [
      "R2 Score: 83.08654111447547\n",
      "Cross Val Score: 67.37373171276666\n"
     ]
    }
   ],
   "source": [
    "dts=r2_score(y_test,pred_decision)\n",
    "print('R2 Score:',dts*100)\n",
    "dtscore=cross_val_score(dt,x,y,cv=5)\n",
    "dtc=dtscore.mean()\n",
    "print('Cross Val Score:',dtc*100)"
   ]
  },
  {
   "cell_type": "markdown",
   "metadata": {},
   "source": [
    "in this we can see the R2 score is approx 83 % and cross validation score is 67.37%"
   ]
  },
  {
   "cell_type": "code",
   "execution_count": 510,
   "metadata": {},
   "outputs": [],
   "source": [
    "import pickle\n",
    "filename='temperatureprediction.pkl'\n",
    "pickle.dump(rf,open(filename,'wb'))"
   ]
  },
  {
   "cell_type": "code",
   "execution_count": 511,
   "metadata": {},
   "outputs": [
    {
     "name": "stdout",
     "output_type": "stream",
     "text": [
      "0.9901452014020371\n"
     ]
    }
   ],
   "source": [
    "loaded_model=pickle.load(open('temperatureprediction.pkl','rb'))\n",
    "result=loaded_model.score(x_train,y_train)\n",
    "print(result)"
   ]
  },
  {
   "cell_type": "markdown",
   "metadata": {},
   "source": [
    "the model score is 99%"
   ]
  },
  {
   "cell_type": "code",
   "execution_count": 512,
   "metadata": {},
   "outputs": [],
   "source": [
    "import pickle\n",
    "filename='flightpriceprediction.pkl'\n",
    "pickle.dump(dt,open(filename,'wb'))"
   ]
  },
  {
   "cell_type": "code",
   "execution_count": 513,
   "metadata": {},
   "outputs": [
    {
     "name": "stdout",
     "output_type": "stream",
     "text": [
      "1.0\n"
     ]
    }
   ],
   "source": [
    "loaded_model=pickle.load(open('flightpriceprediction.pkl','rb'))\n",
    "result=loaded_model.score(x_train,y_train)\n",
    "print(result)"
   ]
  },
  {
   "cell_type": "markdown",
   "metadata": {},
   "source": [
    "the model score is 100%"
   ]
  },
  {
   "cell_type": "code",
   "execution_count": 514,
   "metadata": {},
   "outputs": [],
   "source": [
    "conclusion=pd.DataFrame([loaded_model.predict(x_test)[:],pred_decision[:]],index=['predicted','original'])"
   ]
  },
  {
   "cell_type": "code",
   "execution_count": 515,
   "metadata": {},
   "outputs": [
    {
     "data": {
      "text/html": [
       "<div>\n",
       "<style scoped>\n",
       "    .dataframe tbody tr th:only-of-type {\n",
       "        vertical-align: middle;\n",
       "    }\n",
       "\n",
       "    .dataframe tbody tr th {\n",
       "        vertical-align: top;\n",
       "    }\n",
       "\n",
       "    .dataframe thead th {\n",
       "        text-align: right;\n",
       "    }\n",
       "</style>\n",
       "<table border=\"1\" class=\"dataframe\">\n",
       "  <thead>\n",
       "    <tr style=\"text-align: right;\">\n",
       "      <th></th>\n",
       "      <th>0</th>\n",
       "      <th>1</th>\n",
       "      <th>2</th>\n",
       "      <th>3</th>\n",
       "      <th>4</th>\n",
       "      <th>5</th>\n",
       "      <th>6</th>\n",
       "      <th>7</th>\n",
       "      <th>8</th>\n",
       "      <th>9</th>\n",
       "      <th>...</th>\n",
       "      <th>1541</th>\n",
       "      <th>1542</th>\n",
       "      <th>1543</th>\n",
       "      <th>1544</th>\n",
       "      <th>1545</th>\n",
       "      <th>1546</th>\n",
       "      <th>1547</th>\n",
       "      <th>1548</th>\n",
       "      <th>1549</th>\n",
       "      <th>1550</th>\n",
       "    </tr>\n",
       "  </thead>\n",
       "  <tbody>\n",
       "    <tr>\n",
       "      <th>predicted</th>\n",
       "      <td>21.1</td>\n",
       "      <td>27.0</td>\n",
       "      <td>21.6</td>\n",
       "      <td>24.7</td>\n",
       "      <td>25.6</td>\n",
       "      <td>19.4</td>\n",
       "      <td>25.7</td>\n",
       "      <td>21.4</td>\n",
       "      <td>26.0</td>\n",
       "      <td>23.3</td>\n",
       "      <td>...</td>\n",
       "      <td>24.4</td>\n",
       "      <td>21.4</td>\n",
       "      <td>20.5</td>\n",
       "      <td>22.9</td>\n",
       "      <td>20.1</td>\n",
       "      <td>21.8</td>\n",
       "      <td>22.9</td>\n",
       "      <td>23.9</td>\n",
       "      <td>20.2</td>\n",
       "      <td>20.7</td>\n",
       "    </tr>\n",
       "    <tr>\n",
       "      <th>original</th>\n",
       "      <td>21.1</td>\n",
       "      <td>27.0</td>\n",
       "      <td>21.6</td>\n",
       "      <td>24.7</td>\n",
       "      <td>25.6</td>\n",
       "      <td>19.4</td>\n",
       "      <td>25.7</td>\n",
       "      <td>21.4</td>\n",
       "      <td>26.0</td>\n",
       "      <td>23.3</td>\n",
       "      <td>...</td>\n",
       "      <td>24.4</td>\n",
       "      <td>21.4</td>\n",
       "      <td>20.5</td>\n",
       "      <td>22.9</td>\n",
       "      <td>20.1</td>\n",
       "      <td>21.8</td>\n",
       "      <td>22.9</td>\n",
       "      <td>23.9</td>\n",
       "      <td>20.2</td>\n",
       "      <td>20.7</td>\n",
       "    </tr>\n",
       "  </tbody>\n",
       "</table>\n",
       "<p>2 rows × 1551 columns</p>\n",
       "</div>"
      ],
      "text/plain": [
       "           0     1     2     3     4     5     6     7     8     9     ...  \\\n",
       "predicted  21.1  27.0  21.6  24.7  25.6  19.4  25.7  21.4  26.0  23.3  ...   \n",
       "original   21.1  27.0  21.6  24.7  25.6  19.4  25.7  21.4  26.0  23.3  ...   \n",
       "\n",
       "           1541  1542  1543  1544  1545  1546  1547  1548  1549  1550  \n",
       "predicted  24.4  21.4  20.5  22.9  20.1  21.8  22.9  23.9  20.2  20.7  \n",
       "original   24.4  21.4  20.5  22.9  20.1  21.8  22.9  23.9  20.2  20.7  \n",
       "\n",
       "[2 rows x 1551 columns]"
      ]
     },
     "execution_count": 515,
     "metadata": {},
     "output_type": "execute_result"
    }
   ],
   "source": [
    "conclusion"
   ]
  },
  {
   "cell_type": "markdown",
   "metadata": {},
   "source": [
    "from above we can see the final conclusion of our dataset."
   ]
  },
  {
   "cell_type": "code",
   "execution_count": null,
   "metadata": {},
   "outputs": [],
   "source": []
  },
  {
   "cell_type": "code",
   "execution_count": null,
   "metadata": {},
   "outputs": [],
   "source": []
  }
 ],
 "metadata": {
  "kernelspec": {
   "display_name": "Python 3",
   "language": "python",
   "name": "python3"
  },
  "language_info": {
   "codemirror_mode": {
    "name": "ipython",
    "version": 3
   },
   "file_extension": ".py",
   "mimetype": "text/x-python",
   "name": "python",
   "nbconvert_exporter": "python",
   "pygments_lexer": "ipython3",
   "version": "3.8.5"
  }
 },
 "nbformat": 4,
 "nbformat_minor": 4
}
