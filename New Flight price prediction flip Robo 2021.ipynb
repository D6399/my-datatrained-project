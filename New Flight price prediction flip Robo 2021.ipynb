{
 "cells": [
  {
   "cell_type": "code",
   "execution_count": 5,
   "metadata": {},
   "outputs": [],
   "source": [
    "import numpy as np\n",
    "import pandas as pd\n",
    "import matplotlib.pyplot as plt\n",
    "import seaborn as sns\n",
    "import pickle as pkl\n",
    "\n",
    "sns.set()\n",
    "\n",
    "from sklearn.model_selection import train_test_split, RandomizedSearchCV\n",
    "from sklearn.linear_model import LinearRegression, Ridge, Lasso, ElasticNet\n",
    "from sklearn.preprocessing import StandardScaler, PolynomialFeatures\n",
    "from sklearn.pipeline import make_pipeline\n",
    "from sklearn.model_selection import cross_val_score, train_test_split, KFold, GridSearchCV\n",
    "from sklearn.ensemble import RandomForestRegressor, ExtraTreesRegressor\n",
    "from sklearn import metrics\n"
   ]
  },
  {
   "cell_type": "code",
   "execution_count": 6,
   "metadata": {},
   "outputs": [],
   "source": [
    "df_1=pd.read_csv('PAR_NYC.csv')\n",
    "df_2 = pd.read_csv(\"PAR_SVO.csv\")\n",
    "df_3 = pd.read_csv(\"SVO_NYC.csv\")\n",
    "df_4 = pd.read_csv(\"SVO_RUH.csv\")\n",
    "df_5 = pd.read_csv(\"NYC_PAR.csv\")\n",
    "df_6 = pd.read_csv(\"NYC_SVO.csv\")\n",
    "df_7 = pd.read_csv(\"RUH_NYC.csv\")\n",
    "df_8 = pd.read_csv(\"RUH_PAR.csv\")\n",
    "df_9 = pd.read_csv(\"RUH_SVO.csv\")\n",
    "df_10 = pd.read_csv(\"SVO_PAR.csv\")\n",
    "df_11 = pd.read_csv(\"PAR_RUH.csv\")\n",
    "df_12 = pd.read_csv(\"NYC_RUH.csv\")\n"
   ]
  },
  {
   "cell_type": "code",
   "execution_count": 7,
   "metadata": {},
   "outputs": [
    {
     "name": "stdout",
     "output_type": "stream",
     "text": [
      "PAR => NYC route has 14881 trips\n",
      "PAR => SVO route has 2403 trips\n",
      "SVO => NYC route has 4202 trips\n",
      "SVO => RUH route has 2235 trips\n",
      "NYC => PAR route has 5334 trips\n",
      "NYC => SVO route has 1905 trips\n",
      "RUH => NYC route has 7279 trips\n",
      "RUH => PAR route has 553 trips\n",
      "RUH => SVO route has 2725 trips\n",
      "SVO => PAR route has 3314 trips\n",
      "PAR => RUH route has 7327 trips\n",
      "NYC => RUH route has 3205 trips\n"
     ]
    }
   ],
   "source": [
    "print(f\"{df_1['Source'][0]} => {df_1['Destination'][0]} route has {df_1.shape[0]} trips\")\n",
    "print(f\"{df_2['Source'][0]} => {df_2['Destination'][0]} route has {df_2.shape[0]} trips\")\n",
    "print(f\"{df_3['Source'][0]} => {df_3['Destination'][0]} route has {df_3.shape[0]} trips\")\n",
    "print(f\"{df_4['Source'][0]} => {df_4['Destination'][0]} route has {df_4.shape[0]} trips\")\n",
    "print(f\"{df_5['Source'][0]} => {df_5['Destination'][0]} route has {df_5.shape[0]} trips\")\n",
    "print(f\"{df_6['Source'][0]} => {df_6['Destination'][0]} route has {df_6.shape[0]} trips\")\n",
    "print(f\"{df_7['Source'][0]} => {df_7['Destination'][0]} route has {df_7.shape[0]} trips\")\n",
    "print(f\"{df_8['Source'][0]} => {df_8['Destination'][0]} route has {df_8.shape[0]} trips\")\n",
    "print(f\"{df_9['Source'][0]} => {df_9['Destination'][0]} route has {df_9.shape[0]} trips\")\n",
    "print(f\"{df_10['Source'][0]} => {df_10['Destination'][0]} route has {df_10.shape[0]} trips\")\n",
    "print(f\"{df_11['Source'][0]} => {df_11['Destination'][0]} route has {df_11.shape[0]} trips\")\n",
    "print(f\"{df_12['Source'][0]} => {df_12['Destination'][0]} route has {df_12.shape[0]} trips\")"
   ]
  },
  {
   "cell_type": "markdown",
   "metadata": {},
   "source": [
    "# Defining Function To clean Data"
   ]
  },
  {
   "cell_type": "code",
   "execution_count": 8,
   "metadata": {},
   "outputs": [],
   "source": [
    "# convert duration to numerical format in minutes\n",
    "def clean_duration(duration):\n",
    "    duration = list(duration)\n",
    "    duration_hours = []\n",
    "    duration_mins = []\n",
    "    for i in range(len(duration)):\n",
    "        duration_hours.append(int(duration[i].split(sep = \"h\")[0])) # Extract hours from duration\n",
    "        duration_mins.append(int(duration[i].split(sep = \"m\")[0].split()[-1])) # Extracts only minutes from duration\n",
    "\n",
    "    d = []\n",
    "    for i in range(len(duration)):\n",
    "        d.append(duration_hours[i]*60+duration_mins[i])\n",
    "        \n",
    "    return d\n",
    "\n",
    "# convert price to numerical format in USD\n",
    "def clean_price(price):\n",
    "    price = price.str.replace(',','',regex=True)\n",
    "    price = price.str.replace('SAR','',regex=True)\n",
    "    price = price.str.strip()\n",
    "    price = round(pd.to_numeric(price)/3.75,2)\n",
    "    return price\n",
    "\n",
    "# convert date to datetime format\n",
    "def clean_date(date):\n",
    "    date = pd.to_datetime(date)\n",
    "    return date\n",
    "\n",
    "# get price quantile to deal with outliers\n",
    "def get_price_quantile(price):\n",
    "    Q1 = price.quantile(0.25)\n",
    "    Q3 = price.quantile(0.75)\n",
    "    IQR = Q3 - Q1\n",
    "    lower_lim = Q1 - 1.5 * IQR\n",
    "    upper_lim = Q3 + 1.5 * IQR\n",
    "    return (lower_lim,upper_lim)\n",
    "\n",
    "# get average of each airline\n",
    "def get_avg_per_airline(x):\n",
    "    # average for trips with multiple airlines\n",
    "    multiple_airlines = x[x[\"Airline\"].str.contains(\",\")]\n",
    "    b = list(multiple_airlines[\"Airline\"].str.split(\",\"))\n",
    "    d = [] # Airline 1\n",
    "    e = [] # Airline 2\n",
    "    for i in range(len(b)):\n",
    "        d.append(b[i][0])\n",
    "        e.append(b[i][1])\n",
    "    for i in range(len(e)):\n",
    "        e[i] = e[i].strip()\n",
    "    m_airlines = list(set(d)) + list(set(e))\n",
    "    column_names = [\"Airline\", \"Average Price\"]\n",
    "    t_ = pd.DataFrame(columns = column_names)\n",
    "    for airline in m_airlines:\n",
    "        t = pd.DataFrame(x[x[\"Airline\"].str.contains(airline)][\"Airline\"])\n",
    "        t[\"Average Price\"] = x[x[\"Airline\"].str.contains(airline)][\"Price\"].mean()\n",
    "        t_ = t_.append(t)\n",
    "    t__ = t_.groupby(\"Airline\",as_index = False)[\"Average Price\"].mean()\n",
    "    k = multiple_airlines.copy()\n",
    "    k = k.merge(t__, on = \"Airline\", how = \"left\")\n",
    "    \n",
    "    # average for trips with single airlines\n",
    "    single_airlines = x[~x[\"Airline\"].str.contains(\",\")]\n",
    "    avg_per_airline = single_airlines.groupby(\"Airline\", as_index = False)[\"Price\"].mean()\n",
    "    avg_per_airline = avg_per_airline.rename(columns={\"Price\" : \"Average Price\"})\n",
    "    temp = single_airlines.copy()\n",
    "    temp = temp.merge(avg_per_airline, on='Airline', how =\"left\")\n",
    "    \n",
    "    temp_1 = temp.groupby(\"Airline\", as_index = False)[\"Average Price\"].mean()\n",
    "    k_1 = k.groupby(\"Airline\", as_index = False)[\"Average Price\"].mean()\n",
    "    k_temp = pd.concat([k_1,temp_1])\n",
    "    y = x.merge(k_temp, on = \"Airline\")\n",
    "    \n",
    "    return y"
   ]
  },
  {
   "cell_type": "code",
   "execution_count": 9,
   "metadata": {},
   "outputs": [],
   "source": [
    "dfs_raw = [df_1,df_2,df_3,df_4,df_5,df_6,df_7,df_8,df_9,df_10,df_11,df_12]"
   ]
  },
  {
   "cell_type": "code",
   "execution_count": 10,
   "metadata": {},
   "outputs": [
    {
     "data": {
      "text/plain": [
       "[                       Airline Source Destination  Duration Total stops  \\\n",
       " 0             TAP AIR PORTUGAL    PAR         NYC  12h 50m      1 stop    \n",
       " 1                       Iberia    PAR         NYC   8h 40m     nonstop    \n",
       " 2      Air Transat, Air Canada    PAR         NYC  11h 39m      1 stop    \n",
       " 3            Brussels Airlines    PAR         NYC   8h 20m     nonstop    \n",
       " 4                   Air France    PAR         NYC   8h 25m     nonstop    \n",
       " ...                        ...    ...         ...       ...         ...   \n",
       " 14876                  Finnair    PAR         NYC  13h 00m      1 stop    \n",
       " 14877           Etihad Airways    PAR         NYC  23h 40m      1 stop    \n",
       " 14878               Aeromexico    PAR         NYC  20h 15m      1 stop    \n",
       " 14879           Cathay Pacific    PAR         NYC  29h 15m      1 stop    \n",
       " 14880           Cathay Pacific    PAR         NYC  30h 30m      1 stop    \n",
       " \n",
       "              Price        Date  \n",
       " 0       1,423 SAR   2022-02-01  \n",
       " 1       1,547 SAR   2022-02-01  \n",
       " 2       1,205 SAR   2022-02-01  \n",
       " 3       1,636 SAR   2022-02-01  \n",
       " 4       1,675 SAR   2022-02-01  \n",
       " ...            ...         ...  \n",
       " 14876  12,274 SAR   2022-04-30  \n",
       " 14877  17,584 SAR   2022-04-30  \n",
       " 14878  22,211 SAR   2022-04-30  \n",
       " 14879  33,415 SAR   2022-04-30  \n",
       " 14880  33,415 SAR   2022-04-30  \n",
       " \n",
       " [14881 rows x 7 columns],\n",
       "                 Airline Source Destination  Duration Total stops       Price  \\\n",
       " 0            Air Serbia    PAR         SVO   6h 15m      1 stop     774 SAR    \n",
       " 1              Aeroflot    PAR         SVO   3h 45m     nonstop   1,155 SAR    \n",
       " 2              Aeroflot    PAR         SVO   4h 10m     nonstop   1,184 SAR    \n",
       " 3              Aeroflot    PAR         SVO   3h 55m     nonstop   1,207 SAR    \n",
       " 4               Finnair    PAR         SVO   7h 20m      1 stop     589 SAR    \n",
       " ...                 ...    ...         ...       ...         ...         ...   \n",
       " 2398                KLM    PAR         SVO   5h 35m      1 stop   1,232 SAR    \n",
       " 2399  Brussels Airlines    PAR         SVO   5h 25m      1 stop     561 SAR    \n",
       " 2400         Air Serbia    PAR         SVO  10h 00m      1 stop     651 SAR    \n",
       " 2401                KLM    PAR         SVO   5h 35m      1 stop   1,232 SAR    \n",
       " 2402      Qatar Airways    PAR         SVO  13h 45m      1 stop   6,075 SAR    \n",
       " \n",
       "             Date  \n",
       " 0     2022-02-01  \n",
       " 1     2022-02-01  \n",
       " 2     2022-02-01  \n",
       " 3     2022-02-01  \n",
       " 4     2022-02-01  \n",
       " ...          ...  \n",
       " 2398  2022-04-09  \n",
       " 2399  2022-04-10  \n",
       " 2400  2022-04-10  \n",
       " 2401  2022-04-10  \n",
       " 2402  2022-04-10  \n",
       " \n",
       " [2403 rows x 7 columns],\n",
       "                 Airline Source Destination  Duration Total stops        Price  \\\n",
       " 0              Aeroflot    SVO         NYC  10h 15m     nonstop      994 SAR    \n",
       " 1              Aeroflot    SVO         NYC  10h 15m     nonstop      929 SAR    \n",
       " 2              Aeroflot    SVO         NYC  10h 15m     nonstop      929 SAR    \n",
       " 3                 Delta    SVO         NYC  14h 25m      1 stop    1,044 SAR    \n",
       " 4                 Delta    SVO         NYC  15h 10m      1 stop    1,044 SAR    \n",
       " ...                 ...    ...         ...       ...         ...          ...   \n",
       " 4197  Multiple Airlines    SVO         NYC  16h 15m     2 stops   19,657 SAR    \n",
       " 4198  Multiple Airlines    SVO         NYC  17h 15m     2 stops   19,657 SAR    \n",
       " 4199  Multiple Airlines    SVO         NYC  17h 15m     2 stops   19,657 SAR    \n",
       " 4200  Multiple Airlines    SVO         NYC  18h 35m     2 stops   19,657 SAR    \n",
       " 4201  Multiple Airlines    SVO         NYC  18h 35m     2 stops   19,657 SAR    \n",
       " \n",
       "             Date  \n",
       " 0     2022-02-01  \n",
       " 1     2022-02-01  \n",
       " 2     2022-02-01  \n",
       " 3     2022-02-01  \n",
       " 4     2022-02-01  \n",
       " ...          ...  \n",
       " 4197  2022-04-30  \n",
       " 4198  2022-04-30  \n",
       " 4199  2022-04-30  \n",
       " 4200  2022-04-30  \n",
       " 4201  2022-04-30  \n",
       " \n",
       " [4202 rows x 7 columns],\n",
       "                         Airline Source Destination  Duration Total stops  \\\n",
       " 0                 Qatar Airways    SVO         RUH   8h 30m      1 stop    \n",
       " 1                 Qatar Airways    SVO         RUH   8h 30m      1 stop    \n",
       " 2              Aeroflot, flynas    SVO         RUH  20h 20m     2 stops    \n",
       " 3              Aeroflot, flynas    SVO         RUH  15h 40m      1 stop    \n",
       " 4           Aeroflot, Egypt Air    SVO         RUH  17h 00m      1 stop    \n",
       " ...                         ...    ...         ...       ...         ...   \n",
       " 2230      Air France, Egypt Air    SVO         RUH  21h 10m     3 stops    \n",
       " 2231  Finnair, Pegasus Airlines    SVO         RUH  18h 10m     3 stops    \n",
       " 2232          Multiple Airlines    SVO         RUH  17h 35m     3 stops    \n",
       " 2233          Multiple Airlines    SVO         RUH  16h 25m     3 stops    \n",
       " 2234          Multiple Airlines    SVO         RUH  18h 20m     3 stops    \n",
       " \n",
       "            Price        Date  \n",
       " 0     1,623 SAR   2022-02-01  \n",
       " 1     1,531 SAR   2022-02-01  \n",
       " 2     1,415 SAR   2022-02-01  \n",
       " 3     1,439 SAR   2022-02-01  \n",
       " 4     1,601 SAR   2022-02-01  \n",
       " ...          ...         ...  \n",
       " 2230  1,920 SAR   2022-04-30  \n",
       " 2231  2,080 SAR   2022-04-30  \n",
       " 2232  2,091 SAR   2022-04-30  \n",
       " 2233  2,620 SAR   2022-04-30  \n",
       " 2234  4,042 SAR   2022-04-30  \n",
       " \n",
       " [2235 rows x 7 columns],\n",
       "                                Airline Source Destination  Duration  \\\n",
       " 0                           Air France    NYC         PAR   7h 20m    \n",
       " 1                           Air France    NYC         PAR   7h 20m    \n",
       " 2                           Air France    NYC         PAR   7h 20m    \n",
       " 3                           Air France    NYC         PAR   7h 10m    \n",
       " 4                           Air France    NYC         PAR   7h 20m    \n",
       " ...                                ...    ...         ...       ...   \n",
       " 5329  United Airlines, British Airways    NYC         PAR  10h 15m    \n",
       " 5330                             Delta    NYC         PAR  10h 45m    \n",
       " 5331                             Delta    NYC         PAR  13h 20m    \n",
       " 5332                        Air Canada    NYC         PAR  12h 45m    \n",
       " 5333                        Air Canada    NYC         PAR  12h 45m    \n",
       " \n",
       "      Total stops        Price        Date  \n",
       " 0       nonstop    1,031 SAR   2022-02-01  \n",
       " 1       nonstop    1,031 SAR   2022-02-01  \n",
       " 2       nonstop    1,031 SAR   2022-02-01  \n",
       " 3       nonstop    1,238 SAR   2022-02-01  \n",
       " 4       nonstop    1,238 SAR   2022-02-01  \n",
       " ...          ...          ...         ...  \n",
       " 5329     1 stop   12,219 SAR   2022-04-30  \n",
       " 5330     1 stop   12,563 SAR   2022-04-30  \n",
       " 5331     1 stop   12,563 SAR   2022-04-30  \n",
       " 5332    2 stops   14,376 SAR   2022-04-30  \n",
       " 5333    2 stops   14,376 SAR   2022-04-30  \n",
       " \n",
       " [5334 rows x 7 columns],\n",
       "                          Airline Source Destination  Duration Total stops  \\\n",
       " 0                       Aeroflot    NYC         SVO   9h 00m     nonstop    \n",
       " 1                       Aeroflot    NYC         SVO   9h 00m     nonstop    \n",
       " 2                       Aeroflot    NYC         SVO   9h 00m     nonstop    \n",
       " 3                          Delta    NYC         SVO  11h 30m      1 stop    \n",
       " 4                          Delta    NYC         SVO  12h 35m      1 stop    \n",
       " ...                          ...    ...         ...       ...         ...   \n",
       " 1900              Lufthansa, KLM    NYC         SVO  15h 00m      1 stop    \n",
       " 1901           Brussels Airlines    NYC         SVO  13h 20m      1 stop    \n",
       " 1902  American Airlines, Finnair    NYC         SVO  10h 45m      1 stop    \n",
       " 1903                  Air France    NYC         SVO  12h 25m      1 stop    \n",
       " 1904                  Air France    NYC         SVO  13h 45m      1 stop    \n",
       " \n",
       "             Price        Date  \n",
       " 0      1,282 SAR   2022-02-01  \n",
       " 1      1,203 SAR   2022-02-01  \n",
       " 2      1,203 SAR   2022-02-01  \n",
       " 3      1,397 SAR   2022-02-01  \n",
       " 4      1,414 SAR   2022-02-01  \n",
       " ...           ...         ...  \n",
       " 1900  30,699 SAR   2022-04-23  \n",
       " 1901   1,519 SAR   2022-04-24  \n",
       " 1902   2,736 SAR   2022-04-24  \n",
       " 1903   2,969 SAR   2022-04-24  \n",
       " 1904   3,205 SAR   2022-04-24  \n",
       " \n",
       " [1905 rows x 7 columns],\n",
       "                                  Airline Source Destination  Duration  \\\n",
       " 0                              Egypt Air    RUH         NYC  18h 45m    \n",
       " 1     British Airways, American Airlines    RUH         NYC  18h 25m    \n",
       " 2     British Airways, American Airlines    RUH         NYC  19h 35m    \n",
       " 3     British Airways, American Airlines    RUH         NYC  19h 55m    \n",
       " 4       Qatar Airways, American Airlines    RUH         NYC  18h 20m    \n",
       " ...                                  ...    ...         ...       ...   \n",
       " 7274                Egypt Air, Lufthansa    RUH         NYC  22h 05m    \n",
       " 7275                Egypt Air, Lufthansa    RUH         NYC  24h 05m    \n",
       " 7276        Egypt Air, Austrian Airlines    RUH         NYC  24h 05m    \n",
       " 7277                Egypt Air, Lufthansa    RUH         NYC  22h 55m    \n",
       " 7278                Egypt Air, Lufthansa    RUH         NYC  22h 55m    \n",
       " \n",
       "      Total stops        Price        Date  \n",
       " 0        1 stop    2,102 SAR   2022-02-02  \n",
       " 1        1 stop    3,805 SAR   2022-02-02  \n",
       " 2        1 stop    3,805 SAR   2022-02-02  \n",
       " 3        1 stop    3,805 SAR   2022-02-02  \n",
       " 4        1 stop    4,123 SAR   2022-02-02  \n",
       " ...          ...          ...         ...  \n",
       " 7274    2 stops   17,590 SAR   2022-04-30  \n",
       " 7275    2 stops   17,590 SAR   2022-04-30  \n",
       " 7276    2 stops   17,590 SAR   2022-04-30  \n",
       " 7277    2 stops   17,772 SAR   2022-04-30  \n",
       " 7278    2 stops   17,772 SAR   2022-04-30  \n",
       " \n",
       " [7279 rows x 7 columns],\n",
       "               Airline Source Destination  Duration Total stops        Price  \\\n",
       " 0     British Airways    RUH         PAR  10h 30m      1 stop    1,072 SAR    \n",
       " 1    Turkish Airlines    RUH         PAR  13h 00m      1 stop    1,551 SAR    \n",
       " 2      Etihad Airways    RUH         PAR  10h 30m      1 stop    1,832 SAR    \n",
       " 3       Qatar Airways    RUH         PAR  10h 55m      1 stop    1,920 SAR    \n",
       " 4            Emirates    RUH         PAR  11h 40m      1 stop    2,028 SAR    \n",
       " ..                ...    ...         ...       ...         ...          ...   \n",
       " 548             SWISS    RUH         PAR  12h 55m     2 stops    3,669 SAR    \n",
       " 549          Emirates    RUH         PAR  23h 26m     2 stops   12,056 SAR    \n",
       " 550         Egypt Air    RUH         PAR   9h 40m      1 stop      986 SAR    \n",
       " 551  Pegasus Airlines    RUH         PAR   9h 05m      1 stop    1,023 SAR    \n",
       " 552          Oman Air    RUH         PAR  16h 00m      1 stop    2,083 SAR    \n",
       " \n",
       "            Date  \n",
       " 0    2022-02-02  \n",
       " 1    2022-02-02  \n",
       " 2    2022-02-02  \n",
       " 3    2022-02-02  \n",
       " 4    2022-02-02  \n",
       " ..          ...  \n",
       " 548  2022-04-29  \n",
       " 549  2022-04-29  \n",
       " 550  2022-04-30  \n",
       " 551  2022-04-30  \n",
       " 552  2022-04-30  \n",
       " \n",
       " [553 rows x 7 columns],\n",
       "                                   Airline Source Destination  Duration  \\\n",
       " 0                           Qatar Airways    RUH         SVO  14h 40m    \n",
       " 1     Turkish Airlines, Nordwind Airlines    RUH         SVO  15h 35m    \n",
       " 2                       Multiple Airlines    RUH         SVO  17h 30m    \n",
       " 3              Turkish Airlines, Aeroflot    RUH         SVO  16h 50m    \n",
       " 4                        flynas, Aeroflot    RUH         SVO  13h 30m    \n",
       " ...                                   ...    ...         ...       ...   \n",
       " 2720            Turkish Airlines, Finnair    RUH         SVO  18h 00m    \n",
       " 2721                Egypt Air, Air France    RUH         SVO  20h 05m    \n",
       " 2722          Turkish Airlines, airBaltic    RUH         SVO  18h 35m    \n",
       " 2723                    Multiple Airlines    RUH         SVO  16h 40m    \n",
       " 2724                   SAUDIA, Air France    RUH         SVO  17h 55m    \n",
       " \n",
       "      Total stops       Price        Date  \n",
       " 0        1 stop   2,216 SAR   2022-02-01  \n",
       " 1        1 stop   1,674 SAR   2022-02-01  \n",
       " 2       3 stops   1,304 SAR   2022-02-01  \n",
       " 3        1 stop   1,851 SAR   2022-02-01  \n",
       " 4        1 stop   1,876 SAR   2022-02-01  \n",
       " ...          ...         ...         ...  \n",
       " 2720    3 stops   2,169 SAR   2022-04-26  \n",
       " 2721    3 stops   2,200 SAR   2022-04-26  \n",
       " 2722    3 stops   2,227 SAR   2022-04-26  \n",
       " 2723    3 stops   4,360 SAR   2022-04-26  \n",
       " 2724    2 stops   7,255 SAR   2022-04-26  \n",
       " \n",
       " [2725 rows x 7 columns],\n",
       "                 Airline Source Destination  Duration Total stops       Price  \\\n",
       " 0            Air Serbia    SVO         PAR  25h 20m      1 stop     504 SAR    \n",
       " 1            Air France    SVO         PAR   4h 10m     nonstop     608 SAR    \n",
       " 2            Air Serbia    SVO         PAR  25h 20m      1 stop     433 SAR    \n",
       " 3            Air France    SVO         PAR   4h 05m     nonstop   1,038 SAR    \n",
       " 4            Air France    SVO         PAR   4h 10m     nonstop   1,038 SAR    \n",
       " ...                 ...    ...         ...       ...         ...         ...   \n",
       " 3309            Finnair    SVO         PAR   5h 35m      1 stop     559 SAR    \n",
       " 3310                LOT    SVO         PAR   5h 20m      1 stop     728 SAR    \n",
       " 3311                KLM    SVO         PAR   6h 05m      1 stop     841 SAR    \n",
       " 3312  Brussels Airlines    SVO         PAR  16h 45m      1 stop     580 SAR    \n",
       " 3313      Qatar Airways    SVO         PAR  14h 15m      1 stop   5,828 SAR    \n",
       " \n",
       "             Date  \n",
       " 0     2022-02-01  \n",
       " 1     2022-02-01  \n",
       " 2     2022-02-01  \n",
       " 3     2022-02-01  \n",
       " 4     2022-02-01  \n",
       " ...          ...  \n",
       " 3309  2022-04-23  \n",
       " 3310  2022-04-23  \n",
       " 3311  2022-04-23  \n",
       " 3312  2022-04-23  \n",
       " 3313  2022-04-23  \n",
       " \n",
       " [3314 rows x 7 columns],\n",
       "                            Airline Source Destination  Duration Total stops  \\\n",
       " 0                        Lufthansa    PAR         RUH   9h 10m      1 stop    \n",
       " 1                           SAUDIA    PAR         RUH   5h 50m     nonstop    \n",
       " 2                  Ryanair, flynas    PAR         RUH  38h 05m     3 stops    \n",
       " 3                        Lufthansa    PAR         RUH   9h 10m      1 stop    \n",
       " 4                        Lufthansa    PAR         RUH  10h 10m      1 stop    \n",
       " ...                            ...    ...         ...       ...         ...   \n",
       " 7322  Austrian Airlines, Egypt Air    PAR         RUH  16h 05m     2 stops    \n",
       " 7323          Lufthansa, Egypt Air    PAR         RUH  13h 50m     2 stops    \n",
       " 7324          Lufthansa, Egypt Air    PAR         RUH  15h 50m     2 stops    \n",
       " 7325       British Airways, SAUDIA    PAR         RUH  12h 35m      1 stop    \n",
       " 7326     Egypt Air, Etihad Airways    PAR         RUH  16h 10m     2 stops    \n",
       " \n",
       "             Price       Date  \n",
       " 0      1,575 SAR    2/1/2022  \n",
       " 1      2,168 SAR    2/1/2022  \n",
       " 2      1,069 SAR    2/1/2022  \n",
       " 3      1,544 SAR    2/1/2022  \n",
       " 4      1,544 SAR    2/1/2022  \n",
       " ...           ...        ...  \n",
       " 7322   6,247 SAR   4/30/2022  \n",
       " 7323   6,348 SAR   4/30/2022  \n",
       " 7324   6,756 SAR   4/30/2022  \n",
       " 7325   8,846 SAR   4/30/2022  \n",
       " 7326  12,603 SAR   4/30/2022  \n",
       " \n",
       " [7327 rows x 7 columns],\n",
       "               Airline Source Destination  Duration Total stops       Price  \\\n",
       " 0      Etihad Airways    NYC         RUH  15h 45m      1 stop   2,173 SAR    \n",
       " 1      Etihad Airways    NYC         RUH  15h 45m      1 stop   2,078 SAR    \n",
       " 2      Etihad Airways    NYC         RUH  21h 55m      1 stop   2,078 SAR    \n",
       " 3           Egypt Air    NYC         RUH  18h 40m      1 stop   2,479 SAR    \n",
       " 4     Royal Jordanian    NYC         RUH  14h 10m      1 stop   2,570 SAR    \n",
       " ...               ...    ...         ...       ...         ...         ...   \n",
       " 3200        Lufthansa    NYC         RUH  19h 25m     2 stops   3,490 SAR    \n",
       " 3201        Lufthansa    NYC         RUH  18h 50m     2 stops   3,505 SAR    \n",
       " 3202            SWISS    NYC         RUH  19h 05m     2 stops   3,509 SAR    \n",
       " 3203        Lufthansa    NYC         RUH  18h 15m     2 stops   3,510 SAR    \n",
       " 3204        Lufthansa    NYC         RUH  18h 15m     2 stops   3,510 SAR    \n",
       " \n",
       "             Date  \n",
       " 0     2022-02-01  \n",
       " 1     2022-02-01  \n",
       " 2     2022-02-01  \n",
       " 3     2022-02-01  \n",
       " 4     2022-02-01  \n",
       " ...          ...  \n",
       " 3200  2022-04-22  \n",
       " 3201  2022-04-22  \n",
       " 3202  2022-04-22  \n",
       " 3203  2022-04-22  \n",
       " 3204  2022-04-22  \n",
       " \n",
       " [3205 rows x 7 columns]]"
      ]
     },
     "execution_count": 10,
     "metadata": {},
     "output_type": "execute_result"
    }
   ],
   "source": [
    "dfs_raw"
   ]
  },
  {
   "cell_type": "code",
   "execution_count": 11,
   "metadata": {},
   "outputs": [],
   "source": [
    "# cleaning the data\n",
    "dfs = []\n",
    "for df in dfs_raw:\n",
    "    df.drop_duplicates() # drop duplicate rows\n",
    "    df[\"Duration\"] = clean_duration(df[\"Duration\"]) # convert duration to numerical minutes format\n",
    "    df[\"Price\"] = clean_price(df[\"Price\"]) # convert price to numerical format in USD\n",
    "    df[\"Date\"] = clean_date(df[\"Date\"]) # convert date to datetime format\n",
    "    dfs.append(get_avg_per_airline(df)) # get average per airline"
   ]
  },
  {
   "cell_type": "markdown",
   "metadata": {},
   "source": [
    "# Handling Outliers"
   ]
  },
  {
   "cell_type": "code",
   "execution_count": 12,
   "metadata": {},
   "outputs": [
    {
     "data": {
      "image/png": "[encoded data removed]",
      "text/plain": [
       "<Figure size 1080x1080 with 12 Axes>"
      ]
     },
     "metadata": {},
     "output_type": "display_data"
    }
   ],
   "source": [
    "k=0\n",
    "figure, axis = plt.subplots(4, 3, figsize=(15,15))\n",
    "for i in range(4):\n",
    "    for j in range(3):\n",
    "        axis[i,j].boxplot(dfs[k]['Price'])\n",
    "        axis[i,j].set_title(f\"{dfs[k]['Source'][0]} TO {dfs[k]['Destination'][0]}\")\n",
    "        k += 1"
   ]
  },
  {
   "cell_type": "markdown",
   "metadata": {},
   "source": [
    "It is apparent that all routes have outliers, so we will deal with them by IQR"
   ]
  },
  {
   "cell_type": "code",
   "execution_count": 13,
   "metadata": {},
   "outputs": [],
   "source": [
    "# get quantile to deal with outliers\n",
    "lower = []\n",
    "upper = []\n",
    "for df in dfs:\n",
    "    x = get_price_quantile(df['Price'])\n",
    "    lower.append(x[0])\n",
    "    upper.append(x[1])"
   ]
  },
  {
   "cell_type": "code",
   "execution_count": 14,
   "metadata": {},
   "outputs": [],
   "source": [
    "# drop outliers\n",
    "k = 0\n",
    "for df in dfs:\n",
    "    low = df['Price'] < lower[k]\n",
    "    up = df['Price'] > upper[k]\n",
    "    df['Price'] = df['Price'][~(low|up)]\n",
    "    df.dropna(inplace=True)\n",
    "    df.reset_index(drop = True,inplace=True)\n",
    "    k+=1"
   ]
  },
  {
   "cell_type": "code",
   "execution_count": 15,
   "metadata": {},
   "outputs": [
    {
     "data": {
      "image/png": "[encoded data removed]",
      "text/plain": [
       "<Figure size 1080x1080 with 12 Axes>"
      ]
     },
     "metadata": {},
     "output_type": "display_data"
    }
   ],
   "source": [
    "# boxplot for each route after dealing with outliers\n",
    "k=0\n",
    "figure, axis = plt.subplots(4, 3, figsize=(15,15))\n",
    "for i in range(4):\n",
    "    for j in range(3):\n",
    "        axis[i,j].boxplot(dfs[k]['Price'])\n",
    "        axis[i,j].set_title(f\"{dfs[k]['Source'][0]} TO {dfs[k]['Destination'][0]}\")\n",
    "        k += 1"
   ]
  },
  {
   "cell_type": "markdown",
   "metadata": {},
   "source": [
    "Now the data is much better, the total dropped data is 5,266 rows out of 55,363."
   ]
  },
  {
   "cell_type": "code",
   "execution_count": 16,
   "metadata": {},
   "outputs": [
    {
     "data": {
      "text/html": [
       "<div>\n",
       "<style scoped>\n",
       "    .dataframe tbody tr th:only-of-type {\n",
       "        vertical-align: middle;\n",
       "    }\n",
       "\n",
       "    .dataframe tbody tr th {\n",
       "        vertical-align: top;\n",
       "    }\n",
       "\n",
       "    .dataframe thead th {\n",
       "        text-align: right;\n",
       "    }\n",
       "</style>\n",
       "<table border=\"1\" class=\"dataframe\">\n",
       "  <thead>\n",
       "    <tr style=\"text-align: right;\">\n",
       "      <th></th>\n",
       "      <th>Airline</th>\n",
       "      <th>Source</th>\n",
       "      <th>Destination</th>\n",
       "      <th>Duration</th>\n",
       "      <th>Total stops</th>\n",
       "      <th>Price</th>\n",
       "      <th>Date</th>\n",
       "      <th>Average Price</th>\n",
       "    </tr>\n",
       "  </thead>\n",
       "  <tbody>\n",
       "    <tr>\n",
       "      <th>0</th>\n",
       "      <td>TAP AIR PORTUGAL</td>\n",
       "      <td>PAR</td>\n",
       "      <td>NYC</td>\n",
       "      <td>770</td>\n",
       "      <td>1 stop</td>\n",
       "      <td>379.47</td>\n",
       "      <td>2022-02-01</td>\n",
       "      <td>441.343760</td>\n",
       "    </tr>\n",
       "    <tr>\n",
       "      <th>1</th>\n",
       "      <td>TAP AIR PORTUGAL</td>\n",
       "      <td>PAR</td>\n",
       "      <td>NYC</td>\n",
       "      <td>770</td>\n",
       "      <td>1 stop</td>\n",
       "      <td>379.47</td>\n",
       "      <td>2022-02-01</td>\n",
       "      <td>441.343760</td>\n",
       "    </tr>\n",
       "    <tr>\n",
       "      <th>2</th>\n",
       "      <td>TAP AIR PORTUGAL</td>\n",
       "      <td>PAR</td>\n",
       "      <td>NYC</td>\n",
       "      <td>810</td>\n",
       "      <td>1 stop</td>\n",
       "      <td>379.47</td>\n",
       "      <td>2022-02-01</td>\n",
       "      <td>441.343760</td>\n",
       "    </tr>\n",
       "    <tr>\n",
       "      <th>3</th>\n",
       "      <td>TAP AIR PORTUGAL</td>\n",
       "      <td>PAR</td>\n",
       "      <td>NYC</td>\n",
       "      <td>890</td>\n",
       "      <td>1 stop</td>\n",
       "      <td>379.47</td>\n",
       "      <td>2022-02-01</td>\n",
       "      <td>441.343760</td>\n",
       "    </tr>\n",
       "    <tr>\n",
       "      <th>4</th>\n",
       "      <td>TAP AIR PORTUGAL</td>\n",
       "      <td>PAR</td>\n",
       "      <td>NYC</td>\n",
       "      <td>1030</td>\n",
       "      <td>1 stop</td>\n",
       "      <td>379.47</td>\n",
       "      <td>2022-02-01</td>\n",
       "      <td>441.343760</td>\n",
       "    </tr>\n",
       "    <tr>\n",
       "      <th>...</th>\n",
       "      <td>...</td>\n",
       "      <td>...</td>\n",
       "      <td>...</td>\n",
       "      <td>...</td>\n",
       "      <td>...</td>\n",
       "      <td>...</td>\n",
       "      <td>...</td>\n",
       "      <td>...</td>\n",
       "    </tr>\n",
       "    <tr>\n",
       "      <th>3046</th>\n",
       "      <td>SAS, Pegasus Airlines</td>\n",
       "      <td>NYC</td>\n",
       "      <td>RUH</td>\n",
       "      <td>1300</td>\n",
       "      <td>2 stops</td>\n",
       "      <td>930.40</td>\n",
       "      <td>2022-04-13</td>\n",
       "      <td>838.732500</td>\n",
       "    </tr>\n",
       "    <tr>\n",
       "      <th>3047</th>\n",
       "      <td>Qatar Airways, SAUDIA</td>\n",
       "      <td>NYC</td>\n",
       "      <td>RUH</td>\n",
       "      <td>1420</td>\n",
       "      <td>2 stops</td>\n",
       "      <td>1018.40</td>\n",
       "      <td>2022-04-13</td>\n",
       "      <td>1972.813714</td>\n",
       "    </tr>\n",
       "    <tr>\n",
       "      <th>3048</th>\n",
       "      <td>Qatar Airways, MEA</td>\n",
       "      <td>NYC</td>\n",
       "      <td>RUH</td>\n",
       "      <td>1415</td>\n",
       "      <td>2 stops</td>\n",
       "      <td>1049.87</td>\n",
       "      <td>2022-04-13</td>\n",
       "      <td>1133.548015</td>\n",
       "    </tr>\n",
       "    <tr>\n",
       "      <th>3049</th>\n",
       "      <td>Emirates, Turkish Airlines</td>\n",
       "      <td>NYC</td>\n",
       "      <td>RUH</td>\n",
       "      <td>1100</td>\n",
       "      <td>2 stops</td>\n",
       "      <td>1053.60</td>\n",
       "      <td>2022-04-13</td>\n",
       "      <td>1023.900221</td>\n",
       "    </tr>\n",
       "    <tr>\n",
       "      <th>3050</th>\n",
       "      <td>Lufthansa, MEA</td>\n",
       "      <td>NYC</td>\n",
       "      <td>RUH</td>\n",
       "      <td>1115</td>\n",
       "      <td>3 stops</td>\n",
       "      <td>1139.73</td>\n",
       "      <td>2022-04-13</td>\n",
       "      <td>1023.714222</td>\n",
       "    </tr>\n",
       "  </tbody>\n",
       "</table>\n",
       "<p>50097 rows × 8 columns</p>\n",
       "</div>"
      ],
      "text/plain": [
       "                         Airline Source Destination  Duration Total stops  \\\n",
       "0               TAP AIR PORTUGAL    PAR         NYC       770     1 stop    \n",
       "1               TAP AIR PORTUGAL    PAR         NYC       770     1 stop    \n",
       "2               TAP AIR PORTUGAL    PAR         NYC       810     1 stop    \n",
       "3               TAP AIR PORTUGAL    PAR         NYC       890     1 stop    \n",
       "4               TAP AIR PORTUGAL    PAR         NYC      1030     1 stop    \n",
       "...                          ...    ...         ...       ...         ...   \n",
       "3046       SAS, Pegasus Airlines    NYC         RUH      1300    2 stops    \n",
       "3047       Qatar Airways, SAUDIA    NYC         RUH      1420    2 stops    \n",
       "3048          Qatar Airways, MEA    NYC         RUH      1415    2 stops    \n",
       "3049  Emirates, Turkish Airlines    NYC         RUH      1100    2 stops    \n",
       "3050              Lufthansa, MEA    NYC         RUH      1115    3 stops    \n",
       "\n",
       "        Price       Date  Average Price  \n",
       "0      379.47 2022-02-01     441.343760  \n",
       "1      379.47 2022-02-01     441.343760  \n",
       "2      379.47 2022-02-01     441.343760  \n",
       "3      379.47 2022-02-01     441.343760  \n",
       "4      379.47 2022-02-01     441.343760  \n",
       "...       ...        ...            ...  \n",
       "3046   930.40 2022-04-13     838.732500  \n",
       "3047  1018.40 2022-04-13    1972.813714  \n",
       "3048  1049.87 2022-04-13    1133.548015  \n",
       "3049  1053.60 2022-04-13    1023.900221  \n",
       "3050  1139.73 2022-04-13    1023.714222  \n",
       "\n",
       "[50097 rows x 8 columns]"
      ]
     },
     "execution_count": 16,
     "metadata": {},
     "output_type": "execute_result"
    }
   ],
   "source": [
    "# concat all routes into one dataframe\n",
    "df = pd.concat(dfs)\n",
    "df"
   ]
  },
  {
   "cell_type": "markdown",
   "metadata": {},
   "source": [
    "we have 50097 rows and 8 columns in our dataset."
   ]
  },
  {
   "cell_type": "code",
   "execution_count": 17,
   "metadata": {},
   "outputs": [
    {
     "data": {
      "text/plain": [
       "Airline          0\n",
       "Source           0\n",
       "Destination      0\n",
       "Duration         0\n",
       "Total stops      0\n",
       "Price            0\n",
       "Date             0\n",
       "Average Price    0\n",
       "dtype: int64"
      ]
     },
     "execution_count": 17,
     "metadata": {},
     "output_type": "execute_result"
    }
   ],
   "source": [
    "# check for null values\n",
    "df.isnull().sum()"
   ]
  },
  {
   "cell_type": "markdown",
   "metadata": {},
   "source": [
    "there is no missing values prersent in our dataset."
   ]
  },
  {
   "cell_type": "markdown",
   "metadata": {},
   "source": [
    "# Calculate categorical Data"
   ]
  },
  {
   "cell_type": "code",
   "execution_count": 18,
   "metadata": {},
   "outputs": [],
   "source": [
    "# the Airline column will be replaced by the average price per airline.\n",
    "df.drop(\"Airline\", axis = 1, inplace = True)"
   ]
  },
  {
   "cell_type": "code",
   "execution_count": 19,
   "metadata": {},
   "outputs": [
    {
     "data": {
      "text/plain": [
       "PAR    23054\n",
       "NYC     9411\n",
       "RUH     9140\n",
       "SVO     8492\n",
       "Name: Source, dtype: int64"
      ]
     },
     "execution_count": 19,
     "metadata": {},
     "output_type": "execute_result"
    }
   ],
   "source": [
    "df[\"Source\"].value_counts()"
   ]
  },
  {
   "cell_type": "code",
   "execution_count": 20,
   "metadata": {},
   "outputs": [
    {
     "data": {
      "text/plain": [
       "<seaborn.axisgrid.FacetGrid at 0x2398e391c40>"
      ]
     },
     "execution_count": 20,
     "metadata": {},
     "output_type": "execute_result"
    },
    {
     "data": {
      "image/png": "[encoded data removed]",
      "text/plain": [
       "<Figure size 1296x432 with 1 Axes>"
      ]
     },
     "metadata": {},
     "output_type": "display_data"
    }
   ],
   "source": [
    "sns.catplot(y = \"Price\", x= \"Source\", data = df.sort_values(\"Price\", ascending = False), kind=\"boxen\", height = 6, aspect = 3)"
   ]
  },
  {
   "cell_type": "markdown",
   "metadata": {},
   "source": [
    "As we can see the correlation between source and price in the above figure."
   ]
  },
  {
   "cell_type": "code",
   "execution_count": 21,
   "metadata": {},
   "outputs": [
    {
     "data": {
      "text/html": [
       "<div>\n",
       "<style scoped>\n",
       "    .dataframe tbody tr th:only-of-type {\n",
       "        vertical-align: middle;\n",
       "    }\n",
       "\n",
       "    .dataframe tbody tr th {\n",
       "        vertical-align: top;\n",
       "    }\n",
       "\n",
       "    .dataframe thead th {\n",
       "        text-align: right;\n",
       "    }\n",
       "</style>\n",
       "<table border=\"1\" class=\"dataframe\">\n",
       "  <thead>\n",
       "    <tr style=\"text-align: right;\">\n",
       "      <th></th>\n",
       "      <th>Source_PAR</th>\n",
       "      <th>Source_RUH</th>\n",
       "      <th>Source_SVO</th>\n",
       "    </tr>\n",
       "  </thead>\n",
       "  <tbody>\n",
       "    <tr>\n",
       "      <th>0</th>\n",
       "      <td>1</td>\n",
       "      <td>0</td>\n",
       "      <td>0</td>\n",
       "    </tr>\n",
       "    <tr>\n",
       "      <th>1</th>\n",
       "      <td>1</td>\n",
       "      <td>0</td>\n",
       "      <td>0</td>\n",
       "    </tr>\n",
       "    <tr>\n",
       "      <th>2</th>\n",
       "      <td>1</td>\n",
       "      <td>0</td>\n",
       "      <td>0</td>\n",
       "    </tr>\n",
       "    <tr>\n",
       "      <th>3</th>\n",
       "      <td>1</td>\n",
       "      <td>0</td>\n",
       "      <td>0</td>\n",
       "    </tr>\n",
       "    <tr>\n",
       "      <th>4</th>\n",
       "      <td>1</td>\n",
       "      <td>0</td>\n",
       "      <td>0</td>\n",
       "    </tr>\n",
       "  </tbody>\n",
       "</table>\n",
       "</div>"
      ],
      "text/plain": [
       "   Source_PAR  Source_RUH  Source_SVO\n",
       "0           1           0           0\n",
       "1           1           0           0\n",
       "2           1           0           0\n",
       "3           1           0           0\n",
       "4           1           0           0"
      ]
     },
     "execution_count": 21,
     "metadata": {},
     "output_type": "execute_result"
    }
   ],
   "source": [
    "# performing OneHotEncoding on Source since it's nominal categorical data  \n",
    "source =df[[\"Source\"]]\n",
    "source =pd.get_dummies(source, drop_first=True)\n",
    "source.head()"
   ]
  },
  {
   "cell_type": "code",
   "execution_count": 22,
   "metadata": {},
   "outputs": [
    {
     "data": {
      "text/plain": [
       "NYC    24926\n",
       "RUH    11046\n",
       "PAR     8042\n",
       "SVO     6083\n",
       "Name: Destination, dtype: int64"
      ]
     },
     "execution_count": 22,
     "metadata": {},
     "output_type": "execute_result"
    }
   ],
   "source": [
    "df[\"Destination\"].value_counts()"
   ]
  },
  {
   "cell_type": "code",
   "execution_count": 23,
   "metadata": {},
   "outputs": [
    {
     "data": {
      "text/plain": [
       "<seaborn.axisgrid.FacetGrid at 0x2398e3df940>"
      ]
     },
     "execution_count": 23,
     "metadata": {},
     "output_type": "execute_result"
    },
    {
     "data": {
      "image/png": "[encoded data removed]",
      "text/plain": [
       "<Figure size 1296x432 with 1 Axes>"
      ]
     },
     "metadata": {},
     "output_type": "display_data"
    }
   ],
   "source": [
    "sns.catplot(y = \"Price\", x= \"Destination\", data = df.sort_values(\"Price\", ascending = False), kind=\"boxen\", height = 6, aspect = 3)"
   ]
  },
  {
   "cell_type": "markdown",
   "metadata": {},
   "source": [
    "as we can see the realtion between the Destination and price in above figure."
   ]
  },
  {
   "cell_type": "code",
   "execution_count": 24,
   "metadata": {},
   "outputs": [
    {
     "data": {
      "text/html": [
       "<div>\n",
       "<style scoped>\n",
       "    .dataframe tbody tr th:only-of-type {\n",
       "        vertical-align: middle;\n",
       "    }\n",
       "\n",
       "    .dataframe tbody tr th {\n",
       "        vertical-align: top;\n",
       "    }\n",
       "\n",
       "    .dataframe thead th {\n",
       "        text-align: right;\n",
       "    }\n",
       "</style>\n",
       "<table border=\"1\" class=\"dataframe\">\n",
       "  <thead>\n",
       "    <tr style=\"text-align: right;\">\n",
       "      <th></th>\n",
       "      <th>Destination_PAR</th>\n",
       "      <th>Destination_RUH</th>\n",
       "      <th>Destination_SVO</th>\n",
       "    </tr>\n",
       "  </thead>\n",
       "  <tbody>\n",
       "    <tr>\n",
       "      <th>0</th>\n",
       "      <td>0</td>\n",
       "      <td>0</td>\n",
       "      <td>0</td>\n",
       "    </tr>\n",
       "    <tr>\n",
       "      <th>1</th>\n",
       "      <td>0</td>\n",
       "      <td>0</td>\n",
       "      <td>0</td>\n",
       "    </tr>\n",
       "    <tr>\n",
       "      <th>2</th>\n",
       "      <td>0</td>\n",
       "      <td>0</td>\n",
       "      <td>0</td>\n",
       "    </tr>\n",
       "    <tr>\n",
       "      <th>3</th>\n",
       "      <td>0</td>\n",
       "      <td>0</td>\n",
       "      <td>0</td>\n",
       "    </tr>\n",
       "    <tr>\n",
       "      <th>4</th>\n",
       "      <td>0</td>\n",
       "      <td>0</td>\n",
       "      <td>0</td>\n",
       "    </tr>\n",
       "  </tbody>\n",
       "</table>\n",
       "</div>"
      ],
      "text/plain": [
       "   Destination_PAR  Destination_RUH  Destination_SVO\n",
       "0                0                0                0\n",
       "1                0                0                0\n",
       "2                0                0                0\n",
       "3                0                0                0\n",
       "4                0                0                0"
      ]
     },
     "execution_count": 24,
     "metadata": {},
     "output_type": "execute_result"
    }
   ],
   "source": [
    "# performing OneHotEncoding on Destination since it's nominal categorical data\n",
    "destination = df[[\"Destination\"]]\n",
    "destination = pd.get_dummies(destination, drop_first=True)\n",
    "destination.head()"
   ]
  },
  {
   "cell_type": "code",
   "execution_count": 25,
   "metadata": {},
   "outputs": [
    {
     "name": "stdout",
     "output_type": "stream",
     "text": [
      "1 stop      27466\n",
      "2 stops     18665\n",
      "3 stops      1988\n",
      "nonstop      1978\n",
      "Name: Total stops, dtype: int64\n"
     ]
    },
    {
     "data": {
      "text/plain": [
       "array(['1 stop ', '2 stops ', 'nonstop ', '3 stops '], dtype=object)"
      ]
     },
     "execution_count": 25,
     "metadata": {},
     "output_type": "execute_result"
    }
   ],
   "source": [
    "# total stops\n",
    "print(df[\"Total stops\"].value_counts())\n",
    "df[\"Total stops\"].unique()"
   ]
  },
  {
   "cell_type": "code",
   "execution_count": 26,
   "metadata": {},
   "outputs": [],
   "source": [
    "# performing LabelEncoder on Total stops since it's ordinal categorical data\n",
    "df.replace({\"nonstop \":0, \"1 stop \": 1, \"2 stops \": 2, \"3 stops \":3}, inplace=True)"
   ]
  },
  {
   "cell_type": "code",
   "execution_count": 27,
   "metadata": {},
   "outputs": [],
   "source": [
    "final_df = pd.concat([df,source,destination], axis=1).reset_index(drop = True)"
   ]
  },
  {
   "cell_type": "code",
   "execution_count": 28,
   "metadata": {},
   "outputs": [
    {
     "data": {
      "text/html": [
       "<div>\n",
       "<style scoped>\n",
       "    .dataframe tbody tr th:only-of-type {\n",
       "        vertical-align: middle;\n",
       "    }\n",
       "\n",
       "    .dataframe tbody tr th {\n",
       "        vertical-align: top;\n",
       "    }\n",
       "\n",
       "    .dataframe thead th {\n",
       "        text-align: right;\n",
       "    }\n",
       "</style>\n",
       "<table border=\"1\" class=\"dataframe\">\n",
       "  <thead>\n",
       "    <tr style=\"text-align: right;\">\n",
       "      <th></th>\n",
       "      <th>Source</th>\n",
       "      <th>Destination</th>\n",
       "      <th>Duration</th>\n",
       "      <th>Total stops</th>\n",
       "      <th>Price</th>\n",
       "      <th>Date</th>\n",
       "      <th>Average Price</th>\n",
       "      <th>Source_PAR</th>\n",
       "      <th>Source_RUH</th>\n",
       "      <th>Source_SVO</th>\n",
       "      <th>Destination_PAR</th>\n",
       "      <th>Destination_RUH</th>\n",
       "      <th>Destination_SVO</th>\n",
       "    </tr>\n",
       "  </thead>\n",
       "  <tbody>\n",
       "    <tr>\n",
       "      <th>0</th>\n",
       "      <td>PAR</td>\n",
       "      <td>NYC</td>\n",
       "      <td>770</td>\n",
       "      <td>1</td>\n",
       "      <td>379.47</td>\n",
       "      <td>2022-02-01</td>\n",
       "      <td>441.343760</td>\n",
       "      <td>1</td>\n",
       "      <td>0</td>\n",
       "      <td>0</td>\n",
       "      <td>0</td>\n",
       "      <td>0</td>\n",
       "      <td>0</td>\n",
       "    </tr>\n",
       "    <tr>\n",
       "      <th>1</th>\n",
       "      <td>PAR</td>\n",
       "      <td>NYC</td>\n",
       "      <td>770</td>\n",
       "      <td>1</td>\n",
       "      <td>379.47</td>\n",
       "      <td>2022-02-01</td>\n",
       "      <td>441.343760</td>\n",
       "      <td>1</td>\n",
       "      <td>0</td>\n",
       "      <td>0</td>\n",
       "      <td>0</td>\n",
       "      <td>0</td>\n",
       "      <td>0</td>\n",
       "    </tr>\n",
       "    <tr>\n",
       "      <th>2</th>\n",
       "      <td>PAR</td>\n",
       "      <td>NYC</td>\n",
       "      <td>810</td>\n",
       "      <td>1</td>\n",
       "      <td>379.47</td>\n",
       "      <td>2022-02-01</td>\n",
       "      <td>441.343760</td>\n",
       "      <td>1</td>\n",
       "      <td>0</td>\n",
       "      <td>0</td>\n",
       "      <td>0</td>\n",
       "      <td>0</td>\n",
       "      <td>0</td>\n",
       "    </tr>\n",
       "    <tr>\n",
       "      <th>3</th>\n",
       "      <td>PAR</td>\n",
       "      <td>NYC</td>\n",
       "      <td>890</td>\n",
       "      <td>1</td>\n",
       "      <td>379.47</td>\n",
       "      <td>2022-02-01</td>\n",
       "      <td>441.343760</td>\n",
       "      <td>1</td>\n",
       "      <td>0</td>\n",
       "      <td>0</td>\n",
       "      <td>0</td>\n",
       "      <td>0</td>\n",
       "      <td>0</td>\n",
       "    </tr>\n",
       "    <tr>\n",
       "      <th>4</th>\n",
       "      <td>PAR</td>\n",
       "      <td>NYC</td>\n",
       "      <td>1030</td>\n",
       "      <td>1</td>\n",
       "      <td>379.47</td>\n",
       "      <td>2022-02-01</td>\n",
       "      <td>441.343760</td>\n",
       "      <td>1</td>\n",
       "      <td>0</td>\n",
       "      <td>0</td>\n",
       "      <td>0</td>\n",
       "      <td>0</td>\n",
       "      <td>0</td>\n",
       "    </tr>\n",
       "    <tr>\n",
       "      <th>...</th>\n",
       "      <td>...</td>\n",
       "      <td>...</td>\n",
       "      <td>...</td>\n",
       "      <td>...</td>\n",
       "      <td>...</td>\n",
       "      <td>...</td>\n",
       "      <td>...</td>\n",
       "      <td>...</td>\n",
       "      <td>...</td>\n",
       "      <td>...</td>\n",
       "      <td>...</td>\n",
       "      <td>...</td>\n",
       "      <td>...</td>\n",
       "    </tr>\n",
       "    <tr>\n",
       "      <th>50092</th>\n",
       "      <td>NYC</td>\n",
       "      <td>RUH</td>\n",
       "      <td>1300</td>\n",
       "      <td>2</td>\n",
       "      <td>930.40</td>\n",
       "      <td>2022-04-13</td>\n",
       "      <td>838.732500</td>\n",
       "      <td>0</td>\n",
       "      <td>0</td>\n",
       "      <td>0</td>\n",
       "      <td>0</td>\n",
       "      <td>1</td>\n",
       "      <td>0</td>\n",
       "    </tr>\n",
       "    <tr>\n",
       "      <th>50093</th>\n",
       "      <td>NYC</td>\n",
       "      <td>RUH</td>\n",
       "      <td>1420</td>\n",
       "      <td>2</td>\n",
       "      <td>1018.40</td>\n",
       "      <td>2022-04-13</td>\n",
       "      <td>1972.813714</td>\n",
       "      <td>0</td>\n",
       "      <td>0</td>\n",
       "      <td>0</td>\n",
       "      <td>0</td>\n",
       "      <td>1</td>\n",
       "      <td>0</td>\n",
       "    </tr>\n",
       "    <tr>\n",
       "      <th>50094</th>\n",
       "      <td>NYC</td>\n",
       "      <td>RUH</td>\n",
       "      <td>1415</td>\n",
       "      <td>2</td>\n",
       "      <td>1049.87</td>\n",
       "      <td>2022-04-13</td>\n",
       "      <td>1133.548015</td>\n",
       "      <td>0</td>\n",
       "      <td>0</td>\n",
       "      <td>0</td>\n",
       "      <td>0</td>\n",
       "      <td>1</td>\n",
       "      <td>0</td>\n",
       "    </tr>\n",
       "    <tr>\n",
       "      <th>50095</th>\n",
       "      <td>NYC</td>\n",
       "      <td>RUH</td>\n",
       "      <td>1100</td>\n",
       "      <td>2</td>\n",
       "      <td>1053.60</td>\n",
       "      <td>2022-04-13</td>\n",
       "      <td>1023.900221</td>\n",
       "      <td>0</td>\n",
       "      <td>0</td>\n",
       "      <td>0</td>\n",
       "      <td>0</td>\n",
       "      <td>1</td>\n",
       "      <td>0</td>\n",
       "    </tr>\n",
       "    <tr>\n",
       "      <th>50096</th>\n",
       "      <td>NYC</td>\n",
       "      <td>RUH</td>\n",
       "      <td>1115</td>\n",
       "      <td>3</td>\n",
       "      <td>1139.73</td>\n",
       "      <td>2022-04-13</td>\n",
       "      <td>1023.714222</td>\n",
       "      <td>0</td>\n",
       "      <td>0</td>\n",
       "      <td>0</td>\n",
       "      <td>0</td>\n",
       "      <td>1</td>\n",
       "      <td>0</td>\n",
       "    </tr>\n",
       "  </tbody>\n",
       "</table>\n",
       "<p>50097 rows × 13 columns</p>\n",
       "</div>"
      ],
      "text/plain": [
       "      Source Destination  Duration  Total stops    Price       Date  \\\n",
       "0        PAR         NYC       770            1   379.47 2022-02-01   \n",
       "1        PAR         NYC       770            1   379.47 2022-02-01   \n",
       "2        PAR         NYC       810            1   379.47 2022-02-01   \n",
       "3        PAR         NYC       890            1   379.47 2022-02-01   \n",
       "4        PAR         NYC      1030            1   379.47 2022-02-01   \n",
       "...      ...         ...       ...          ...      ...        ...   \n",
       "50092    NYC         RUH      1300            2   930.40 2022-04-13   \n",
       "50093    NYC         RUH      1420            2  1018.40 2022-04-13   \n",
       "50094    NYC         RUH      1415            2  1049.87 2022-04-13   \n",
       "50095    NYC         RUH      1100            2  1053.60 2022-04-13   \n",
       "50096    NYC         RUH      1115            3  1139.73 2022-04-13   \n",
       "\n",
       "       Average Price  Source_PAR  Source_RUH  Source_SVO  Destination_PAR  \\\n",
       "0         441.343760           1           0           0                0   \n",
       "1         441.343760           1           0           0                0   \n",
       "2         441.343760           1           0           0                0   \n",
       "3         441.343760           1           0           0                0   \n",
       "4         441.343760           1           0           0                0   \n",
       "...              ...         ...         ...         ...              ...   \n",
       "50092     838.732500           0           0           0                0   \n",
       "50093    1972.813714           0           0           0                0   \n",
       "50094    1133.548015           0           0           0                0   \n",
       "50095    1023.900221           0           0           0                0   \n",
       "50096    1023.714222           0           0           0                0   \n",
       "\n",
       "       Destination_RUH  Destination_SVO  \n",
       "0                    0                0  \n",
       "1                    0                0  \n",
       "2                    0                0  \n",
       "3                    0                0  \n",
       "4                    0                0  \n",
       "...                ...              ...  \n",
       "50092                1                0  \n",
       "50093                1                0  \n",
       "50094                1                0  \n",
       "50095                1                0  \n",
       "50096                1                0  \n",
       "\n",
       "[50097 rows x 13 columns]"
      ]
     },
     "execution_count": 28,
     "metadata": {},
     "output_type": "execute_result"
    }
   ],
   "source": [
    "final_df"
   ]
  },
  {
   "cell_type": "markdown",
   "metadata": {},
   "source": [
    "Now we have 50097 rows and 13 columns in our dataset."
   ]
  },
  {
   "cell_type": "code",
   "execution_count": 29,
   "metadata": {},
   "outputs": [],
   "source": [
    "final_df.drop([\"Source\",\"Destination\",\"Date\"], axis=1, inplace=True)"
   ]
  },
  {
   "cell_type": "code",
   "execution_count": 30,
   "metadata": {},
   "outputs": [
    {
     "data": {
      "text/html": [
       "<div>\n",
       "<style scoped>\n",
       "    .dataframe tbody tr th:only-of-type {\n",
       "        vertical-align: middle;\n",
       "    }\n",
       "\n",
       "    .dataframe tbody tr th {\n",
       "        vertical-align: top;\n",
       "    }\n",
       "\n",
       "    .dataframe thead th {\n",
       "        text-align: right;\n",
       "    }\n",
       "</style>\n",
       "<table border=\"1\" class=\"dataframe\">\n",
       "  <thead>\n",
       "    <tr style=\"text-align: right;\">\n",
       "      <th></th>\n",
       "      <th>Duration</th>\n",
       "      <th>Total stops</th>\n",
       "      <th>Price</th>\n",
       "      <th>Average Price</th>\n",
       "      <th>Source_PAR</th>\n",
       "      <th>Source_RUH</th>\n",
       "      <th>Source_SVO</th>\n",
       "      <th>Destination_PAR</th>\n",
       "      <th>Destination_RUH</th>\n",
       "      <th>Destination_SVO</th>\n",
       "    </tr>\n",
       "  </thead>\n",
       "  <tbody>\n",
       "    <tr>\n",
       "      <th>0</th>\n",
       "      <td>770</td>\n",
       "      <td>1</td>\n",
       "      <td>379.47</td>\n",
       "      <td>441.343760</td>\n",
       "      <td>1</td>\n",
       "      <td>0</td>\n",
       "      <td>0</td>\n",
       "      <td>0</td>\n",
       "      <td>0</td>\n",
       "      <td>0</td>\n",
       "    </tr>\n",
       "    <tr>\n",
       "      <th>1</th>\n",
       "      <td>770</td>\n",
       "      <td>1</td>\n",
       "      <td>379.47</td>\n",
       "      <td>441.343760</td>\n",
       "      <td>1</td>\n",
       "      <td>0</td>\n",
       "      <td>0</td>\n",
       "      <td>0</td>\n",
       "      <td>0</td>\n",
       "      <td>0</td>\n",
       "    </tr>\n",
       "    <tr>\n",
       "      <th>2</th>\n",
       "      <td>810</td>\n",
       "      <td>1</td>\n",
       "      <td>379.47</td>\n",
       "      <td>441.343760</td>\n",
       "      <td>1</td>\n",
       "      <td>0</td>\n",
       "      <td>0</td>\n",
       "      <td>0</td>\n",
       "      <td>0</td>\n",
       "      <td>0</td>\n",
       "    </tr>\n",
       "    <tr>\n",
       "      <th>3</th>\n",
       "      <td>890</td>\n",
       "      <td>1</td>\n",
       "      <td>379.47</td>\n",
       "      <td>441.343760</td>\n",
       "      <td>1</td>\n",
       "      <td>0</td>\n",
       "      <td>0</td>\n",
       "      <td>0</td>\n",
       "      <td>0</td>\n",
       "      <td>0</td>\n",
       "    </tr>\n",
       "    <tr>\n",
       "      <th>4</th>\n",
       "      <td>1030</td>\n",
       "      <td>1</td>\n",
       "      <td>379.47</td>\n",
       "      <td>441.343760</td>\n",
       "      <td>1</td>\n",
       "      <td>0</td>\n",
       "      <td>0</td>\n",
       "      <td>0</td>\n",
       "      <td>0</td>\n",
       "      <td>0</td>\n",
       "    </tr>\n",
       "    <tr>\n",
       "      <th>...</th>\n",
       "      <td>...</td>\n",
       "      <td>...</td>\n",
       "      <td>...</td>\n",
       "      <td>...</td>\n",
       "      <td>...</td>\n",
       "      <td>...</td>\n",
       "      <td>...</td>\n",
       "      <td>...</td>\n",
       "      <td>...</td>\n",
       "      <td>...</td>\n",
       "    </tr>\n",
       "    <tr>\n",
       "      <th>50092</th>\n",
       "      <td>1300</td>\n",
       "      <td>2</td>\n",
       "      <td>930.40</td>\n",
       "      <td>838.732500</td>\n",
       "      <td>0</td>\n",
       "      <td>0</td>\n",
       "      <td>0</td>\n",
       "      <td>0</td>\n",
       "      <td>1</td>\n",
       "      <td>0</td>\n",
       "    </tr>\n",
       "    <tr>\n",
       "      <th>50093</th>\n",
       "      <td>1420</td>\n",
       "      <td>2</td>\n",
       "      <td>1018.40</td>\n",
       "      <td>1972.813714</td>\n",
       "      <td>0</td>\n",
       "      <td>0</td>\n",
       "      <td>0</td>\n",
       "      <td>0</td>\n",
       "      <td>1</td>\n",
       "      <td>0</td>\n",
       "    </tr>\n",
       "    <tr>\n",
       "      <th>50094</th>\n",
       "      <td>1415</td>\n",
       "      <td>2</td>\n",
       "      <td>1049.87</td>\n",
       "      <td>1133.548015</td>\n",
       "      <td>0</td>\n",
       "      <td>0</td>\n",
       "      <td>0</td>\n",
       "      <td>0</td>\n",
       "      <td>1</td>\n",
       "      <td>0</td>\n",
       "    </tr>\n",
       "    <tr>\n",
       "      <th>50095</th>\n",
       "      <td>1100</td>\n",
       "      <td>2</td>\n",
       "      <td>1053.60</td>\n",
       "      <td>1023.900221</td>\n",
       "      <td>0</td>\n",
       "      <td>0</td>\n",
       "      <td>0</td>\n",
       "      <td>0</td>\n",
       "      <td>1</td>\n",
       "      <td>0</td>\n",
       "    </tr>\n",
       "    <tr>\n",
       "      <th>50096</th>\n",
       "      <td>1115</td>\n",
       "      <td>3</td>\n",
       "      <td>1139.73</td>\n",
       "      <td>1023.714222</td>\n",
       "      <td>0</td>\n",
       "      <td>0</td>\n",
       "      <td>0</td>\n",
       "      <td>0</td>\n",
       "      <td>1</td>\n",
       "      <td>0</td>\n",
       "    </tr>\n",
       "  </tbody>\n",
       "</table>\n",
       "<p>50097 rows × 10 columns</p>\n",
       "</div>"
      ],
      "text/plain": [
       "       Duration  Total stops    Price  Average Price  Source_PAR  Source_RUH  \\\n",
       "0           770            1   379.47     441.343760           1           0   \n",
       "1           770            1   379.47     441.343760           1           0   \n",
       "2           810            1   379.47     441.343760           1           0   \n",
       "3           890            1   379.47     441.343760           1           0   \n",
       "4          1030            1   379.47     441.343760           1           0   \n",
       "...         ...          ...      ...            ...         ...         ...   \n",
       "50092      1300            2   930.40     838.732500           0           0   \n",
       "50093      1420            2  1018.40    1972.813714           0           0   \n",
       "50094      1415            2  1049.87    1133.548015           0           0   \n",
       "50095      1100            2  1053.60    1023.900221           0           0   \n",
       "50096      1115            3  1139.73    1023.714222           0           0   \n",
       "\n",
       "       Source_SVO  Destination_PAR  Destination_RUH  Destination_SVO  \n",
       "0               0                0                0                0  \n",
       "1               0                0                0                0  \n",
       "2               0                0                0                0  \n",
       "3               0                0                0                0  \n",
       "4               0                0                0                0  \n",
       "...           ...              ...              ...              ...  \n",
       "50092           0                0                1                0  \n",
       "50093           0                0                1                0  \n",
       "50094           0                0                1                0  \n",
       "50095           0                0                1                0  \n",
       "50096           0                0                1                0  \n",
       "\n",
       "[50097 rows x 10 columns]"
      ]
     },
     "execution_count": 30,
     "metadata": {},
     "output_type": "execute_result"
    }
   ],
   "source": [
    "final_df"
   ]
  },
  {
   "cell_type": "markdown",
   "metadata": {},
   "source": [
    "Finally we have 50097 rows and 10 columns in our dataset."
   ]
  },
  {
   "cell_type": "code",
   "execution_count": 31,
   "metadata": {},
   "outputs": [
    {
     "data": {
      "text/plain": [
       "(50097, 10)"
      ]
     },
     "execution_count": 31,
     "metadata": {},
     "output_type": "execute_result"
    }
   ],
   "source": [
    "final_df.shape"
   ]
  },
  {
   "cell_type": "code",
   "execution_count": 32,
   "metadata": {},
   "outputs": [
    {
     "data": {
      "text/plain": [
       "Duration           0\n",
       "Total stops        0\n",
       "Price              0\n",
       "Average Price      0\n",
       "Source_PAR         0\n",
       "Source_RUH         0\n",
       "Source_SVO         0\n",
       "Destination_PAR    0\n",
       "Destination_RUH    0\n",
       "Destination_SVO    0\n",
       "dtype: int64"
      ]
     },
     "execution_count": 32,
     "metadata": {},
     "output_type": "execute_result"
    }
   ],
   "source": [
    "final_df.isnull().sum()"
   ]
  },
  {
   "cell_type": "markdown",
   "metadata": {},
   "source": [
    "there is no missing value present in our dataset"
   ]
  },
  {
   "cell_type": "code",
   "execution_count": 33,
   "metadata": {},
   "outputs": [
    {
     "data": {
      "text/plain": [
       "<bound method DataFrame.info of        Duration  Total stops    Price  Average Price  Source_PAR  Source_RUH  \\\n",
       "0           770            1   379.47     441.343760           1           0   \n",
       "1           770            1   379.47     441.343760           1           0   \n",
       "2           810            1   379.47     441.343760           1           0   \n",
       "3           890            1   379.47     441.343760           1           0   \n",
       "4          1030            1   379.47     441.343760           1           0   \n",
       "...         ...          ...      ...            ...         ...         ...   \n",
       "50092      1300            2   930.40     838.732500           0           0   \n",
       "50093      1420            2  1018.40    1972.813714           0           0   \n",
       "50094      1415            2  1049.87    1133.548015           0           0   \n",
       "50095      1100            2  1053.60    1023.900221           0           0   \n",
       "50096      1115            3  1139.73    1023.714222           0           0   \n",
       "\n",
       "       Source_SVO  Destination_PAR  Destination_RUH  Destination_SVO  \n",
       "0               0                0                0                0  \n",
       "1               0                0                0                0  \n",
       "2               0                0                0                0  \n",
       "3               0                0                0                0  \n",
       "4               0                0                0                0  \n",
       "...           ...              ...              ...              ...  \n",
       "50092           0                0                1                0  \n",
       "50093           0                0                1                0  \n",
       "50094           0                0                1                0  \n",
       "50095           0                0                1                0  \n",
       "50096           0                0                1                0  \n",
       "\n",
       "[50097 rows x 10 columns]>"
      ]
     },
     "execution_count": 33,
     "metadata": {},
     "output_type": "execute_result"
    }
   ],
   "source": [
    "final_df.info"
   ]
  },
  {
   "cell_type": "code",
   "execution_count": 34,
   "metadata": {},
   "outputs": [
    {
     "data": {
      "text/plain": [
       "Duration           0.303469\n",
       "Total stops        0.333617\n",
       "Price              1.295022\n",
       "Average Price      1.123132\n",
       "Source_PAR         0.159763\n",
       "Source_RUH         1.644504\n",
       "Source_SVO         1.761707\n",
       "Destination_PAR    1.849554\n",
       "Destination_RUH    1.348435\n",
       "Destination_SVO    2.318211\n",
       "dtype: float64"
      ]
     },
     "execution_count": 34,
     "metadata": {},
     "output_type": "execute_result"
    }
   ],
   "source": [
    "final_df.skew()"
   ]
  },
  {
   "cell_type": "code",
   "execution_count": 35,
   "metadata": {},
   "outputs": [
    {
     "data": {
      "text/plain": [
       "Index(['Duration', 'Total stops', 'Price', 'Average Price', 'Source_PAR',\n",
       "       'Source_RUH', 'Source_SVO', 'Destination_PAR', 'Destination_RUH',\n",
       "       'Destination_SVO'],\n",
       "      dtype='object')"
      ]
     },
     "execution_count": 35,
     "metadata": {},
     "output_type": "execute_result"
    }
   ],
   "source": [
    "final_df.columns"
   ]
  },
  {
   "cell_type": "code",
   "execution_count": 36,
   "metadata": {},
   "outputs": [
    {
     "data": {
      "text/html": [
       "<div>\n",
       "<style scoped>\n",
       "    .dataframe tbody tr th:only-of-type {\n",
       "        vertical-align: middle;\n",
       "    }\n",
       "\n",
       "    .dataframe tbody tr th {\n",
       "        vertical-align: top;\n",
       "    }\n",
       "\n",
       "    .dataframe thead th {\n",
       "        text-align: right;\n",
       "    }\n",
       "</style>\n",
       "<table border=\"1\" class=\"dataframe\">\n",
       "  <thead>\n",
       "    <tr style=\"text-align: right;\">\n",
       "      <th></th>\n",
       "      <th>Duration</th>\n",
       "      <th>Total stops</th>\n",
       "      <th>Price</th>\n",
       "      <th>Average Price</th>\n",
       "      <th>Source_PAR</th>\n",
       "      <th>Source_RUH</th>\n",
       "      <th>Source_SVO</th>\n",
       "      <th>Destination_PAR</th>\n",
       "      <th>Destination_RUH</th>\n",
       "      <th>Destination_SVO</th>\n",
       "    </tr>\n",
       "  </thead>\n",
       "  <tbody>\n",
       "    <tr>\n",
       "      <th>count</th>\n",
       "      <td>50097.000000</td>\n",
       "      <td>50097.000000</td>\n",
       "      <td>50097.000000</td>\n",
       "      <td>50097.000000</td>\n",
       "      <td>50097.000000</td>\n",
       "      <td>50097.000000</td>\n",
       "      <td>50097.000000</td>\n",
       "      <td>50097.000000</td>\n",
       "      <td>50097.000000</td>\n",
       "      <td>50097.000000</td>\n",
       "    </tr>\n",
       "    <tr>\n",
       "      <th>mean</th>\n",
       "      <td>940.056670</td>\n",
       "      <td>1.412460</td>\n",
       "      <td>1039.301158</td>\n",
       "      <td>1134.103886</td>\n",
       "      <td>0.460187</td>\n",
       "      <td>0.182446</td>\n",
       "      <td>0.169511</td>\n",
       "      <td>0.160529</td>\n",
       "      <td>0.220492</td>\n",
       "      <td>0.121424</td>\n",
       "    </tr>\n",
       "    <tr>\n",
       "      <th>std</th>\n",
       "      <td>289.148655</td>\n",
       "      <td>0.632991</td>\n",
       "      <td>858.355940</td>\n",
       "      <td>796.401153</td>\n",
       "      <td>0.498417</td>\n",
       "      <td>0.386216</td>\n",
       "      <td>0.375207</td>\n",
       "      <td>0.367099</td>\n",
       "      <td>0.414583</td>\n",
       "      <td>0.326623</td>\n",
       "    </tr>\n",
       "    <tr>\n",
       "      <th>min</th>\n",
       "      <td>215.000000</td>\n",
       "      <td>0.000000</td>\n",
       "      <td>96.000000</td>\n",
       "      <td>129.113636</td>\n",
       "      <td>0.000000</td>\n",
       "      <td>0.000000</td>\n",
       "      <td>0.000000</td>\n",
       "      <td>0.000000</td>\n",
       "      <td>0.000000</td>\n",
       "      <td>0.000000</td>\n",
       "    </tr>\n",
       "    <tr>\n",
       "      <th>25%</th>\n",
       "      <td>730.000000</td>\n",
       "      <td>1.000000</td>\n",
       "      <td>432.800000</td>\n",
       "      <td>532.747689</td>\n",
       "      <td>0.000000</td>\n",
       "      <td>0.000000</td>\n",
       "      <td>0.000000</td>\n",
       "      <td>0.000000</td>\n",
       "      <td>0.000000</td>\n",
       "      <td>0.000000</td>\n",
       "    </tr>\n",
       "    <tr>\n",
       "      <th>50%</th>\n",
       "      <td>945.000000</td>\n",
       "      <td>1.000000</td>\n",
       "      <td>685.330000</td>\n",
       "      <td>926.810466</td>\n",
       "      <td>0.000000</td>\n",
       "      <td>0.000000</td>\n",
       "      <td>0.000000</td>\n",
       "      <td>0.000000</td>\n",
       "      <td>0.000000</td>\n",
       "      <td>0.000000</td>\n",
       "    </tr>\n",
       "    <tr>\n",
       "      <th>75%</th>\n",
       "      <td>1120.000000</td>\n",
       "      <td>2.000000</td>\n",
       "      <td>1485.870000</td>\n",
       "      <td>1452.061290</td>\n",
       "      <td>1.000000</td>\n",
       "      <td>0.000000</td>\n",
       "      <td>0.000000</td>\n",
       "      <td>0.000000</td>\n",
       "      <td>0.000000</td>\n",
       "      <td>0.000000</td>\n",
       "    </tr>\n",
       "    <tr>\n",
       "      <th>max</th>\n",
       "      <td>3460.000000</td>\n",
       "      <td>3.000000</td>\n",
       "      <td>4490.670000</td>\n",
       "      <td>4220.968312</td>\n",
       "      <td>1.000000</td>\n",
       "      <td>1.000000</td>\n",
       "      <td>1.000000</td>\n",
       "      <td>1.000000</td>\n",
       "      <td>1.000000</td>\n",
       "      <td>1.000000</td>\n",
       "    </tr>\n",
       "  </tbody>\n",
       "</table>\n",
       "</div>"
      ],
      "text/plain": [
       "           Duration   Total stops         Price  Average Price    Source_PAR  \\\n",
       "count  50097.000000  50097.000000  50097.000000   50097.000000  50097.000000   \n",
       "mean     940.056670      1.412460   1039.301158    1134.103886      0.460187   \n",
       "std      289.148655      0.632991    858.355940     796.401153      0.498417   \n",
       "min      215.000000      0.000000     96.000000     129.113636      0.000000   \n",
       "25%      730.000000      1.000000    432.800000     532.747689      0.000000   \n",
       "50%      945.000000      1.000000    685.330000     926.810466      0.000000   \n",
       "75%     1120.000000      2.000000   1485.870000    1452.061290      1.000000   \n",
       "max     3460.000000      3.000000   4490.670000    4220.968312      1.000000   \n",
       "\n",
       "         Source_RUH    Source_SVO  Destination_PAR  Destination_RUH  \\\n",
       "count  50097.000000  50097.000000     50097.000000     50097.000000   \n",
       "mean       0.182446      0.169511         0.160529         0.220492   \n",
       "std        0.386216      0.375207         0.367099         0.414583   \n",
       "min        0.000000      0.000000         0.000000         0.000000   \n",
       "25%        0.000000      0.000000         0.000000         0.000000   \n",
       "50%        0.000000      0.000000         0.000000         0.000000   \n",
       "75%        0.000000      0.000000         0.000000         0.000000   \n",
       "max        1.000000      1.000000         1.000000         1.000000   \n",
       "\n",
       "       Destination_SVO  \n",
       "count     50097.000000  \n",
       "mean          0.121424  \n",
       "std           0.326623  \n",
       "min           0.000000  \n",
       "25%           0.000000  \n",
       "50%           0.000000  \n",
       "75%           0.000000  \n",
       "max           1.000000  "
      ]
     },
     "execution_count": 36,
     "metadata": {},
     "output_type": "execute_result"
    }
   ],
   "source": [
    "final_df.describe()"
   ]
  },
  {
   "cell_type": "code",
   "execution_count": 37,
   "metadata": {},
   "outputs": [
    {
     "data": {
      "text/html": [
       "<div>\n",
       "<style scoped>\n",
       "    .dataframe tbody tr th:only-of-type {\n",
       "        vertical-align: middle;\n",
       "    }\n",
       "\n",
       "    .dataframe tbody tr th {\n",
       "        vertical-align: top;\n",
       "    }\n",
       "\n",
       "    .dataframe thead th {\n",
       "        text-align: right;\n",
       "    }\n",
       "</style>\n",
       "<table border=\"1\" class=\"dataframe\">\n",
       "  <thead>\n",
       "    <tr style=\"text-align: right;\">\n",
       "      <th></th>\n",
       "      <th>Duration</th>\n",
       "      <th>Total stops</th>\n",
       "      <th>Price</th>\n",
       "      <th>Average Price</th>\n",
       "      <th>Source_PAR</th>\n",
       "      <th>Source_RUH</th>\n",
       "      <th>Source_SVO</th>\n",
       "      <th>Destination_PAR</th>\n",
       "      <th>Destination_RUH</th>\n",
       "      <th>Destination_SVO</th>\n",
       "    </tr>\n",
       "  </thead>\n",
       "  <tbody>\n",
       "    <tr>\n",
       "      <th>Duration</th>\n",
       "      <td>1.000000</td>\n",
       "      <td>0.553041</td>\n",
       "      <td>0.045183</td>\n",
       "      <td>0.078585</td>\n",
       "      <td>-0.322437</td>\n",
       "      <td>0.458239</td>\n",
       "      <td>-0.099077</td>\n",
       "      <td>-0.303134</td>\n",
       "      <td>0.046977</td>\n",
       "      <td>-0.132861</td>\n",
       "    </tr>\n",
       "    <tr>\n",
       "      <th>Total stops</th>\n",
       "      <td>0.553041</td>\n",
       "      <td>1.000000</td>\n",
       "      <td>-0.086578</td>\n",
       "      <td>-0.029769</td>\n",
       "      <td>-0.203661</td>\n",
       "      <td>0.235904</td>\n",
       "      <td>0.052647</td>\n",
       "      <td>-0.190966</td>\n",
       "      <td>0.123148</td>\n",
       "      <td>0.077048</td>\n",
       "    </tr>\n",
       "    <tr>\n",
       "      <th>Price</th>\n",
       "      <td>0.045183</td>\n",
       "      <td>-0.086578</td>\n",
       "      <td>1.000000</td>\n",
       "      <td>0.882099</td>\n",
       "      <td>0.380679</td>\n",
       "      <td>-0.123210</td>\n",
       "      <td>-0.173940</td>\n",
       "      <td>-0.350583</td>\n",
       "      <td>-0.191327</td>\n",
       "      <td>-0.243042</td>\n",
       "    </tr>\n",
       "    <tr>\n",
       "      <th>Average Price</th>\n",
       "      <td>0.078585</td>\n",
       "      <td>-0.029769</td>\n",
       "      <td>0.882099</td>\n",
       "      <td>1.000000</td>\n",
       "      <td>0.342318</td>\n",
       "      <td>-0.089584</td>\n",
       "      <td>-0.141130</td>\n",
       "      <td>-0.393807</td>\n",
       "      <td>-0.142174</td>\n",
       "      <td>-0.229791</td>\n",
       "    </tr>\n",
       "    <tr>\n",
       "      <th>Source_PAR</th>\n",
       "      <td>-0.322437</td>\n",
       "      <td>-0.203661</td>\n",
       "      <td>0.380679</td>\n",
       "      <td>0.342318</td>\n",
       "      <td>1.000000</td>\n",
       "      <td>-0.436169</td>\n",
       "      <td>-0.417136</td>\n",
       "      <td>-0.403756</td>\n",
       "      <td>0.100252</td>\n",
       "      <td>-0.075572</td>\n",
       "    </tr>\n",
       "    <tr>\n",
       "      <th>Source_RUH</th>\n",
       "      <td>0.458239</td>\n",
       "      <td>0.235904</td>\n",
       "      <td>-0.123210</td>\n",
       "      <td>-0.089584</td>\n",
       "      <td>-0.436169</td>\n",
       "      <td>1.000000</td>\n",
       "      <td>-0.213423</td>\n",
       "      <td>-0.136039</td>\n",
       "      <td>-0.251244</td>\n",
       "      <td>0.193716</td>\n",
       "    </tr>\n",
       "    <tr>\n",
       "      <th>Source_SVO</th>\n",
       "      <td>-0.099077</td>\n",
       "      <td>0.052647</td>\n",
       "      <td>-0.173940</td>\n",
       "      <td>-0.141130</td>\n",
       "      <td>-0.417136</td>\n",
       "      <td>-0.213423</td>\n",
       "      <td>1.000000</td>\n",
       "      <td>0.200546</td>\n",
       "      <td>0.000203</td>\n",
       "      <td>-0.167956</td>\n",
       "    </tr>\n",
       "    <tr>\n",
       "      <th>Destination_PAR</th>\n",
       "      <td>-0.303134</td>\n",
       "      <td>-0.190966</td>\n",
       "      <td>-0.350583</td>\n",
       "      <td>-0.393807</td>\n",
       "      <td>-0.403756</td>\n",
       "      <td>-0.136039</td>\n",
       "      <td>0.200546</td>\n",
       "      <td>1.000000</td>\n",
       "      <td>-0.232573</td>\n",
       "      <td>-0.162569</td>\n",
       "    </tr>\n",
       "    <tr>\n",
       "      <th>Destination_RUH</th>\n",
       "      <td>0.046977</td>\n",
       "      <td>0.123148</td>\n",
       "      <td>-0.191327</td>\n",
       "      <td>-0.142174</td>\n",
       "      <td>0.100252</td>\n",
       "      <td>-0.251244</td>\n",
       "      <td>0.000203</td>\n",
       "      <td>-0.232573</td>\n",
       "      <td>1.000000</td>\n",
       "      <td>-0.197720</td>\n",
       "    </tr>\n",
       "    <tr>\n",
       "      <th>Destination_SVO</th>\n",
       "      <td>-0.132861</td>\n",
       "      <td>0.077048</td>\n",
       "      <td>-0.243042</td>\n",
       "      <td>-0.229791</td>\n",
       "      <td>-0.075572</td>\n",
       "      <td>0.193716</td>\n",
       "      <td>-0.167956</td>\n",
       "      <td>-0.162569</td>\n",
       "      <td>-0.197720</td>\n",
       "      <td>1.000000</td>\n",
       "    </tr>\n",
       "  </tbody>\n",
       "</table>\n",
       "</div>"
      ],
      "text/plain": [
       "                 Duration  Total stops     Price  Average Price  Source_PAR  \\\n",
       "Duration         1.000000     0.553041  0.045183       0.078585   -0.322437   \n",
       "Total stops      0.553041     1.000000 -0.086578      -0.029769   -0.203661   \n",
       "Price            0.045183    -0.086578  1.000000       0.882099    0.380679   \n",
       "Average Price    0.078585    -0.029769  0.882099       1.000000    0.342318   \n",
       "Source_PAR      -0.322437    -0.203661  0.380679       0.342318    1.000000   \n",
       "Source_RUH       0.458239     0.235904 -0.123210      -0.089584   -0.436169   \n",
       "Source_SVO      -0.099077     0.052647 -0.173940      -0.141130   -0.417136   \n",
       "Destination_PAR -0.303134    -0.190966 -0.350583      -0.393807   -0.403756   \n",
       "Destination_RUH  0.046977     0.123148 -0.191327      -0.142174    0.100252   \n",
       "Destination_SVO -0.132861     0.077048 -0.243042      -0.229791   -0.075572   \n",
       "\n",
       "                 Source_RUH  Source_SVO  Destination_PAR  Destination_RUH  \\\n",
       "Duration           0.458239   -0.099077        -0.303134         0.046977   \n",
       "Total stops        0.235904    0.052647        -0.190966         0.123148   \n",
       "Price             -0.123210   -0.173940        -0.350583        -0.191327   \n",
       "Average Price     -0.089584   -0.141130        -0.393807        -0.142174   \n",
       "Source_PAR        -0.436169   -0.417136        -0.403756         0.100252   \n",
       "Source_RUH         1.000000   -0.213423        -0.136039        -0.251244   \n",
       "Source_SVO        -0.213423    1.000000         0.200546         0.000203   \n",
       "Destination_PAR   -0.136039    0.200546         1.000000        -0.232573   \n",
       "Destination_RUH   -0.251244    0.000203        -0.232573         1.000000   \n",
       "Destination_SVO    0.193716   -0.167956        -0.162569        -0.197720   \n",
       "\n",
       "                 Destination_SVO  \n",
       "Duration               -0.132861  \n",
       "Total stops             0.077048  \n",
       "Price                  -0.243042  \n",
       "Average Price          -0.229791  \n",
       "Source_PAR             -0.075572  \n",
       "Source_RUH              0.193716  \n",
       "Source_SVO             -0.167956  \n",
       "Destination_PAR        -0.162569  \n",
       "Destination_RUH        -0.197720  \n",
       "Destination_SVO         1.000000  "
      ]
     },
     "execution_count": 37,
     "metadata": {},
     "output_type": "execute_result"
    }
   ],
   "source": [
    "final_df.corr()"
   ]
  },
  {
   "cell_type": "markdown",
   "metadata": {},
   "source": [
    "# Features: "
   ]
  },
  {
   "cell_type": "markdown",
   "metadata": {},
   "source": [
    "After constructing the final dataframe with all numerical values, now we can analyze the features that will be used for the regressions models"
   ]
  },
  {
   "cell_type": "code",
   "execution_count": 38,
   "metadata": {},
   "outputs": [
    {
     "data": {
      "text/plain": [
       "Index(['Duration', 'Total stops', 'Price', 'Average Price', 'Source_PAR',\n",
       "       'Source_RUH', 'Source_SVO', 'Destination_PAR', 'Destination_RUH',\n",
       "       'Destination_SVO'],\n",
       "      dtype='object')"
      ]
     },
     "execution_count": 38,
     "metadata": {},
     "output_type": "execute_result"
    }
   ],
   "source": [
    "final_df.columns"
   ]
  },
  {
   "cell_type": "code",
   "execution_count": 39,
   "metadata": {},
   "outputs": [],
   "source": [
    "X = final_df[['Duration', 'Total stops', 'Average Price', 'Source_PAR',\n",
    "       'Source_RUH', 'Source_SVO', 'Destination_PAR', 'Destination_RUH',\n",
    "       'Destination_SVO']]\n",
    "\n",
    "y = final_df[\"Price\"]\n"
   ]
  },
  {
   "cell_type": "code",
   "execution_count": 40,
   "metadata": {},
   "outputs": [
    {
     "data": {
      "image/png": "[encoded data removed]",
      "text/plain": [
       "<Figure size 1296x1296 with 2 Axes>"
      ]
     },
     "metadata": {},
     "output_type": "display_data"
    }
   ],
   "source": [
    "plt.figure(figsize = (18,18))\n",
    "\n",
    "sns.heatmap(final_df.corr(),annot= True, cmap = \"coolwarm\")\n",
    "\n",
    "plt.show()"
   ]
  },
  {
   "cell_type": "markdown",
   "metadata": {},
   "source": [
    "As we can see from the above figure source_RUH and source_PAR are highly negatively correlated with each other."
   ]
  },
  {
   "cell_type": "code",
   "execution_count": 41,
   "metadata": {},
   "outputs": [
    {
     "data": {
      "text/plain": [
       "array([0.03992517, 0.01459831, 0.7429113 , 0.08711835, 0.00760294,\n",
       "       0.01356678, 0.02419075, 0.05523358, 0.01485283])"
      ]
     },
     "execution_count": 41,
     "metadata": {},
     "output_type": "execute_result"
    }
   ],
   "source": [
    "# getting feature importance to the target variable \"Price\".\n",
    "selection =ExtraTreesRegressor()\n",
    "selection.fit(X,y)\n",
    "selection.feature_importances_"
   ]
  },
  {
   "cell_type": "code",
   "execution_count": 42,
   "metadata": {},
   "outputs": [
    {
     "data": {
      "image/png": "[encoded data removed]",
      "text/plain": [
       "<Figure size 864x576 with 1 Axes>"
      ]
     },
     "metadata": {},
     "output_type": "display_data"
    }
   ],
   "source": [
    "# plotting graph of important features\n",
    "plt.figure(figsize = (12,8))\n",
    "feat_importances = pd.Series(selection.feature_importances_,index = X.columns)\n",
    "feat_importances.nlargest(20).plot(kind=\"barh\")\n",
    "plt.show()"
   ]
  },
  {
   "cell_type": "markdown",
   "metadata": {},
   "source": [
    "# Modeling: "
   ]
  },
  {
   "cell_type": "markdown",
   "metadata": {},
   "source": [
    "Splitting the data"
   ]
  },
  {
   "cell_type": "code",
   "execution_count": 43,
   "metadata": {},
   "outputs": [],
   "source": [
    "X_train_or, X_test, y_train_or, y_test = train_test_split(X, y, test_size=0.2)\n",
    "X_train, X_val, y_train, y_val = train_test_split(X_train_or, y_train_or, test_size=0.25)"
   ]
  },
  {
   "cell_type": "code",
   "execution_count": 44,
   "metadata": {},
   "outputs": [],
   "source": [
    "def get_metrics(model):\n",
    "    print(f'Train score {model.score(X_train, y_train)}')\n",
    "    print(f'Val score {model.score(X_val, y_val)}')\n",
    "    print(\"MAE:\" , metrics.mean_absolute_error(y_val,model.predict(X_val)))\n",
    "    print(\"MSE:\" , metrics.mean_squared_error(y_val,model.predict(X_val)))\n",
    "    print(\"RMSE:\" , np.sqrt(metrics.mean_squared_error(y_val,model.predict(X_val))))"
   ]
  },
  {
   "cell_type": "markdown",
   "metadata": {},
   "source": [
    "# Linear Regression"
   ]
  },
  {
   "cell_type": "code",
   "execution_count": 45,
   "metadata": {},
   "outputs": [
    {
     "name": "stdout",
     "output_type": "stream",
     "text": [
      "Train score 0.7995769349933366\n",
      "Val score 0.8057954492206094\n",
      "MAE: 222.2086250235539\n",
      "MSE: 145044.14902905398\n",
      "RMSE: 380.8466213964015\n"
     ]
    }
   ],
   "source": [
    "lr = LinearRegression()\n",
    "lr.fit(X_train, y_train)\n",
    "score = lr.score(X_val, y_val)\n",
    "get_metrics(lr)"
   ]
  },
  {
   "cell_type": "markdown",
   "metadata": {},
   "source": [
    "# Polynomial"
   ]
  },
  {
   "cell_type": "code",
   "execution_count": 46,
   "metadata": {},
   "outputs": [
    {
     "name": "stdout",
     "output_type": "stream",
     "text": [
      "--------------------\n",
      "Degree 1\n",
      "Train score 0.7995769349933366\n",
      "Val score 0.80579544922061\n",
      "MAE: 222.20862502356346\n",
      "MSE: 145044.1490290536\n",
      "RMSE: 380.846621396401\n",
      "--------------------\n",
      "Degree 2\n",
      "Train score 0.852139836156427\n",
      "Val score 0.8604142908872954\n",
      "MAE: 177.11082531682325\n",
      "MSE: 104251.36956686535\n",
      "RMSE: 322.87980668797695\n",
      "--------------------\n",
      "Degree 3\n",
      "Train score 0.8712518753329714\n",
      "Val score 0.8790270776533059\n",
      "MAE: 157.5599235328996\n",
      "MSE: 90350.17205784316\n",
      "RMSE: 300.5830535107446\n",
      "--------------------\n",
      "Degree 4\n",
      "Train score 0.877413591063566\n",
      "Val score 0.884466169664374\n",
      "MAE: 147.52413368055346\n",
      "MSE: 86287.91672412406\n",
      "RMSE: 293.7480497367158\n",
      "--------------------\n",
      "Degree 5\n",
      "Train score 0.8820395993026247\n",
      "Val score 0.8885742022381693\n",
      "MAE: 145.9672004036399\n",
      "MSE: 83219.78013073064\n",
      "RMSE: 288.4783876319518\n"
     ]
    }
   ],
   "source": [
    "for degree in [1,2,3,4,5]:\n",
    "    poly = make_pipeline(PolynomialFeatures(degree), LinearRegression())\n",
    "    poly.fit(X_train, y_train)\n",
    "    print(\"-\"*20)\n",
    "    print(\"Degree\", degree)\n",
    "    get_metrics(poly)"
   ]
  },
  {
   "cell_type": "markdown",
   "metadata": {},
   "source": [
    "# Lasso"
   ]
  },
  {
   "cell_type": "code",
   "execution_count": 47,
   "metadata": {},
   "outputs": [
    {
     "name": "stdout",
     "output_type": "stream",
     "text": [
      "Train score 0.7993843570972623\n",
      "Val score 0.8053718647408128\n",
      "MAE: 220.61210216714622\n",
      "MSE: 145360.50850759065\n",
      "RMSE: 381.26173228845124\n"
     ]
    }
   ],
   "source": [
    "lasso_model = Lasso()\n",
    "lasso_model.fit(X_train, y_train)\n",
    "get_metrics(lasso_model)"
   ]
  },
  {
   "cell_type": "markdown",
   "metadata": {},
   "source": [
    "# Ridge"
   ]
  },
  {
   "cell_type": "code",
   "execution_count": 48,
   "metadata": {},
   "outputs": [
    {
     "name": "stdout",
     "output_type": "stream",
     "text": [
      "Train score 0.7995769202361608\n",
      "Val score 0.8057937001360076\n",
      "MAE: 222.19363467936276\n",
      "MSE: 145045.45535522726\n",
      "RMSE: 380.8483364217668\n"
     ]
    }
   ],
   "source": [
    "ridge_model = Ridge()\n",
    "ridge_model.fit(X_train, y_train)\n",
    "get_metrics(ridge_model)"
   ]
  },
  {
   "cell_type": "markdown",
   "metadata": {},
   "source": [
    "# Elasticnet"
   ]
  },
  {
   "cell_type": "code",
   "execution_count": 49,
   "metadata": {},
   "outputs": [
    {
     "name": "stdout",
     "output_type": "stream",
     "text": [
      "Train score 0.7857214385393486\n",
      "Val score 0.7899880791737728\n",
      "MAE: 222.2312562532075\n",
      "MSE: 156850.08523203866\n",
      "RMSE: 396.04303457078834\n"
     ]
    }
   ],
   "source": [
    "EN_model = ElasticNet(alpha=1)\n",
    "EN_model.fit(X_train, y_train)\n",
    "EN_model.score(X_val, y_val)\n",
    "get_metrics(EN_model)"
   ]
  },
  {
   "cell_type": "markdown",
   "metadata": {},
   "source": [
    "# Random Forest"
   ]
  },
  {
   "cell_type": "code",
   "execution_count": 50,
   "metadata": {},
   "outputs": [
    {
     "name": "stdout",
     "output_type": "stream",
     "text": [
      "Train score 0.9615118954843789\n",
      "Val score 0.9544382167641352\n",
      "MAE: 59.520831461215415\n",
      "MSE: 34028.39970109252\n",
      "RMSE: 184.46788257334262\n"
     ]
    }
   ],
   "source": [
    "rf = RandomForestRegressor()\n",
    "rf.fit(X_train,y_train)\n",
    "get_metrics(rf)"
   ]
  },
  {
   "cell_type": "markdown",
   "metadata": {},
   "source": [
    "# Feature Scaling"
   ]
  },
  {
   "cell_type": "code",
   "execution_count": 51,
   "metadata": {},
   "outputs": [],
   "source": [
    "scaler = StandardScaler()\n",
    "\n",
    "X_train_scaled = scaler.fit_transform(X_train.values)\n",
    "X_val_scaled = scaler.transform(X_val.values)\n",
    "X_test_scaled = scaler.transform(X_test.values)"
   ]
  },
  {
   "cell_type": "code",
   "execution_count": 52,
   "metadata": {},
   "outputs": [
    {
     "name": "stdout",
     "output_type": "stream",
     "text": [
      "LR\n",
      "Train score 0.7995769349933365\n",
      "Val score 0.8057954492206096\n",
      "MAE: 222.2086250235556\n",
      "MSE: 145044.14902905386\n",
      "RMSE: 380.84662139640136\n",
      "--------------------------------------------------\n",
      "Polynomial - Degree 1\n",
      "Train score -0.37892809918362946\n",
      "Val score -0.3785848545014381\n",
      "MAE: 791.1158927568157\n",
      "MSE: 1029613.7051527994\n",
      "RMSE: 1014.6988248504082\n",
      "--------------------------------------------------\n",
      "Polynomial - Degree 2\n",
      "Train score -6.715359366401636\n",
      "Val score -6.702994030007297\n",
      "MAE: 1827.2636596371276\n",
      "MSE: 5753079.469942367\n",
      "RMSE: 2398.557789577388\n",
      "--------------------------------------------------\n",
      "Polynomial - Degree 3\n",
      "Train score -5.565410967736544\n",
      "Val score -5.5071393425576005\n",
      "MAE: 1705.7755210902385\n",
      "MSE: 4859940.123786768\n",
      "RMSE: 2204.5271882620927\n",
      "--------------------------------------------------\n",
      "Polynomial - Degree 4\n",
      "Train score -188.04883634634956\n",
      "Val score -193.67900518580387\n",
      "MAE: 7796.866866919953\n",
      "MSE: 145398501.36196858\n",
      "RMSE: 12058.130093922879\n",
      "--------------------------------------------------\n",
      "Polynomial - Degree 5\n",
      "Train score -1.399822859545906\n",
      "Val score -1.3885641516395588\n",
      "MAE: 1018.3237436049282\n",
      "MSE: 1783929.6421504347\n",
      "RMSE: 1335.6382901633342\n",
      "--------------------------------------------------\n",
      "Lasso\n",
      "Train score 0.7995581844811015\n",
      "Val score 0.805723261998361\n",
      "MAE: 221.73209893849915\n",
      "MSE: 145098.06297792785\n",
      "RMSE: 380.917396528339\n",
      "--------------------------------------------------\n",
      "Ridge\n",
      "Train score 0.7995769341388961\n",
      "Val score 0.8057957002916052\n",
      "MAE: 222.21076195654473\n",
      "MSE: 145043.96151347426\n",
      "RMSE: 380.84637521377863\n",
      "--------------------------------------------------\n",
      "ElasticNet\n",
      "Train score 0.7312320500542053\n",
      "Val score 0.7385032233646756\n",
      "MAE: 304.30962612189086\n",
      "MSE: 195302.2073308506\n",
      "RMSE: 441.93009326232874\n",
      "--------------------------------------------------\n",
      "Random Forest\n",
      "Train score -1.0720937807141633\n",
      "Val score -1.0650658058991156\n",
      "MAE: 890.4542598062684\n",
      "MSE: 1542320.7710816485\n",
      "RMSE: 1241.9020778956965\n"
     ]
    }
   ],
   "source": [
    "# function to get metrics for scaled features\n",
    "def scaled_metrics(model):\n",
    "    print(f'Train score {model.score(X_train_scaled, y_train)}')\n",
    "    print(f'Val score {model.score(X_val_scaled, y_val)}')\n",
    "    print(\"MAE:\" , metrics.mean_absolute_error(y_val,model.predict(X_val_scaled)))\n",
    "    print(\"MSE:\" , metrics.mean_squared_error(y_val,model.predict(X_val_scaled)))\n",
    "    print(\"RMSE:\" , np.sqrt(metrics.mean_squared_error(y_val,model.predict(X_val_scaled))))\n",
    "\n",
    "    \n",
    "## Baseline: Linear Regression\n",
    "\n",
    "lr = LinearRegression()\n",
    "lr.fit(X_train_scaled, y_train)\n",
    "score = lr.score(X_val_scaled, y_val)\n",
    "print(\"LR\")\n",
    "scaled_metrics(lr)\n",
    "print(\"-\"*50)\n",
    "\n",
    "## Polynomial\n",
    "\n",
    "for degree in [1,2,3,4,5]:\n",
    "    poly = make_pipeline(PolynomialFeatures(degree), LinearRegression())\n",
    "    poly.fit(X_train, y_train)\n",
    "    print(\"Polynomial - Degree\", degree)\n",
    "    scaled_metrics(poly)\n",
    "    print(\"-\"*50)\n",
    "\n",
    "## Lasso\n",
    "\n",
    "lasso_model = Lasso()\n",
    "lasso_model.fit(X_train_scaled, y_train)\n",
    "print(\"Lasso\")\n",
    "scaled_metrics(lasso_model)\n",
    "print(\"-\"*50)\n",
    "\n",
    "## Ridge\n",
    "\n",
    "ridge_model = Ridge()\n",
    "ridge_model.fit(X_train_scaled, y_train)\n",
    "print(\"Ridge\")\n",
    "scaled_metrics(ridge_model)\n",
    "print(\"-\"*50)\n",
    "\n",
    "## ElasticNet\n",
    "\n",
    "EN_model = ElasticNet(alpha=1)\n",
    "EN_model.fit(X_train_scaled, y_train)\n",
    "EN_model.score(X_val_scaled, y_val)\n",
    "print(\"ElasticNet\")\n",
    "scaled_metrics(EN_model)\n",
    "print(\"-\"*50)\n",
    "\n",
    "## Random Forest\n",
    "rf = RandomForestRegressor()\n",
    "rf.fit(X_train,y_train)\n",
    "print(\"Random Forest\")\n",
    "scaled_metrics(rf)\n"
   ]
  },
  {
   "cell_type": "markdown",
   "metadata": {},
   "source": [
    "Feature scaling was of no use, it did not improve anything."
   ]
  },
  {
   "cell_type": "markdown",
   "metadata": {},
   "source": [
    "From the above analysis, we can see that the random forest model performed the best with:"
   ]
  },
  {
   "cell_type": "raw",
   "metadata": {},
   "source": [
    "Train score 0.9648778537711422\n",
    "Val score 0.9448134490695079\n",
    "MAE: 61.717733027545194\n",
    "MSE: 40035.31608101726\n",
    "RMSE: 200.0882707232417"
   ]
  },
  {
   "cell_type": "markdown",
   "metadata": {},
   "source": [
    "So, we will  select it as our best  model."
   ]
  },
  {
   "cell_type": "code",
   "execution_count": 54,
   "metadata": {},
   "outputs": [
    {
     "name": "stdout",
     "output_type": "stream",
     "text": [
      "Train score 0.9626261295805452\n",
      "Test score 0.9515683630513413\n",
      "MAE: 60.25089534195107\n",
      "MSE: 35618.019831962665\n",
      "RMSE: 188.72736905908127\n"
     ]
    }
   ],
   "source": [
    "X_train_val = pd.concat([X_train,X_val])\n",
    "y_train_val = pd.concat([y_train,y_val])\n",
    "\n",
    "rf = RandomForestRegressor()\n",
    "rf.fit(X_train_val,y_train_val)\n",
    "\n",
    "print(f'Train score {rf.score(X_train_val, y_train_val)}')\n",
    "print(f'Test score {rf.score(X_test, y_test)}')\n",
    "print(\"MAE:\" , metrics.mean_absolute_error(y_test,rf.predict(X_test)))\n",
    "print(\"MSE:\" , metrics.mean_squared_error(y_test,rf.predict(X_test)))\n",
    "print(\"RMSE:\" , np.sqrt(metrics.mean_squared_error(y_test,rf.predict(X_test))))"
   ]
  },
  {
   "cell_type": "code",
   "execution_count": 55,
   "metadata": {},
   "outputs": [],
   "source": [
    "y_train_val_pred = rf.predict(X_train_val)\n",
    "y_test_pred = rf.predict(X_test)"
   ]
  },
  {
   "cell_type": "code",
   "execution_count": 56,
   "metadata": {},
   "outputs": [
    {
     "data": {
      "image/png": "[encoded data removed]",
      "text/plain": [
       "<Figure size 432x288 with 1 Axes>"
      ]
     },
     "metadata": {},
     "output_type": "display_data"
    }
   ],
   "source": [
    "plt.scatter(y_test,y_test_pred,alpha =0.2,color=\"DarkBlue\")\n",
    "plt.title('Actual vs. Predicted Airline Prices')\n",
    "plt.xlabel('Predicted Airline Prices')\n",
    "plt.ylabel('Actual Airline Prices');"
   ]
  },
  {
   "cell_type": "markdown",
   "metadata": {},
   "source": [
    "As we can see the comparison between actual and predicted airline prices."
   ]
  },
  {
   "cell_type": "markdown",
   "metadata": {},
   "source": [
    "# Hyperparameter tunning"
   ]
  },
  {
   "cell_type": "code",
   "execution_count": 57,
   "metadata": {},
   "outputs": [],
   "source": [
    "# randomized search CV\n",
    "\n",
    "n_estimators = [int(x) for x in np.linspace(start = 100, stop = 1200, num = 12)]\n",
    "max_features = ['auto', 'sqrt']\n",
    "max_depth = [int(x) for x in np.linspace(5, 30, num = 6)]\n",
    "min_samples_split = [2, 5, 10, 15, 100]\n",
    "min_samples_leaf = [1, 2, 5, 10]"
   ]
  },
  {
   "cell_type": "code",
   "execution_count": 58,
   "metadata": {},
   "outputs": [],
   "source": [
    "# create the random grid\n",
    "\n",
    "random_grid = {'n_estimators': n_estimators,\n",
    "               'max_features': max_features,\n",
    "               'max_depth': max_depth,\n",
    "               'min_samples_split': min_samples_split,\n",
    "               'min_samples_leaf': min_samples_leaf}"
   ]
  },
  {
   "cell_type": "code",
   "execution_count": 59,
   "metadata": {},
   "outputs": [],
   "source": [
    "rf_random = RandomizedSearchCV(estimator = rf, param_distributions = random_grid,scoring='neg_mean_squared_error', n_iter = 10, cv = 5, verbose=2, n_jobs = 1)"
   ]
  },
  {
   "cell_type": "code",
   "execution_count": 60,
   "metadata": {},
   "outputs": [
    {
     "name": "stdout",
     "output_type": "stream",
     "text": [
      "Fitting 5 folds for each of 10 candidates, totalling 50 fits\n",
      "[CV] n_estimators=300, min_samples_split=5, min_samples_leaf=2, max_features=sqrt, max_depth=25 \n"
     ]
    },
    {
     "name": "stderr",
     "output_type": "stream",
     "text": [
      "[Parallel(n_jobs=1)]: Using backend SequentialBackend with 1 concurrent workers.\n"
     ]
    },
    {
     "name": "stdout",
     "output_type": "stream",
     "text": [
      "[CV]  n_estimators=300, min_samples_split=5, min_samples_leaf=2, max_features=sqrt, max_depth=25, total=   5.7s\n",
      "[CV] n_estimators=300, min_samples_split=5, min_samples_leaf=2, max_features=sqrt, max_depth=25 \n"
     ]
    },
    {
     "name": "stderr",
     "output_type": "stream",
     "text": [
      "[Parallel(n_jobs=1)]: Done   1 out of   1 | elapsed:    5.6s remaining:    0.0s\n"
     ]
    },
    {
     "name": "stdout",
     "output_type": "stream",
     "text": [
      "[CV]  n_estimators=300, min_samples_split=5, min_samples_leaf=2, max_features=sqrt, max_depth=25, total=   5.5s\n",
      "[CV] n_estimators=300, min_samples_split=5, min_samples_leaf=2, max_features=sqrt, max_depth=25 \n",
      "[CV]  n_estimators=300, min_samples_split=5, min_samples_leaf=2, max_features=sqrt, max_depth=25, total=   6.3s\n",
      "[CV] n_estimators=300, min_samples_split=5, min_samples_leaf=2, max_features=sqrt, max_depth=25 \n",
      "[CV]  n_estimators=300, min_samples_split=5, min_samples_leaf=2, max_features=sqrt, max_depth=25, total=   6.2s\n",
      "[CV] n_estimators=300, min_samples_split=5, min_samples_leaf=2, max_features=sqrt, max_depth=25 \n",
      "[CV]  n_estimators=300, min_samples_split=5, min_samples_leaf=2, max_features=sqrt, max_depth=25, total=   5.9s\n",
      "[CV] n_estimators=300, min_samples_split=5, min_samples_leaf=10, max_features=auto, max_depth=25 \n",
      "[CV]  n_estimators=300, min_samples_split=5, min_samples_leaf=10, max_features=auto, max_depth=25, total=  10.2s\n",
      "[CV] n_estimators=300, min_samples_split=5, min_samples_leaf=10, max_features=auto, max_depth=25 \n",
      "[CV]  n_estimators=300, min_samples_split=5, min_samples_leaf=10, max_features=auto, max_depth=25, total=   9.5s\n",
      "[CV] n_estimators=300, min_samples_split=5, min_samples_leaf=10, max_features=auto, max_depth=25 \n",
      "[CV]  n_estimators=300, min_samples_split=5, min_samples_leaf=10, max_features=auto, max_depth=25, total=   9.4s\n",
      "[CV] n_estimators=300, min_samples_split=5, min_samples_leaf=10, max_features=auto, max_depth=25 \n",
      "[CV]  n_estimators=300, min_samples_split=5, min_samples_leaf=10, max_features=auto, max_depth=25, total=   9.5s\n",
      "[CV] n_estimators=300, min_samples_split=5, min_samples_leaf=10, max_features=auto, max_depth=25 \n",
      "[CV]  n_estimators=300, min_samples_split=5, min_samples_leaf=10, max_features=auto, max_depth=25, total=   9.2s\n",
      "[CV] n_estimators=800, min_samples_split=10, min_samples_leaf=1, max_features=auto, max_depth=30 \n",
      "[CV]  n_estimators=800, min_samples_split=10, min_samples_leaf=1, max_features=auto, max_depth=30, total=  27.9s\n",
      "[CV] n_estimators=800, min_samples_split=10, min_samples_leaf=1, max_features=auto, max_depth=30 \n",
      "[CV]  n_estimators=800, min_samples_split=10, min_samples_leaf=1, max_features=auto, max_depth=30, total=  28.0s\n",
      "[CV] n_estimators=800, min_samples_split=10, min_samples_leaf=1, max_features=auto, max_depth=30 \n",
      "[CV]  n_estimators=800, min_samples_split=10, min_samples_leaf=1, max_features=auto, max_depth=30, total=  29.1s\n",
      "[CV] n_estimators=800, min_samples_split=10, min_samples_leaf=1, max_features=auto, max_depth=30 \n",
      "[CV]  n_estimators=800, min_samples_split=10, min_samples_leaf=1, max_features=auto, max_depth=30, total=  27.8s\n",
      "[CV] n_estimators=800, min_samples_split=10, min_samples_leaf=1, max_features=auto, max_depth=30 \n",
      "[CV]  n_estimators=800, min_samples_split=10, min_samples_leaf=1, max_features=auto, max_depth=30, total=  27.5s\n",
      "[CV] n_estimators=800, min_samples_split=10, min_samples_leaf=1, max_features=sqrt, max_depth=5 \n",
      "[CV]  n_estimators=800, min_samples_split=10, min_samples_leaf=1, max_features=sqrt, max_depth=5, total=   6.1s\n",
      "[CV] n_estimators=800, min_samples_split=10, min_samples_leaf=1, max_features=sqrt, max_depth=5 \n",
      "[CV]  n_estimators=800, min_samples_split=10, min_samples_leaf=1, max_features=sqrt, max_depth=5, total=   6.2s\n",
      "[CV] n_estimators=800, min_samples_split=10, min_samples_leaf=1, max_features=sqrt, max_depth=5 \n",
      "[CV]  n_estimators=800, min_samples_split=10, min_samples_leaf=1, max_features=sqrt, max_depth=5, total=   6.3s\n",
      "[CV] n_estimators=800, min_samples_split=10, min_samples_leaf=1, max_features=sqrt, max_depth=5 \n",
      "[CV]  n_estimators=800, min_samples_split=10, min_samples_leaf=1, max_features=sqrt, max_depth=5, total=   6.4s\n",
      "[CV] n_estimators=800, min_samples_split=10, min_samples_leaf=1, max_features=sqrt, max_depth=5 \n",
      "[CV]  n_estimators=800, min_samples_split=10, min_samples_leaf=1, max_features=sqrt, max_depth=5, total=   6.2s\n",
      "[CV] n_estimators=500, min_samples_split=2, min_samples_leaf=1, max_features=sqrt, max_depth=15 \n",
      "[CV]  n_estimators=500, min_samples_split=2, min_samples_leaf=1, max_features=sqrt, max_depth=15, total=   8.4s\n",
      "[CV] n_estimators=500, min_samples_split=2, min_samples_leaf=1, max_features=sqrt, max_depth=15 \n",
      "[CV]  n_estimators=500, min_samples_split=2, min_samples_leaf=1, max_features=sqrt, max_depth=15, total=   8.4s\n",
      "[CV] n_estimators=500, min_samples_split=2, min_samples_leaf=1, max_features=sqrt, max_depth=15 \n",
      "[CV]  n_estimators=500, min_samples_split=2, min_samples_leaf=1, max_features=sqrt, max_depth=15, total=   8.6s\n",
      "[CV] n_estimators=500, min_samples_split=2, min_samples_leaf=1, max_features=sqrt, max_depth=15 \n",
      "[CV]  n_estimators=500, min_samples_split=2, min_samples_leaf=1, max_features=sqrt, max_depth=15, total=   8.3s\n",
      "[CV] n_estimators=500, min_samples_split=2, min_samples_leaf=1, max_features=sqrt, max_depth=15 \n",
      "[CV]  n_estimators=500, min_samples_split=2, min_samples_leaf=1, max_features=sqrt, max_depth=15, total=   8.5s\n",
      "[CV] n_estimators=600, min_samples_split=15, min_samples_leaf=10, max_features=auto, max_depth=20 \n",
      "[CV]  n_estimators=600, min_samples_split=15, min_samples_leaf=10, max_features=auto, max_depth=20, total=  18.4s\n",
      "[CV] n_estimators=600, min_samples_split=15, min_samples_leaf=10, max_features=auto, max_depth=20 \n",
      "[CV]  n_estimators=600, min_samples_split=15, min_samples_leaf=10, max_features=auto, max_depth=20, total=  18.5s\n",
      "[CV] n_estimators=600, min_samples_split=15, min_samples_leaf=10, max_features=auto, max_depth=20 \n",
      "[CV]  n_estimators=600, min_samples_split=15, min_samples_leaf=10, max_features=auto, max_depth=20, total=  18.4s\n",
      "[CV] n_estimators=600, min_samples_split=15, min_samples_leaf=10, max_features=auto, max_depth=20 \n",
      "[CV]  n_estimators=600, min_samples_split=15, min_samples_leaf=10, max_features=auto, max_depth=20, total=  18.4s\n",
      "[CV] n_estimators=600, min_samples_split=15, min_samples_leaf=10, max_features=auto, max_depth=20 \n",
      "[CV]  n_estimators=600, min_samples_split=15, min_samples_leaf=10, max_features=auto, max_depth=20, total=  18.2s\n",
      "[CV] n_estimators=900, min_samples_split=15, min_samples_leaf=5, max_features=sqrt, max_depth=25 \n",
      "[CV]  n_estimators=900, min_samples_split=15, min_samples_leaf=5, max_features=sqrt, max_depth=25, total=  31.2s\n",
      "[CV] n_estimators=900, min_samples_split=15, min_samples_leaf=5, max_features=sqrt, max_depth=25 \n",
      "[CV]  n_estimators=900, min_samples_split=15, min_samples_leaf=5, max_features=sqrt, max_depth=25, total=  24.0s\n",
      "[CV] n_estimators=900, min_samples_split=15, min_samples_leaf=5, max_features=sqrt, max_depth=25 \n",
      "[CV]  n_estimators=900, min_samples_split=15, min_samples_leaf=5, max_features=sqrt, max_depth=25, total=  19.5s\n",
      "[CV] n_estimators=900, min_samples_split=15, min_samples_leaf=5, max_features=sqrt, max_depth=25 \n",
      "[CV]  n_estimators=900, min_samples_split=15, min_samples_leaf=5, max_features=sqrt, max_depth=25, total=  18.6s\n",
      "[CV] n_estimators=900, min_samples_split=15, min_samples_leaf=5, max_features=sqrt, max_depth=25 \n",
      "[CV]  n_estimators=900, min_samples_split=15, min_samples_leaf=5, max_features=sqrt, max_depth=25, total=  17.0s\n",
      "[CV] n_estimators=800, min_samples_split=5, min_samples_leaf=2, max_features=sqrt, max_depth=5 \n",
      "[CV]  n_estimators=800, min_samples_split=5, min_samples_leaf=2, max_features=sqrt, max_depth=5, total=   7.1s\n",
      "[CV] n_estimators=800, min_samples_split=5, min_samples_leaf=2, max_features=sqrt, max_depth=5 \n",
      "[CV]  n_estimators=800, min_samples_split=5, min_samples_leaf=2, max_features=sqrt, max_depth=5, total=   7.4s\n",
      "[CV] n_estimators=800, min_samples_split=5, min_samples_leaf=2, max_features=sqrt, max_depth=5 \n",
      "[CV]  n_estimators=800, min_samples_split=5, min_samples_leaf=2, max_features=sqrt, max_depth=5, total=   7.3s\n",
      "[CV] n_estimators=800, min_samples_split=5, min_samples_leaf=2, max_features=sqrt, max_depth=5 \n",
      "[CV]  n_estimators=800, min_samples_split=5, min_samples_leaf=2, max_features=sqrt, max_depth=5, total=   6.9s\n",
      "[CV] n_estimators=800, min_samples_split=5, min_samples_leaf=2, max_features=sqrt, max_depth=5 \n",
      "[CV]  n_estimators=800, min_samples_split=5, min_samples_leaf=2, max_features=sqrt, max_depth=5, total=   6.8s\n",
      "[CV] n_estimators=1000, min_samples_split=5, min_samples_leaf=2, max_features=sqrt, max_depth=10 \n",
      "[CV]  n_estimators=1000, min_samples_split=5, min_samples_leaf=2, max_features=sqrt, max_depth=10, total=  12.7s\n",
      "[CV] n_estimators=1000, min_samples_split=5, min_samples_leaf=2, max_features=sqrt, max_depth=10 \n",
      "[CV]  n_estimators=1000, min_samples_split=5, min_samples_leaf=2, max_features=sqrt, max_depth=10, total=  12.3s\n",
      "[CV] n_estimators=1000, min_samples_split=5, min_samples_leaf=2, max_features=sqrt, max_depth=10 \n",
      "[CV]  n_estimators=1000, min_samples_split=5, min_samples_leaf=2, max_features=sqrt, max_depth=10, total=  12.5s\n",
      "[CV] n_estimators=1000, min_samples_split=5, min_samples_leaf=2, max_features=sqrt, max_depth=10 \n",
      "[CV]  n_estimators=1000, min_samples_split=5, min_samples_leaf=2, max_features=sqrt, max_depth=10, total=  12.5s\n",
      "[CV] n_estimators=1000, min_samples_split=5, min_samples_leaf=2, max_features=sqrt, max_depth=10 \n",
      "[CV]  n_estimators=1000, min_samples_split=5, min_samples_leaf=2, max_features=sqrt, max_depth=10, total=  12.2s\n",
      "[CV] n_estimators=100, min_samples_split=10, min_samples_leaf=5, max_features=auto, max_depth=30 \n",
      "[CV]  n_estimators=100, min_samples_split=10, min_samples_leaf=5, max_features=auto, max_depth=30, total=   3.5s\n",
      "[CV] n_estimators=100, min_samples_split=10, min_samples_leaf=5, max_features=auto, max_depth=30 \n",
      "[CV]  n_estimators=100, min_samples_split=10, min_samples_leaf=5, max_features=auto, max_depth=30, total=   3.2s\n",
      "[CV] n_estimators=100, min_samples_split=10, min_samples_leaf=5, max_features=auto, max_depth=30 \n",
      "[CV]  n_estimators=100, min_samples_split=10, min_samples_leaf=5, max_features=auto, max_depth=30, total=   3.3s\n",
      "[CV] n_estimators=100, min_samples_split=10, min_samples_leaf=5, max_features=auto, max_depth=30 \n",
      "[CV]  n_estimators=100, min_samples_split=10, min_samples_leaf=5, max_features=auto, max_depth=30, total=   3.2s\n",
      "[CV] n_estimators=100, min_samples_split=10, min_samples_leaf=5, max_features=auto, max_depth=30 \n",
      "[CV]  n_estimators=100, min_samples_split=10, min_samples_leaf=5, max_features=auto, max_depth=30, total=   3.2s\n"
     ]
    },
    {
     "name": "stderr",
     "output_type": "stream",
     "text": [
      "[Parallel(n_jobs=1)]: Done  50 out of  50 | elapsed: 10.1min finished\n"
     ]
    },
    {
     "data": {
      "text/plain": [
       "RandomizedSearchCV(cv=5, estimator=RandomForestRegressor(), n_jobs=1,\n",
       "                   param_distributions={'max_depth': [5, 10, 15, 20, 25, 30],\n",
       "                                        'max_features': ['auto', 'sqrt'],\n",
       "                                        'min_samples_leaf': [1, 2, 5, 10],\n",
       "                                        'min_samples_split': [2, 5, 10, 15,\n",
       "                                                              100],\n",
       "                                        'n_estimators': [100, 200, 300, 400,\n",
       "                                                         500, 600, 700, 800,\n",
       "                                                         900, 1000, 1100,\n",
       "                                                         1200]},\n",
       "                   scoring='neg_mean_squared_error', verbose=2)"
      ]
     },
     "execution_count": 60,
     "metadata": {},
     "output_type": "execute_result"
    }
   ],
   "source": [
    "rf_random.fit(X_train_val,y_train_val)"
   ]
  },
  {
   "cell_type": "code",
   "execution_count": 61,
   "metadata": {},
   "outputs": [
    {
     "data": {
      "text/plain": [
       "{'n_estimators': 800,\n",
       " 'min_samples_split': 10,\n",
       " 'min_samples_leaf': 1,\n",
       " 'max_features': 'auto',\n",
       " 'max_depth': 30}"
      ]
     },
     "execution_count": 61,
     "metadata": {},
     "output_type": "execute_result"
    }
   ],
   "source": [
    "rf_random.best_params_"
   ]
  },
  {
   "cell_type": "code",
   "execution_count": 62,
   "metadata": {},
   "outputs": [],
   "source": [
    "prediction = rf_random.predict(X_test)"
   ]
  },
  {
   "cell_type": "code",
   "execution_count": 63,
   "metadata": {},
   "outputs": [
    {
     "data": {
      "image/png": "[encoded data removed]",
      "text/plain": [
       "<Figure size 432x288 with 1 Axes>"
      ]
     },
     "metadata": {},
     "output_type": "display_data"
    }
   ],
   "source": [
    "plt.scatter(y_test,prediction,alpha =0.2,color=\"DarkBlue\")\n",
    "plt.title('Actual vs. Predicted Airline Prices')\n",
    "plt.xlabel('Predicted Airline Prices')\n",
    "plt.ylabel('Actual Airline Prices');"
   ]
  },
  {
   "cell_type": "code",
   "execution_count": 64,
   "metadata": {},
   "outputs": [
    {
     "name": "stdout",
     "output_type": "stream",
     "text": [
      "MAE: 62.89012362680102\n",
      "MSE: 35947.53556287233\n",
      "RMSE: 189.59835327046574\n"
     ]
    }
   ],
   "source": [
    "print(\"MAE:\" , metrics.mean_absolute_error(y_test,prediction))\n",
    "print(\"MSE:\" , metrics.mean_squared_error(y_test,prediction))\n",
    "print(\"RMSE:\" , np.sqrt(metrics.mean_squared_error(y_test,prediction)))\n"
   ]
  },
  {
   "cell_type": "markdown",
   "metadata": {},
   "source": [
    "Therefore, hyperparameter tuning did not improve the model"
   ]
  },
  {
   "cell_type": "code",
   "execution_count": 65,
   "metadata": {},
   "outputs": [
    {
     "data": {
      "text/html": [
       "<div>\n",
       "<style scoped>\n",
       "    .dataframe tbody tr th:only-of-type {\n",
       "        vertical-align: middle;\n",
       "    }\n",
       "\n",
       "    .dataframe tbody tr th {\n",
       "        vertical-align: top;\n",
       "    }\n",
       "\n",
       "    .dataframe thead th {\n",
       "        text-align: right;\n",
       "    }\n",
       "</style>\n",
       "<table border=\"1\" class=\"dataframe\">\n",
       "  <thead>\n",
       "    <tr style=\"text-align: right;\">\n",
       "      <th></th>\n",
       "      <th>Predicted Price</th>\n",
       "      <th>Actual Price</th>\n",
       "    </tr>\n",
       "  </thead>\n",
       "  <tbody>\n",
       "    <tr>\n",
       "      <th>0</th>\n",
       "      <td>749.279206</td>\n",
       "      <td>775.73</td>\n",
       "    </tr>\n",
       "    <tr>\n",
       "      <th>1</th>\n",
       "      <td>506.733806</td>\n",
       "      <td>512.27</td>\n",
       "    </tr>\n",
       "    <tr>\n",
       "      <th>2</th>\n",
       "      <td>684.983546</td>\n",
       "      <td>397.33</td>\n",
       "    </tr>\n",
       "    <tr>\n",
       "      <th>3</th>\n",
       "      <td>333.734672</td>\n",
       "      <td>309.60</td>\n",
       "    </tr>\n",
       "    <tr>\n",
       "      <th>4</th>\n",
       "      <td>426.310637</td>\n",
       "      <td>572.53</td>\n",
       "    </tr>\n",
       "    <tr>\n",
       "      <th>...</th>\n",
       "      <td>...</td>\n",
       "      <td>...</td>\n",
       "    </tr>\n",
       "    <tr>\n",
       "      <th>10015</th>\n",
       "      <td>695.288699</td>\n",
       "      <td>683.47</td>\n",
       "    </tr>\n",
       "    <tr>\n",
       "      <th>10016</th>\n",
       "      <td>2691.186100</td>\n",
       "      <td>2682.13</td>\n",
       "    </tr>\n",
       "    <tr>\n",
       "      <th>10017</th>\n",
       "      <td>641.976461</td>\n",
       "      <td>631.47</td>\n",
       "    </tr>\n",
       "    <tr>\n",
       "      <th>10018</th>\n",
       "      <td>231.181760</td>\n",
       "      <td>232.53</td>\n",
       "    </tr>\n",
       "    <tr>\n",
       "      <th>10019</th>\n",
       "      <td>521.755454</td>\n",
       "      <td>494.67</td>\n",
       "    </tr>\n",
       "  </tbody>\n",
       "</table>\n",
       "<p>10020 rows × 2 columns</p>\n",
       "</div>"
      ],
      "text/plain": [
       "       Predicted Price  Actual Price\n",
       "0           749.279206        775.73\n",
       "1           506.733806        512.27\n",
       "2           684.983546        397.33\n",
       "3           333.734672        309.60\n",
       "4           426.310637        572.53\n",
       "...                ...           ...\n",
       "10015       695.288699        683.47\n",
       "10016      2691.186100       2682.13\n",
       "10017       641.976461        631.47\n",
       "10018       231.181760        232.53\n",
       "10019       521.755454        494.67\n",
       "\n",
       "[10020 rows x 2 columns]"
      ]
     },
     "execution_count": 65,
     "metadata": {},
     "output_type": "execute_result"
    }
   ],
   "source": [
    "test_df = pd.DataFrame({\n",
    "    \"Predicted Price\" : rf.predict(X_test),\n",
    "    \"Actual Price\" : y_test,\n",
    "}).reset_index(drop = True)\n",
    "\n",
    "test_df"
   ]
  },
  {
   "cell_type": "markdown",
   "metadata": {},
   "source": [
    "# Saving the model"
   ]
  },
  {
   "cell_type": "code",
   "execution_count": 72,
   "metadata": {},
   "outputs": [],
   "source": [
    "file = open('rf_flight_prediction.pkl', 'wb')\n",
    "pkl.dump(rf, file)"
   ]
  },
  {
   "cell_type": "code",
   "execution_count": 73,
   "metadata": {},
   "outputs": [],
   "source": [
    "model = open('rf_flight_prediction.pkl','rb')\n",
    "rf_flight_prediction = pkl.load(model)"
   ]
  },
  {
   "cell_type": "code",
   "execution_count": 74,
   "metadata": {},
   "outputs": [
    {
     "name": "stdout",
     "output_type": "stream",
     "text": [
      "R2 score 0.9515683630513413\n",
      "MAE: 60.25089534195107\n",
      "MSE: 35618.019831962665\n",
      "RMSE: 188.72736905908127\n"
     ]
    }
   ],
   "source": [
    "print(f'R2 score {metrics.r2_score(y_test,rf_flight_prediction.predict(X_test))}')\n",
    "print(\"MAE:\" , metrics.mean_absolute_error(y_test,rf_flight_prediction.predict(X_test)))\n",
    "print(\"MSE:\" , metrics.mean_squared_error(y_test,rf_flight_prediction.predict(X_test)))\n",
    "print(\"RMSE:\" , np.sqrt(metrics.mean_squared_error(y_test,rf_flight_prediction.predict(X_test))))"
   ]
  },
  {
   "cell_type": "markdown",
   "metadata": {},
   "source": [
    "Therefore, the final model is able to predict flight ticket prices within around ≈ $60.25"
   ]
  },
  {
   "cell_type": "code",
   "execution_count": null,
   "metadata": {},
   "outputs": [],
   "source": []
  }
 ],
 "metadata": {
  "kernelspec": {
   "display_name": "Python 3",
   "language": "python",
   "name": "python3"
  },
  "language_info": {
   "codemirror_mode": {
    "name": "ipython",
    "version": 3
   },
   "file_extension": ".py",
   "mimetype": "text/x-python",
   "name": "python",
   "nbconvert_exporter": "python",
   "pygments_lexer": "ipython3",
   "version": "3.8.5"
  }
 },
 "nbformat": 4,
 "nbformat_minor": 4
}
